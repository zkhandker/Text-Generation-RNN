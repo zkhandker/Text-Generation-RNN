{
  "nbformat": 4,
  "nbformat_minor": 0,
  "metadata": {
    "colab": {
      "name": "Copy of Word2vec_LSTM_CNN.ipynb",
      "provenance": [],
      "collapsed_sections": [],
      "include_colab_link": true
    },
    "kernelspec": {
      "name": "python3",
      "display_name": "Python 3"
    }
  },
  "cells": [
    {
      "cell_type": "markdown",
      "metadata": {
        "id": "view-in-github",
        "colab_type": "text"
      },
      "source": [
        "<a href=\"https://colab.research.google.com/github/zkhandker/rupi-kaur/blob/main/Word2vec_LSTM_CNN.ipynb\" target=\"_parent\"><img src=\"https://colab.research.google.com/assets/colab-badge.svg\" alt=\"Open In Colab\"/></a>"
      ]
    },
    {
      "cell_type": "markdown",
      "metadata": {
        "id": "rsvlBQYCrE4I"
      },
      "source": [
        "## Dependencies \n"
      ]
    },
    {
      "cell_type": "code",
      "metadata": {
        "id": "riVZCVK65QTH",
        "colab": {
          "base_uri": "https://localhost:8080/"
        },
        "outputId": "f8bde7c0-0bfe-4d50-a0b4-26c74fd6ab2c"
      },
      "source": [
        "# Import Tensorflow 2.0\n",
        "%tensorflow_version 2.x\n",
        "import tensorflow as tf \n",
        "\n",
        "# Download and import the MIT 6.S191 package\n",
        "!pip install mitdeeplearning\n",
        "import mitdeeplearning as mdl\n",
        "\n",
        "# Import all remaining packages\n",
        "import numpy as np\n",
        "import os\n",
        "import time\n",
        "import functools\n",
        "from IPython import display as ipythondisplay\n",
        "from tqdm import tqdm\n",
        "!apt-get install abcmidi timidity > /dev/null 2>&1\n",
        "import re\n",
        "\n",
        "# Check that we are using a GPU, if not switch runtimes\n",
        "#   using Runtime > Change Runtime Type > GPU\n",
        "## assert len(tf.config.list_physical_devices('GPU')) > 0\n",
        "import pathlib"
      ],
      "execution_count": 2,
      "outputs": [
        {
          "output_type": "stream",
          "text": [
            "Collecting mitdeeplearning\n",
            "\u001b[?25l  Downloading https://files.pythonhosted.org/packages/9d/ad/650eb53c0d9d1213536fe94bc150f89b564ff5ee784bd662272584bb091b/mitdeeplearning-0.2.0.tar.gz (2.1MB)\n",
            "\u001b[K     |████████████████████████████████| 2.1MB 6.7MB/s \n",
            "\u001b[?25hRequirement already satisfied: numpy in /usr/local/lib/python3.7/dist-packages (from mitdeeplearning) (1.19.5)\n",
            "Requirement already satisfied: regex in /usr/local/lib/python3.7/dist-packages (from mitdeeplearning) (2019.12.20)\n",
            "Requirement already satisfied: tqdm in /usr/local/lib/python3.7/dist-packages (from mitdeeplearning) (4.41.1)\n",
            "Requirement already satisfied: gym in /usr/local/lib/python3.7/dist-packages (from mitdeeplearning) (0.17.3)\n",
            "Requirement already satisfied: cloudpickle<1.7.0,>=1.2.0 in /usr/local/lib/python3.7/dist-packages (from gym->mitdeeplearning) (1.3.0)\n",
            "Requirement already satisfied: scipy in /usr/local/lib/python3.7/dist-packages (from gym->mitdeeplearning) (1.4.1)\n",
            "Requirement already satisfied: pyglet<=1.5.0,>=1.4.0 in /usr/local/lib/python3.7/dist-packages (from gym->mitdeeplearning) (1.5.0)\n",
            "Requirement already satisfied: future in /usr/local/lib/python3.7/dist-packages (from pyglet<=1.5.0,>=1.4.0->gym->mitdeeplearning) (0.16.0)\n",
            "Building wheels for collected packages: mitdeeplearning\n",
            "  Building wheel for mitdeeplearning (setup.py) ... \u001b[?25l\u001b[?25hdone\n",
            "  Created wheel for mitdeeplearning: filename=mitdeeplearning-0.2.0-cp37-none-any.whl size=2115442 sha256=1a7d8cbbf8f923937d725422161745eed472019351e1cbf0a9e97dd6499854bc\n",
            "  Stored in directory: /root/.cache/pip/wheels/af/dc/2a/5c3633135e7e4ef4fd31463cfa1942cb1bae7486ab94e7a2ad\n",
            "Successfully built mitdeeplearning\n",
            "Installing collected packages: mitdeeplearning\n",
            "Successfully installed mitdeeplearning-0.2.0\n"
          ],
          "name": "stdout"
        }
      ]
    },
    {
      "cell_type": "markdown",
      "metadata": {
        "id": "12kd7ooJOWjZ"
      },
      "source": [
        "## Load Poems \n"
      ]
    },
    {
      "cell_type": "code",
      "metadata": {
        "id": "PYSGRMuTI0op",
        "colab": {
          "base_uri": "https://localhost:8080/"
        },
        "outputId": "8617c40a-3616-4aae-c314-16e7f5b5c3d0"
      },
      "source": [
        "path_to_file = tf.keras.utils.get_file('combined2', 'https://raw.githubusercontent.com/zkhandker/rupi-kaur/main/data/combined2.txt')\n",
        "with open(path_to_file) as f: \n",
        "  poems = f.read()\n",
        "  #print(poems)"
      ],
      "execution_count": 3,
      "outputs": [
        {
          "output_type": "stream",
          "text": [
            "Downloading data from https://raw.githubusercontent.com/zkhandker/rupi-kaur/main/data/combined2.txt\n",
            "73728/66843 [=================================] - 0s 0us/step\n"
          ],
          "name": "stdout"
        }
      ]
    },
    {
      "cell_type": "markdown",
      "metadata": {
        "id": "CF-KDgzwREqj"
      },
      "source": [
        "## Vectorize Poems \n"
      ]
    },
    {
      "cell_type": "code",
      "metadata": {
        "colab": {
          "base_uri": "https://localhost:8080/"
        },
        "id": "mRs_tAifGTjO",
        "outputId": "9cb24e75-170f-421f-d891-4625e97f7866"
      },
      "source": [
        "#clean up the data, get rid of punctuations \n",
        "poems=poems.replace('í',\"\\'\")\n",
        "tokens = list(re.sub(\"[^\\w\\s]\", \"\", poems).lower().split())\n",
        "print(len(tokens))"
      ],
      "execution_count": 4,
      "outputs": [
        {
          "output_type": "stream",
          "text": [
            "13290\n"
          ],
          "name": "stdout"
        }
      ]
    },
    {
      "cell_type": "code",
      "metadata": {
        "colab": {
          "base_uri": "https://localhost:8080/"
        },
        "id": "QjM2uSyu9edf",
        "outputId": "3c40d703-9e66-4e81-911c-a81c4451ef9d"
      },
      "source": [
        "import gensim.downloader\n",
        "# Show all available models in gensim-data\n",
        "print(list(gensim.downloader.info()['models'].keys()))"
      ],
      "execution_count": 5,
      "outputs": [
        {
          "output_type": "stream",
          "text": [
            "['fasttext-wiki-news-subwords-300', 'conceptnet-numberbatch-17-06-300', 'word2vec-ruscorpora-300', 'word2vec-google-news-300', 'glove-wiki-gigaword-50', 'glove-wiki-gigaword-100', 'glove-wiki-gigaword-200', 'glove-wiki-gigaword-300', 'glove-twitter-25', 'glove-twitter-50', 'glove-twitter-100', 'glove-twitter-200', '__testing_word2vec-matrix-synopsis']\n"
          ],
          "name": "stdout"
        }
      ]
    },
    {
      "cell_type": "code",
      "metadata": {
        "colab": {
          "base_uri": "https://localhost:8080/"
        },
        "id": "Ppl6cEDS_V9c",
        "outputId": "bd200cb0-46ed-42d3-f4da-8f8c61d1f8ce"
      },
      "source": [
        "# Download the \"glove-twitter-25\" embeddings\n",
        "glove_vectors = gensim.downloader.load('glove-wiki-gigaword-50')\n",
        "embedding_dim = 50\n",
        "# Use the downloaded vectors as usual:\n",
        "glove_vectors.most_similar('twitter')\n",
        "glove_vectors[\"you\"]"
      ],
      "execution_count": 6,
      "outputs": [
        {
          "output_type": "stream",
          "text": [
            "[==================================================] 100.0% 66.0/66.0MB downloaded\n"
          ],
          "name": "stdout"
        },
        {
          "output_type": "execute_result",
          "data": {
            "text/plain": [
              "array([-1.0919e-03,  3.3324e-01,  3.5743e-01, -5.4041e-01,  8.2032e-01,\n",
              "       -4.9391e-01, -3.2588e-01,  1.9972e-03, -2.3829e-01,  3.5554e-01,\n",
              "       -6.0655e-01,  9.8932e-01, -2.1786e-01,  1.1236e-01,  1.1494e+00,\n",
              "        7.3284e-01,  5.1182e-01,  2.9287e-01,  2.8388e-01, -1.3590e+00,\n",
              "       -3.7951e-01,  5.0943e-01,  7.0710e-01,  6.2941e-01,  1.0534e+00,\n",
              "       -2.1756e+00, -1.3204e+00,  4.0001e-01,  1.5741e+00, -1.6600e+00,\n",
              "        3.7721e+00,  8.6949e-01, -8.0439e-01,  1.8390e-01, -3.4332e-01,\n",
              "        1.0714e-02,  2.3969e-01,  6.6748e-02,  7.0117e-01, -7.3702e-01,\n",
              "        2.0877e-01,  1.1564e-01, -1.5190e-01,  8.5908e-01,  2.2620e-01,\n",
              "        1.6519e-01,  3.6309e-01, -4.5697e-01, -4.8969e-02,  1.1316e+00],\n",
              "      dtype=float32)"
            ]
          },
          "metadata": {
            "tags": []
          },
          "execution_count": 6
        }
      ]
    },
    {
      "cell_type": "code",
      "metadata": {
        "colab": {
          "base_uri": "https://localhost:8080/"
        },
        "id": "PoMmec0_GtiY",
        "outputId": "fbeaa032-a395-4007-c05a-041b3a00c5da"
      },
      "source": [
        "# create a weight matrix for words in training docs\n",
        "embedding_matrix = []\n",
        "\n",
        "vocab, index = {}, 0 # start indexing from 0\n",
        "for token in tokens:\n",
        "  if (token not in vocab) and (token in glove_vectors.vocab):\n",
        "    vocab[token] = index\n",
        "    index += 1\n",
        "    embedding_vector = glove_vectors[token]\n",
        "    if embedding_vector is not None:\n",
        "        embedding_matrix.append(embedding_vector)\n",
        "vocab_size = len(vocab)\n",
        "print(vocab)\n",
        "print(vocab_size)\n",
        "\n",
        "embedding_matrix=np.array(embedding_matrix)\n",
        "embedding_matrix.shape"
      ],
      "execution_count": 7,
      "outputs": [
        {
          "output_type": "stream",
          "text": [
            "{'how': 0, 'is': 1, 'it': 2, 'so': 3, 'easy': 4, 'for': 5, 'you': 6, 'to': 7, 'be': 8, 'kind': 9, 'people': 10, 'he': 11, 'asked': 12, 'milk': 13, 'and': 14, 'honey': 15, 'dripped': 16, 'from': 17, 'my': 18, 'lips': 19, 'as': 20, 'i': 21, 'answered': 22, 'cause': 23, 'have': 24, 'not': 25, 'been': 26, 'me': 27, 'the': 28, 'first': 29, 'boy': 30, 'that': 31, 'kissed': 32, 'held': 33, 'shoulders': 34, 'down': 35, 'like': 36, 'handlebars': 37, 'of': 38, 'bicycle': 39, 'ever': 40, 'rode': 41, 'was': 42, 'five': 43, 'had': 44, 'smell': 45, 'starvation': 46, 'on': 47, 'his': 48, 'which': 49, 'picked': 50, 'up': 51, 'father': 52, 'feasting': 53, 'mother': 54, 'at': 55, '4': 56, 'am': 57, 'teach': 58, 'body': 59, 'giving': 60, 'those': 61, 'wanted': 62, 'should': 63, 'feel': 64, 'anything': 65, 'less': 66, 'than': 67, 'whole': 68, 'god': 69, 'did': 70, 'empty': 71, '425': 72, 'ive': 73, 'sex': 74, 'she': 75, 'said': 76, 'but': 77, 'dont': 78, 'know': 79, 'what': 80, 'making': 81, 'love': 82, 'feels': 83, 'came': 84, 'all': 85, 'this': 86, 'way': 87, 'give': 88, 'these': 89, 'things': 90, 'arent': 91, 'even': 92, 'looking': 93, 'abused': 94, 'abuser': 95, 'both': 96, 'undoing': 97, 'skin': 98, 'wasnt': 99, 'kissing': 100, 'ó': 101, 'mistaken': 102, 'him': 103, 'mind': 104, 'your': 105, 'were': 106, 'just': 107, 'convenient': 108, 'always': 109, 'comes': 110, 'back': 111, 'boils': 112, 'circles': 113, 'itches': 114, 'its': 115, 'music': 116, 'ears': 117, 'cut': 118, 'off': 119, 'tongue': 120, 'sour': 121, 'hunger': 122, 'missing': 123, 'will': 124, 'build': 125, 'into': 126, 'life': 127, 'when': 128, 'want': 129, 'a': 130, 'with': 131, 'difference': 132, 'if': 133, 'knew': 134, 'safety': 135, 'looked': 136, 'would': 137, 'spent': 138, 'time': 139, 'falling': 140, 'arms': 141, 'rivers': 142, 'fall': 143, 'mouth': 144, 'tears': 145, 'eyes': 146, 'cant': 147, 'carry': 148, 'are': 149, 'snakeskin': 150, 'keep': 151, 'shedding': 152, 'somehow': 153, 'forgetting': 154, 'every': 155, 'exquisite': 156, 'detail': 157, 'face': 158, 'letting': 159, 'go': 160, 'has': 161, 'become': 162, 'most': 163, 'pleasant': 164, 'saddest': 165, 'thing': 166, 'happened': 167, 'wrong': 168, 'leaving': 169, 'coming': 170, 'thinking': 171, 'could': 172, 'leave': 173, 'can': 174, 'write': 175, 'took': 176, 'hands': 177, 'neither': 178, 'us': 179, 'happy': 180, 'wants': 181, 'we': 182, 'breaking': 183, 'one': 184, 'another': 185, 'calling': 186, 'began': 187, 'honesty': 188, 'let': 189, 'end': 190, 'in': 191, 'too': 192, 'voice': 193, 'alone': 194, 'drives': 195, 'why': 196, 'split': 197, 'myself': 198, 'open': 199, 'others': 200, 'knowing': 201, 'sewing': 202, 'hurts': 203, 'much': 204, 'afterward': 205, 'they': 206, 'left': 207, 'stays': 208, 'takes': 209, 'consent': 210, 'two': 211, 'person': 212, 'lying': 213, 'there': 214, 'doing': 215, 'ready': 216, 'or': 217, 'mood': 218, 'simply': 219, 'yet': 220, 'other': 221, 'having': 222, 'their': 223, 'rape': 224, 'cruel': 225, 'game': 226, 'made': 227, 'out': 228, 'our': 229, 'die': 230, 'written': 231, 'pages': 232, 'after': 233, 'hurt': 234, 'loss': 235, 'pain': 236, 'still': 237, 'only': 238, 'undressed': 239, 'under': 240, 'night': 241, 'woke': 242, 'broken': 243, 'place': 244, 'put': 245, 'pieces': 246, 'bags': 247, 'stay': 248, 'whispered': 249, 'shut': 250, 'door': 251, 'behind': 252, 'confident': 253, 'over': 254, 'some': 255, 'mornings': 256, 'wake': 257, 'smile': 258, 'pressed': 259, 'together': 260, 'thanking': 261, 'universe': 262, 'pulling': 263, 'thank': 264, 'cry': 265, 'empire': 266, 'today': 267, 'stayed': 268, 'then': 269, 'nights': 270, 'imagine': 271, 'might': 272, 'do': 273, 'showed': 274, 'walked': 275, 'room': 276, 'very': 277, 'second': 278, 'awful': 279, 'done': 280, 'tossed': 281, 'closest': 282, 'window': 283, 'rise': 284, 'again': 285, 'pour': 286, 'through': 287, 'never': 288, 'really': 289, 'practicing': 290, 'silent': 291, 'long': 292, 'loud': 293, 'arrival': 294, 'someone': 295, 'explain': 296, 'leaves': 297, 'doesnt': 298, 'past': 299, 'helplessly': 300, 'brought': 301, 'isnt': 302, 'head': 303, 'sobbed': 304, 'heart': 305, 'wilting': 306, 'friends': 307, 'more': 308, 'idea': 309, 'capable': 310, 'choose': 311, 'toxic': 312, 'losing': 313, 'parts': 314, 'lose': 315, 'eyelashes': 316, 'unknowingly': 317, 'everywhere': 318, 'cannot': 319, 'exist': 320, 'places': 321, 'once': 322, 'ask': 323, 'water': 324, 'soft': 325, 'enough': 326, 'offer': 327, 'tough': 328, 'drown': 329, 'away': 330, 'miss': 331, 'loved': 332, 'didnt': 333, 'reflection': 334, 'everything': 335, 'gave': 336, 'see': 337, 'sit': 338, 'here': 339, 'soaking': 340, 'no': 341, 'else': 342, 'taught': 343, 'fill': 344, 'needed': 345, 'filled': 346, 'credit': 347, 'warmth': 348, 'because': 349, 'felt': 350, 'who': 351, 'strength': 352, 'wit': 353, 'beauty': 354, 'recognized': 355, 'already': 356, 'before': 357, 'met': 358, 'remain': 359, 'gone': 360, 'abandon': 361, 'linger': 362, 'think': 363, 'okay': 364, 'return': 365, 'tell': 366, 'about': 367, 'selfish': 368, 'walk': 369, 'taste': 370, 'type': 371, 'being': 372, 'shine': 373, 'gotten': 374, 'good': 375, 'look': 376, 'taken': 377, 'hair': 378, 'secrets': 379, 'them': 380, 'realize': 381, 'real': 382, 'storm': 383, 'hits': 384, 'cowardice': 385, 'sets': 386, 'thought': 387, 'replaced': 388, 'by': 389, 'sad': 390, 'reality': 391, 'fighting': 392, 'bone': 393, 'saying': 394, 'find': 395, 'better': 396, 'stand': 397, 'naked': 398, 'half': 399, 'hidden': 400, 'somewhere': 401, 'inside': 402, 'sob': 403, 'asking': 404, 'forced': 405, 'intention': 406, 'loving': 407, 'say': 408, 'something': 409, 'along': 410, 'lines': 411, 'try': 412, 'chance': 413, 'romantic': 414, 'sweet': 415, 'engulfed': 416, 'existence': 417, 'risk': 418, 'sake': 419, 'meant': 420, 'little': 421, 'next': 422, 'curiosity': 423, 'gamble': 424, 'entire': 425, 'beings': 426, 'souls': 427, 'please': 428, 'own': 429, 'holding': 430, 'world': 431, 'lap': 432, 'belittled': 433, 'mere': 434, 'picture': 435, 'moment': 436, 'swallow': 437, 'whisper': 438, 'spend': 439, 'rest': 440, 'sense': 441, 'fear': 442, 'halfway': 443, 'without': 444, 'nerve': 445, 'grace': 446, 'human': 447, 'means': 448, 'taking': 449, 'funny': 450, 'guts': 451, 'days': 452, 'undress': 453, 'fingers': 454, 'pick': 455, 'phone': 456, 'call': 457, 'apologize': 458, 'her': 459, 'list': 460, 'breakup': 461, '1': 462, 'take': 463, 'refuge': 464, 'bed': 465, '2': 466, 'till': 467, 'stop': 468, 'few': 469, '3': 470, 'listen': 471, 'slow': 472, 'songs': 473, 'delete': 474, 'number': 475, 'though': 476, 'memorized': 477, 'fingertips': 478, '5': 479, 'old': 480, 'photos': 481, '6': 482, 'ice': 483, 'cream': 484, 'shop': 485, 'treat': 486, 'yourself': 487, 'scoops': 488, 'mint': 489, 'chocolate': 490, 'chip': 491, 'calm': 492, 'deserve': 493, '7': 494, 'buy': 495, 'new': 496, 'sheets': 497, '8': 498, 'collect': 499, 'gifts': 500, 'drop': 501, 'donation': 502, 'center': 503, '9': 504, 'plan': 505, 'trip': 506, '10': 507, 'perfect': 508, 'art': 509, 'smiling': 510, 'nodding': 511, 'brings': 512, 'name': 513, 'conversation': 514, '11': 515, 'start': 516, 'project': 517, '12': 518, 'whatever': 519, '13': 520, 'beg': 521, 'does': 522, '14': 523, 'crying': 524, 'point': 525, '15': 526, 'allow': 527, 'foolish': 528, 'believing': 529, 'built': 530, 'elses': 531, 'stomach': 532, '16': 533, 'breathe': 534, 'tells': 535, 'bigger': 536, 'illusion': 537, 'woman': 538, 'bring': 539, 'dishonor': 540, 'home': 541, 'tries': 542, 'safe': 543, 'perhaps': 544, 'nice': 545, 'paying': 546, 'sins': 547, 'remember': 548, 'writing': 549, 'healing': 550, 'destroying': 551, 'bother': 552, 'make': 553, 'must': 554, 'enter': 555, 'relationship': 556, 'anyone': 557, 'accept': 558, 'painful': 559, 'moving': 560, 'healthiest': 561, 'move': 562, 'part': 563, 'experience': 564, 'afraid': 565, 'evolving': 566, 'loneliness': 567, 'sign': 568, 'desperate': 569, 'need': 570, 'habit': 571, 'lack': 572, 'tricked': 573, 'complete': 574, 'complement': 575, 'feet': 576, 'broke': 577, 'pinned': 578, 'legs': 579, 'ground': 580, 'demanded': 581, 'born': 582, 'weakness': 583, 'live': 584, 'waiting': 585, 'theyre': 586, 'sure': 587, 'exists': 588, 'billion': 589, 'strong': 590, 'grow': 591, 'flowers': 592, 'helped': 593, 'mine': 594, 'bloom': 595, 'beautifully': 596, 'dangerously': 597, 'loudly': 598, 'softly': 599, 'however': 600, 'reader': 601, 'balance': 602, 'situations': 603, 'solitude': 604, 'between': 605, 'telling': 606, 'actually': 607, 'sometimes': 608, 'apology': 609, 'nor': 610, 'late': 611, 'girls': 612, 'learn': 613, 'kiss': 614, 'closed': 615, 'unlike': 616, 'women': 617, 'sisters': 618, 'order': 619, 'makes': 620, 'spit': 621, 'supposed': 622, 'proud': 623, 'relieved': 624, 'points': 625, 'growing': 626, 'remind': 627, 'guest': 628, 'warn': 629, 'welcome': 630, 'tear': 631, 'powerful': 632, 'completely': 633, 'found': 634, 'surroundings': 635, 'lost': 636, 'within': 637, 'hard': 638, 'believe': 639, 'tomorrow': 640, 'come': 641, 'difficult': 642, 'day': 643, 'get': 644, 'swear': 645, 'pass': 646, 'slowly': 647, 'promise': 648, 'stretch': 649, 'marks': 650, 'thighs': 651, 'rough': 652, 'jungle': 653, 'wild': 654, 'feeling': 655, 'unafraid': 656, 'tend': 657, 'wounds': 658, 'utterly': 659, 'issue': 660, 'consider': 661, 'beautiful': 662, 'concept': 663, 'centers': 664, 'around': 665, 'excluding': 666, 'wears': 667, 'garden': 668, 'definition': 669, 'big': 670, 'hooked': 671, 'noses': 672, 'pointing': 673, 'upward': 674, 'sky': 675, 'rising': 676, 'occasion': 677, 'color': 678, 'earth': 679, 'ancestors': 680, 'planted': 681, 'crops': 682, 'feed': 683, 'lineage': 684, 'thick': 685, 'tree': 686, 'trunks': 687, 'almonds': 688, 'deeply': 689, 'hooded': 690, 'conviction': 691, 'punjab': 692, 'flow': 693, 'bloodstream': 694, 'ones': 695, 'country': 696, 'backs': 697, 'stories': 698, 'books': 699, 'spine': 700, 'designed': 701, 'museum': 702, 'natural': 703, 'disasters': 704, 'grasp': 705, 'stunning': 706, 'sadness': 707, 'living': 708, 'becoming': 709, 'womens': 710, 'bodies': 711, 'battlegrounds': 712, 'removing': 713, 'thats': 714, 'keeping': 715, 'belong': 716, 'apparently': 717, 'ungraceful': 718, 'mention': 719, 'period': 720, 'public': 721, 'actual': 722, 'biology': 723, 'sell': 724, 'whats': 725, 'womans': 726, 'inner': 727, 'workings': 728, 'recreational': 729, 'use': 730, 'seen': 731, 'while': 732, 'nature': 733, 'ugly': 734, 'dragon': 735, 'fly': 736, 'hes': 737, 'called': 738, 'pretty': 739, 'intelligent': 740, 'brave': 741, 'sorry': 742, 'sound': 743, 'simple': 744, 'youre': 745, 'spirit': 746, 'crushed': 747, 'mountains': 748, 'now': 749, 'resilient': 750, 'extraordinary': 751, 'outlook': 752, 'hold': 753, 'heal': 754, 'happiness': 755, 'patient': 756, 'daughter': 757, 'kaur': 758, 'free': 759, 'removes': 760, 'shackles': 761, 'bind': 762, 'uplifts': 763, 'equal': 764, 'any': 765, 'man': 766, 'state': 767, 'screams': 768, 'wholly': 769, 'humbles': 770, 'calls': 771, 'says': 772, 'universal': 773, 'duty': 774, 'share': 775, 'humanity': 776, 'nurture': 777, 'serve': 778, 'sisterhood': 779, 'raise': 780, 'raising': 781, 'runs': 782, 'blood': 783, 'word': 784, 'itself': 785, 'existed': 786, 'identity': 787, 'liberation': 788, 'gives': 789, 'gold': 790, 'nothing': 791, 'purer': 792, 'aches': 793, 'helping': 794, 'ache': 795, 'spring': 796, 'goddess': 797, 'mouths': 798, 'soul': 799, 'mate': 800, 'bitter': 801, 'kindest': 802, 'forward': 803, 'recognize': 804, 'striking': 805, 'mean': 806, 'rooted': 807, 'deep': 808, 'help': 809, 'war': 810, 'naturally': 811, 'trying': 812, 'convince': 813, 'allowed': 814, 'space': 815, 'hand': 816, 'right': 817, 'shrinking': 818, 'hereditary': 819, 'importantly': 820, 'page': 821, 'where': 822, 'sitting': 823, 'degree': 824, 'job': 825, 'money': 826, 'matters': 827, 'except': 828, 'connection': 829, 'touched': 830, 'sink': 831, 'grounded': 832, 'searching': 833, 'course': 834, 'successful': 835, 'crave': 836, 'success': 837, 'gain': 838, 'succeed': 839, 'heartbeat': 840, 'quickens': 841, 'birthing': 842, 'poems': 843, 'opening': 844, 'conceive': 845, 'lovemaking': 846, 'words': 847, 'erotic': 848, 'either': 849, 'lust': 850, 'terrifies': 851, 'foam': 852, 'envy': 853, 'sigh': 854, 'relief': 855, 'failing': 856, 'struggle': 857, 'celebrate': 858, 'each': 859, 'proven': 860, 'many': 861, 'work': 862, 'likes': 863, 'honest': 864, 'trade': 865, 'young': 866, 'poets': 867, 'quiet': 868, 'opinions': 869, 'fire': 870, 'belly': 871, 'lightness': 872, 'heavy': 873, 'blade': 874, 'silk': 875, 'forget': 876, 'follow': 877, 'seva': 878, 'selfless': 879, 'service': 880, 'scraping': 881, 'cantaloupe': 882, 'clean': 883, 'offering': 884, 'absent': 885, 'border': 886, 'countries': 887, 'collateral': 888, 'damage': 889, 'paradox': 890, 'joins': 891, 'also': 892, 'splits': 893, 'apart': 894, 'emptying': 895, 'mothers': 896, 'act': 897, 'disappearance': 898, 'learning': 899, 'shrink': 900, 'family': 901, 'daughters': 902, 'invisible': 903, 'repeat': 904, 'wish': 905, 'often': 906, 'reason': 907, 'alive': 908, 'heaving': 909, 'chest': 910, 'guess': 911, 'tenderness': 912, 'well': 913, 'same': 914, 'exhausted': 915, 'rage': 916, 'wear': 917, 'anger': 918, 'homage': 919, 'shires': 920, 'inheritance': 921, 'opens': 922, 'dinner': 923, 'shoves': 924, 'hush': 925, 'speak': 926, 'full': 927, 'learned': 928, 'knees': 929, 'pried': 930, 'cousins': 931, 'uncles': 932, 'men': 933, 'particular': 934, 'im': 935, 'silence': 936, 'stretches': 937, 'lifetime': 938, 'scramble': 939, 'questions': 940, 'going': 941, 'understand': 942, 'blame': 943, 'hurting': 944, 'youll': 945, 'care': 946, 'aching': 947, 'attention': 948, 'collapse': 949, 'small': 950, 'talk': 951, 'plough': 952, 'mostly': 953, 'shocked': 954, 'rubber': 955, 'against': 956, 'an': 957, 'wound': 958, 'begin': 959, 'pushing': 960, 'faster': 961, 'search': 962, 'reaction': 963, 'acting': 964, 'videos': 965, 'watch': 966, 'imitate': 967, 'moans': 968, 'hollow': 969, 'hungry': 970, 'yes': 971, 'quickly': 972, 'sounds': 973, 'rehearsed': 974, 'notice': 975, 'veins': 976, 'terrified': 977, 'looks': 978, 'flinch': 979, 'touch': 980, 'pregnant': 981, 'child': 982, 'four': 983, 'pointed': 984, 'swollen': 985, 'confused': 986, 'such': 987, 'scooped': 988, 'trunk': 989, 'grown': 990, 'age': 991, 'changed': 992, 'rested': 993, 'energy': 994, 'wanting': 995, 'wait': 996, 'wont': 997, 'sight': 998, 'meet': 999, 'remembrance': 1000, 'marry': 1001, 'id': 1002, 'son': 1003, 'revolution': 1004, 'starts': 1005, 'ends': 1006, 'asks': 1007, 'hope': 1008, 'form': 1009, 'favorite': 1010, 'herbs': 1011, 'gardens': 1012, 'therapist': 1013, 'doll': 1014, 'front': 1015, 'size': 1016, 'touching': 1017, 'spot': 1018, 'fingered': 1019, 'confession': 1020, 'pull': 1021, 'lump': 1022, 'throat': 1023, 'teeth': 1024, 'fine': 1025, 'numb': 1026, 'midweek': 1027, 'sessions': 1028, 'crumble': 1029, 'reasons': 1030, 'sun': 1031, 'faint': 1032, 'line': 1033, 'faith': 1034, 'blindly': 1035, 'letter': 1036, 'future': 1037, 'lover': 1038, 'safer': 1039, 'reading': 1040, 'date': 1041, 'placed': 1042, 'reaching': 1043, 'waist': 1044, 'hips': 1045, 'touches': 1046, 'surprised': 1047, 'goddamn': 1048, 'spread': 1049, 'easel': 1050, 'canvas': 1051, 'begging': 1052, 'light': 1053, 'city': 1054, 'combined': 1055, 'set': 1056, 'melt': 1057, 'play': 1058, 'games': 1059, 'knows': 1060, 'speechless': 1061, 'truth': 1062, 'weak': 1063, 'forgets': 1064, 'language': 1065, 'company': 1066, 'packaging': 1067, 'stops': 1068, 'midsentence': 1069, 'pay': 1070, 'bills': 1071, 'crazy': 1072, 'keeps': 1073, 'show': 1074, 'tips': 1075, 'forearm': 1076, 'graze': 1077, 'wrist': 1078, 'goose': 1079, 'bumps': 1080, 'surface': 1081, 'clench': 1082, 'muscles': 1083, 'tighten': 1084, 'pore': 1085, 'blink': 1086, 'break': 1087, 'gaze': 1088, 'inches': 1089, 'toward': 1090, 'step': 1091, 'command': 1092, 'cheeks': 1093, 'flush': 1094, 'shyly': 1095, 'confessing': 1096, 'loves': 1097, 'irrelevant': 1098, 'turn': 1099, 'forest': 1100, 'running': 1101, 'strongest': 1102, 'positive': 1103, 'negative': 1104, 'connotation': 1105, 'lights': 1106, 'whispers': 1107, 'ear': 1108, 'ways': 1109, 'undresses': 1110, 'male': 1111, 'french': 1112, 'wrap': 1113, 'foreplay': 1114, 'run': 1115, 'willing': 1116, 'exactly': 1117, 'hears': 1118, 'understanding': 1119, 'demand': 1120, 'dance': 1121, 'solo': 1122, 'performance': 1123, 'weve': 1124, 'arguing': 1125, 'ought': 1126, 'avoid': 1127, 'instead': 1128, 'used': 1129, 'fight': 1130, 'pop': 1131, 'frozen': 1132, 'pizza': 1133, 'oven': 1134, 'vulnerable': 1135, 'thorns': 1136, 'table': 1137, 'tonight': 1138, 'sleep': 1139, 'last': 1140, 'week': 1141, 'working': 1142, 'youd': 1143, 'couple': 1144, 'hours': 1145, 'ago': 1146, 'excuses': 1147, 'carried': 1148, 'eventually': 1149, 'expect': 1150, 'baby': 1151, 'frustration': 1152, 'tired': 1153, 'sick': 1154, 'toxin': 1155, 'burnt': 1156, 'holes': 1157, 'faces': 1158, 'kid': 1159, 'matter': 1160, 'bad': 1161, 'gets': 1162, 'wanna': 1163, 'nail': 1164, 'especially': 1165, 'screaming': 1166, 'wakes': 1167, 'neighbors': 1168, 'save': 1169, 'lie': 1170, 'lay': 1171, 'map': 1172, 'finger': 1173, 'trace': 1174, 'gravity': 1175, 'focal': 1176, 'yours': 1177, 'street': 1178, 'windows': 1179, 'wondering': 1180, 'commotion': 1181, 'trucks': 1182, 'rolling': 1183, 'distinguish': 1184, 'whether': 1185, 'flames': 1186, 'passion': 1187, 'throw': 1188, 'arch': 1189, 'mountain': 1190, 'lick': 1191, 'gift': 1192, 'book': 1193, 'read': 1194, 'carefully': 1195, 'fluently': 1196, 'vividly': 1197, 'dare': 1198, 'single': 1199, 'untouched': 1200, 'ending': 1201, 'seat': 1202, 'flick': 1203, 'tongues': 1204, 'decided': 1205, 'snap': 1206, 'defense': 1207, 'shout': 1208, 'defeated': 1209, 'parent': 1210, 'fix': 1211, 'wretched': 1212, 'distant': 1213, 'forgot': 1214, 'fate': 1215, 'wonder': 1216, 'naive': 1217, 'works': 1218, 'lives': 1219, 'staring': 1220, 'spends': 1221, 'placing': 1222, 'chess': 1223, 'choices': 1224, 'convinced': 1225, 'given': 1226, 'actions': 1227, 'define': 1228, 'scream': 1229, 'fool': 1230, 'quietly': 1231, 'quivering': 1232, 'tragic': 1233, 'clearly': 1234, 'mistake': 1235, 'salt': 1236, 'sugar': 1237, 'slips': 1238, 'waistband': 1239, 'pants': 1240, 'may': 1241, 'certainly': 1242, 'temptingly': 1243, 'stung': 1244, 'got': 1245, 'close': 1246, 'bootleg': 1247, 'version': 1248, 'erase': 1249, 'punch': 1250, 'caress': 1251, 'suck': 1252, 'replacement': 1253, 'slip': 1254, 'excite': 1255, 'eyelids': 1256, 'pity': 1257, 'hit': 1258, 'busy': 1259, 'coffee': 1260, 'black': 1261, 'weep': 1262, 'drinking': 1263, 'rather': 1264, 'darkest': 1265, 'rose': 1266, 'manhood': 1267, 'curled': 1268, 'marinates': 1269, 'remembers': 1270, 'regret': 1271, 'stopped': 1272, 'longer': 1273, 'themselves': 1274, 'weekend': 1275, 'getaway': 1276, 'town': 1277, 'surrounding': 1278, 'heard': 1279, 'neon': 1280, 'skyscrapers': 1281, 'statues': 1282, 'thunder': 1283, 'bridges': 1284, 'tremble': 1285, 'meat': 1286, 'homemade': 1287, 'jam': 1288, 'sweetest': 1289, 'police': 1290, 'sirens': 1291, 'crackle': 1292, 'fireplace': 1293, 'burn': 1294, 'couldnt': 1295, 'blush': 1296, 'hotel': 1297, 'whiskey': 1298, 'expectations': 1299, 'vacation': 1300, 'arrives': 1301, 'poetry': 1302, 'degrade': 1303, 'toxicity': 1304, 'central': 1305, 'douse': 1306, 'yell': 1307, 'confuse': 1308, 'kindness': 1309, 'seems': 1310, 'grows': 1311, 'trust': 1312, 'fathers': 1313, 'known': 1314, 'dipped': 1315, 'worth': 1316, 'question': 1317, 'problem': 1318, 'able': 1319, 'danger': 1320, 'rolls': 1321, 'accidently': 1322, 'everyone': 1323, 'tender': 1324, 'potential': 1325, 'allowing': 1326, 'limiting': 1327, 'ripe': 1328, 'experienced': 1329, 'exhilarating': 1330, 'settling': 1331, 'tasted': 1332, 'rawest': 1333, 'refined': 1334, 'synthetic': 1335, 'beyond': 1336, 'add': 1337, 'years': 1338, 'combine': 1339, 'sweeter': 1340, 'falsehood': 1341, 'balanced': 1342, 'glow': 1343, 'angry': 1344, 'extremes': 1345, 'wings': 1346, 'grieve': 1347, 'shatter': 1348}\n",
            "1349\n"
          ],
          "name": "stdout"
        },
        {
          "output_type": "execute_result",
          "data": {
            "text/plain": [
              "(1349, 50)"
            ]
          },
          "metadata": {
            "tags": []
          },
          "execution_count": 7
        }
      ]
    },
    {
      "cell_type": "code",
      "metadata": {
        "colab": {
          "base_uri": "https://localhost:8080/"
        },
        "id": "oNj5VH7IHFPe",
        "outputId": "f28985b9-7877-499e-f44b-40740dee3f4c"
      },
      "source": [
        "inverse_vocab = {index: token for token, index in vocab.items()}\n",
        "print(inverse_vocab)"
      ],
      "execution_count": 8,
      "outputs": [
        {
          "output_type": "stream",
          "text": [
            "{0: 'how', 1: 'is', 2: 'it', 3: 'so', 4: 'easy', 5: 'for', 6: 'you', 7: 'to', 8: 'be', 9: 'kind', 10: 'people', 11: 'he', 12: 'asked', 13: 'milk', 14: 'and', 15: 'honey', 16: 'dripped', 17: 'from', 18: 'my', 19: 'lips', 20: 'as', 21: 'i', 22: 'answered', 23: 'cause', 24: 'have', 25: 'not', 26: 'been', 27: 'me', 28: 'the', 29: 'first', 30: 'boy', 31: 'that', 32: 'kissed', 33: 'held', 34: 'shoulders', 35: 'down', 36: 'like', 37: 'handlebars', 38: 'of', 39: 'bicycle', 40: 'ever', 41: 'rode', 42: 'was', 43: 'five', 44: 'had', 45: 'smell', 46: 'starvation', 47: 'on', 48: 'his', 49: 'which', 50: 'picked', 51: 'up', 52: 'father', 53: 'feasting', 54: 'mother', 55: 'at', 56: '4', 57: 'am', 58: 'teach', 59: 'body', 60: 'giving', 61: 'those', 62: 'wanted', 63: 'should', 64: 'feel', 65: 'anything', 66: 'less', 67: 'than', 68: 'whole', 69: 'god', 70: 'did', 71: 'empty', 72: '425', 73: 'ive', 74: 'sex', 75: 'she', 76: 'said', 77: 'but', 78: 'dont', 79: 'know', 80: 'what', 81: 'making', 82: 'love', 83: 'feels', 84: 'came', 85: 'all', 86: 'this', 87: 'way', 88: 'give', 89: 'these', 90: 'things', 91: 'arent', 92: 'even', 93: 'looking', 94: 'abused', 95: 'abuser', 96: 'both', 97: 'undoing', 98: 'skin', 99: 'wasnt', 100: 'kissing', 101: 'ó', 102: 'mistaken', 103: 'him', 104: 'mind', 105: 'your', 106: 'were', 107: 'just', 108: 'convenient', 109: 'always', 110: 'comes', 111: 'back', 112: 'boils', 113: 'circles', 114: 'itches', 115: 'its', 116: 'music', 117: 'ears', 118: 'cut', 119: 'off', 120: 'tongue', 121: 'sour', 122: 'hunger', 123: 'missing', 124: 'will', 125: 'build', 126: 'into', 127: 'life', 128: 'when', 129: 'want', 130: 'a', 131: 'with', 132: 'difference', 133: 'if', 134: 'knew', 135: 'safety', 136: 'looked', 137: 'would', 138: 'spent', 139: 'time', 140: 'falling', 141: 'arms', 142: 'rivers', 143: 'fall', 144: 'mouth', 145: 'tears', 146: 'eyes', 147: 'cant', 148: 'carry', 149: 'are', 150: 'snakeskin', 151: 'keep', 152: 'shedding', 153: 'somehow', 154: 'forgetting', 155: 'every', 156: 'exquisite', 157: 'detail', 158: 'face', 159: 'letting', 160: 'go', 161: 'has', 162: 'become', 163: 'most', 164: 'pleasant', 165: 'saddest', 166: 'thing', 167: 'happened', 168: 'wrong', 169: 'leaving', 170: 'coming', 171: 'thinking', 172: 'could', 173: 'leave', 174: 'can', 175: 'write', 176: 'took', 177: 'hands', 178: 'neither', 179: 'us', 180: 'happy', 181: 'wants', 182: 'we', 183: 'breaking', 184: 'one', 185: 'another', 186: 'calling', 187: 'began', 188: 'honesty', 189: 'let', 190: 'end', 191: 'in', 192: 'too', 193: 'voice', 194: 'alone', 195: 'drives', 196: 'why', 197: 'split', 198: 'myself', 199: 'open', 200: 'others', 201: 'knowing', 202: 'sewing', 203: 'hurts', 204: 'much', 205: 'afterward', 206: 'they', 207: 'left', 208: 'stays', 209: 'takes', 210: 'consent', 211: 'two', 212: 'person', 213: 'lying', 214: 'there', 215: 'doing', 216: 'ready', 217: 'or', 218: 'mood', 219: 'simply', 220: 'yet', 221: 'other', 222: 'having', 223: 'their', 224: 'rape', 225: 'cruel', 226: 'game', 227: 'made', 228: 'out', 229: 'our', 230: 'die', 231: 'written', 232: 'pages', 233: 'after', 234: 'hurt', 235: 'loss', 236: 'pain', 237: 'still', 238: 'only', 239: 'undressed', 240: 'under', 241: 'night', 242: 'woke', 243: 'broken', 244: 'place', 245: 'put', 246: 'pieces', 247: 'bags', 248: 'stay', 249: 'whispered', 250: 'shut', 251: 'door', 252: 'behind', 253: 'confident', 254: 'over', 255: 'some', 256: 'mornings', 257: 'wake', 258: 'smile', 259: 'pressed', 260: 'together', 261: 'thanking', 262: 'universe', 263: 'pulling', 264: 'thank', 265: 'cry', 266: 'empire', 267: 'today', 268: 'stayed', 269: 'then', 270: 'nights', 271: 'imagine', 272: 'might', 273: 'do', 274: 'showed', 275: 'walked', 276: 'room', 277: 'very', 278: 'second', 279: 'awful', 280: 'done', 281: 'tossed', 282: 'closest', 283: 'window', 284: 'rise', 285: 'again', 286: 'pour', 287: 'through', 288: 'never', 289: 'really', 290: 'practicing', 291: 'silent', 292: 'long', 293: 'loud', 294: 'arrival', 295: 'someone', 296: 'explain', 297: 'leaves', 298: 'doesnt', 299: 'past', 300: 'helplessly', 301: 'brought', 302: 'isnt', 303: 'head', 304: 'sobbed', 305: 'heart', 306: 'wilting', 307: 'friends', 308: 'more', 309: 'idea', 310: 'capable', 311: 'choose', 312: 'toxic', 313: 'losing', 314: 'parts', 315: 'lose', 316: 'eyelashes', 317: 'unknowingly', 318: 'everywhere', 319: 'cannot', 320: 'exist', 321: 'places', 322: 'once', 323: 'ask', 324: 'water', 325: 'soft', 326: 'enough', 327: 'offer', 328: 'tough', 329: 'drown', 330: 'away', 331: 'miss', 332: 'loved', 333: 'didnt', 334: 'reflection', 335: 'everything', 336: 'gave', 337: 'see', 338: 'sit', 339: 'here', 340: 'soaking', 341: 'no', 342: 'else', 343: 'taught', 344: 'fill', 345: 'needed', 346: 'filled', 347: 'credit', 348: 'warmth', 349: 'because', 350: 'felt', 351: 'who', 352: 'strength', 353: 'wit', 354: 'beauty', 355: 'recognized', 356: 'already', 357: 'before', 358: 'met', 359: 'remain', 360: 'gone', 361: 'abandon', 362: 'linger', 363: 'think', 364: 'okay', 365: 'return', 366: 'tell', 367: 'about', 368: 'selfish', 369: 'walk', 370: 'taste', 371: 'type', 372: 'being', 373: 'shine', 374: 'gotten', 375: 'good', 376: 'look', 377: 'taken', 378: 'hair', 379: 'secrets', 380: 'them', 381: 'realize', 382: 'real', 383: 'storm', 384: 'hits', 385: 'cowardice', 386: 'sets', 387: 'thought', 388: 'replaced', 389: 'by', 390: 'sad', 391: 'reality', 392: 'fighting', 393: 'bone', 394: 'saying', 395: 'find', 396: 'better', 397: 'stand', 398: 'naked', 399: 'half', 400: 'hidden', 401: 'somewhere', 402: 'inside', 403: 'sob', 404: 'asking', 405: 'forced', 406: 'intention', 407: 'loving', 408: 'say', 409: 'something', 410: 'along', 411: 'lines', 412: 'try', 413: 'chance', 414: 'romantic', 415: 'sweet', 416: 'engulfed', 417: 'existence', 418: 'risk', 419: 'sake', 420: 'meant', 421: 'little', 422: 'next', 423: 'curiosity', 424: 'gamble', 425: 'entire', 426: 'beings', 427: 'souls', 428: 'please', 429: 'own', 430: 'holding', 431: 'world', 432: 'lap', 433: 'belittled', 434: 'mere', 435: 'picture', 436: 'moment', 437: 'swallow', 438: 'whisper', 439: 'spend', 440: 'rest', 441: 'sense', 442: 'fear', 443: 'halfway', 444: 'without', 445: 'nerve', 446: 'grace', 447: 'human', 448: 'means', 449: 'taking', 450: 'funny', 451: 'guts', 452: 'days', 453: 'undress', 454: 'fingers', 455: 'pick', 456: 'phone', 457: 'call', 458: 'apologize', 459: 'her', 460: 'list', 461: 'breakup', 462: '1', 463: 'take', 464: 'refuge', 465: 'bed', 466: '2', 467: 'till', 468: 'stop', 469: 'few', 470: '3', 471: 'listen', 472: 'slow', 473: 'songs', 474: 'delete', 475: 'number', 476: 'though', 477: 'memorized', 478: 'fingertips', 479: '5', 480: 'old', 481: 'photos', 482: '6', 483: 'ice', 484: 'cream', 485: 'shop', 486: 'treat', 487: 'yourself', 488: 'scoops', 489: 'mint', 490: 'chocolate', 491: 'chip', 492: 'calm', 493: 'deserve', 494: '7', 495: 'buy', 496: 'new', 497: 'sheets', 498: '8', 499: 'collect', 500: 'gifts', 501: 'drop', 502: 'donation', 503: 'center', 504: '9', 505: 'plan', 506: 'trip', 507: '10', 508: 'perfect', 509: 'art', 510: 'smiling', 511: 'nodding', 512: 'brings', 513: 'name', 514: 'conversation', 515: '11', 516: 'start', 517: 'project', 518: '12', 519: 'whatever', 520: '13', 521: 'beg', 522: 'does', 523: '14', 524: 'crying', 525: 'point', 526: '15', 527: 'allow', 528: 'foolish', 529: 'believing', 530: 'built', 531: 'elses', 532: 'stomach', 533: '16', 534: 'breathe', 535: 'tells', 536: 'bigger', 537: 'illusion', 538: 'woman', 539: 'bring', 540: 'dishonor', 541: 'home', 542: 'tries', 543: 'safe', 544: 'perhaps', 545: 'nice', 546: 'paying', 547: 'sins', 548: 'remember', 549: 'writing', 550: 'healing', 551: 'destroying', 552: 'bother', 553: 'make', 554: 'must', 555: 'enter', 556: 'relationship', 557: 'anyone', 558: 'accept', 559: 'painful', 560: 'moving', 561: 'healthiest', 562: 'move', 563: 'part', 564: 'experience', 565: 'afraid', 566: 'evolving', 567: 'loneliness', 568: 'sign', 569: 'desperate', 570: 'need', 571: 'habit', 572: 'lack', 573: 'tricked', 574: 'complete', 575: 'complement', 576: 'feet', 577: 'broke', 578: 'pinned', 579: 'legs', 580: 'ground', 581: 'demanded', 582: 'born', 583: 'weakness', 584: 'live', 585: 'waiting', 586: 'theyre', 587: 'sure', 588: 'exists', 589: 'billion', 590: 'strong', 591: 'grow', 592: 'flowers', 593: 'helped', 594: 'mine', 595: 'bloom', 596: 'beautifully', 597: 'dangerously', 598: 'loudly', 599: 'softly', 600: 'however', 601: 'reader', 602: 'balance', 603: 'situations', 604: 'solitude', 605: 'between', 606: 'telling', 607: 'actually', 608: 'sometimes', 609: 'apology', 610: 'nor', 611: 'late', 612: 'girls', 613: 'learn', 614: 'kiss', 615: 'closed', 616: 'unlike', 617: 'women', 618: 'sisters', 619: 'order', 620: 'makes', 621: 'spit', 622: 'supposed', 623: 'proud', 624: 'relieved', 625: 'points', 626: 'growing', 627: 'remind', 628: 'guest', 629: 'warn', 630: 'welcome', 631: 'tear', 632: 'powerful', 633: 'completely', 634: 'found', 635: 'surroundings', 636: 'lost', 637: 'within', 638: 'hard', 639: 'believe', 640: 'tomorrow', 641: 'come', 642: 'difficult', 643: 'day', 644: 'get', 645: 'swear', 646: 'pass', 647: 'slowly', 648: 'promise', 649: 'stretch', 650: 'marks', 651: 'thighs', 652: 'rough', 653: 'jungle', 654: 'wild', 655: 'feeling', 656: 'unafraid', 657: 'tend', 658: 'wounds', 659: 'utterly', 660: 'issue', 661: 'consider', 662: 'beautiful', 663: 'concept', 664: 'centers', 665: 'around', 666: 'excluding', 667: 'wears', 668: 'garden', 669: 'definition', 670: 'big', 671: 'hooked', 672: 'noses', 673: 'pointing', 674: 'upward', 675: 'sky', 676: 'rising', 677: 'occasion', 678: 'color', 679: 'earth', 680: 'ancestors', 681: 'planted', 682: 'crops', 683: 'feed', 684: 'lineage', 685: 'thick', 686: 'tree', 687: 'trunks', 688: 'almonds', 689: 'deeply', 690: 'hooded', 691: 'conviction', 692: 'punjab', 693: 'flow', 694: 'bloodstream', 695: 'ones', 696: 'country', 697: 'backs', 698: 'stories', 699: 'books', 700: 'spine', 701: 'designed', 702: 'museum', 703: 'natural', 704: 'disasters', 705: 'grasp', 706: 'stunning', 707: 'sadness', 708: 'living', 709: 'becoming', 710: 'womens', 711: 'bodies', 712: 'battlegrounds', 713: 'removing', 714: 'thats', 715: 'keeping', 716: 'belong', 717: 'apparently', 718: 'ungraceful', 719: 'mention', 720: 'period', 721: 'public', 722: 'actual', 723: 'biology', 724: 'sell', 725: 'whats', 726: 'womans', 727: 'inner', 728: 'workings', 729: 'recreational', 730: 'use', 731: 'seen', 732: 'while', 733: 'nature', 734: 'ugly', 735: 'dragon', 736: 'fly', 737: 'hes', 738: 'called', 739: 'pretty', 740: 'intelligent', 741: 'brave', 742: 'sorry', 743: 'sound', 744: 'simple', 745: 'youre', 746: 'spirit', 747: 'crushed', 748: 'mountains', 749: 'now', 750: 'resilient', 751: 'extraordinary', 752: 'outlook', 753: 'hold', 754: 'heal', 755: 'happiness', 756: 'patient', 757: 'daughter', 758: 'kaur', 759: 'free', 760: 'removes', 761: 'shackles', 762: 'bind', 763: 'uplifts', 764: 'equal', 765: 'any', 766: 'man', 767: 'state', 768: 'screams', 769: 'wholly', 770: 'humbles', 771: 'calls', 772: 'says', 773: 'universal', 774: 'duty', 775: 'share', 776: 'humanity', 777: 'nurture', 778: 'serve', 779: 'sisterhood', 780: 'raise', 781: 'raising', 782: 'runs', 783: 'blood', 784: 'word', 785: 'itself', 786: 'existed', 787: 'identity', 788: 'liberation', 789: 'gives', 790: 'gold', 791: 'nothing', 792: 'purer', 793: 'aches', 794: 'helping', 795: 'ache', 796: 'spring', 797: 'goddess', 798: 'mouths', 799: 'soul', 800: 'mate', 801: 'bitter', 802: 'kindest', 803: 'forward', 804: 'recognize', 805: 'striking', 806: 'mean', 807: 'rooted', 808: 'deep', 809: 'help', 810: 'war', 811: 'naturally', 812: 'trying', 813: 'convince', 814: 'allowed', 815: 'space', 816: 'hand', 817: 'right', 818: 'shrinking', 819: 'hereditary', 820: 'importantly', 821: 'page', 822: 'where', 823: 'sitting', 824: 'degree', 825: 'job', 826: 'money', 827: 'matters', 828: 'except', 829: 'connection', 830: 'touched', 831: 'sink', 832: 'grounded', 833: 'searching', 834: 'course', 835: 'successful', 836: 'crave', 837: 'success', 838: 'gain', 839: 'succeed', 840: 'heartbeat', 841: 'quickens', 842: 'birthing', 843: 'poems', 844: 'opening', 845: 'conceive', 846: 'lovemaking', 847: 'words', 848: 'erotic', 849: 'either', 850: 'lust', 851: 'terrifies', 852: 'foam', 853: 'envy', 854: 'sigh', 855: 'relief', 856: 'failing', 857: 'struggle', 858: 'celebrate', 859: 'each', 860: 'proven', 861: 'many', 862: 'work', 863: 'likes', 864: 'honest', 865: 'trade', 866: 'young', 867: 'poets', 868: 'quiet', 869: 'opinions', 870: 'fire', 871: 'belly', 872: 'lightness', 873: 'heavy', 874: 'blade', 875: 'silk', 876: 'forget', 877: 'follow', 878: 'seva', 879: 'selfless', 880: 'service', 881: 'scraping', 882: 'cantaloupe', 883: 'clean', 884: 'offering', 885: 'absent', 886: 'border', 887: 'countries', 888: 'collateral', 889: 'damage', 890: 'paradox', 891: 'joins', 892: 'also', 893: 'splits', 894: 'apart', 895: 'emptying', 896: 'mothers', 897: 'act', 898: 'disappearance', 899: 'learning', 900: 'shrink', 901: 'family', 902: 'daughters', 903: 'invisible', 904: 'repeat', 905: 'wish', 906: 'often', 907: 'reason', 908: 'alive', 909: 'heaving', 910: 'chest', 911: 'guess', 912: 'tenderness', 913: 'well', 914: 'same', 915: 'exhausted', 916: 'rage', 917: 'wear', 918: 'anger', 919: 'homage', 920: 'shires', 921: 'inheritance', 922: 'opens', 923: 'dinner', 924: 'shoves', 925: 'hush', 926: 'speak', 927: 'full', 928: 'learned', 929: 'knees', 930: 'pried', 931: 'cousins', 932: 'uncles', 933: 'men', 934: 'particular', 935: 'im', 936: 'silence', 937: 'stretches', 938: 'lifetime', 939: 'scramble', 940: 'questions', 941: 'going', 942: 'understand', 943: 'blame', 944: 'hurting', 945: 'youll', 946: 'care', 947: 'aching', 948: 'attention', 949: 'collapse', 950: 'small', 951: 'talk', 952: 'plough', 953: 'mostly', 954: 'shocked', 955: 'rubber', 956: 'against', 957: 'an', 958: 'wound', 959: 'begin', 960: 'pushing', 961: 'faster', 962: 'search', 963: 'reaction', 964: 'acting', 965: 'videos', 966: 'watch', 967: 'imitate', 968: 'moans', 969: 'hollow', 970: 'hungry', 971: 'yes', 972: 'quickly', 973: 'sounds', 974: 'rehearsed', 975: 'notice', 976: 'veins', 977: 'terrified', 978: 'looks', 979: 'flinch', 980: 'touch', 981: 'pregnant', 982: 'child', 983: 'four', 984: 'pointed', 985: 'swollen', 986: 'confused', 987: 'such', 988: 'scooped', 989: 'trunk', 990: 'grown', 991: 'age', 992: 'changed', 993: 'rested', 994: 'energy', 995: 'wanting', 996: 'wait', 997: 'wont', 998: 'sight', 999: 'meet', 1000: 'remembrance', 1001: 'marry', 1002: 'id', 1003: 'son', 1004: 'revolution', 1005: 'starts', 1006: 'ends', 1007: 'asks', 1008: 'hope', 1009: 'form', 1010: 'favorite', 1011: 'herbs', 1012: 'gardens', 1013: 'therapist', 1014: 'doll', 1015: 'front', 1016: 'size', 1017: 'touching', 1018: 'spot', 1019: 'fingered', 1020: 'confession', 1021: 'pull', 1022: 'lump', 1023: 'throat', 1024: 'teeth', 1025: 'fine', 1026: 'numb', 1027: 'midweek', 1028: 'sessions', 1029: 'crumble', 1030: 'reasons', 1031: 'sun', 1032: 'faint', 1033: 'line', 1034: 'faith', 1035: 'blindly', 1036: 'letter', 1037: 'future', 1038: 'lover', 1039: 'safer', 1040: 'reading', 1041: 'date', 1042: 'placed', 1043: 'reaching', 1044: 'waist', 1045: 'hips', 1046: 'touches', 1047: 'surprised', 1048: 'goddamn', 1049: 'spread', 1050: 'easel', 1051: 'canvas', 1052: 'begging', 1053: 'light', 1054: 'city', 1055: 'combined', 1056: 'set', 1057: 'melt', 1058: 'play', 1059: 'games', 1060: 'knows', 1061: 'speechless', 1062: 'truth', 1063: 'weak', 1064: 'forgets', 1065: 'language', 1066: 'company', 1067: 'packaging', 1068: 'stops', 1069: 'midsentence', 1070: 'pay', 1071: 'bills', 1072: 'crazy', 1073: 'keeps', 1074: 'show', 1075: 'tips', 1076: 'forearm', 1077: 'graze', 1078: 'wrist', 1079: 'goose', 1080: 'bumps', 1081: 'surface', 1082: 'clench', 1083: 'muscles', 1084: 'tighten', 1085: 'pore', 1086: 'blink', 1087: 'break', 1088: 'gaze', 1089: 'inches', 1090: 'toward', 1091: 'step', 1092: 'command', 1093: 'cheeks', 1094: 'flush', 1095: 'shyly', 1096: 'confessing', 1097: 'loves', 1098: 'irrelevant', 1099: 'turn', 1100: 'forest', 1101: 'running', 1102: 'strongest', 1103: 'positive', 1104: 'negative', 1105: 'connotation', 1106: 'lights', 1107: 'whispers', 1108: 'ear', 1109: 'ways', 1110: 'undresses', 1111: 'male', 1112: 'french', 1113: 'wrap', 1114: 'foreplay', 1115: 'run', 1116: 'willing', 1117: 'exactly', 1118: 'hears', 1119: 'understanding', 1120: 'demand', 1121: 'dance', 1122: 'solo', 1123: 'performance', 1124: 'weve', 1125: 'arguing', 1126: 'ought', 1127: 'avoid', 1128: 'instead', 1129: 'used', 1130: 'fight', 1131: 'pop', 1132: 'frozen', 1133: 'pizza', 1134: 'oven', 1135: 'vulnerable', 1136: 'thorns', 1137: 'table', 1138: 'tonight', 1139: 'sleep', 1140: 'last', 1141: 'week', 1142: 'working', 1143: 'youd', 1144: 'couple', 1145: 'hours', 1146: 'ago', 1147: 'excuses', 1148: 'carried', 1149: 'eventually', 1150: 'expect', 1151: 'baby', 1152: 'frustration', 1153: 'tired', 1154: 'sick', 1155: 'toxin', 1156: 'burnt', 1157: 'holes', 1158: 'faces', 1159: 'kid', 1160: 'matter', 1161: 'bad', 1162: 'gets', 1163: 'wanna', 1164: 'nail', 1165: 'especially', 1166: 'screaming', 1167: 'wakes', 1168: 'neighbors', 1169: 'save', 1170: 'lie', 1171: 'lay', 1172: 'map', 1173: 'finger', 1174: 'trace', 1175: 'gravity', 1176: 'focal', 1177: 'yours', 1178: 'street', 1179: 'windows', 1180: 'wondering', 1181: 'commotion', 1182: 'trucks', 1183: 'rolling', 1184: 'distinguish', 1185: 'whether', 1186: 'flames', 1187: 'passion', 1188: 'throw', 1189: 'arch', 1190: 'mountain', 1191: 'lick', 1192: 'gift', 1193: 'book', 1194: 'read', 1195: 'carefully', 1196: 'fluently', 1197: 'vividly', 1198: 'dare', 1199: 'single', 1200: 'untouched', 1201: 'ending', 1202: 'seat', 1203: 'flick', 1204: 'tongues', 1205: 'decided', 1206: 'snap', 1207: 'defense', 1208: 'shout', 1209: 'defeated', 1210: 'parent', 1211: 'fix', 1212: 'wretched', 1213: 'distant', 1214: 'forgot', 1215: 'fate', 1216: 'wonder', 1217: 'naive', 1218: 'works', 1219: 'lives', 1220: 'staring', 1221: 'spends', 1222: 'placing', 1223: 'chess', 1224: 'choices', 1225: 'convinced', 1226: 'given', 1227: 'actions', 1228: 'define', 1229: 'scream', 1230: 'fool', 1231: 'quietly', 1232: 'quivering', 1233: 'tragic', 1234: 'clearly', 1235: 'mistake', 1236: 'salt', 1237: 'sugar', 1238: 'slips', 1239: 'waistband', 1240: 'pants', 1241: 'may', 1242: 'certainly', 1243: 'temptingly', 1244: 'stung', 1245: 'got', 1246: 'close', 1247: 'bootleg', 1248: 'version', 1249: 'erase', 1250: 'punch', 1251: 'caress', 1252: 'suck', 1253: 'replacement', 1254: 'slip', 1255: 'excite', 1256: 'eyelids', 1257: 'pity', 1258: 'hit', 1259: 'busy', 1260: 'coffee', 1261: 'black', 1262: 'weep', 1263: 'drinking', 1264: 'rather', 1265: 'darkest', 1266: 'rose', 1267: 'manhood', 1268: 'curled', 1269: 'marinates', 1270: 'remembers', 1271: 'regret', 1272: 'stopped', 1273: 'longer', 1274: 'themselves', 1275: 'weekend', 1276: 'getaway', 1277: 'town', 1278: 'surrounding', 1279: 'heard', 1280: 'neon', 1281: 'skyscrapers', 1282: 'statues', 1283: 'thunder', 1284: 'bridges', 1285: 'tremble', 1286: 'meat', 1287: 'homemade', 1288: 'jam', 1289: 'sweetest', 1290: 'police', 1291: 'sirens', 1292: 'crackle', 1293: 'fireplace', 1294: 'burn', 1295: 'couldnt', 1296: 'blush', 1297: 'hotel', 1298: 'whiskey', 1299: 'expectations', 1300: 'vacation', 1301: 'arrives', 1302: 'poetry', 1303: 'degrade', 1304: 'toxicity', 1305: 'central', 1306: 'douse', 1307: 'yell', 1308: 'confuse', 1309: 'kindness', 1310: 'seems', 1311: 'grows', 1312: 'trust', 1313: 'fathers', 1314: 'known', 1315: 'dipped', 1316: 'worth', 1317: 'question', 1318: 'problem', 1319: 'able', 1320: 'danger', 1321: 'rolls', 1322: 'accidently', 1323: 'everyone', 1324: 'tender', 1325: 'potential', 1326: 'allowing', 1327: 'limiting', 1328: 'ripe', 1329: 'experienced', 1330: 'exhilarating', 1331: 'settling', 1332: 'tasted', 1333: 'rawest', 1334: 'refined', 1335: 'synthetic', 1336: 'beyond', 1337: 'add', 1338: 'years', 1339: 'combine', 1340: 'sweeter', 1341: 'falsehood', 1342: 'balanced', 1343: 'glow', 1344: 'angry', 1345: 'extremes', 1346: 'wings', 1347: 'grieve', 1348: 'shatter'}\n"
          ],
          "name": "stdout"
        }
      ]
    },
    {
      "cell_type": "code",
      "metadata": {
        "colab": {
          "base_uri": "https://localhost:8080/"
        },
        "id": "KzDC8bPlHLfP",
        "outputId": "4b046eb4-3d58-4180-e763-01c868d4dcfb"
      },
      "source": [
        "vectorized_poems = np.array([vocab[word] for word in vocab.keys()])\n",
        "print(vectorized_poems)"
      ],
      "execution_count": 9,
      "outputs": [
        {
          "output_type": "stream",
          "text": [
            "[   0    1    2 ... 1346 1347 1348]\n"
          ],
          "name": "stdout"
        }
      ]
    },
    {
      "cell_type": "code",
      "metadata": {
        "colab": {
          "base_uri": "https://localhost:8080/"
        },
        "id": "8dcrkLknPLOS",
        "outputId": "de7ab957-bb60-4414-d6ae-36228f63f305"
      },
      "source": [
        "print ('{} ---- characters mapped to int ----> {}'.format(repr(poems[:10]), vectorized_poems[:10]))\n",
        "# check that vectorized_poems is a numpy array\n",
        "assert isinstance(vectorized_poems, np.ndarray), \"returned result should be a numpy array\""
      ],
      "execution_count": 10,
      "outputs": [
        {
          "output_type": "stream",
          "text": [
            "'how is it ' ---- characters mapped to int ----> [0 1 2 3 4 5 6 7 8 9]\n"
          ],
          "name": "stdout"
        }
      ]
    },
    {
      "cell_type": "markdown",
      "metadata": {
        "id": "EBb-AxOFRXpb"
      },
      "source": [
        "## Define Batch \n"
      ]
    },
    {
      "cell_type": "code",
      "metadata": {
        "colab": {
          "base_uri": "https://localhost:8080/"
        },
        "id": "TK9wy75rRgzr",
        "outputId": "97b13d01-7503-4194-c6d7-8a00047075d7"
      },
      "source": [
        "### Batch definition to create training examples ###\n",
        "\n",
        "def get_batch(vectorized_songs, seq_length, batch_size):\n",
        "  # the length of the vectorized songs string\n",
        "  n = vectorized_songs.shape[0] - 1\n",
        "  # randomly choose the starting indices for the examples in the training batch\n",
        "  idx = np.random.choice(n-seq_length, batch_size)\n",
        "\n",
        "  input_batch = [vectorized_songs[i : i+seq_length] for i in idx]\n",
        "  output_batch = [vectorized_songs[i+1 : i+seq_length+1] for i in idx]\n",
        "\n",
        "  # x_batch, y_batch provide the true inputs and targets for network training\n",
        "  x_batch = np.reshape(input_batch, [batch_size, seq_length])\n",
        "  y_batch = np.reshape(output_batch, [batch_size, seq_length])\n",
        "  return x_batch, y_batch\n",
        "\n",
        "\n",
        "# Perform some simple tests to make sure your batch function is working properly! \n",
        "test_args = (vectorized_poems, 10, 2)\n",
        "if not mdl.lab1.test_batch_func_types(get_batch, test_args) or \\\n",
        "   not mdl.lab1.test_batch_func_shapes(get_batch, test_args) or \\\n",
        "   not mdl.lab1.test_batch_func_next_step(get_batch, test_args): \n",
        "   print(\"======\\n[FAIL] could not pass tests\")\n",
        "else: \n",
        "   print(\"======\\n[PASS] passed all tests!\")"
      ],
      "execution_count": 11,
      "outputs": [
        {
          "output_type": "stream",
          "text": [
            "[PASS] test_batch_func_types\n",
            "[PASS] test_batch_func_shapes\n",
            "[PASS] test_batch_func_next_step\n",
            "======\n",
            "[PASS] passed all tests!\n"
          ],
          "name": "stdout"
        }
      ]
    },
    {
      "cell_type": "code",
      "metadata": {
        "id": "kwNvWLRkR0gd"
      },
      "source": [
        "x_batch, y_batch = get_batch(vectorized_poems, seq_length=5, batch_size=1)"
      ],
      "execution_count": 12,
      "outputs": []
    },
    {
      "cell_type": "code",
      "metadata": {
        "colab": {
          "base_uri": "https://localhost:8080/"
        },
        "id": "S3NKP8x-TbnF",
        "outputId": "393a0684-cf44-4ea6-817c-fca54aaad7d0"
      },
      "source": [
        "print(x_batch)\n",
        "print(y_batch)"
      ],
      "execution_count": 13,
      "outputs": [
        {
          "output_type": "stream",
          "text": [
            "[[227 228 229 230 231]]\n",
            "[[228 229 230 231 232]]\n"
          ],
          "name": "stdout"
        }
      ]
    },
    {
      "cell_type": "markdown",
      "metadata": {
        "id": "dCbW_Jf7RfDc"
      },
      "source": [
        "## Define RNN \n"
      ]
    },
    {
      "cell_type": "code",
      "metadata": {
        "id": "ra3VNBQ7Rk7P"
      },
      "source": [
        "def LSTM(rnn_units): \n",
        "  return tf.keras.layers.LSTM(\n",
        "    rnn_units, \n",
        "    return_sequences=True, \n",
        "    recurrent_initializer='glorot_uniform',\n",
        "    recurrent_activation='sigmoid',\n",
        "    stateful=True,\n",
        "  )"
      ],
      "execution_count": 14,
      "outputs": []
    },
    {
      "cell_type": "code",
      "metadata": {
        "id": "MtCrdfzEI2N0"
      },
      "source": [
        "### Defining the RNN Model ###\n",
        "\n",
        "'''TODO: Add LSTM and Dense layers to define the RNN model using the Sequential API.'''\n",
        "def build_model(vocab_size, embedding_dim, rnn_units, batch_size):\n",
        "  model = tf.keras.Sequential([\n",
        "    # Layer 1: Embedding layer to transform indices into dense vectors of a fixed embedding size\n",
        "    tf.keras.layers.Embedding(vocab_size, embedding_dim, embeddings_initializer=tf.keras.initializers.Constant(embedding_matrix), batch_input_shape=[batch_size, None], trainable=False),\n",
        "\n",
        "    # Layer 2: LSTM with `rnn_units` number of units. \n",
        "    LSTM(rnn_units), \n",
        "    # Layer 3: Dense (fully-connected) layer that transforms the LSTM output into the vocabulary size. \n",
        "    tf.keras.layers.Dense(vocab_size)\n",
        "  ])\n",
        "\n",
        "  return model\n",
        "\n",
        "# Build a simple model with default hyperparameters. You will get the chance to change these later.\n",
        "model = build_model(len(vocab), embedding_dim, rnn_units=1024, batch_size=32)"
      ],
      "execution_count": 15,
      "outputs": []
    },
    {
      "cell_type": "code",
      "metadata": {
        "colab": {
          "base_uri": "https://localhost:8080/"
        },
        "id": "-wrURNgpSjSP",
        "outputId": "6d8b2b07-cd58-40c0-f66d-aa28ea894b12"
      },
      "source": [
        "len(vocab)"
      ],
      "execution_count": 16,
      "outputs": [
        {
          "output_type": "execute_result",
          "data": {
            "text/plain": [
              "1349"
            ]
          },
          "metadata": {
            "tags": []
          },
          "execution_count": 16
        }
      ]
    },
    {
      "cell_type": "markdown",
      "metadata": {
        "id": "GFcErzGFS5LM"
      },
      "source": [
        "## Test Untrained RNN \n"
      ]
    },
    {
      "cell_type": "code",
      "metadata": {
        "colab": {
          "base_uri": "https://localhost:8080/"
        },
        "id": "4IEIwfcxTBXf",
        "outputId": "72eee137-38ed-4062-c658-d28f45a1d85f"
      },
      "source": [
        "model.summary()"
      ],
      "execution_count": 17,
      "outputs": [
        {
          "output_type": "stream",
          "text": [
            "Model: \"sequential\"\n",
            "_________________________________________________________________\n",
            "Layer (type)                 Output Shape              Param #   \n",
            "=================================================================\n",
            "embedding (Embedding)        (32, None, 50)            67450     \n",
            "_________________________________________________________________\n",
            "lstm (LSTM)                  (32, None, 1024)          4403200   \n",
            "_________________________________________________________________\n",
            "dense (Dense)                (32, None, 1349)          1382725   \n",
            "=================================================================\n",
            "Total params: 5,853,375\n",
            "Trainable params: 5,785,925\n",
            "Non-trainable params: 67,450\n",
            "_________________________________________________________________\n"
          ],
          "name": "stdout"
        }
      ]
    },
    {
      "cell_type": "code",
      "metadata": {
        "colab": {
          "base_uri": "https://localhost:8080/"
        },
        "id": "lGWmoh51TB7A",
        "outputId": "165792e5-d6f3-4b57-cf1a-2f9f82d5f54e"
      },
      "source": [
        "x, y = get_batch(vectorized_poems, seq_length=10, batch_size=10)\n",
        "pred = model(x)\n",
        "print(\"Input shape:      \", x.shape, \" # (batch_size, sequence_length)\")\n",
        "print(\"Prediction shape: \", pred.shape, \"# (batch_size, sequence_length, vocab_size)\")\n",
        "\n",
        "sampled_indices = tf.random.categorical(pred[0], num_samples=1)\n",
        "sampled_indices = tf.squeeze(sampled_indices,axis=-1).numpy()\n",
        "sampled_indices\n",
        "\n",
        "print(\"Input: \")\n",
        "print([inverse_vocab[i] for i in x[0]])\n",
        "print(\"Output:\")\n",
        "print([inverse_vocab[i] for i in sampled_indices])"
      ],
      "execution_count": 40,
      "outputs": [
        {
          "output_type": "stream",
          "text": [
            "Input shape:       (10, 10)  # (batch_size, sequence_length)\n",
            "Prediction shape:  (10, 10, 1349) # (batch_size, sequence_length, vocab_size)\n",
            "Input: \n",
            "['proud', 'relieved', 'points', 'growing', 'remind', 'guest', 'warn', 'welcome', 'tear', 'powerful']\n",
            "Output:\n",
            "['feels', 'points', 'growing', 'remind', 'guest', 'warn', 'welcome', 'tear', 'powerful', 'completely']\n"
          ],
          "name": "stdout"
        }
      ]
    },
    {
      "cell_type": "markdown",
      "metadata": {
        "id": "T8WFox1OsxZJ"
      },
      "source": [
        "## Train \n"
      ]
    },
    {
      "cell_type": "code",
      "metadata": {
        "colab": {
          "base_uri": "https://localhost:8080/"
        },
        "id": "q-OZW5yDtAwP",
        "outputId": "56844288-1e7c-4009-d178-80ae08beff57"
      },
      "source": [
        "### Defining the loss function ###\n",
        "\n",
        "'''TODO: define the loss function to compute and return the loss between\n",
        "    the true labels and predictions (logits). Set the argument from_logits=True.'''\n",
        "def compute_loss(labels, logits):\n",
        "  loss = tf.keras.losses.sparse_categorical_crossentropy(labels, logits, from_logits=True)\n",
        "  return loss\n",
        "\n",
        "example_batch_loss = compute_loss(y, pred)\n",
        "\n",
        "print(\"Prediction shape: \", pred.shape, \" # (batch_size, sequence_length, vocab_size)\") \n",
        "print(\"scalar_loss:      \", example_batch_loss.numpy().mean())"
      ],
      "execution_count": 33,
      "outputs": [
        {
          "output_type": "stream",
          "text": [
            "Prediction shape:  (32, 10, 1349)  # (batch_size, sequence_length, vocab_size)\n",
            "scalar_loss:       7.211638\n"
          ],
          "name": "stdout"
        }
      ]
    },
    {
      "cell_type": "code",
      "metadata": {
        "id": "Prie5xnjtWe2"
      },
      "source": [
        "### Hyperparameter setting and optimization ###\n",
        "\n",
        "# Optimization parameters:\n",
        "num_training_iterations = 300  # Increase this to train longer\n",
        "batch_size = 32  # Experiment between 1 and 64\n",
        "seq_length = 10  # Experiment between 50 and 500\n",
        "learning_rate = 5e-3  # Experiment between 1e-5 and 1e-1\n",
        "\n",
        "# Model parameters: \n",
        "vocab_size = len(vocab)\n",
        "rnn_units = 1024  # Experiment between 1 and 2048\n",
        "\n",
        "# Checkpoint location: \n",
        "checkpoint_dir = './training_checkpoints'\n",
        "checkpoint_prefix = os.path.join(checkpoint_dir, \"my_ckpt\")"
      ],
      "execution_count": 57,
      "outputs": []
    },
    {
      "cell_type": "code",
      "metadata": {
        "colab": {
          "base_uri": "https://localhost:8080/",
          "height": 559
        },
        "id": "lWRcf1QgvlFC",
        "outputId": "6921367f-dd0b-4619-8ecc-c7e7d5e53426"
      },
      "source": [
        "### Define optimizer and training operation ###\n",
        "\n",
        "'''TODO: instantiate a new model for training using the `build_model`\n",
        "  function and the hyperparameters created above.'''\n",
        "model = build_model(vocab_size, embedding_dim, rnn_units, batch_size)\n",
        "optimizer = tf.keras.optimizers.Adam(learning_rate)\n",
        "\n",
        "@tf.function\n",
        "def train_step(x, y): \n",
        "  # Use tf.GradientTape()\n",
        "  with tf.GradientTape() as tape:\n",
        "    y_hat = model(x)\n",
        "    loss = compute_loss(y, y_hat) \n",
        "  # Now, compute the gradients \n",
        "  grads = tape.gradient(loss, model.trainable_variables) \n",
        "  \n",
        "  # Apply the gradients to the optimizer so it can update the model accordingly\n",
        "  optimizer.apply_gradients(zip(grads, model.trainable_variables))\n",
        "  return loss\n",
        "\n",
        "##################\n",
        "# Begin training!#\n",
        "##################\n",
        "\n",
        "history = []\n",
        "plotter = mdl.util.PeriodicPlotter(sec=2, xlabel='Iterations', ylabel='Loss')\n",
        "if hasattr(tqdm, '_instances'): tqdm._instances.clear() # clear if it exists\n",
        "\n",
        "for iter in tqdm(range(num_training_iterations)):\n",
        "\n",
        "  # Grab a batch and propagate it through the network\n",
        "  x_batch, y_batch = get_batch(vectorized_poems, seq_length, batch_size)\n",
        "  loss = train_step(x_batch, y_batch)\n",
        "\n",
        "  # Update the progress bar\n",
        "  history.append(loss.numpy().mean())\n",
        "  plotter.plot(history)\n",
        "\n",
        "  # Update the model with the changed weights!\n",
        "  if iter % 100 == 0:     \n",
        "    model.save_weights(checkpoint_prefix)\n",
        "    print(history[-1])\n",
        "    \n",
        "# Save the trained model and the weights\n",
        "model.save_weights(checkpoint_prefix)"
      ],
      "execution_count": 58,
      "outputs": [
        {
          "output_type": "display_data",
          "data": {
            "image/png": "[encoded data removed]",
            "text/plain": [
              "<Figure size 432x288 with 1 Axes>"
            ]
          },
          "metadata": {
            "tags": []
          }
        },
        {
          "output_type": "stream",
          "text": [
            "100%|██████████| 300/300 [02:30<00:00,  2.00it/s]\n"
          ],
          "name": "stderr"
        },
        {
          "output_type": "display_data",
          "data": {
            "image/png": "[encoded data removed]",
            "text/plain": [
              "<Figure size 432x288 with 1 Axes>"
            ]
          },
          "metadata": {
            "tags": [],
            "needs_background": "light"
          }
        }
      ]
    },
    {
      "cell_type": "code",
      "metadata": {
        "colab": {
          "base_uri": "https://localhost:8080/"
        },
        "id": "g_I_jeNjXZr4",
        "outputId": "de7c016d-93c2-4836-a58e-e7236552f655"
      },
      "source": [
        "x, y = get_batch(vectorized_poems, seq_length=10, batch_size=32)\n",
        "pred = model(x)\n",
        "print(\"Input shape:      \", x.shape, \" # (batch_size, sequence_length)\")\n",
        "print(\"Prediction shape: \", pred.shape, \"# (batch_size, sequence_length, vocab_size)\")\n",
        "\n",
        "sampled_indices = tf.random.categorical(pred[0], num_samples=1)\n",
        "sampled_indices = tf.squeeze(sampled_indices,axis=-1).numpy()\n",
        "max_indices = np.argmax(pred[0], axis=1)\n",
        "\n",
        "print(\"Input: \")\n",
        "print([inverse_vocab[i] for i in x[0]])\n",
        "print(\"Expected output: \")\n",
        "print([inverse_vocab[i] for i in y[0]])\n",
        "print(\"Actual sampled output:\")\n",
        "print([inverse_vocab[i] for i in sampled_indices])\n",
        "print(\"Actual maximum-probability output:\")\n",
        "print([inverse_vocab[i] for i in max_indices])"
      ],
      "execution_count": 60,
      "outputs": [
        {
          "output_type": "stream",
          "text": [
            "Input shape:       (32, 10)  # (batch_size, sequence_length)\n",
            "Prediction shape:  (32, 10, 1349) # (batch_size, sequence_length, vocab_size)\n",
            "Input: \n",
            "['synthetic', 'beyond', 'add', 'years', 'combine', 'sweeter', 'falsehood', 'balanced', 'glow', 'angry']\n",
            "Expected output: \n",
            "['beyond', 'add', 'years', 'combine', 'sweeter', 'falsehood', 'balanced', 'glow', 'angry', 'extremes']\n",
            "Actual sampled output:\n",
            "['beyond', 'add', 'years', 'combine', 'sweeter', 'falsehood', 'balanced', 'glow', 'angry', 'extremes']\n",
            "Actual maximum-probability output:\n",
            "['beyond', 'add', 'years', 'combine', 'sweeter', 'falsehood', 'balanced', 'glow', 'angry', 'extremes']\n"
          ],
          "name": "stdout"
        }
      ]
    },
    {
      "cell_type": "code",
      "metadata": {
        "colab": {
          "base_uri": "https://localhost:8080/"
        },
        "id": "zcrWFdDsYU-o",
        "outputId": "1de4612f-c681-4a5e-d4e0-7f3b02df00b9"
      },
      "source": [
        "history[-1]"
      ],
      "execution_count": 61,
      "outputs": [
        {
          "output_type": "execute_result",
          "data": {
            "text/plain": [
              "0.07960002"
            ]
          },
          "metadata": {
            "tags": []
          },
          "execution_count": 61
        }
      ]
    },
    {
      "cell_type": "markdown",
      "metadata": {
        "id": "3UPagkCQ3gjZ"
      },
      "source": [
        "## Generate Poem \n"
      ]
    },
    {
      "cell_type": "code",
      "metadata": {
        "id": "xpY9Owzo3p-_",
        "colab": {
          "base_uri": "https://localhost:8080/"
        },
        "outputId": "3a6bd15b-0ce7-44c8-d699-354306953316"
      },
      "source": [
        "'''TODO: Rebuild the model using a batch_size=1'''\n",
        "model = build_model(vocab_size, embedding_dim, rnn_units, batch_size=1) #\n",
        "# Restore the model weights for the last checkpoint after training\n",
        "model.load_weights(tf.train.latest_checkpoint(checkpoint_dir))\n",
        "model.build(tf.TensorShape([1, None]))\n",
        "\n",
        "model.summary()"
      ],
      "execution_count": 63,
      "outputs": [
        {
          "output_type": "stream",
          "text": [
            "Model: \"sequential_5\"\n",
            "_________________________________________________________________\n",
            "Layer (type)                 Output Shape              Param #   \n",
            "=================================================================\n",
            "embedding_5 (Embedding)      (1, None, 50)             67450     \n",
            "_________________________________________________________________\n",
            "lstm_5 (LSTM)                (1, None, 1024)           4403200   \n",
            "_________________________________________________________________\n",
            "dense_5 (Dense)              (1, None, 1349)           1382725   \n",
            "=================================================================\n",
            "Total params: 5,853,375\n",
            "Trainable params: 5,785,925\n",
            "Non-trainable params: 67,450\n",
            "_________________________________________________________________\n"
          ],
          "name": "stdout"
        }
      ]
    },
    {
      "cell_type": "code",
      "metadata": {
        "id": "P_r8IX6L8IDa",
        "colab": {
          "base_uri": "https://localhost:8080/"
        },
        "outputId": "1d93f097-4e07-411e-9ad1-76027ec7837d"
      },
      "source": [
        "start_string=['i']\n",
        "input_eval = [vocab[s] for s in start_string]\n",
        "print(input_eval)"
      ],
      "execution_count": 64,
      "outputs": [
        {
          "output_type": "stream",
          "text": [
            "[21]\n"
          ],
          "name": "stdout"
        }
      ]
    },
    {
      "cell_type": "code",
      "metadata": {
        "id": "SvjB3kvc3zye"
      },
      "source": [
        "### Prediction of a generated song ###\n",
        "\n",
        "def generate_text(model, start_string, generation_length=75):\n",
        "  # Evaluation step (generating text using the learned RNN model)\n",
        "\n",
        "  '''TODO: convert the start string to numbers (vectorize)'''\n",
        "  input_eval = [vocab[s] for s in start_string] # TODO\n",
        "  input_eval = tf.expand_dims(input_eval, 0)\n",
        "\n",
        "  # Empty string to store our results\n",
        "  text_generated = []\n",
        "\n",
        "  # Here batch size == 1\n",
        "  model.reset_states()\n",
        "  tqdm._instances.clear()\n",
        "\n",
        "  for i in tqdm(range(generation_length)):\n",
        "      '''TODO: evaluate the inputs and generate the next character predictions'''\n",
        "      predictions = model(input_eval)\n",
        "      # predictions = model('''TODO''')\n",
        "      \n",
        "      # Remove the batch dimension\n",
        "      predictions = tf.squeeze(predictions, 0)\n",
        "      \n",
        "      '''TODO: use a multinomial distribution to sample'''\n",
        "      predicted_id = tf.random.categorical(predictions, num_samples=1)[-1,0].numpy()\n",
        "      # predicted_id = tf.random.categorical('''TODO''', num_samples=1)[-1,0].numpy()\n",
        "      \n",
        "      # Pass the prediction along with the previous hidden state\n",
        "      #   as the next inputs to the model\n",
        "      input_eval = tf.expand_dims([predicted_id], 0)\n",
        "      \n",
        "      '''TODO: add the predicted character to the generated text!'''\n",
        "      # Hint: consider what format the prediction is in vs. the output\n",
        "      text_generated.append(inverse_vocab[predicted_id]) # TODO \n",
        "      # text_generated.append('''TODO''')\n",
        "    \n",
        "  return (' '.join(start_string) + ' ' + ' '.join(text_generated))"
      ],
      "execution_count": 65,
      "outputs": []
    },
    {
      "cell_type": "code",
      "metadata": {
        "id": "wHkEd2dz6EIO",
        "colab": {
          "base_uri": "https://localhost:8080/"
        },
        "outputId": "092d772e-1e1e-404a-eaa6-8b469eb9ef04"
      },
      "source": [
        "generated_text = generate_text(model, start_string=['my','body'], generation_length=50)"
      ],
      "execution_count": 66,
      "outputs": [
        {
          "output_type": "stream",
          "text": [
            "100%|██████████| 50/50 [00:00<00:00, 104.74it/s]\n"
          ],
          "name": "stderr"
        }
      ]
    },
    {
      "cell_type": "code",
      "metadata": {
        "id": "wMEK7gQi6Y-D",
        "colab": {
          "base_uri": "https://localhost:8080/"
        },
        "outputId": "64b81d27-2308-4860-bb78-7302f2fd6ed4"
      },
      "source": [
        "print(generated_text)"
      ],
      "execution_count": 67,
      "outputs": [
        {
          "output_type": "stream",
          "text": [
            "my body giving those wanted should feel anything less than whole god did empty 425 ive sex she said but dont know what making love feels came all this way give these things arent even looking abused abuser both undoing skin wasnt kissing ó mistaken him mind your were just convenient always\n"
          ],
          "name": "stdout"
        }
      ]
    }
  ]
}