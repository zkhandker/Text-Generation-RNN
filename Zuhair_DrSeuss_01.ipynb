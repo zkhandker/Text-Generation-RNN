{
  "nbformat": 4,
  "nbformat_minor": 0,
  "metadata": {
    "colab": {
      "name": "Zuhair01.ipynb",
      "provenance": [],
      "collapsed_sections": [],
      "authorship_tag": "ABX9TyNapJ6CxFhjEzDfWq9DWr48",
      "include_colab_link": true
    },
    "kernelspec": {
      "name": "python3",
      "display_name": "Python 3"
    }
  },
  "cells": [
    {
      "cell_type": "markdown",
      "metadata": {
        "id": "view-in-github",
        "colab_type": "text"
      },
      "source": [
        "<a href=\"https://colab.research.google.com/github/zkhandker/Text-Generation-RNN/blob/main/Zuhair_DrSeuss_01.ipynb\" target=\"_parent\"><img src=\"https://colab.research.google.com/assets/colab-badge.svg\" alt=\"Open In Colab\"/></a>"
      ]
    },
    {
      "cell_type": "markdown",
      "metadata": {
        "id": "rsvlBQYCrE4I"
      },
      "source": [
        "## Dependencies \n"
      ]
    },
    {
      "cell_type": "code",
      "metadata": {
        "id": "riVZCVK65QTH",
        "colab": {
          "base_uri": "https://localhost:8080/"
        },
        "outputId": "95bdc660-9bd9-4d54-b370-38a4cdb73106"
      },
      "source": [
        "# Import Tensorflow 2.0\n",
        "%tensorflow_version 2.x\n",
        "import tensorflow as tf \n",
        "\n",
        "# Download and import the MIT 6.S191 package\n",
        "!pip install mitdeeplearning\n",
        "import mitdeeplearning as mdl\n",
        "\n",
        "# Import all remaining packages\n",
        "import numpy as np\n",
        "import os\n",
        "import time\n",
        "import functools\n",
        "from IPython import display as ipythondisplay\n",
        "from tqdm import tqdm\n",
        "!apt-get install abcmidi timidity > /dev/null 2>&1\n",
        "\n",
        "# Check that we are using a GPU, if not switch runtimes\n",
        "#   using Runtime > Change Runtime Type > GPU\n",
        "## assert len(tf.config.list_physical_devices('GPU')) > 0\n",
        "import pathlib"
      ],
      "execution_count": 1,
      "outputs": [
        {
          "output_type": "stream",
          "text": [
            "Collecting mitdeeplearning\n",
            "\u001b[?25l  Downloading https://files.pythonhosted.org/packages/9d/ad/650eb53c0d9d1213536fe94bc150f89b564ff5ee784bd662272584bb091b/mitdeeplearning-0.2.0.tar.gz (2.1MB)\n",
            "\u001b[K     |████████████████████████████████| 2.1MB 8.6MB/s \n",
            "\u001b[?25hRequirement already satisfied: numpy in /usr/local/lib/python3.7/dist-packages (from mitdeeplearning) (1.19.5)\n",
            "Requirement already satisfied: regex in /usr/local/lib/python3.7/dist-packages (from mitdeeplearning) (2019.12.20)\n",
            "Requirement already satisfied: tqdm in /usr/local/lib/python3.7/dist-packages (from mitdeeplearning) (4.41.1)\n",
            "Requirement already satisfied: gym in /usr/local/lib/python3.7/dist-packages (from mitdeeplearning) (0.17.3)\n",
            "Requirement already satisfied: pyglet<=1.5.0,>=1.4.0 in /usr/local/lib/python3.7/dist-packages (from gym->mitdeeplearning) (1.5.0)\n",
            "Requirement already satisfied: scipy in /usr/local/lib/python3.7/dist-packages (from gym->mitdeeplearning) (1.4.1)\n",
            "Requirement already satisfied: cloudpickle<1.7.0,>=1.2.0 in /usr/local/lib/python3.7/dist-packages (from gym->mitdeeplearning) (1.3.0)\n",
            "Requirement already satisfied: future in /usr/local/lib/python3.7/dist-packages (from pyglet<=1.5.0,>=1.4.0->gym->mitdeeplearning) (0.16.0)\n",
            "Building wheels for collected packages: mitdeeplearning\n",
            "  Building wheel for mitdeeplearning (setup.py) ... \u001b[?25l\u001b[?25hdone\n",
            "  Created wheel for mitdeeplearning: filename=mitdeeplearning-0.2.0-cp37-none-any.whl size=2115442 sha256=ff744e160193c8dcb784ce83a91c94748e65e280c2383ac2ac122bfdb5acc028\n",
            "  Stored in directory: /root/.cache/pip/wheels/af/dc/2a/5c3633135e7e4ef4fd31463cfa1942cb1bae7486ab94e7a2ad\n",
            "Successfully built mitdeeplearning\n",
            "Installing collected packages: mitdeeplearning\n",
            "Successfully installed mitdeeplearning-0.2.0\n"
          ],
          "name": "stdout"
        }
      ]
    },
    {
      "cell_type": "markdown",
      "metadata": {
        "id": "12kd7ooJOWjZ"
      },
      "source": [
        "## Load Poems \n"
      ]
    },
    {
      "cell_type": "code",
      "metadata": {
        "id": "8FDuRchuZAce"
      },
      "source": [
        "#data_url = 'https://raw.githubusercontent.com/zkhandker/rupi-kaur/main/data/test.txt'\n",
        "#dataset = tf.keras.utils.get_file('test.txt',\n",
        "#    data_url)\n",
        "#dataset_dir = pathlib.Path(dataset).parent"
      ],
      "execution_count": null,
      "outputs": []
    },
    {
      "cell_type": "code",
      "metadata": {
        "id": "0xUmL3QzfluV"
      },
      "source": [
        "# tf.io.gfile.remove(dataset_dir/'test2.txt')"
      ],
      "execution_count": null,
      "outputs": []
    },
    {
      "cell_type": "code",
      "metadata": {
        "id": "x5esSklXciP2"
      },
      "source": [
        "#list(dataset_dir.iterdir())"
      ],
      "execution_count": null,
      "outputs": []
    },
    {
      "cell_type": "code",
      "metadata": {
        "id": "suMjf1EPcXkL"
      },
      "source": [
        "#sample_file = dataset_dir/'test.txt'\n",
        "#with open(sample_file) as f:\n",
        "  #print(f.read())\n",
        "#  sentence=f.read()\n",
        "#  print(sentence)"
      ],
      "execution_count": null,
      "outputs": []
    },
    {
      "cell_type": "code",
      "metadata": {
        "id": "PYSGRMuTI0op",
        "colab": {
          "base_uri": "https://localhost:8080/"
        },
        "outputId": "4f516840-9d81-4f90-f951-6275f12fee6a"
      },
      "source": [
        "path_to_file = tf.keras.utils.get_file('combined2', 'https://raw.githubusercontent.com/zkhandker/Text-Generation-RNN/main/Seuss%20Data/SeussCombined.txt')\n",
        "with open(path_to_file) as f: \n",
        "  poems = f.read()\n",
        "  #print(poems)"
      ],
      "execution_count": 2,
      "outputs": [
        {
          "output_type": "stream",
          "text": [
            "Downloading data from https://raw.githubusercontent.com/zkhandker/Text-Generation-RNN/main/Seuss%20Data/SeussCombined.txt\n",
            "81920/79952 [==============================] - 0s 0us/step\n"
          ],
          "name": "stdout"
        }
      ]
    },
    {
      "cell_type": "markdown",
      "metadata": {
        "id": "CF-KDgzwREqj"
      },
      "source": [
        "## Vectorize Poems \n"
      ]
    },
    {
      "cell_type": "code",
      "metadata": {
        "id": "WuOEcJy67AK3"
      },
      "source": [
        "#test=poems[0:146]\n",
        "#test2=test.splitlines(keepends=True)\n",
        "#test3=[line for line in test2 if line != '\\n']\n",
        "#test4=' '.join(test3)\n",
        "#test5=test4.replace(\"\\n\",\" :\")\n",
        "#tokens = list(test5.lower().split())\n",
        "#tokens"
      ],
      "execution_count": null,
      "outputs": []
    },
    {
      "cell_type": "code",
      "metadata": {
        "colab": {
          "base_uri": "https://localhost:8080/"
        },
        "id": "afqD5vsbABrF",
        "outputId": "530cc9e1-0418-438b-fd56-1285fc8060e8"
      },
      "source": [
        "temp=poems\n",
        "#temp2=temp.splitlines(keepends=True)\n",
        "#temp3=[line for line in temp2 if line != '\\n']\n",
        "#temp4=' '.join(temp3)\n",
        "temp2=temp.replace(\".\",\" :\")\n",
        "tokens = list(temp2.lower().split())\n",
        "len(tokens)"
      ],
      "execution_count": 47,
      "outputs": [
        {
          "output_type": "execute_result",
          "data": {
            "text/plain": [
              "18316"
            ]
          },
          "metadata": {
            "tags": []
          },
          "execution_count": 47
        }
      ]
    },
    {
      "cell_type": "code",
      "metadata": {
        "id": "mRs_tAifGTjO"
      },
      "source": [
        "#sentence = \"The wide road shimmered in the hot sun\"\n",
        "#tokens = list(poems.lower().split())\n",
        "#print(len(tokens))"
      ],
      "execution_count": 48,
      "outputs": []
    },
    {
      "cell_type": "code",
      "metadata": {
        "colab": {
          "base_uri": "https://localhost:8080/"
        },
        "id": "PoMmec0_GtiY",
        "outputId": "e16922e1-012c-4745-98fa-81cc4704d5c6"
      },
      "source": [
        "vocab, index = {}, 1 # start indexing from 1\n",
        "vocab['<pad>'] = 0 # add a padding token \n",
        "for token in tokens:\n",
        "  if token not in vocab: \n",
        "    vocab[token] = index\n",
        "    index += 1\n",
        "vocab_size = len(vocab)\n",
        "print(vocab)\n",
        "print(vocab_size)"
      ],
      "execution_count": 49,
      "outputs": [
        {
          "output_type": "stream",
          "text": [
            "{'<pad>': 0, 'yertle': 1, 'the': 2, 'turtle': 3, 'on': 4, 'far': 5, 'away': 6, 'island': 7, 'of': 8, 'sala': 9, 'ma': 10, 'sond': 11, 'was': 12, 'king': 13, 'pond': 14, ':': 15, 'a': 16, 'nice': 17, 'little': 18, 'it': 19, 'clean': 20, 'neat': 21, 'water': 22, 'warm': 23, 'there': 24, 'plenty': 25, 'to': 26, 'eat': 27, 'turtles': 28, 'had': 29, 'everything': 30, 'might': 31, 'need': 32, 'and': 33, 'they': 34, 'were': 35, 'all': 36, 'happy': 37, 'quite': 38, 'indeed': 39, 'untill': 40, 'them': 41, 'decided': 42, 'kingdom': 43, 'he': 44, 'ruled': 45, 'too': 46, 'small': 47, 'im': 48, 'ruler': 49, 'said': 50, 'that': 51, 'i': 52, 'see': 53, 'but': 54, 'dont': 55, 'enough': 56, 'thats': 57, 'trouble': 58, 'with': 59, 'me': 60, 'this': 61, 'stone': 62, 'for': 63, 'throne': 64, 'look': 65, 'down': 66, 'my': 67, 'cannot': 68, 'places': 69, 'beyond': 70, 'sit': 71, 'is': 72, 'low': 73, 'ought': 74, 'be': 75, 'higher': 76, 'frown': 77, 'if': 78, 'could': 79, 'high': 80, 'how': 81, 'much': 82, 'greater': 83, 'id': 84, 'what': 85, 'so': 86, 'lifted': 87, 'his': 88, 'hand': 89, 'gave': 90, 'command': 91, 'ordered': 92, 'nine': 93, 'swim': 94, 'using': 95, 'these': 96, 'built': 97, 'new': 98, 'made': 99, 'each': 100, 'stand': 101, 'another': 102, 'ones': 103, 'back': 104, 'piled': 105, 'up': 106, 'in': 107, 'stack': 108, 'then': 109, 'climbed': 110, 'sat': 111, 'pile': 112, 'wonderful': 113, 'view': 114, 'most': 115, 'mile': 116, 'mine': 117, 'cried': 118, 'oh': 119, 'things': 120, 'now': 121, 'rule': 122, 'cow': 123, 'mule': 124, 'house': 125, 'whats': 126, 'more': 127, 'blueberry': 128, 'bush': 129, 'cat': 130, 'marvelous': 131, 'am': 132, 'through': 133, 'morning': 134, 'saying': 135, 'over': 136, 'grat': 137, 'until': 138, 'long': 139, 'about': 140, 'noon': 141, 'heard': 142, 'faint': 143, 'sigh': 144, 'snapped': 145, 'looked': 146, 'saw': 147, 'at': 148, 'bottom': 149, 'named': 150, 'mack': 151, 'just': 152, 'part': 153, 'plain': 154, 'beg': 155, 'your': 156, 'pardon': 157, 'ive': 158, 'pains': 159, 'shoulders': 160, 'knees': 161, 'must': 162, 'we': 163, 'here': 164, 'majesty': 165, 'please': 166, 'silence': 167, 'barked': 168, 'youre': 169, 'only': 170, 'you': 171, 'stay': 172, 'place': 173, 'while': 174, 'isnt': 175, 'ill': 176, 'do': 177, 'better': 178, 'than': 179, 'shall': 180, 'royal': 181, 'voice': 182, 'thundered': 183, 'want': 184, 'bout': 185, 'two': 186, 'hundred': 187, 'bellowed': 188, 'brayed': 189, 'way': 190, 'afraid': 191, 'trembled': 192, 'shook': 193, 'came': 194, 'obeyed': 195, 'from': 196, 'swimming': 197, 'by': 198, 'dozens': 199, 'whole': 200, 'families': 201, 'uncles': 202, 'cousins': 203, 'stepped': 204, 'head': 205, 'poor': 206, 'one': 207, 'after': 208, 'perched': 209, 'fourty': 210, 'miles': 211, 'sky': 212, 'hooray': 213, 'shouted': 214, 'trees': 215, 'birds': 216, 'bees': 217, 'butterflies': 218, 'air': 219, 'ah': 220, 'chair': 221, 'again': 222, 'below': 223, 'great': 224, 'heavy': 225, 'groan': 226, 'like': 227, 'complain': 228, 'are': 229, 'feeling': 230, 'pain': 231, 'know': 232, 'top': 233, 'seeing': 234, 'sights': 235, 'should': 236, 'have': 237, 'rights': 238, 'cant': 239, 'our': 240, 'shells': 241, 'will': 242, 'crack': 243, 'besides': 244, 'food': 245, 'starving': 246, 'groaned': 247, 'hush': 248, 'mouth': 249, 'howled': 250, 'mighty': 251, 'youve': 252, 'no': 253, 'right': 254, 'talk': 255, 'worlds': 256, 'highest': 257, 'clouds': 258, 'land': 259, 'sea': 260, 'theres': 261, 'nothing': 262, 'shouting': 263, 'suprise': 264, 'moon': 265, 'evening': 266, 'starting': 267, 'rise': 268, 'darkening': 269, 'skies': 270, 'snorted': 271, 'say': 272, 'thing': 273, 'dares': 274, 'not': 275, 'allow': 276, 'go': 277, 'still': 278, 'build': 279, 'can': 280, 'call': 281, 'some': 282, 'em': 283, 'heaven': 284, 'five': 285, 'thousand': 286, 'six': 287, 'seven': 288, 'as': 289, 'started': 290, 'order': 291, 'give': 292, 'whose': 293, 'name': 294, 'hed': 295, 'taken': 296, 'lad': 297, 'got': 298, 'bit': 299, 'mad': 300, 'did': 301, 'burped': 302, 'burp': 303, 'well': 304, 'end': 305, 'kings': 306, 'fell': 307, 'off': 308, 'plunk': 309, 'tosay': 310, 'mud': 311, 'course': 312, 'free': 313, 'maybe': 314, 'creatures': 315, 'abc': 316, 'big': 317, 'begins': 318, 'aunt': 319, 'annies': 320, 'alligator': 321, ':a': 322, 'b': 323, 'barber': 324, 'baby': 325, 'bubbles': 326, 'bumblebee': 327, 'c': 328, 'camel': 329, 'ceiling': 330, ':c': 331, 'd': 332, 'david': 333, 'donald': 334, 'doo': 335, 'dreamed': 336, 'doen': 337, 'doughnuts': 338, 'duck': 339, 'dog': 340, 'abcde': 341, ':e': 342, 'ear': 343, 'egg': 344, 'elephant': 345, 'e': 346, 'f': 347, ':f': 348, 'four': 349, 'fluffy': 350, 'feathers': 351, 'fiffer': 352, 'feffer': 353, 'feff': 354, 'abcdeg': 355, 'goat': 356, 'girl': 357, 'googoo': 358, 'goggles': 359, 'g': 360, ':g': 361, 'h': 362, 'hungry': 363, 'horse': 364, 'hay': 365, 'hen': 366, 'hat': 367, ':i': 368, 'icabod': 369, 'itchy': 370, 'j': 371, 'jerry': 372, 'jordans': 373, 'jelly': 374, 'jar': 375, 'jam': 376, 'k': 377, 'kitten': 378, 'kangaroo': 379, 'kick': 380, 'ketlle': 381, 'kite': 382, 'kerchoo': 383, 'l': 384, 'lola': 385, 'lopp': 386, 'left': 387, 'leg': 388, 'lazy': 389, 'lion': 390, 'licks': 391, 'lollipop': 392, 'm': 393, 'many': 394, 'mumbling': 395, 'mice': 396, 'making': 397, 'midnight': 398, 'music': 399, 'moonlight': 400, ':mighty': 401, 'n': 402, 'neckties': 403, 'nigthshirt': 404, 'nose': 405, 'o': 406, 'very': 407, 'useful': 408, 'use': 409, 'when': 410, 'oscar': 411, 's': 412, 'ostrich': 413, 'oiled': 414, 'an': 415, 'orange': 416, 'owl': 417, 'today': 418, 'abcdefghijklmno': 419, ':p': 420, 'painting': 421, 'pink': 422, 'pajamas': 423, 'police': 424, 'pail': 425, 'peter': 426, 'peppers': 427, 'puppy': 428, 'papas': 429, 'q': 430, 'quick': 431, 'queen': 432, 'quincy': 433, 'her': 434, 'quacking': 435, 'quacker': 436, 'oo': 437, 'r': 438, 'rosy': 439, 'robin': 440, 'ross': 441, 'rosys': 442, 'going': 443, 'riding': 444, 'red': 445, 'rhinoceros': 446, 'silly': 447, 'sammy': 448, 'slick': 449, 'sipped': 450, 'sodas': 451, 'sick': 452, 't': 453, ':t': 454, 'ten': 455, 'tired': 456, 'tuttle': 457, 'tree': 458, 'u': 459, 'uncle': 460, 'ubbs': 461, 'umbrella': 462, 'underwear': 463, 'v': 464, 'vera': 465, 'violet': 466, 'vinn': 467, 'awful': 468, 'violin': 469, 'w': 470, ':w': 471, 'willy': 472, 'waterloo': 473, 'washes': 474, 'warren': 475, 'wiggins': 476, 'who': 477, 'washing': 478, 'waldo': 479, 'woo': 480, 'x': 481, 'nixie': 482, 'knox': 483, 'also': 484, 'comes': 485, 'handy': 486, 'spelling': 487, 'ax': 488, 'extre': 489, 'fox': 490, 'y': 491, 'lttle': 492, 'yawing': 493, 'yellow': 494, 'yak': 495, 'young': 496, 'yolanda': 497, 'yorgenson': 498, 'yelling': 499, 'abcdefg': 500, ':hijklmnop': 501, ':qrstuv': 502, ':xy': 503, 'z': 504, 'zizzer': 505, 'zazzer': 506, 'zuzz': 507, 'plainly': 508, 'sneetches': 509, 'star': 510, 'belly': 511, 'bellies': 512, 'stars': 513, 'none': 514, 'upon': 515, 'thars': 516, 'those': 517, 'werent': 518, 'really': 519, 'think': 520, 'such': 521, 'wouldnt': 522, 'matter': 523, 'because': 524, 'would': 525, 'brag': 526, 'best': 527, 'kind': 528, 'sneetch': 529, 'beaches': 530, 'their': 531, 'snoots': 532, 'sniff': 533, 'theyd': 534, 'snort': 535, 'sort': 536, 'whenever': 537, 'met': 538, 'out': 539, 'walking': 540, 'hike': 541, 'past': 542, 'without': 543, 'even': 544, 'talking': 545, 'children': 546, 'went': 547, 'play': 548, 'ball': 549, 'get': 550, 'game': 551, 'frankfurter': 552, 'roasts': 553, 'or': 554, 'picnics': 555, 'parties': 556, 'marshmallow': 557, 'toasts': 558, 'never': 559, 'invited': 560, 'cold': 561, 'dark': 562, 'kept': 563, 'let': 564, 'come': 565, 'near': 566, 'treated': 567, 'year': 568, 'day': 569, 'seems': 570, 'moping': 571, 'doping': 572, 'alone': 573, 'sitting': 574, 'wishing': 575, 'stranger': 576, 'zipped': 577, 'strangest': 578, 'cars': 579, 'friends': 580, 'announced': 581, 'clear': 582, 'keen': 583, 'sylvester': 584, 'mcmonkey': 585, 'mcbean': 586, 'troubles': 587, 'unhappy': 588, 'fix': 589, 'chappie': 590, 'help': 591, 'prices': 592, 'work': 593, 'speed': 594, 'percent': 595, 'guaranteed': 596, 'quickly': 597, 'put': 598, 'together': 599, 'peculiar': 600, 'machine': 601, 'three': 602, 'dollars': 603, 'pay': 604, 'money': 605, 'hop': 606, 'aboard': 607, 'clambered': 608, 'inside': 609, 'roared': 610, 'klonked': 611, 'bonked': 612, 'jerked': 613, 'berked': 614, 'bopped': 615, 'worked': 616, 'popped': 617, 'actually': 618, 'yelled': 619, 'start': 620, 'exactly': 621, 'tell': 622, 'us': 623, 'apart': 624, 'same': 625, 'snooty': 626, 'old': 627, 'smarties': 628, 'good': 629, 'grief': 630, 'first': 631, 'worst': 632, 'world': 633, 'frowned': 634, 'which': 635, 'other': 636, 'round': 637, 'sly': 638, 'wink': 639, 'bad': 640, 'whos': 641, 'perfectly': 642, 'true': 643, 'make': 644, 'cost': 645, 'eaches': 646, 'longer': 647, 'style': 648, 'trip': 649, 'wondrous': 650, 'contraption': 651, 'take': 652, 'wont': 653, 'working': 654, 'precisely': 655, 'removed': 656, 'tummies': 657, 'nicely': 658, 'paraded': 659, 'opened': 660, 'beaks': 661, 'shout': 662, 'doubt': 663, 'frightfully': 664, 'wearing': 665, 'into': 666, 'probably': 667, 'guess': 668, 'horrible': 669, 'mess': 670, 'rest': 671, 'wild': 672, 'screaming': 673, 'fixing': 674, 'machines': 675, 'raced': 676, 'changing': 677, 'every': 678, 'minute': 679, 'paying': 680, 'running': 681, 'neither': 682, 'nor': 683, 'knew': 684, 'whether': 685, 'last': 686, 'cent': 687, 'spent': 688, 'packed': 689, 'laughed': 690, 'drove': 691, 'car': 692, 'beach': 693, 'learn': 694, 'teach': 695, 'wrong': 696, 'smart': 697, 'forgot': 698, 'socks': 699, 'dr': 700, 'seuss': 701, 'box': 702, 'chicks': 703, 'bricks': 704, 'blocks': 705, 'clocks': 706, 'sir': 707, 'mr': 708, 'lets': 709, 'tricks': 710, 'trick': 711, 'brick': 712, 'block': 713, 'chick': 714, 'clock': 715, 'heres': 716, 'ticks': 717, 'tocks': 718, 'try': 719, 'tick': 720, 'tock': 721, 'tongue': 722, 'mixed': 723, 'sorry': 724, 'easy': 725, 'sues': 726, 'sews': 727, 'sue': 728, 'sees': 729, 'sew': 730, 'crow': 731, 'slow': 732, 'joe': 733, 'crows': 734, 'clothes': 735, 'rose': 736, 'hose': 737, 'goes': 738, 'grows': 739, 'hate': 740, 'makes': 741, 'lame': 742, 'shame': 743, 'find': 744, 'something': 745, 'lots': 746, 'blue': 747, 'goo': 748, 'gooey': 749, 'gluey': 750, 'chewy': 751, 'chewing': 752, 'goose': 753, 'doing': 754, 'choose': 755, 'chew': 756, 'step': 757, 'bim': 758, 'ben': 759, 'brings': 760, 'broom': 761, 'bends': 762, 'bims': 763, 'bens': 764, 'bent': 765, 'breaks': 766, 'band': 767, 'bands': 768, 'pig': 769, 'lead': 770, 'brooms': 771, 'bangs': 772, 'booms': 773, 'boom': 774, 'bring': 775, 'luke': 776, 'luck': 777, 'likes': 778, 'lakes': 779, 'lukes': 780, 'lucks': 781, 'takes': 782, 'blab': 783, 'blibber': 784, 'blubber': 785, 'rubber': 786, 'dumb': 787, 'cheese': 788, 'fleas': 789, 'flew': 790, 'freezy': 791, 'breeze': 792, 'blew': 793, 'freeze': 794, 'sneeze': 795, 'stop': 796, 'stuff': 797, 'tweetle': 798, 'beetles': 799, 'fight': 800, 'its': 801, 'called': 802, 'beetle': 803, 'battle': 804, 'puddle': 805, 'paddles': 806, 'paddle': 807, 'bottle': 808, ':they': 809, 'muddle': 810, 'battles': 811, 'bottles': 812, 'poodle': 813, 'poodles': 814, 'eating': 815, 'noodles': 816, 'noodle': 817, 'wait': 818, 'where': 819, 'bottled': 820, 'paddled': 821, 'muddled': 822, 'duddled': 823, 'fuddled': 824, 'wuddled': 825, 'done': 826, 'thank': 827, 'lot': 828, 'fun': 829, 'pup': 830, 'cup': 831, 'mouse': 832, 'tall': 833, 'wall': 834, 'fall': 835, 'night': 836, ':he': 837, 'him': 838, 'jim': 839, 'bee': 840, 'fish': 841, 'bed': 842, 'ned': 843, 'ted': 844, 'ed': 845, 'pat': 846, 'bat': 847, 'don': 848, 'sad': 849, 'dad': 850, ':thing': 851, 'sing': 852, 'song': 853, 'walk': 854, 'pop': 855, 'brown': 856, 'mrs': 857, 'upside': 858, 'town': 859, 'black': 860, ':brown': 861, 'snack': 862, 'jump': 863, 'bump': 864, 'jumped': 865, 'bumped': 866, 'fast': 867, 'tent': 868, 'sent': 869, 'wet': 870, 'dogs': 871, 'yelp': 872, 'hill': 873, 'father': 874, 'mother': 875, 'sister': 876, 'brother': 877, 'brothers': 878, 'read': 879, 'words': 880, 'constantinople': 881, 'timbuktu': 882, 'does': 883, 'seehemewepatpup': 884, 'hethreetreebee': 885, 'tophopstop': 886, 'ask': 887, 'tomorrow': 888, 'horton': 889, 'hears': 890, '15th': 891, 'may': 892, 'jungle': 893, 'nool': 894, 'heat': 895, 'cool': 896, 'pool': 897, 'splashing': 898, 'enjoying': 899, 'joys': 900, 'noise': 901, 'stopped': 902, 'toward': 903, 'sound': 904, 'funny': 905, 'thought': 906, 'around': 907, 'tiny': 908, 'person': 909, 'calling': 910, 'il': 911, 'speck': 912, 'dust': 913, 'blowing': 914, 'murmured': 915, 'ie': 916, 'able': 917, 'yell': 918, 'why': 919, 'someone': 920, 'creature': 921, 'size': 922, 'seen': 923, 'eyes': 924, 'shaking': 925, 'fear': 926, 'hel': 927, 'blow': 928, 'has': 929, 'steer': 930, 'save': 931, 'gently': 932, 'greatest': 933, 'care': 934, 'stretched': 935, 'trunk': 936, 'th': 937, 'persons': 938, 'harm': 939, 'won': 940, 'barley': 941, 'hear': 942, 'speak': 943, 'friend': 944, 'youe': 945, 'fine': 946, 'helped': 947, 'folks': 948, 'saved': 949, 'houses': 950, 'ceilings': 951, 'floors': 952, 'churches': 953, 'grocery': 954, 'stores': 955, 'mean': 956, 'gasped': 957, 'buildings': 958, 'yes': 959, 'piped': 960, 'certainly': 961, 'mayor': 962, 'friendly': 963, 'seem': 964, 'terribly': 965, 'aren': 966, 'wonderfully': 967, 'ville': 968, 'thankful': 969, 'grateful': 970, 'safe': 971, 'worry': 972, 'spoke': 973, 'monkeys': 974, 'neck': 975, 'wickersham': 976, 'rot': 977, 'any': 978, 'wee': 979, 'nonsense': 980, 'snatched': 981, 'clover': 982, 'carried': 983, 'bottomed': 984, 'eagle': 985, 'vlad': 986, 'koff': 987, 'strong': 988, 'swift': 989, 'wing': 990, 'kindly': 991, 'rid': 992, 'before': 993, 'flower': 994, 'beak': 995, 'latte': 996, 'afternoon': 997, 'bird': 998, 'flapped': 999, 'wings': 1000, 'flight': 1001, 'chased': 1002, 'groans': 1003, 'stones': 1004, 'tattered': 1005, 'toenails': 1006, 'battered': 1007, 'bones': 1008, 'begged': 1009, 'live': 1010, 'bigger': 1011, 'flapping': 1012, 'shoulder': 1013, 'quit': 1014, 'yapping': 1015, 'fly': 1016, 'mind': 1017, 'hide': 1018, 'youl': 1019, '6': 1020, '56': 1021, 'next': 1022, 'sure': 1023, 'terrible': 1024, 'hid': 1025, 'drop': 1026, 'somewhere': 1027, 'patch': 1028, 'clovers': 1029, 'wide': 1030, 'sneered': 1031, 'fail': 1032, 'flip': 1033, 'blackbottomed': 1034, 'tail': 1035, 'bust': 1036, 'picked': 1037, 'searched': 1038, 'found': 1039, 'sough': 1040, 'dead': 1041, 'alive': 1042, 'hour': 1043, 'till': 1044, 'millionth': 1045, 'share': 1046, 'birdie': 1047, 'dropped': 1048, 'landed': 1049, 'hard': 1050, 'tea': 1051, 'pots': 1052, 'broken': 1053, 'rocking': 1054, 'chairs': 1055, 'smashed': 1056, 'bicycle': 1057, 'crashed': 1058, 'pleaded': 1059, 'stick': 1060, 'repairs': 1061, 'answered': 1062, 'thin': 1063, 'thick': 1064, 'humpf': 1065, 'humpfed': 1066, 'almost': 1067, 'days': 1068, 'run': 1069, 'insisted': 1070, 'chatting': 1071, 'whoe': 1072, 'existed': 1073, 'carryings': 1074, 'peaceable': 1075, 'bellowing': 1076, 'bungle': 1077, 'state': 1078, 'nonsensical': 1079, 'pouch': 1080, 'laws': 1081, 'engaged': 1082, 'roped': 1083, 'caged': 1084, 'speckhah': 1085, 'boil': 1086, 'hot': 1087, 'steaming': 1088, 'kettle': 1089, 'beezle': 1090, 'nut': 1091, 'oil': 1092, 'full': 1093, 'theyl': 1094, 'prove': 1095, 'meeting': 1096, 'everyone': 1097, 'holler': 1098, 'scream': 1099, 'stew': 1100, 'scared': 1101, 'square': 1102, 'people': 1103, 'loudly': 1104, 'smiled': 1105, 'bell': 1106, 'kangaroos': 1107, 'surely': 1108, 'wind': 1109, 'distant': 1110, 'voices': 1111, 'didn': 1112, 'either': 1113, 'grab': 1114, 'cage': 1115, 'dope': 1116, 'lasso': 1117, 'stomach': 1118, 'rope': 1119, 'tie': 1120, 'knots': 1121, 'tight': 1122, 'shake': 1123, 'loose': 1124, 'dunk': 1125, 'juice': 1126, 'fought': 1127, 'vigor': 1128, 'vim': 1129, 'gang': 1130, 'beat': 1131, 'mauled': 1132, 'haul': 1133, 'managed': 1134, 'believe': 1135, 'die': 1136, 'yourselves': 1137, 'grabbed': 1138, 'tom': 1139, 'smack': 1140, 'whooped': 1141, 'racket': 1142, 'rattled': 1143, 'tin': 1144, 'kettles': 1145, 'brass': 1146, 'pans': 1147, 'garbage': 1148, 'tops': 1149, 'cranberry': 1150, 'cans': 1151, 'bazookas': 1152, 'blasted': 1153, 'toots': 1154, 'clarinets': 1155, 'oompahs': 1156, 'pahs': 1157, 'flutes': 1158, 'gusts': 1159, 'loud': 1160, 'rang': 1161, 'howling': 1162, 'hullabaloo': 1163, 'hey': 1164, 'coming': 1165, 'kangaroos’': 1166, 'ears': 1167, 'boys': 1168, 'anyone': 1169, 'shirking': 1170, 'rushed': 1171, 'east': 1172, 'west': 1173, 'seemed': 1174, 'yipping': 1175, 'beeping': 1176, 'bipping': 1177, 'wasn': 1178, 'ruckus': 1179, 'roar': 1180, 'building': 1181, 'floor': 1182, 'felt': 1183, 'getting': 1184, 'nowhere': 1185, 'despair': 1186, 'suddenly': 1187, 'burst': 1188, 'door': 1189, 'discovered': 1190, 'shirker': 1191, 'hidden': 1192, 'fairfax': 1193, 'apartments': 1194, 'apartment': 1195, '12': 1196, 'jo': 1197, 'standing': 1198, 'bouncing': 1199, 'yo': 1200, 'yipp': 1201, 'chirp': 1202, 'greabbed': 1203, 'twerp': 1204, 'eiffelberg': 1205, 'tower': 1206, 'darkest': 1207, 'time': 1208, 'blood': 1209, 'aid': 1210, 'country': 1211, 'noises': 1212, 'amounts': 1213, 'open': 1214, 'counts': 1215, 'thus': 1216, 'cleared': 1217, 'throat': 1218, 'yopp': 1219, 'extra': 1220, 'finally': 1221, 'theye': 1222, 'proved': 1223, 'smallest': 1224, 'planning': 1225, 'protect': 1226, 'sun': 1227, 'summer': 1228, 'rain': 1229, 'ish': 1230, 'grinch': 1231, 'stole': 1232, 'christmas': 1233, 'suess': 1234, 'whoville': 1235, 'liked': 1236, 'grinchwho': 1237, 'lived': 1238, 'north': 1239, 'hated': 1240, 'season': 1241, 'knows': 1242, 'reason': 1243, 'wasnt': 1244, 'screwed': 1245, 'perhaps': 1246, 'shoes': 1247, 'likely': 1248, 'been': 1249, 'heart': 1250, 'sizes': 1251, 'whatever': 1252, 'stood': 1253, 'eve': 1254, 'hating': 1255, 'staring': 1256, 'cave': 1257, 'sour': 1258, 'grinchy': 1259, 'lighted': 1260, 'windows': 1261, 'beneath': 1262, 'busy': 1263, 'hanging': 1264, 'mistletoe': 1265, 'wreath': 1266, 'theyre': 1267, 'stockings': 1268, 'snarled': 1269, 'sneer': 1270, 'practically': 1271, 'growled': 1272, 'fingers': 1273, 'nervously': 1274, 'drumming': 1275, 'girls': 1276, 'wake': 1277, 'bright': 1278, 'early': 1279, 'rush': 1280, 'toys': 1281, 'feast': 1282, 'pudding': 1283, 'rare': 1284, 'roast': 1285, 'beast': 1286, 'couldnt': 1287, 'least': 1288, 'close': 1289, 'bells': 1290, 'ringing': 1291, 'singing': 1292, 'christmassing': 1293, 'fifty': 1294, 'years': 1295, 'idea': 1296, 'santy': 1297, 'claus': 1298, 'coat': 1299, 'chuckled': 1300, 'clucked': 1301, 'saint': 1302, 'nick': 1303, 'reindeer': 1304, 'since': 1305, 'scarce': 1306, 'simply': 1307, 'instead': 1308, 'max': 1309, 'took': 1310, 'thread': 1311, 'tied': 1312, 'horn': 1313, 'loaded': 1314, 'bags': 1315, 'empty': 1316, 'sacks': 1317, 'ramshackle': 1318, 'sleigh': 1319, 'hitched': 1320, 'giddap': 1321, 'homes': 1322, 'lay': 1323, 'asnooze': 1324, 'quiet': 1325, 'snow': 1326, 'filled': 1327, 'dreaming': 1328, 'sweet': 1329, 'dreams': 1330, 'number': 1331, 'hissed': 1332, 'roof': 1333, 'fist': 1334, 'slid': 1335, 'chimney': 1336, 'rather': 1337, 'pinch': 1338, 'santa': 1339, 'stuck': 1340, 'once': 1341, 'moment': 1342, 'fireplace': 1343, 'flue': 1344, 'hung': 1345, 'row': 1346, 'grinned': 1347, 'slithered': 1348, 'slunk': 1349, 'smile': 1350, 'unpleasant': 1351, 'room': 1352, 'present': 1353, 'guns': 1354, 'bicycles': 1355, 'roller': 1356, 'skates': 1357, 'drums': 1358, 'checkerboards': 1359, 'tricycles': 1360, 'popcorn': 1361, 'plums': 1362, 'stuffed': 1363, 'nimbly': 1364, 'icebox': 1365, 'cleaned': 1366, 'flash': 1367, 'hash': 1368, 'glee': 1369, 'shove': 1370, 'coo': 1371, 'dove': 1372, 'turned': 1373, 'cindy': 1374, 'lou': 1375, 'caught': 1376, 'daughter': 1377, 'whod': 1378, 'she': 1379, 'stared': 1380, 'taking': 1381, 'lie': 1382, 'tot': 1383, 'fake': 1384, 'lied': 1385, 'light': 1386, 'side': 1387, 'home': 1388, 'workshop': 1389, 'dear': 1390, 'fib': 1391, 'fooled': 1392, 'child': 1393, 'patted': 1394, 'drink': 1395, 'cindylou': 1396, 'log': 1397, 'fire': 1398, 'himself': 1399, 'liar': 1400, 'walls': 1401, 'hooks': 1402, 'wire': 1403, 'crumb': 1404, 'leaving': 1405, 'crumbs': 1406, 'mouses': 1407, 'quarter': 1408, 'dawn': 1409, 'sled': 1410, 'presents': 1411, 'ribbons': 1412, 'wrappings': 1413, 'tags': 1414, 'tinsel': 1415, 'trimmings': 1416, 'trappings': 1417, 'feet': 1418, 'mt': 1419, 'crumpit': 1420, 'rode': 1421, 'load': 1422, 'tiptop': 1423, 'dump': 1424, 'poohpooh': 1425, 'grinchishly': 1426, 'humming': 1427, 'finding': 1428, 'waking': 1429, 'theyll': 1430, 'mouths': 1431, 'hang': 1432, 'cry': 1433, 'boohoo': 1434, 'paused': 1435, 'rising': 1436, 'grow': 1437, 'sounded': 1438, 'merry': 1439, 'shocking': 1440, 'surprise': 1441, 'hadnt': 1442, 'somehow': 1443, 'ice': 1444, 'puzzling': 1445, 'packages': 1446, 'boxes': 1447, 'puzzled': 1448, 'hours': 1449, 'puzzler': 1450, 'sore': 1451, 'doesnt': 1452, 'store': 1453, ':perhaps': 1454, ':means': 1455, 'happened': 1456, ':in': 1457, 'grinchs': 1458, 'grew': 1459, 'didnt': 1460, 'feel': 1461, 'whizzed': 1462, 'brought': 1463, 'carved': 1464, 'butter': 1465, 'book': 1466, 'grandfather': 1467, 'silent': 1468, 'yooks': 1469, 'zooks': 1470, 'zook': 1471, 'eats': 1472, 'bread': 1473, 'breakfast': 1474, 'sup': 1475, 'spread': 1476, 'grandpa': 1477, 'honest': 1478, 'gritted': 1479, 'teeth': 1480, 'trust': 1481, 'spreads': 1482, 'underneath': 1483, 'watched': 1484, 'kinks': 1485, 'soul': 1486, 'youth': 1487, 'watching': 1488, 'goal': 1489, 'border': 1490, 'patrol': 1491, 'eye': 1492, 'dared': 1493, 'twitch': 1494, 'tough': 1495, 'tufted': 1496, 'prickely': 1497, 'snick': 1498, 'berry': 1499, 'switch': 1500, 'stayed': 1501, 'rude': 1502, 'vanitch': 1503, 'snuck': 1504, 'slingshotted': 1505, 'chief': 1506, 'lookeroo': 1507, 'sorrow': 1508, 'leader': 1509, 'blame': 1510, 'wel': 1511, 'dress': 1512, 'fancier': 1513, 'suit': 1514, 'slingshot': 1515, 'shoot': 1516, 'figger': 1517, 'triple': 1518, 'sling': 1519, 'jigger': 1520, 'marched': 1521, 'trigger': 1522, 'sickly': 1523, 'ran': 1524, 'spiffy': 1525, 'looking': 1526, 'fling': 1527, 'rocks': 1528, 'weapon': 1529, 'rock': 1530, 'snatchem': 1531, 'catch': 1532, 'gupp': 1533, 'failed': 1534, 'sobbed': 1535, 'report': 1536, 'yookeroo': 1537, 'headquarters': 1538, 'fort': 1539, 'slingshots': 1540, 'fashioned': 1541, 'boy': 1542, 'modern': 1543, 'newfangled': 1544, 'gun': 1545, 'already': 1546, 'begun': 1547, 'walloping': 1548, 'whiz': 1549, 'zinger': 1550, 'thinking': 1551, 'track': 1552, 'send': 1553, 'powder': 1554, 'ant': 1555, 'eggs': 1556, 'bees’': 1557, 'legs': 1558, 'dried': 1559, 'fried': 1560, 'clam': 1561, 'chowder': 1562, 'carefully': 1563, 'trained': 1564, 'real': 1565, 'daniel': 1566, 'serve': 1567, 'toting': 1568, 'spaniel': 1569, 'poo': 1570, 'heads': 1571, 'held': 1572, 'gigh': 1573, 'cheered': 1574, 'cheers': 1575, 'worsted': 1576, 'invented': 1577, 'rig': 1578, 'eight': 1579, 'nozzled': 1580, 'toted': 1581, 'blitz': 1582, 'shoots': 1583, 'explosive': 1584, 'cherry': 1585, 'pits': 1586, 'kid': 1587, 'fritz': 1588, 'witz': 1589, 'bested': 1590, 'limped': 1591, 'defeat': 1592, 'dragged': 1593, 'sagged': 1594, 'spirits': 1595, 'ever': 1596, 'bah': 1597, 'diddle': 1598, 'dee': 1599, 'dill': 1600, 'meet': 1601, 'along': 1602, 'greet': 1603, 'sang': 1604, 'faithful': 1605, 'thy': 1606, 'gutter': 1607, 'voted': 1608, 'general': 1609, 'promoted': 1610, 'pretty': 1611, 'uniform': 1612, 'ready': 1613, 'war': 1614, 'begin': 1615, 'certain': 1616, 'win': 1617, 'puttered': 1618, 'clobber': 1619, 'putter': 1620, 'utterly': 1621, 'sputter': 1622, 'aflutter': 1623, 'steered': 1624, 'several': 1625, 'faucets': 1626, 'sprinkled': 1627, 'sprinkle': 1628, 'gum': 1629, 'racing': 1630, 'pell': 1631, 'mell': 1632, 'gooer': 1633, 'forget': 1634, 'cause': 1635, 'guessed': 1636, 'downright': 1637, 'despondent': 1638, 'disturbed': 1639, 'depressed': 1640, 'soon': 1641, 'drum': 1642, 'majorette': 1643, 'miz': 1644, 'yookie': 1645, 'ann': 1646, 'office': 1647, 'sight': 1648, 'fears': 1649, 'brighter': 1650, 'gadget': 1651, 'newer': 1652, 'mysterious': 1653, 'moo': 1654, 'lacka': 1655, 'bitsy': 1656, 'boomeroo': 1657, 'man': 1658, 'bomb': 1659, 'underground': 1660, 'noticed': 1661, 'yook': 1662, 'obeying': 1663, 'grim': 1664, 'bravely': 1665, 'marching': 1666, 'banners': 1667, 'hole': 1668, 'history': 1669, 'leapt': 1670, 'lopulous': 1671, 'leap': 1672, 'clearedhis': 1673, 'harse': 1674, 'bopulous': 1675, 'beep': 1676, 'screamed': 1677, 'instant': 1678, 'klupp': 1679, 'klupped': 1680, 'pork': 1681, 'beans': 1682, 'smithereens': 1683, 'careful': 1684, 'gee': 1685, 'patient': 1686, 'youll': 1687, 'congratulations': 1688, 'brains': 1689, 'yourself': 1690, 'direction': 1691, 'own': 1692, 'guy': 1693, 'wholl': 1694, 'decide': 1695, 'streets': 1696, 'street': 1697, 'case': 1698, 'straight': 1699, 'opener': 1700, 'happen': 1701, 'frequently': 1702, 'brainy': 1703, 'footsy': 1704, 'happening': 1705, 'join': 1706, 'fliers': 1707, 'soar': 1708, 'heights': 1709, 'lag': 1710, 'behind': 1711, 'pass': 1712, 'wherever': 1713, 'except': 1714, 'sometimes': 1715, 'sadly': 1716, 'bang': 1717, 'ups': 1718, 'prickle': 1719, 'ly': 1720, 'perch': 1721, 'lurch': 1722, 'chances': 1723, 'slump': 1724, 'un': 1725, 'slumping': 1726, 'easily': 1727, 'marked': 1728, 'mostly': 1729, 'darked': 1730, 'sprain': 1731, 'both': 1732, 'elbow': 1733, 'chin': 1734, 'dare': 1735, 'lose': 1736, 'turn': 1737, 'quarters': 1738, 'sneak': 1739, 'simple': 1740, 'maker': 1741, 'upper': 1742, 'confused': 1743, 'race': 1744, 'wiggled': 1745, 'roads': 1746, 'break': 1747, 'necking': 1748, 'pace': 1749, 'grind': 1750, 'cross': 1751, 'weirdish': 1752, 'space': 1753, 'headed': 1754, 'useless': 1755, 'waiting': 1756, ':for': 1757, 'train': 1758, 'bus': 1759, 'plane': 1760, 'mail': 1761, 'phone': 1762, 'ring': 1763, 'hair': 1764, 'bite': 1765, 'friday': 1766, 'jake': 1767, 'pot': 1768, 'string': 1769, 'pearls': 1770, 'pair': 1771, 'pants': 1772, 'wig': 1773, 'curls': 1774, 'chance': 1775, 'escape': 1776, 'staying': 1777, 'playing': 1778, 'banner': 1779, 'ride': 1780, 'anything': 1781, 'under': 1782, 'points': 1783, 'scored': 1784, 'games': 1785, 'magical': 1786, 'winning': 1787, 'est': 1788, 'winner': 1789, 'fame': 1790, 'famous': 1791, 'tv': 1792, 'times': 1793, 'lonely': 1794, 'against': 1795, 'scare': 1796, 'road': 1797, 'between': 1798, 'hither': 1799, 'yon': 1800, 'though': 1801, 'weather': 1802, 'foul': 1803, 'enemies': 1804, 'prowl': 1805, 'hakken': 1806, 'kraks': 1807, 'howl': 1808, 'onward': 1809, 'frightening': 1810, 'creek': 1811, 'arms': 1812, 'sneakers': 1813, 'leak': 1814, 'face': 1815, 'problems': 1816, 'strange': 1817, 'tact': 1818, 'remember': 1819, 'lifes': 1820, 'balancing': 1821, 'act': 1822, 'foget': 1823, 'dexterous': 1824, 'deft': 1825, 'mix': 1826, 'foot': 1827, 'succeed': 1828, '98': 1829, '3': 1830, '4': 1831, 'move': 1832, 'mountains': 1833, 'buxbaum': 1834, 'bixby': 1835, 'bray': 1836, 'mordecai': 1837, 'ali': 1838, 'van': 1839, 'allen': 1840, 'oshea': 1841, 'mountain': 1842, ':get': 1843, 'lorax': 1844, 'grickle': 1845, 'grass': 1846, 'smells': 1847, 'blows': 1848, 'excepting': 1849, 'deep': 1850, 'somebody': 1851, 'ler': 1852, 'lives': 1853, 'knock': 1854, 'stays': 1855, 'lerkim': 1856, 'lurks': 1857, 'miff': 1858, 'muffered': 1859, 'moof': 1860, 'special': 1861, 'dank': 1862, 'midnights': 1863, 'august': 1864, 'peeks': 1865, 'shutters': 1866, 'speaks': 1867, 'tells': 1868, 'hell': 1869, 'willing': 1870, 'toss': 1871, 'fifteen': 1872, 'cents': 1873, 'nail': 1874, 'shell': 1875, 'greatgrandfather': 1876, 'snail': 1877, 'pulls': 1878, 'count': 1879, 'paid': 1880, 'proper': 1881, 'amount': 1882, 'hides': 1883, 'snuvv': 1884, 'secret': 1885, 'gruvvulous': 1886, 'glove': 1887, 'grunts': 1888, 'whisper': 1889, 'secrets': 1890, 'slupp': 1891, 'slupps': 1892, 'lers': 1893, 'whispers': 1894, 'snergelly': 1895, 'sounds': 1896, 'smallish': 1897, 'youhe': 1898, 'says': 1899, 'sounding': 1900, 'gray': 1901, 'green': 1902, 'swomee': 1903, 'swans': 1904, 'glorious': 1905, 'truffula': 1906, 'colored': 1907, 'tufts': 1908, 'fresh': 1909, 'bar': 1910, 'ba': 1911, 'loots': 1912, 'frisking': 1913, 'loot': 1914, 'suits': 1915, 'played': 1916, 'shade': 1917, 'ate': 1918, 'fruits': 1919, 'rippulous': 1920, 'comfortable': 1921, 'life': 1922, 'searching': 1923, 'touch': 1924, 'softer': 1925, 'silk': 1926, 'smell': 1927, 'butterfly': 1928, 'milk': 1929, 'leaping': 1930, 'joy': 1931, 'unloaded': 1932, 'cart': 1933, 'shop': 1934, 'chopped': 1935, 'chop': 1936, 'skillful': 1937, 'skill': 1938, 'speedy': 1939, 'soft': 1940, 'tuft': 1941, 'knitted': 1942, 'thneed': 1943, 'finished': 1944, 'ga': 1945, 'zump': 1946, 'stump': 1947, 'describe': 1948, 'shortish': 1949, 'oldish': 1950, 'brownish': 1951, 'mossy': 1952, 'sharpish': 1953, 'bossy': 1954, 'mister': 1955, 'sawdusty': 1956, 'tongues': 1957, 'asking': 1958, 'lungs': 1959, 'upset': 1960, 'puffed': 1961, ':theres': 1962, 'alarm': 1963, 'being': 1964, 'thneeds': 1965, 'shirt': 1966, 'sock': 1967, 'uses': 1968, 'carpets': 1969, 'pillows': 1970, 'sheets': 1971, 'curtains': 1972, 'covers': 1973, 'seats': 1974, 'crazy': 1975, 'greed': 1976, 'earth': 1977, 'buy': 1978, 'fool': 1979, 'chap': 1980, 'happily': 1981, 'bought': 1982, 'ninety': 1983, 'stupid': 1984, 'repeat': 1985, 'told': 1986, 'shut': 1987, 'radio': 1988, 'aunts': 1989, 'listen': 1990, 'family': 1991, 'rich': 1992, 'nitch': 1993, 'weehawken': 1994, 'sharp': 1995, 'south': 1996, 'stitch': 1997, 'factory': 1998, 'tilt': 1999, 'knitting': 2000, 'chopping': 2001, 'business': 2002, 'super': 2003, 'axe': 2004, 'hacker': 2005, 'whacked': 2006, 'smacker': 2007, 'show': 2008, 'week': 2009, 'knocked': 2010, 'charge': 2011, 'thanks': 2012, 'hacking': 2013, 'ground': 2014, 'enought': 2015, 'fruit': 2016, 'crummies': 2017, 'gas': 2018, 'loved': 2019, 'living': 2020, 'hope': 2021, 'regardless': 2022, 'meant': 2023, 'truly': 2024, ':so': 2025, 'biggered': 2026, 'wagons': 2027, 'loads': 2028, 'shipped': 2029, 'shipping': 2030, 'forth': 2031, 'biggering': 2032, 'selling': 2033, 'needs': 2034, 'pipes': 2035, 'nuisance': 2036, 'gripes': 2037, 'coughed': 2038, 'whiffed': 2039, 'sneezed': 2040, 'snuffled': 2041, 'snarggled': 2042, 'sniffed': 2043, 'cruffulous': 2044, 'croak': 2045, 'smogulous': 2046, 'smoke': 2047, 'note': 2048, 'smog': 2049, 'coughthey': 2050, 'sending': 2051, 'hopefully': 2052, 'month': 2053, 'smogged': 2054, 'dander': 2055, 'few': 2056, 'gluppity': 2057, 'glupp': 2058, 'chugs': 2059, 'schloppity': 2060, 'schlopp': 2061, 'leftover': 2062, 'dirty': 2063, 'glumping': 2064, 'hummed': 2065, 'hum': 2066, 'gills': 2067, 'gummed': 2068, 'future': 2069, 'dreary': 2070, 'fins': 2071, 'woefully': 2072, 'weary': 2073, 'search': 2074, 'smeary': 2075, 'yap': 2076, 'telling': 2077, 'intend': 2078, 'information': 2079, 'figgering': 2080, 'andbiggering': 2081, 'turning': 2082, 'whack': 2083, 'outside': 2084, 'fields': 2085, 'sickening': 2086, 'waved': 2087, 'bye': 2088, 'smuggered': 2089, 'neath': 2090, 'smelling': 2091, 'glance': 2092, 'backward': 2093, 'seat': 2094, 'heisted': 2095, 'leave': 2096, 'trace': 2097, 'word': 2098, 'unless': 2099, 'ago': 2100, 'worried': 2101, 'fallen': 2102, 'cares': 2103, 'calls': 2104, 'seed': 2105, 'seeds': 2106, 'plant': 2107, ':treat': 2108, 'feed': 2109, 'forest': 2110, 'axes': 2111, 'hack': 2112, 'sam': 2113, 'ham': 2114, 'anywhere': 2115, 'mot': 2116, 'boat': 2117, 'mulberry': 2118, 'school': 2119, 'always': 2120, 'marco': 2121, 'keep': 2122, 'eyelids': 2123, 'looks': 2124, 'sternly': 2125, 'eyesights': 2126, 'outlandish': 2127, 'tales': 2128, 'minnows': 2129, 'whales': 2130, 'wagon': 2131, 'drawn': 2132, 'story': 2133, 'zebra': 2134, 'pulling': 2135, 'tame': 2136, 'driver': 2137, 'charioteer': 2138, 'gold': 2139, 'chariots': 2140, 'rumbling': 2141, 'thunder': 2142, 'zebras': 2143, 'hes': 2144, 'fleet': 2145, 'hold': 2146, 'hates': 2147, 'feels': 2148, 'pull': 2149, 'runs': 2150, 'wheels': 2151, 'happier': 2152, 'fancy': 2153, 'hmmm': 2154, 'jack': 2155, 'fred': 2156, 'nat': 2157, 'jane': 2158, 'late': 2159, 'change': 2160, 'whip': 2161, 'grand': 2162, 'trailer': 2163, 'sits': 2164, 'listens': 2165, 'fair': 2166, 'bet': 2167, 'weigh': 2168, 'ton': 2169, 'helpers': 2170, 'worries': 2171, 'bliss': 2172, 'therell': 2173, 'traffic': 2174, 'guide': 2175, 'traffics': 2176, 'crash': 2177, 'sergeant': 2178, 'mulvaney': 2179, 'thinks': 2180, 'raises': 2181, 'dash': 2182, 'aldermen': 2183, 'waving': 2184, 'white': 2185, 'motor': 2186, 'airplane': 2187, 'appears': 2188, 'dumps': 2189, 'confetti': 2190, 'suppose': 2191, 'add': 2192, 'chinaman': 2193, 'sticks': 2194, 'magician': 2195, 'beard': 2196, 'comb': 2197, 'swung': 2198, 'corner': 2199, 'dashed': 2200, 'gate': 2201, 'steps': 2202, 'calmly': 2203, 'draw': 2204, 'stool': 2205, 'sharply': 2206, 'pulled': 2207, ':no': 2208, 'excite': 2209, 'growing': 2210, 'beet': 2211, 'littlecar': 2212, 'glad': 2213, 'fat': 2214, 'everywhere': 2215, 'eleven': 2216, 'wish': 2217, 'wump': 2218, 'hump': 2219, 'gump': 2220, 'bike': 2221, 'mike': 2222, 'hills': 2223, 'hello': 2224, 'shoe': 2225, 'nook': 2226, 'hook': 2227, 'cook': 2228, 'sheep': 2229, 'sleep': 2230, 'walked': 2231, 'zans': 2232, 'gox': 2233, 'ying': 2234, 'sings': 2235, 'yink': 2236, 'ink': 2237, 'yop': 2238, 'finger': 2239, 'brush': 2240, 'pet': 2241, 'yet': 2242, 'cats': 2243, 'cut': 2244, 'goodbye': 2245, 'pets': 2246, 'zeds': 2247, 'haircut': 2248, 'dish': 2249, 'wave': 2250, 'swish': 2251, 'gack': 2252, 'park': 2253, 'clark': 2254, 'zeep': 2255, 'gone': 2256, 'shine': 2257, 'sally': 2258, 'mat': 2259, 'sunny': 2260, 'cake': 2261, 'books': 2262, 'litte': 2263, 'toy': 2264, 'ship': 2265, 'rake': 2266, 'fan': 2267, 'lit': 2268, 'sank': 2269, 'wood': 2270, 'tip': 2271, 'bow': 2272, 'pick': 2273, 'hands': 2274, 'kites': 2275, 'hit': 2276, 'hall': 2277, 'thump': 2278, 'mothers': 2279, 'gown': 2280, 'dots': 2281, 'bumps': 2282, 'jumps': 2283, 'kicks': 2284, 'hops': 2285, 'thumps': 2286, 'kinds': 2287, 'net': 2288, 'plop': 2289, 'thoe': 2290, 'pack': 2291, 'ca': 2292, 'playthings': 2293, 'strings': 2294, 'asked': 2295}\n",
            "2296\n"
          ],
          "name": "stdout"
        }
      ]
    },
    {
      "cell_type": "code",
      "metadata": {
        "colab": {
          "base_uri": "https://localhost:8080/"
        },
        "id": "oNj5VH7IHFPe",
        "outputId": "64bc1313-59fa-4ee7-bbca-dee778afb5f2"
      },
      "source": [
        "inverse_vocab = {index: token for token, index in vocab.items()}\n",
        "print(inverse_vocab)"
      ],
      "execution_count": 50,
      "outputs": [
        {
          "output_type": "stream",
          "text": [
            "{0: '<pad>', 1: 'yertle', 2: 'the', 3: 'turtle', 4: 'on', 5: 'far', 6: 'away', 7: 'island', 8: 'of', 9: 'sala', 10: 'ma', 11: 'sond', 12: 'was', 13: 'king', 14: 'pond', 15: ':', 16: 'a', 17: 'nice', 18: 'little', 19: 'it', 20: 'clean', 21: 'neat', 22: 'water', 23: 'warm', 24: 'there', 25: 'plenty', 26: 'to', 27: 'eat', 28: 'turtles', 29: 'had', 30: 'everything', 31: 'might', 32: 'need', 33: 'and', 34: 'they', 35: 'were', 36: 'all', 37: 'happy', 38: 'quite', 39: 'indeed', 40: 'untill', 41: 'them', 42: 'decided', 43: 'kingdom', 44: 'he', 45: 'ruled', 46: 'too', 47: 'small', 48: 'im', 49: 'ruler', 50: 'said', 51: 'that', 52: 'i', 53: 'see', 54: 'but', 55: 'dont', 56: 'enough', 57: 'thats', 58: 'trouble', 59: 'with', 60: 'me', 61: 'this', 62: 'stone', 63: 'for', 64: 'throne', 65: 'look', 66: 'down', 67: 'my', 68: 'cannot', 69: 'places', 70: 'beyond', 71: 'sit', 72: 'is', 73: 'low', 74: 'ought', 75: 'be', 76: 'higher', 77: 'frown', 78: 'if', 79: 'could', 80: 'high', 81: 'how', 82: 'much', 83: 'greater', 84: 'id', 85: 'what', 86: 'so', 87: 'lifted', 88: 'his', 89: 'hand', 90: 'gave', 91: 'command', 92: 'ordered', 93: 'nine', 94: 'swim', 95: 'using', 96: 'these', 97: 'built', 98: 'new', 99: 'made', 100: 'each', 101: 'stand', 102: 'another', 103: 'ones', 104: 'back', 105: 'piled', 106: 'up', 107: 'in', 108: 'stack', 109: 'then', 110: 'climbed', 111: 'sat', 112: 'pile', 113: 'wonderful', 114: 'view', 115: 'most', 116: 'mile', 117: 'mine', 118: 'cried', 119: 'oh', 120: 'things', 121: 'now', 122: 'rule', 123: 'cow', 124: 'mule', 125: 'house', 126: 'whats', 127: 'more', 128: 'blueberry', 129: 'bush', 130: 'cat', 131: 'marvelous', 132: 'am', 133: 'through', 134: 'morning', 135: 'saying', 136: 'over', 137: 'grat', 138: 'until', 139: 'long', 140: 'about', 141: 'noon', 142: 'heard', 143: 'faint', 144: 'sigh', 145: 'snapped', 146: 'looked', 147: 'saw', 148: 'at', 149: 'bottom', 150: 'named', 151: 'mack', 152: 'just', 153: 'part', 154: 'plain', 155: 'beg', 156: 'your', 157: 'pardon', 158: 'ive', 159: 'pains', 160: 'shoulders', 161: 'knees', 162: 'must', 163: 'we', 164: 'here', 165: 'majesty', 166: 'please', 167: 'silence', 168: 'barked', 169: 'youre', 170: 'only', 171: 'you', 172: 'stay', 173: 'place', 174: 'while', 175: 'isnt', 176: 'ill', 177: 'do', 178: 'better', 179: 'than', 180: 'shall', 181: 'royal', 182: 'voice', 183: 'thundered', 184: 'want', 185: 'bout', 186: 'two', 187: 'hundred', 188: 'bellowed', 189: 'brayed', 190: 'way', 191: 'afraid', 192: 'trembled', 193: 'shook', 194: 'came', 195: 'obeyed', 196: 'from', 197: 'swimming', 198: 'by', 199: 'dozens', 200: 'whole', 201: 'families', 202: 'uncles', 203: 'cousins', 204: 'stepped', 205: 'head', 206: 'poor', 207: 'one', 208: 'after', 209: 'perched', 210: 'fourty', 211: 'miles', 212: 'sky', 213: 'hooray', 214: 'shouted', 215: 'trees', 216: 'birds', 217: 'bees', 218: 'butterflies', 219: 'air', 220: 'ah', 221: 'chair', 222: 'again', 223: 'below', 224: 'great', 225: 'heavy', 226: 'groan', 227: 'like', 228: 'complain', 229: 'are', 230: 'feeling', 231: 'pain', 232: 'know', 233: 'top', 234: 'seeing', 235: 'sights', 236: 'should', 237: 'have', 238: 'rights', 239: 'cant', 240: 'our', 241: 'shells', 242: 'will', 243: 'crack', 244: 'besides', 245: 'food', 246: 'starving', 247: 'groaned', 248: 'hush', 249: 'mouth', 250: 'howled', 251: 'mighty', 252: 'youve', 253: 'no', 254: 'right', 255: 'talk', 256: 'worlds', 257: 'highest', 258: 'clouds', 259: 'land', 260: 'sea', 261: 'theres', 262: 'nothing', 263: 'shouting', 264: 'suprise', 265: 'moon', 266: 'evening', 267: 'starting', 268: 'rise', 269: 'darkening', 270: 'skies', 271: 'snorted', 272: 'say', 273: 'thing', 274: 'dares', 275: 'not', 276: 'allow', 277: 'go', 278: 'still', 279: 'build', 280: 'can', 281: 'call', 282: 'some', 283: 'em', 284: 'heaven', 285: 'five', 286: 'thousand', 287: 'six', 288: 'seven', 289: 'as', 290: 'started', 291: 'order', 292: 'give', 293: 'whose', 294: 'name', 295: 'hed', 296: 'taken', 297: 'lad', 298: 'got', 299: 'bit', 300: 'mad', 301: 'did', 302: 'burped', 303: 'burp', 304: 'well', 305: 'end', 306: 'kings', 307: 'fell', 308: 'off', 309: 'plunk', 310: 'tosay', 311: 'mud', 312: 'course', 313: 'free', 314: 'maybe', 315: 'creatures', 316: 'abc', 317: 'big', 318: 'begins', 319: 'aunt', 320: 'annies', 321: 'alligator', 322: ':a', 323: 'b', 324: 'barber', 325: 'baby', 326: 'bubbles', 327: 'bumblebee', 328: 'c', 329: 'camel', 330: 'ceiling', 331: ':c', 332: 'd', 333: 'david', 334: 'donald', 335: 'doo', 336: 'dreamed', 337: 'doen', 338: 'doughnuts', 339: 'duck', 340: 'dog', 341: 'abcde', 342: ':e', 343: 'ear', 344: 'egg', 345: 'elephant', 346: 'e', 347: 'f', 348: ':f', 349: 'four', 350: 'fluffy', 351: 'feathers', 352: 'fiffer', 353: 'feffer', 354: 'feff', 355: 'abcdeg', 356: 'goat', 357: 'girl', 358: 'googoo', 359: 'goggles', 360: 'g', 361: ':g', 362: 'h', 363: 'hungry', 364: 'horse', 365: 'hay', 366: 'hen', 367: 'hat', 368: ':i', 369: 'icabod', 370: 'itchy', 371: 'j', 372: 'jerry', 373: 'jordans', 374: 'jelly', 375: 'jar', 376: 'jam', 377: 'k', 378: 'kitten', 379: 'kangaroo', 380: 'kick', 381: 'ketlle', 382: 'kite', 383: 'kerchoo', 384: 'l', 385: 'lola', 386: 'lopp', 387: 'left', 388: 'leg', 389: 'lazy', 390: 'lion', 391: 'licks', 392: 'lollipop', 393: 'm', 394: 'many', 395: 'mumbling', 396: 'mice', 397: 'making', 398: 'midnight', 399: 'music', 400: 'moonlight', 401: ':mighty', 402: 'n', 403: 'neckties', 404: 'nigthshirt', 405: 'nose', 406: 'o', 407: 'very', 408: 'useful', 409: 'use', 410: 'when', 411: 'oscar', 412: 's', 413: 'ostrich', 414: 'oiled', 415: 'an', 416: 'orange', 417: 'owl', 418: 'today', 419: 'abcdefghijklmno', 420: ':p', 421: 'painting', 422: 'pink', 423: 'pajamas', 424: 'police', 425: 'pail', 426: 'peter', 427: 'peppers', 428: 'puppy', 429: 'papas', 430: 'q', 431: 'quick', 432: 'queen', 433: 'quincy', 434: 'her', 435: 'quacking', 436: 'quacker', 437: 'oo', 438: 'r', 439: 'rosy', 440: 'robin', 441: 'ross', 442: 'rosys', 443: 'going', 444: 'riding', 445: 'red', 446: 'rhinoceros', 447: 'silly', 448: 'sammy', 449: 'slick', 450: 'sipped', 451: 'sodas', 452: 'sick', 453: 't', 454: ':t', 455: 'ten', 456: 'tired', 457: 'tuttle', 458: 'tree', 459: 'u', 460: 'uncle', 461: 'ubbs', 462: 'umbrella', 463: 'underwear', 464: 'v', 465: 'vera', 466: 'violet', 467: 'vinn', 468: 'awful', 469: 'violin', 470: 'w', 471: ':w', 472: 'willy', 473: 'waterloo', 474: 'washes', 475: 'warren', 476: 'wiggins', 477: 'who', 478: 'washing', 479: 'waldo', 480: 'woo', 481: 'x', 482: 'nixie', 483: 'knox', 484: 'also', 485: 'comes', 486: 'handy', 487: 'spelling', 488: 'ax', 489: 'extre', 490: 'fox', 491: 'y', 492: 'lttle', 493: 'yawing', 494: 'yellow', 495: 'yak', 496: 'young', 497: 'yolanda', 498: 'yorgenson', 499: 'yelling', 500: 'abcdefg', 501: ':hijklmnop', 502: ':qrstuv', 503: ':xy', 504: 'z', 505: 'zizzer', 506: 'zazzer', 507: 'zuzz', 508: 'plainly', 509: 'sneetches', 510: 'star', 511: 'belly', 512: 'bellies', 513: 'stars', 514: 'none', 515: 'upon', 516: 'thars', 517: 'those', 518: 'werent', 519: 'really', 520: 'think', 521: 'such', 522: 'wouldnt', 523: 'matter', 524: 'because', 525: 'would', 526: 'brag', 527: 'best', 528: 'kind', 529: 'sneetch', 530: 'beaches', 531: 'their', 532: 'snoots', 533: 'sniff', 534: 'theyd', 535: 'snort', 536: 'sort', 537: 'whenever', 538: 'met', 539: 'out', 540: 'walking', 541: 'hike', 542: 'past', 543: 'without', 544: 'even', 545: 'talking', 546: 'children', 547: 'went', 548: 'play', 549: 'ball', 550: 'get', 551: 'game', 552: 'frankfurter', 553: 'roasts', 554: 'or', 555: 'picnics', 556: 'parties', 557: 'marshmallow', 558: 'toasts', 559: 'never', 560: 'invited', 561: 'cold', 562: 'dark', 563: 'kept', 564: 'let', 565: 'come', 566: 'near', 567: 'treated', 568: 'year', 569: 'day', 570: 'seems', 571: 'moping', 572: 'doping', 573: 'alone', 574: 'sitting', 575: 'wishing', 576: 'stranger', 577: 'zipped', 578: 'strangest', 579: 'cars', 580: 'friends', 581: 'announced', 582: 'clear', 583: 'keen', 584: 'sylvester', 585: 'mcmonkey', 586: 'mcbean', 587: 'troubles', 588: 'unhappy', 589: 'fix', 590: 'chappie', 591: 'help', 592: 'prices', 593: 'work', 594: 'speed', 595: 'percent', 596: 'guaranteed', 597: 'quickly', 598: 'put', 599: 'together', 600: 'peculiar', 601: 'machine', 602: 'three', 603: 'dollars', 604: 'pay', 605: 'money', 606: 'hop', 607: 'aboard', 608: 'clambered', 609: 'inside', 610: 'roared', 611: 'klonked', 612: 'bonked', 613: 'jerked', 614: 'berked', 615: 'bopped', 616: 'worked', 617: 'popped', 618: 'actually', 619: 'yelled', 620: 'start', 621: 'exactly', 622: 'tell', 623: 'us', 624: 'apart', 625: 'same', 626: 'snooty', 627: 'old', 628: 'smarties', 629: 'good', 630: 'grief', 631: 'first', 632: 'worst', 633: 'world', 634: 'frowned', 635: 'which', 636: 'other', 637: 'round', 638: 'sly', 639: 'wink', 640: 'bad', 641: 'whos', 642: 'perfectly', 643: 'true', 644: 'make', 645: 'cost', 646: 'eaches', 647: 'longer', 648: 'style', 649: 'trip', 650: 'wondrous', 651: 'contraption', 652: 'take', 653: 'wont', 654: 'working', 655: 'precisely', 656: 'removed', 657: 'tummies', 658: 'nicely', 659: 'paraded', 660: 'opened', 661: 'beaks', 662: 'shout', 663: 'doubt', 664: 'frightfully', 665: 'wearing', 666: 'into', 667: 'probably', 668: 'guess', 669: 'horrible', 670: 'mess', 671: 'rest', 672: 'wild', 673: 'screaming', 674: 'fixing', 675: 'machines', 676: 'raced', 677: 'changing', 678: 'every', 679: 'minute', 680: 'paying', 681: 'running', 682: 'neither', 683: 'nor', 684: 'knew', 685: 'whether', 686: 'last', 687: 'cent', 688: 'spent', 689: 'packed', 690: 'laughed', 691: 'drove', 692: 'car', 693: 'beach', 694: 'learn', 695: 'teach', 696: 'wrong', 697: 'smart', 698: 'forgot', 699: 'socks', 700: 'dr', 701: 'seuss', 702: 'box', 703: 'chicks', 704: 'bricks', 705: 'blocks', 706: 'clocks', 707: 'sir', 708: 'mr', 709: 'lets', 710: 'tricks', 711: 'trick', 712: 'brick', 713: 'block', 714: 'chick', 715: 'clock', 716: 'heres', 717: 'ticks', 718: 'tocks', 719: 'try', 720: 'tick', 721: 'tock', 722: 'tongue', 723: 'mixed', 724: 'sorry', 725: 'easy', 726: 'sues', 727: 'sews', 728: 'sue', 729: 'sees', 730: 'sew', 731: 'crow', 732: 'slow', 733: 'joe', 734: 'crows', 735: 'clothes', 736: 'rose', 737: 'hose', 738: 'goes', 739: 'grows', 740: 'hate', 741: 'makes', 742: 'lame', 743: 'shame', 744: 'find', 745: 'something', 746: 'lots', 747: 'blue', 748: 'goo', 749: 'gooey', 750: 'gluey', 751: 'chewy', 752: 'chewing', 753: 'goose', 754: 'doing', 755: 'choose', 756: 'chew', 757: 'step', 758: 'bim', 759: 'ben', 760: 'brings', 761: 'broom', 762: 'bends', 763: 'bims', 764: 'bens', 765: 'bent', 766: 'breaks', 767: 'band', 768: 'bands', 769: 'pig', 770: 'lead', 771: 'brooms', 772: 'bangs', 773: 'booms', 774: 'boom', 775: 'bring', 776: 'luke', 777: 'luck', 778: 'likes', 779: 'lakes', 780: 'lukes', 781: 'lucks', 782: 'takes', 783: 'blab', 784: 'blibber', 785: 'blubber', 786: 'rubber', 787: 'dumb', 788: 'cheese', 789: 'fleas', 790: 'flew', 791: 'freezy', 792: 'breeze', 793: 'blew', 794: 'freeze', 795: 'sneeze', 796: 'stop', 797: 'stuff', 798: 'tweetle', 799: 'beetles', 800: 'fight', 801: 'its', 802: 'called', 803: 'beetle', 804: 'battle', 805: 'puddle', 806: 'paddles', 807: 'paddle', 808: 'bottle', 809: ':they', 810: 'muddle', 811: 'battles', 812: 'bottles', 813: 'poodle', 814: 'poodles', 815: 'eating', 816: 'noodles', 817: 'noodle', 818: 'wait', 819: 'where', 820: 'bottled', 821: 'paddled', 822: 'muddled', 823: 'duddled', 824: 'fuddled', 825: 'wuddled', 826: 'done', 827: 'thank', 828: 'lot', 829: 'fun', 830: 'pup', 831: 'cup', 832: 'mouse', 833: 'tall', 834: 'wall', 835: 'fall', 836: 'night', 837: ':he', 838: 'him', 839: 'jim', 840: 'bee', 841: 'fish', 842: 'bed', 843: 'ned', 844: 'ted', 845: 'ed', 846: 'pat', 847: 'bat', 848: 'don', 849: 'sad', 850: 'dad', 851: ':thing', 852: 'sing', 853: 'song', 854: 'walk', 855: 'pop', 856: 'brown', 857: 'mrs', 858: 'upside', 859: 'town', 860: 'black', 861: ':brown', 862: 'snack', 863: 'jump', 864: 'bump', 865: 'jumped', 866: 'bumped', 867: 'fast', 868: 'tent', 869: 'sent', 870: 'wet', 871: 'dogs', 872: 'yelp', 873: 'hill', 874: 'father', 875: 'mother', 876: 'sister', 877: 'brother', 878: 'brothers', 879: 'read', 880: 'words', 881: 'constantinople', 882: 'timbuktu', 883: 'does', 884: 'seehemewepatpup', 885: 'hethreetreebee', 886: 'tophopstop', 887: 'ask', 888: 'tomorrow', 889: 'horton', 890: 'hears', 891: '15th', 892: 'may', 893: 'jungle', 894: 'nool', 895: 'heat', 896: 'cool', 897: 'pool', 898: 'splashing', 899: 'enjoying', 900: 'joys', 901: 'noise', 902: 'stopped', 903: 'toward', 904: 'sound', 905: 'funny', 906: 'thought', 907: 'around', 908: 'tiny', 909: 'person', 910: 'calling', 911: 'il', 912: 'speck', 913: 'dust', 914: 'blowing', 915: 'murmured', 916: 'ie', 917: 'able', 918: 'yell', 919: 'why', 920: 'someone', 921: 'creature', 922: 'size', 923: 'seen', 924: 'eyes', 925: 'shaking', 926: 'fear', 927: 'hel', 928: 'blow', 929: 'has', 930: 'steer', 931: 'save', 932: 'gently', 933: 'greatest', 934: 'care', 935: 'stretched', 936: 'trunk', 937: 'th', 938: 'persons', 939: 'harm', 940: 'won', 941: 'barley', 942: 'hear', 943: 'speak', 944: 'friend', 945: 'youe', 946: 'fine', 947: 'helped', 948: 'folks', 949: 'saved', 950: 'houses', 951: 'ceilings', 952: 'floors', 953: 'churches', 954: 'grocery', 955: 'stores', 956: 'mean', 957: 'gasped', 958: 'buildings', 959: 'yes', 960: 'piped', 961: 'certainly', 962: 'mayor', 963: 'friendly', 964: 'seem', 965: 'terribly', 966: 'aren', 967: 'wonderfully', 968: 'ville', 969: 'thankful', 970: 'grateful', 971: 'safe', 972: 'worry', 973: 'spoke', 974: 'monkeys', 975: 'neck', 976: 'wickersham', 977: 'rot', 978: 'any', 979: 'wee', 980: 'nonsense', 981: 'snatched', 982: 'clover', 983: 'carried', 984: 'bottomed', 985: 'eagle', 986: 'vlad', 987: 'koff', 988: 'strong', 989: 'swift', 990: 'wing', 991: 'kindly', 992: 'rid', 993: 'before', 994: 'flower', 995: 'beak', 996: 'latte', 997: 'afternoon', 998: 'bird', 999: 'flapped', 1000: 'wings', 1001: 'flight', 1002: 'chased', 1003: 'groans', 1004: 'stones', 1005: 'tattered', 1006: 'toenails', 1007: 'battered', 1008: 'bones', 1009: 'begged', 1010: 'live', 1011: 'bigger', 1012: 'flapping', 1013: 'shoulder', 1014: 'quit', 1015: 'yapping', 1016: 'fly', 1017: 'mind', 1018: 'hide', 1019: 'youl', 1020: '6', 1021: '56', 1022: 'next', 1023: 'sure', 1024: 'terrible', 1025: 'hid', 1026: 'drop', 1027: 'somewhere', 1028: 'patch', 1029: 'clovers', 1030: 'wide', 1031: 'sneered', 1032: 'fail', 1033: 'flip', 1034: 'blackbottomed', 1035: 'tail', 1036: 'bust', 1037: 'picked', 1038: 'searched', 1039: 'found', 1040: 'sough', 1041: 'dead', 1042: 'alive', 1043: 'hour', 1044: 'till', 1045: 'millionth', 1046: 'share', 1047: 'birdie', 1048: 'dropped', 1049: 'landed', 1050: 'hard', 1051: 'tea', 1052: 'pots', 1053: 'broken', 1054: 'rocking', 1055: 'chairs', 1056: 'smashed', 1057: 'bicycle', 1058: 'crashed', 1059: 'pleaded', 1060: 'stick', 1061: 'repairs', 1062: 'answered', 1063: 'thin', 1064: 'thick', 1065: 'humpf', 1066: 'humpfed', 1067: 'almost', 1068: 'days', 1069: 'run', 1070: 'insisted', 1071: 'chatting', 1072: 'whoe', 1073: 'existed', 1074: 'carryings', 1075: 'peaceable', 1076: 'bellowing', 1077: 'bungle', 1078: 'state', 1079: 'nonsensical', 1080: 'pouch', 1081: 'laws', 1082: 'engaged', 1083: 'roped', 1084: 'caged', 1085: 'speckhah', 1086: 'boil', 1087: 'hot', 1088: 'steaming', 1089: 'kettle', 1090: 'beezle', 1091: 'nut', 1092: 'oil', 1093: 'full', 1094: 'theyl', 1095: 'prove', 1096: 'meeting', 1097: 'everyone', 1098: 'holler', 1099: 'scream', 1100: 'stew', 1101: 'scared', 1102: 'square', 1103: 'people', 1104: 'loudly', 1105: 'smiled', 1106: 'bell', 1107: 'kangaroos', 1108: 'surely', 1109: 'wind', 1110: 'distant', 1111: 'voices', 1112: 'didn', 1113: 'either', 1114: 'grab', 1115: 'cage', 1116: 'dope', 1117: 'lasso', 1118: 'stomach', 1119: 'rope', 1120: 'tie', 1121: 'knots', 1122: 'tight', 1123: 'shake', 1124: 'loose', 1125: 'dunk', 1126: 'juice', 1127: 'fought', 1128: 'vigor', 1129: 'vim', 1130: 'gang', 1131: 'beat', 1132: 'mauled', 1133: 'haul', 1134: 'managed', 1135: 'believe', 1136: 'die', 1137: 'yourselves', 1138: 'grabbed', 1139: 'tom', 1140: 'smack', 1141: 'whooped', 1142: 'racket', 1143: 'rattled', 1144: 'tin', 1145: 'kettles', 1146: 'brass', 1147: 'pans', 1148: 'garbage', 1149: 'tops', 1150: 'cranberry', 1151: 'cans', 1152: 'bazookas', 1153: 'blasted', 1154: 'toots', 1155: 'clarinets', 1156: 'oompahs', 1157: 'pahs', 1158: 'flutes', 1159: 'gusts', 1160: 'loud', 1161: 'rang', 1162: 'howling', 1163: 'hullabaloo', 1164: 'hey', 1165: 'coming', 1166: 'kangaroos’', 1167: 'ears', 1168: 'boys', 1169: 'anyone', 1170: 'shirking', 1171: 'rushed', 1172: 'east', 1173: 'west', 1174: 'seemed', 1175: 'yipping', 1176: 'beeping', 1177: 'bipping', 1178: 'wasn', 1179: 'ruckus', 1180: 'roar', 1181: 'building', 1182: 'floor', 1183: 'felt', 1184: 'getting', 1185: 'nowhere', 1186: 'despair', 1187: 'suddenly', 1188: 'burst', 1189: 'door', 1190: 'discovered', 1191: 'shirker', 1192: 'hidden', 1193: 'fairfax', 1194: 'apartments', 1195: 'apartment', 1196: '12', 1197: 'jo', 1198: 'standing', 1199: 'bouncing', 1200: 'yo', 1201: 'yipp', 1202: 'chirp', 1203: 'greabbed', 1204: 'twerp', 1205: 'eiffelberg', 1206: 'tower', 1207: 'darkest', 1208: 'time', 1209: 'blood', 1210: 'aid', 1211: 'country', 1212: 'noises', 1213: 'amounts', 1214: 'open', 1215: 'counts', 1216: 'thus', 1217: 'cleared', 1218: 'throat', 1219: 'yopp', 1220: 'extra', 1221: 'finally', 1222: 'theye', 1223: 'proved', 1224: 'smallest', 1225: 'planning', 1226: 'protect', 1227: 'sun', 1228: 'summer', 1229: 'rain', 1230: 'ish', 1231: 'grinch', 1232: 'stole', 1233: 'christmas', 1234: 'suess', 1235: 'whoville', 1236: 'liked', 1237: 'grinchwho', 1238: 'lived', 1239: 'north', 1240: 'hated', 1241: 'season', 1242: 'knows', 1243: 'reason', 1244: 'wasnt', 1245: 'screwed', 1246: 'perhaps', 1247: 'shoes', 1248: 'likely', 1249: 'been', 1250: 'heart', 1251: 'sizes', 1252: 'whatever', 1253: 'stood', 1254: 'eve', 1255: 'hating', 1256: 'staring', 1257: 'cave', 1258: 'sour', 1259: 'grinchy', 1260: 'lighted', 1261: 'windows', 1262: 'beneath', 1263: 'busy', 1264: 'hanging', 1265: 'mistletoe', 1266: 'wreath', 1267: 'theyre', 1268: 'stockings', 1269: 'snarled', 1270: 'sneer', 1271: 'practically', 1272: 'growled', 1273: 'fingers', 1274: 'nervously', 1275: 'drumming', 1276: 'girls', 1277: 'wake', 1278: 'bright', 1279: 'early', 1280: 'rush', 1281: 'toys', 1282: 'feast', 1283: 'pudding', 1284: 'rare', 1285: 'roast', 1286: 'beast', 1287: 'couldnt', 1288: 'least', 1289: 'close', 1290: 'bells', 1291: 'ringing', 1292: 'singing', 1293: 'christmassing', 1294: 'fifty', 1295: 'years', 1296: 'idea', 1297: 'santy', 1298: 'claus', 1299: 'coat', 1300: 'chuckled', 1301: 'clucked', 1302: 'saint', 1303: 'nick', 1304: 'reindeer', 1305: 'since', 1306: 'scarce', 1307: 'simply', 1308: 'instead', 1309: 'max', 1310: 'took', 1311: 'thread', 1312: 'tied', 1313: 'horn', 1314: 'loaded', 1315: 'bags', 1316: 'empty', 1317: 'sacks', 1318: 'ramshackle', 1319: 'sleigh', 1320: 'hitched', 1321: 'giddap', 1322: 'homes', 1323: 'lay', 1324: 'asnooze', 1325: 'quiet', 1326: 'snow', 1327: 'filled', 1328: 'dreaming', 1329: 'sweet', 1330: 'dreams', 1331: 'number', 1332: 'hissed', 1333: 'roof', 1334: 'fist', 1335: 'slid', 1336: 'chimney', 1337: 'rather', 1338: 'pinch', 1339: 'santa', 1340: 'stuck', 1341: 'once', 1342: 'moment', 1343: 'fireplace', 1344: 'flue', 1345: 'hung', 1346: 'row', 1347: 'grinned', 1348: 'slithered', 1349: 'slunk', 1350: 'smile', 1351: 'unpleasant', 1352: 'room', 1353: 'present', 1354: 'guns', 1355: 'bicycles', 1356: 'roller', 1357: 'skates', 1358: 'drums', 1359: 'checkerboards', 1360: 'tricycles', 1361: 'popcorn', 1362: 'plums', 1363: 'stuffed', 1364: 'nimbly', 1365: 'icebox', 1366: 'cleaned', 1367: 'flash', 1368: 'hash', 1369: 'glee', 1370: 'shove', 1371: 'coo', 1372: 'dove', 1373: 'turned', 1374: 'cindy', 1375: 'lou', 1376: 'caught', 1377: 'daughter', 1378: 'whod', 1379: 'she', 1380: 'stared', 1381: 'taking', 1382: 'lie', 1383: 'tot', 1384: 'fake', 1385: 'lied', 1386: 'light', 1387: 'side', 1388: 'home', 1389: 'workshop', 1390: 'dear', 1391: 'fib', 1392: 'fooled', 1393: 'child', 1394: 'patted', 1395: 'drink', 1396: 'cindylou', 1397: 'log', 1398: 'fire', 1399: 'himself', 1400: 'liar', 1401: 'walls', 1402: 'hooks', 1403: 'wire', 1404: 'crumb', 1405: 'leaving', 1406: 'crumbs', 1407: 'mouses', 1408: 'quarter', 1409: 'dawn', 1410: 'sled', 1411: 'presents', 1412: 'ribbons', 1413: 'wrappings', 1414: 'tags', 1415: 'tinsel', 1416: 'trimmings', 1417: 'trappings', 1418: 'feet', 1419: 'mt', 1420: 'crumpit', 1421: 'rode', 1422: 'load', 1423: 'tiptop', 1424: 'dump', 1425: 'poohpooh', 1426: 'grinchishly', 1427: 'humming', 1428: 'finding', 1429: 'waking', 1430: 'theyll', 1431: 'mouths', 1432: 'hang', 1433: 'cry', 1434: 'boohoo', 1435: 'paused', 1436: 'rising', 1437: 'grow', 1438: 'sounded', 1439: 'merry', 1440: 'shocking', 1441: 'surprise', 1442: 'hadnt', 1443: 'somehow', 1444: 'ice', 1445: 'puzzling', 1446: 'packages', 1447: 'boxes', 1448: 'puzzled', 1449: 'hours', 1450: 'puzzler', 1451: 'sore', 1452: 'doesnt', 1453: 'store', 1454: ':perhaps', 1455: ':means', 1456: 'happened', 1457: ':in', 1458: 'grinchs', 1459: 'grew', 1460: 'didnt', 1461: 'feel', 1462: 'whizzed', 1463: 'brought', 1464: 'carved', 1465: 'butter', 1466: 'book', 1467: 'grandfather', 1468: 'silent', 1469: 'yooks', 1470: 'zooks', 1471: 'zook', 1472: 'eats', 1473: 'bread', 1474: 'breakfast', 1475: 'sup', 1476: 'spread', 1477: 'grandpa', 1478: 'honest', 1479: 'gritted', 1480: 'teeth', 1481: 'trust', 1482: 'spreads', 1483: 'underneath', 1484: 'watched', 1485: 'kinks', 1486: 'soul', 1487: 'youth', 1488: 'watching', 1489: 'goal', 1490: 'border', 1491: 'patrol', 1492: 'eye', 1493: 'dared', 1494: 'twitch', 1495: 'tough', 1496: 'tufted', 1497: 'prickely', 1498: 'snick', 1499: 'berry', 1500: 'switch', 1501: 'stayed', 1502: 'rude', 1503: 'vanitch', 1504: 'snuck', 1505: 'slingshotted', 1506: 'chief', 1507: 'lookeroo', 1508: 'sorrow', 1509: 'leader', 1510: 'blame', 1511: 'wel', 1512: 'dress', 1513: 'fancier', 1514: 'suit', 1515: 'slingshot', 1516: 'shoot', 1517: 'figger', 1518: 'triple', 1519: 'sling', 1520: 'jigger', 1521: 'marched', 1522: 'trigger', 1523: 'sickly', 1524: 'ran', 1525: 'spiffy', 1526: 'looking', 1527: 'fling', 1528: 'rocks', 1529: 'weapon', 1530: 'rock', 1531: 'snatchem', 1532: 'catch', 1533: 'gupp', 1534: 'failed', 1535: 'sobbed', 1536: 'report', 1537: 'yookeroo', 1538: 'headquarters', 1539: 'fort', 1540: 'slingshots', 1541: 'fashioned', 1542: 'boy', 1543: 'modern', 1544: 'newfangled', 1545: 'gun', 1546: 'already', 1547: 'begun', 1548: 'walloping', 1549: 'whiz', 1550: 'zinger', 1551: 'thinking', 1552: 'track', 1553: 'send', 1554: 'powder', 1555: 'ant', 1556: 'eggs', 1557: 'bees’', 1558: 'legs', 1559: 'dried', 1560: 'fried', 1561: 'clam', 1562: 'chowder', 1563: 'carefully', 1564: 'trained', 1565: 'real', 1566: 'daniel', 1567: 'serve', 1568: 'toting', 1569: 'spaniel', 1570: 'poo', 1571: 'heads', 1572: 'held', 1573: 'gigh', 1574: 'cheered', 1575: 'cheers', 1576: 'worsted', 1577: 'invented', 1578: 'rig', 1579: 'eight', 1580: 'nozzled', 1581: 'toted', 1582: 'blitz', 1583: 'shoots', 1584: 'explosive', 1585: 'cherry', 1586: 'pits', 1587: 'kid', 1588: 'fritz', 1589: 'witz', 1590: 'bested', 1591: 'limped', 1592: 'defeat', 1593: 'dragged', 1594: 'sagged', 1595: 'spirits', 1596: 'ever', 1597: 'bah', 1598: 'diddle', 1599: 'dee', 1600: 'dill', 1601: 'meet', 1602: 'along', 1603: 'greet', 1604: 'sang', 1605: 'faithful', 1606: 'thy', 1607: 'gutter', 1608: 'voted', 1609: 'general', 1610: 'promoted', 1611: 'pretty', 1612: 'uniform', 1613: 'ready', 1614: 'war', 1615: 'begin', 1616: 'certain', 1617: 'win', 1618: 'puttered', 1619: 'clobber', 1620: 'putter', 1621: 'utterly', 1622: 'sputter', 1623: 'aflutter', 1624: 'steered', 1625: 'several', 1626: 'faucets', 1627: 'sprinkled', 1628: 'sprinkle', 1629: 'gum', 1630: 'racing', 1631: 'pell', 1632: 'mell', 1633: 'gooer', 1634: 'forget', 1635: 'cause', 1636: 'guessed', 1637: 'downright', 1638: 'despondent', 1639: 'disturbed', 1640: 'depressed', 1641: 'soon', 1642: 'drum', 1643: 'majorette', 1644: 'miz', 1645: 'yookie', 1646: 'ann', 1647: 'office', 1648: 'sight', 1649: 'fears', 1650: 'brighter', 1651: 'gadget', 1652: 'newer', 1653: 'mysterious', 1654: 'moo', 1655: 'lacka', 1656: 'bitsy', 1657: 'boomeroo', 1658: 'man', 1659: 'bomb', 1660: 'underground', 1661: 'noticed', 1662: 'yook', 1663: 'obeying', 1664: 'grim', 1665: 'bravely', 1666: 'marching', 1667: 'banners', 1668: 'hole', 1669: 'history', 1670: 'leapt', 1671: 'lopulous', 1672: 'leap', 1673: 'clearedhis', 1674: 'harse', 1675: 'bopulous', 1676: 'beep', 1677: 'screamed', 1678: 'instant', 1679: 'klupp', 1680: 'klupped', 1681: 'pork', 1682: 'beans', 1683: 'smithereens', 1684: 'careful', 1685: 'gee', 1686: 'patient', 1687: 'youll', 1688: 'congratulations', 1689: 'brains', 1690: 'yourself', 1691: 'direction', 1692: 'own', 1693: 'guy', 1694: 'wholl', 1695: 'decide', 1696: 'streets', 1697: 'street', 1698: 'case', 1699: 'straight', 1700: 'opener', 1701: 'happen', 1702: 'frequently', 1703: 'brainy', 1704: 'footsy', 1705: 'happening', 1706: 'join', 1707: 'fliers', 1708: 'soar', 1709: 'heights', 1710: 'lag', 1711: 'behind', 1712: 'pass', 1713: 'wherever', 1714: 'except', 1715: 'sometimes', 1716: 'sadly', 1717: 'bang', 1718: 'ups', 1719: 'prickle', 1720: 'ly', 1721: 'perch', 1722: 'lurch', 1723: 'chances', 1724: 'slump', 1725: 'un', 1726: 'slumping', 1727: 'easily', 1728: 'marked', 1729: 'mostly', 1730: 'darked', 1731: 'sprain', 1732: 'both', 1733: 'elbow', 1734: 'chin', 1735: 'dare', 1736: 'lose', 1737: 'turn', 1738: 'quarters', 1739: 'sneak', 1740: 'simple', 1741: 'maker', 1742: 'upper', 1743: 'confused', 1744: 'race', 1745: 'wiggled', 1746: 'roads', 1747: 'break', 1748: 'necking', 1749: 'pace', 1750: 'grind', 1751: 'cross', 1752: 'weirdish', 1753: 'space', 1754: 'headed', 1755: 'useless', 1756: 'waiting', 1757: ':for', 1758: 'train', 1759: 'bus', 1760: 'plane', 1761: 'mail', 1762: 'phone', 1763: 'ring', 1764: 'hair', 1765: 'bite', 1766: 'friday', 1767: 'jake', 1768: 'pot', 1769: 'string', 1770: 'pearls', 1771: 'pair', 1772: 'pants', 1773: 'wig', 1774: 'curls', 1775: 'chance', 1776: 'escape', 1777: 'staying', 1778: 'playing', 1779: 'banner', 1780: 'ride', 1781: 'anything', 1782: 'under', 1783: 'points', 1784: 'scored', 1785: 'games', 1786: 'magical', 1787: 'winning', 1788: 'est', 1789: 'winner', 1790: 'fame', 1791: 'famous', 1792: 'tv', 1793: 'times', 1794: 'lonely', 1795: 'against', 1796: 'scare', 1797: 'road', 1798: 'between', 1799: 'hither', 1800: 'yon', 1801: 'though', 1802: 'weather', 1803: 'foul', 1804: 'enemies', 1805: 'prowl', 1806: 'hakken', 1807: 'kraks', 1808: 'howl', 1809: 'onward', 1810: 'frightening', 1811: 'creek', 1812: 'arms', 1813: 'sneakers', 1814: 'leak', 1815: 'face', 1816: 'problems', 1817: 'strange', 1818: 'tact', 1819: 'remember', 1820: 'lifes', 1821: 'balancing', 1822: 'act', 1823: 'foget', 1824: 'dexterous', 1825: 'deft', 1826: 'mix', 1827: 'foot', 1828: 'succeed', 1829: '98', 1830: '3', 1831: '4', 1832: 'move', 1833: 'mountains', 1834: 'buxbaum', 1835: 'bixby', 1836: 'bray', 1837: 'mordecai', 1838: 'ali', 1839: 'van', 1840: 'allen', 1841: 'oshea', 1842: 'mountain', 1843: ':get', 1844: 'lorax', 1845: 'grickle', 1846: 'grass', 1847: 'smells', 1848: 'blows', 1849: 'excepting', 1850: 'deep', 1851: 'somebody', 1852: 'ler', 1853: 'lives', 1854: 'knock', 1855: 'stays', 1856: 'lerkim', 1857: 'lurks', 1858: 'miff', 1859: 'muffered', 1860: 'moof', 1861: 'special', 1862: 'dank', 1863: 'midnights', 1864: 'august', 1865: 'peeks', 1866: 'shutters', 1867: 'speaks', 1868: 'tells', 1869: 'hell', 1870: 'willing', 1871: 'toss', 1872: 'fifteen', 1873: 'cents', 1874: 'nail', 1875: 'shell', 1876: 'greatgrandfather', 1877: 'snail', 1878: 'pulls', 1879: 'count', 1880: 'paid', 1881: 'proper', 1882: 'amount', 1883: 'hides', 1884: 'snuvv', 1885: 'secret', 1886: 'gruvvulous', 1887: 'glove', 1888: 'grunts', 1889: 'whisper', 1890: 'secrets', 1891: 'slupp', 1892: 'slupps', 1893: 'lers', 1894: 'whispers', 1895: 'snergelly', 1896: 'sounds', 1897: 'smallish', 1898: 'youhe', 1899: 'says', 1900: 'sounding', 1901: 'gray', 1902: 'green', 1903: 'swomee', 1904: 'swans', 1905: 'glorious', 1906: 'truffula', 1907: 'colored', 1908: 'tufts', 1909: 'fresh', 1910: 'bar', 1911: 'ba', 1912: 'loots', 1913: 'frisking', 1914: 'loot', 1915: 'suits', 1916: 'played', 1917: 'shade', 1918: 'ate', 1919: 'fruits', 1920: 'rippulous', 1921: 'comfortable', 1922: 'life', 1923: 'searching', 1924: 'touch', 1925: 'softer', 1926: 'silk', 1927: 'smell', 1928: 'butterfly', 1929: 'milk', 1930: 'leaping', 1931: 'joy', 1932: 'unloaded', 1933: 'cart', 1934: 'shop', 1935: 'chopped', 1936: 'chop', 1937: 'skillful', 1938: 'skill', 1939: 'speedy', 1940: 'soft', 1941: 'tuft', 1942: 'knitted', 1943: 'thneed', 1944: 'finished', 1945: 'ga', 1946: 'zump', 1947: 'stump', 1948: 'describe', 1949: 'shortish', 1950: 'oldish', 1951: 'brownish', 1952: 'mossy', 1953: 'sharpish', 1954: 'bossy', 1955: 'mister', 1956: 'sawdusty', 1957: 'tongues', 1958: 'asking', 1959: 'lungs', 1960: 'upset', 1961: 'puffed', 1962: ':theres', 1963: 'alarm', 1964: 'being', 1965: 'thneeds', 1966: 'shirt', 1967: 'sock', 1968: 'uses', 1969: 'carpets', 1970: 'pillows', 1971: 'sheets', 1972: 'curtains', 1973: 'covers', 1974: 'seats', 1975: 'crazy', 1976: 'greed', 1977: 'earth', 1978: 'buy', 1979: 'fool', 1980: 'chap', 1981: 'happily', 1982: 'bought', 1983: 'ninety', 1984: 'stupid', 1985: 'repeat', 1986: 'told', 1987: 'shut', 1988: 'radio', 1989: 'aunts', 1990: 'listen', 1991: 'family', 1992: 'rich', 1993: 'nitch', 1994: 'weehawken', 1995: 'sharp', 1996: 'south', 1997: 'stitch', 1998: 'factory', 1999: 'tilt', 2000: 'knitting', 2001: 'chopping', 2002: 'business', 2003: 'super', 2004: 'axe', 2005: 'hacker', 2006: 'whacked', 2007: 'smacker', 2008: 'show', 2009: 'week', 2010: 'knocked', 2011: 'charge', 2012: 'thanks', 2013: 'hacking', 2014: 'ground', 2015: 'enought', 2016: 'fruit', 2017: 'crummies', 2018: 'gas', 2019: 'loved', 2020: 'living', 2021: 'hope', 2022: 'regardless', 2023: 'meant', 2024: 'truly', 2025: ':so', 2026: 'biggered', 2027: 'wagons', 2028: 'loads', 2029: 'shipped', 2030: 'shipping', 2031: 'forth', 2032: 'biggering', 2033: 'selling', 2034: 'needs', 2035: 'pipes', 2036: 'nuisance', 2037: 'gripes', 2038: 'coughed', 2039: 'whiffed', 2040: 'sneezed', 2041: 'snuffled', 2042: 'snarggled', 2043: 'sniffed', 2044: 'cruffulous', 2045: 'croak', 2046: 'smogulous', 2047: 'smoke', 2048: 'note', 2049: 'smog', 2050: 'coughthey', 2051: 'sending', 2052: 'hopefully', 2053: 'month', 2054: 'smogged', 2055: 'dander', 2056: 'few', 2057: 'gluppity', 2058: 'glupp', 2059: 'chugs', 2060: 'schloppity', 2061: 'schlopp', 2062: 'leftover', 2063: 'dirty', 2064: 'glumping', 2065: 'hummed', 2066: 'hum', 2067: 'gills', 2068: 'gummed', 2069: 'future', 2070: 'dreary', 2071: 'fins', 2072: 'woefully', 2073: 'weary', 2074: 'search', 2075: 'smeary', 2076: 'yap', 2077: 'telling', 2078: 'intend', 2079: 'information', 2080: 'figgering', 2081: 'andbiggering', 2082: 'turning', 2083: 'whack', 2084: 'outside', 2085: 'fields', 2086: 'sickening', 2087: 'waved', 2088: 'bye', 2089: 'smuggered', 2090: 'neath', 2091: 'smelling', 2092: 'glance', 2093: 'backward', 2094: 'seat', 2095: 'heisted', 2096: 'leave', 2097: 'trace', 2098: 'word', 2099: 'unless', 2100: 'ago', 2101: 'worried', 2102: 'fallen', 2103: 'cares', 2104: 'calls', 2105: 'seed', 2106: 'seeds', 2107: 'plant', 2108: ':treat', 2109: 'feed', 2110: 'forest', 2111: 'axes', 2112: 'hack', 2113: 'sam', 2114: 'ham', 2115: 'anywhere', 2116: 'mot', 2117: 'boat', 2118: 'mulberry', 2119: 'school', 2120: 'always', 2121: 'marco', 2122: 'keep', 2123: 'eyelids', 2124: 'looks', 2125: 'sternly', 2126: 'eyesights', 2127: 'outlandish', 2128: 'tales', 2129: 'minnows', 2130: 'whales', 2131: 'wagon', 2132: 'drawn', 2133: 'story', 2134: 'zebra', 2135: 'pulling', 2136: 'tame', 2137: 'driver', 2138: 'charioteer', 2139: 'gold', 2140: 'chariots', 2141: 'rumbling', 2142: 'thunder', 2143: 'zebras', 2144: 'hes', 2145: 'fleet', 2146: 'hold', 2147: 'hates', 2148: 'feels', 2149: 'pull', 2150: 'runs', 2151: 'wheels', 2152: 'happier', 2153: 'fancy', 2154: 'hmmm', 2155: 'jack', 2156: 'fred', 2157: 'nat', 2158: 'jane', 2159: 'late', 2160: 'change', 2161: 'whip', 2162: 'grand', 2163: 'trailer', 2164: 'sits', 2165: 'listens', 2166: 'fair', 2167: 'bet', 2168: 'weigh', 2169: 'ton', 2170: 'helpers', 2171: 'worries', 2172: 'bliss', 2173: 'therell', 2174: 'traffic', 2175: 'guide', 2176: 'traffics', 2177: 'crash', 2178: 'sergeant', 2179: 'mulvaney', 2180: 'thinks', 2181: 'raises', 2182: 'dash', 2183: 'aldermen', 2184: 'waving', 2185: 'white', 2186: 'motor', 2187: 'airplane', 2188: 'appears', 2189: 'dumps', 2190: 'confetti', 2191: 'suppose', 2192: 'add', 2193: 'chinaman', 2194: 'sticks', 2195: 'magician', 2196: 'beard', 2197: 'comb', 2198: 'swung', 2199: 'corner', 2200: 'dashed', 2201: 'gate', 2202: 'steps', 2203: 'calmly', 2204: 'draw', 2205: 'stool', 2206: 'sharply', 2207: 'pulled', 2208: ':no', 2209: 'excite', 2210: 'growing', 2211: 'beet', 2212: 'littlecar', 2213: 'glad', 2214: 'fat', 2215: 'everywhere', 2216: 'eleven', 2217: 'wish', 2218: 'wump', 2219: 'hump', 2220: 'gump', 2221: 'bike', 2222: 'mike', 2223: 'hills', 2224: 'hello', 2225: 'shoe', 2226: 'nook', 2227: 'hook', 2228: 'cook', 2229: 'sheep', 2230: 'sleep', 2231: 'walked', 2232: 'zans', 2233: 'gox', 2234: 'ying', 2235: 'sings', 2236: 'yink', 2237: 'ink', 2238: 'yop', 2239: 'finger', 2240: 'brush', 2241: 'pet', 2242: 'yet', 2243: 'cats', 2244: 'cut', 2245: 'goodbye', 2246: 'pets', 2247: 'zeds', 2248: 'haircut', 2249: 'dish', 2250: 'wave', 2251: 'swish', 2252: 'gack', 2253: 'park', 2254: 'clark', 2255: 'zeep', 2256: 'gone', 2257: 'shine', 2258: 'sally', 2259: 'mat', 2260: 'sunny', 2261: 'cake', 2262: 'books', 2263: 'litte', 2264: 'toy', 2265: 'ship', 2266: 'rake', 2267: 'fan', 2268: 'lit', 2269: 'sank', 2270: 'wood', 2271: 'tip', 2272: 'bow', 2273: 'pick', 2274: 'hands', 2275: 'kites', 2276: 'hit', 2277: 'hall', 2278: 'thump', 2279: 'mothers', 2280: 'gown', 2281: 'dots', 2282: 'bumps', 2283: 'jumps', 2284: 'kicks', 2285: 'hops', 2286: 'thumps', 2287: 'kinds', 2288: 'net', 2289: 'plop', 2290: 'thoe', 2291: 'pack', 2292: 'ca', 2293: 'playthings', 2294: 'strings', 2295: 'asked'}\n"
          ],
          "name": "stdout"
        }
      ]
    },
    {
      "cell_type": "code",
      "metadata": {
        "colab": {
          "base_uri": "https://localhost:8080/",
          "height": 35
        },
        "id": "iLNS-QXhVMD0",
        "outputId": "38834719-70c8-4c94-d13d-cfe14d6fd916"
      },
      "source": [
        "inverse_vocab[15]"
      ],
      "execution_count": 51,
      "outputs": [
        {
          "output_type": "execute_result",
          "data": {
            "application/vnd.google.colaboratory.intrinsic+json": {
              "type": "string"
            },
            "text/plain": [
              "':'"
            ]
          },
          "metadata": {
            "tags": []
          },
          "execution_count": 51
        }
      ]
    },
    {
      "cell_type": "code",
      "metadata": {
        "colab": {
          "base_uri": "https://localhost:8080/"
        },
        "id": "KzDC8bPlHLfP",
        "outputId": "e9cf84b5-93bf-45a4-b6ff-8b2aa444cf30"
      },
      "source": [
        "vectorized_poems = np.array([vocab[word] for word in tokens])\n",
        "print(vectorized_poems)"
      ],
      "execution_count": 52,
      "outputs": [
        {
          "output_type": "stream",
          "text": [
            "[   1    2    3 ... 2295  171   15]\n"
          ],
          "name": "stdout"
        }
      ]
    },
    {
      "cell_type": "code",
      "metadata": {
        "colab": {
          "base_uri": "https://localhost:8080/"
        },
        "id": "8dcrkLknPLOS",
        "outputId": "5c5c15f6-5e82-4463-ba4d-b7afbdc3f45d"
      },
      "source": [
        "print ('{} ---- characters mapped to int ----> {}'.format(repr(poems[:10]), vectorized_poems[:10]))\n",
        "# check that vectorized_poems is a numpy array\n",
        "assert isinstance(vectorized_poems, np.ndarray), \"returned result should be a numpy array\""
      ],
      "execution_count": 53,
      "outputs": [
        {
          "output_type": "stream",
          "text": [
            "'yertle the' ---- characters mapped to int ----> [1 2 3 4 2 5 6 7 8 9]\n"
          ],
          "name": "stdout"
        }
      ]
    },
    {
      "cell_type": "markdown",
      "metadata": {
        "id": "EBb-AxOFRXpb"
      },
      "source": [
        "## Define Batch \n"
      ]
    },
    {
      "cell_type": "code",
      "metadata": {
        "colab": {
          "base_uri": "https://localhost:8080/"
        },
        "id": "TK9wy75rRgzr",
        "outputId": "8f58e6ab-7b99-469f-f88d-f81f853ade00"
      },
      "source": [
        "### Batch definition to create training examples ###\n",
        "\n",
        "def get_batch(vectorized_songs, seq_length, batch_size):\n",
        "  # the length of the vectorized songs string\n",
        "  n = vectorized_songs.shape[0] - 1\n",
        "  # randomly choose the starting indices for the examples in the training batch\n",
        "  idx = np.random.choice(n-seq_length, batch_size)\n",
        "\n",
        "  '''TODO: construct a list of input sequences for the training batch'''\n",
        "  input_batch = [vectorized_songs[i : i+seq_length] for i in idx]\n",
        "  # input_batch = # TODO\n",
        "  '''TODO: construct a list of output sequences for the training batch'''\n",
        "  output_batch = [vectorized_songs[i+1 : i+seq_length+1] for i in idx]\n",
        "  # output_batch = # TODO\n",
        "\n",
        "  # x_batch, y_batch provide the true inputs and targets for network training\n",
        "  x_batch = np.reshape(input_batch, [batch_size, seq_length])\n",
        "  y_batch = np.reshape(output_batch, [batch_size, seq_length])\n",
        "  return x_batch, y_batch\n",
        "\n",
        "\n",
        "# Perform some simple tests to make sure your batch function is working properly! \n",
        "test_args = (vectorized_poems, 10, 2)\n",
        "if not mdl.lab1.test_batch_func_types(get_batch, test_args) or \\\n",
        "   not mdl.lab1.test_batch_func_shapes(get_batch, test_args) or \\\n",
        "   not mdl.lab1.test_batch_func_next_step(get_batch, test_args): \n",
        "   print(\"======\\n[FAIL] could not pass tests\")\n",
        "else: \n",
        "   print(\"======\\n[PASS] passed all tests!\")"
      ],
      "execution_count": 54,
      "outputs": [
        {
          "output_type": "stream",
          "text": [
            "[PASS] test_batch_func_types\n",
            "[PASS] test_batch_func_shapes\n",
            "[PASS] test_batch_func_next_step\n",
            "======\n",
            "[PASS] passed all tests!\n"
          ],
          "name": "stdout"
        }
      ]
    },
    {
      "cell_type": "code",
      "metadata": {
        "id": "kwNvWLRkR0gd"
      },
      "source": [
        "x_batch, y_batch = get_batch(vectorized_poems, seq_length=5, batch_size=1)"
      ],
      "execution_count": 55,
      "outputs": []
    },
    {
      "cell_type": "code",
      "metadata": {
        "colab": {
          "base_uri": "https://localhost:8080/"
        },
        "id": "S3NKP8x-TbnF",
        "outputId": "ed526439-79ab-459b-8722-c4fef113b284"
      },
      "source": [
        "print(x_batch)\n",
        "print(y_batch)"
      ],
      "execution_count": 56,
      "outputs": [
        {
          "output_type": "stream",
          "text": [
            "[[ 44  87 937  52 177]]\n",
            "[[ 87 937  52 177  96]]\n"
          ],
          "name": "stdout"
        }
      ]
    },
    {
      "cell_type": "markdown",
      "metadata": {
        "id": "dCbW_Jf7RfDc"
      },
      "source": [
        "## Define RNN \n"
      ]
    },
    {
      "cell_type": "code",
      "metadata": {
        "id": "ra3VNBQ7Rk7P"
      },
      "source": [
        "def LSTM(rnn_units): \n",
        "  return tf.keras.layers.LSTM(\n",
        "    rnn_units, \n",
        "    return_sequences=True, \n",
        "    recurrent_initializer='glorot_uniform',\n",
        "    recurrent_activation='sigmoid',\n",
        "    stateful=True,\n",
        "  )"
      ],
      "execution_count": 57,
      "outputs": []
    },
    {
      "cell_type": "code",
      "metadata": {
        "id": "MtCrdfzEI2N0"
      },
      "source": [
        "### Defining the RNN Model ###\n",
        "\n",
        "'''TODO: Add LSTM and Dense layers to define the RNN model using the Sequential API.'''\n",
        "def build_model(vocab_size, embedding_dim, rnn_units, batch_size):\n",
        "  model = tf.keras.Sequential([\n",
        "    # Layer 1: Embedding layer to transform indices into dense vectors \n",
        "    #   of a fixed embedding size\n",
        "    tf.keras.layers.Embedding(vocab_size, embedding_dim, batch_input_shape=[batch_size, None]),\n",
        "\n",
        "    # Layer 2: LSTM with `rnn_units` number of units. \n",
        "    # TODO: Call the LSTM function defined above to add this layer.\n",
        "    LSTM(rnn_units), \n",
        "    # LSTM('''TODO'''),\n",
        "\n",
        "    # Layer 3: Dense (fully-connected) layer that transforms the LSTM output\n",
        "    #   into the vocabulary size. \n",
        "    # TODO: Add the Dense layer.\n",
        "    tf.keras.layers.Dense(vocab_size)\n",
        "    # '''TODO: DENSE LAYER HERE'''\n",
        "  ])\n",
        "\n",
        "  return model\n",
        "\n",
        "# Build a simple model with default hyperparameters. You will get the \n",
        "#   chance to change these later.\n",
        "model = build_model(len(vocab), embedding_dim=100, rnn_units=1024, batch_size=32)"
      ],
      "execution_count": 58,
      "outputs": []
    },
    {
      "cell_type": "code",
      "metadata": {
        "colab": {
          "base_uri": "https://localhost:8080/"
        },
        "id": "-wrURNgpSjSP",
        "outputId": "c9db00c1-1c9d-4fba-d576-5f5242b1815f"
      },
      "source": [
        "len(vocab)"
      ],
      "execution_count": 59,
      "outputs": [
        {
          "output_type": "execute_result",
          "data": {
            "text/plain": [
              "2296"
            ]
          },
          "metadata": {
            "tags": []
          },
          "execution_count": 59
        }
      ]
    },
    {
      "cell_type": "markdown",
      "metadata": {
        "id": "GFcErzGFS5LM"
      },
      "source": [
        "## Test Untrained RNN \n"
      ]
    },
    {
      "cell_type": "code",
      "metadata": {
        "colab": {
          "base_uri": "https://localhost:8080/"
        },
        "id": "4IEIwfcxTBXf",
        "outputId": "c5ee3617-df2b-42c6-f14f-ecf9cc3308de"
      },
      "source": [
        "model.summary()"
      ],
      "execution_count": 60,
      "outputs": [
        {
          "output_type": "stream",
          "text": [
            "Model: \"sequential_3\"\n",
            "_________________________________________________________________\n",
            "Layer (type)                 Output Shape              Param #   \n",
            "=================================================================\n",
            "embedding_3 (Embedding)      (32, None, 100)           229600    \n",
            "_________________________________________________________________\n",
            "lstm_3 (LSTM)                (32, None, 1024)          4608000   \n",
            "_________________________________________________________________\n",
            "dense_3 (Dense)              (32, None, 2296)          2353400   \n",
            "=================================================================\n",
            "Total params: 7,191,000\n",
            "Trainable params: 7,191,000\n",
            "Non-trainable params: 0\n",
            "_________________________________________________________________\n"
          ],
          "name": "stdout"
        }
      ]
    },
    {
      "cell_type": "code",
      "metadata": {
        "colab": {
          "base_uri": "https://localhost:8080/"
        },
        "id": "lGWmoh51TB7A",
        "outputId": "cb0d8033-7081-40e9-d2b6-806643616741"
      },
      "source": [
        "x, y = get_batch(vectorized_poems, seq_length=10, batch_size=32)\n",
        "pred = model(x)\n",
        "print(\"Input shape:      \", x.shape, \" # (batch_size, sequence_length)\")\n",
        "print(\"Prediction shape: \", pred.shape, \"# (batch_size, sequence_length, vocab_size)\")"
      ],
      "execution_count": 61,
      "outputs": [
        {
          "output_type": "stream",
          "text": [
            "Input shape:       (32, 10)  # (batch_size, sequence_length)\n",
            "Prediction shape:  (32, 10, 2296) # (batch_size, sequence_length, vocab_size)\n"
          ],
          "name": "stdout"
        }
      ]
    },
    {
      "cell_type": "code",
      "metadata": {
        "colab": {
          "base_uri": "https://localhost:8080/"
        },
        "id": "1fjbCX32Z3f9",
        "outputId": "63c20203-a384-4f0e-a119-fa287812efbf"
      },
      "source": [
        "x[0]"
      ],
      "execution_count": 62,
      "outputs": [
        {
          "output_type": "execute_result",
          "data": {
            "text/plain": [
              "array([ 15,  85, 171,  32,  72,  16, 649, 133,  67, 510])"
            ]
          },
          "metadata": {
            "tags": []
          },
          "execution_count": 62
        }
      ]
    },
    {
      "cell_type": "code",
      "metadata": {
        "colab": {
          "base_uri": "https://localhost:8080/"
        },
        "id": "tvxsk6IhUsex",
        "outputId": "79857932-5027-4630-9f70-ea17efe4cbb1"
      },
      "source": [
        "sampled_indices = tf.random.categorical(pred[0], num_samples=1)\n",
        "sampled_indices = tf.squeeze(sampled_indices,axis=-1).numpy()\n",
        "sampled_indices"
      ],
      "execution_count": 63,
      "outputs": [
        {
          "output_type": "execute_result",
          "data": {
            "text/plain": [
              "array([1309, 1258, 1203, 1614,  492, 2092, 2116, 1610,  873,  975])"
            ]
          },
          "metadata": {
            "tags": []
          },
          "execution_count": 63
        }
      ]
    },
    {
      "cell_type": "code",
      "metadata": {
        "colab": {
          "base_uri": "https://localhost:8080/"
        },
        "id": "CCVnc5GZY-Mi",
        "outputId": "50b0e6eb-c33c-4e7b-e1f3-adde8eb86a03"
      },
      "source": [
        "print(\"Input: \\n\")\n",
        "for i in x[0]:\n",
        "  print(inverse_vocab[i])"
      ],
      "execution_count": 64,
      "outputs": [
        {
          "output_type": "stream",
          "text": [
            "Input: \n",
            "\n",
            ":\n",
            "what\n",
            "you\n",
            "need\n",
            "is\n",
            "a\n",
            "trip\n",
            "through\n",
            "my\n",
            "star\n"
          ],
          "name": "stdout"
        }
      ]
    },
    {
      "cell_type": "code",
      "metadata": {
        "colab": {
          "base_uri": "https://localhost:8080/"
        },
        "id": "hKZPYQTLZecI",
        "outputId": "dea4934f-25e4-418c-f7ea-0ba3d699e852"
      },
      "source": [
        "print(\"Output: \\n\")\n",
        "for i in sampled_indices:\n",
        "  print(inverse_vocab[i])"
      ],
      "execution_count": 65,
      "outputs": [
        {
          "output_type": "stream",
          "text": [
            "Output: \n",
            "\n",
            "max\n",
            "sour\n",
            "greabbed\n",
            "war\n",
            "lttle\n",
            "glance\n",
            "mot\n",
            "promoted\n",
            "hill\n",
            "neck\n"
          ],
          "name": "stdout"
        }
      ]
    },
    {
      "cell_type": "markdown",
      "metadata": {
        "id": "T8WFox1OsxZJ"
      },
      "source": [
        "## Train \n"
      ]
    },
    {
      "cell_type": "code",
      "metadata": {
        "colab": {
          "base_uri": "https://localhost:8080/"
        },
        "id": "q-OZW5yDtAwP",
        "outputId": "31769028-5742-451c-c7bb-257e068a597a"
      },
      "source": [
        "### Defining the loss function ###\n",
        "\n",
        "'''TODO: define the loss function to compute and return the loss between\n",
        "    the true labels and predictions (logits). Set the argument from_logits=True.'''\n",
        "def compute_loss(labels, logits):\n",
        "  loss = tf.keras.losses.sparse_categorical_crossentropy(labels, logits, from_logits=True)\n",
        "  # loss = tf.keras.losses.sparse_categorical_crossentropy('''TODO''', '''TODO''', from_logits=True) # TODO\n",
        "  return loss\n",
        "\n",
        "'''TODO: compute the loss using the true next characters from the example batch \n",
        "    and the predictions from the untrained model several cells above'''\n",
        "example_batch_loss = compute_loss(y, pred)\n",
        "# example_batch_loss = compute_loss('''TODO''', '''TODO''') # TODO\n",
        "\n",
        "print(\"Prediction shape: \", pred.shape, \" # (batch_size, sequence_length, vocab_size)\") \n",
        "print(\"scalar_loss:      \", example_batch_loss.numpy().mean())"
      ],
      "execution_count": 66,
      "outputs": [
        {
          "output_type": "stream",
          "text": [
            "Prediction shape:  (32, 10, 2296)  # (batch_size, sequence_length, vocab_size)\n",
            "scalar_loss:       7.738982\n"
          ],
          "name": "stdout"
        }
      ]
    },
    {
      "cell_type": "code",
      "metadata": {
        "id": "Prie5xnjtWe2"
      },
      "source": [
        "### Hyperparameter setting and optimization ###\n",
        "\n",
        "# Optimization parameters:\n",
        "num_training_iterations = 600  # Increase this to train longer\n",
        "batch_size = 10  # Experiment between 1 and 64\n",
        "seq_length = 10  # Experiment between 50 and 500\n",
        "learning_rate = 5e-3  # Experiment between 1e-5 and 1e-1\n",
        "\n",
        "# Model parameters: \n",
        "vocab_size = len(vocab)\n",
        "embedding_dim = 200 \n",
        "rnn_units = 1024  # Experiment between 1 and 2048\n",
        "\n",
        "# Checkpoint location: \n",
        "checkpoint_dir = './training_checkpoints'\n",
        "checkpoint_prefix = os.path.join(checkpoint_dir, \"my_ckpt\")"
      ],
      "execution_count": 67,
      "outputs": []
    },
    {
      "cell_type": "code",
      "metadata": {
        "colab": {
          "base_uri": "https://localhost:8080/",
          "height": 558
        },
        "id": "lWRcf1QgvlFC",
        "outputId": "c09f19df-b699-4a23-ec33-3b3ff1499cab"
      },
      "source": [
        "### Define optimizer and training operation ###\n",
        "\n",
        "'''TODO: instantiate a new model for training using the `build_model`\n",
        "  function and the hyperparameters created above.'''\n",
        "model = build_model(vocab_size, embedding_dim, rnn_units, batch_size)\n",
        "# model = build_model('''TODO: arguments''')\n",
        "\n",
        "'''TODO: instantiate an optimizer with its learning rate.\n",
        "  Checkout the tensorflow website for a list of supported optimizers.\n",
        "  https://www.tensorflow.org/api_docs/python/tf/keras/optimizers/\n",
        "  Try using the Adam optimizer to start.'''\n",
        "optimizer = tf.keras.optimizers.Adam(learning_rate)\n",
        "# optimizer = # TODO\n",
        "\n",
        "@tf.function\n",
        "def train_step(x, y): \n",
        "  # Use tf.GradientTape()\n",
        "  with tf.GradientTape() as tape:\n",
        "  \n",
        "    '''TODO: feed the current input into the model and generate predictions'''\n",
        "    y_hat = model(x) # TODO\n",
        "    # y_hat = model('''TODO''')\n",
        "  \n",
        "    '''TODO: compute the loss!'''\n",
        "    loss = compute_loss(y, y_hat) # TODO\n",
        "    # loss = compute_loss('''TODO''', '''TODO''')\n",
        "\n",
        "  # Now, compute the gradients \n",
        "  '''TODO: complete the function call for gradient computation. \n",
        "      Remember that we want the gradient of the loss with respect all \n",
        "      of the model parameters. \n",
        "      HINT: use `model.trainable_variables` to get a list of all model\n",
        "      parameters.'''\n",
        "  grads = tape.gradient(loss, model.trainable_variables) # TODO\n",
        "  # grads = tape.gradient('''TODO''', '''TODO''')\n",
        "  \n",
        "  # Apply the gradients to the optimizer so it can update the model accordingly\n",
        "  optimizer.apply_gradients(zip(grads, model.trainable_variables))\n",
        "  return loss\n",
        "\n",
        "##################\n",
        "# Begin training!#\n",
        "##################\n",
        "\n",
        "history = []\n",
        "plotter = mdl.util.PeriodicPlotter(sec=2, xlabel='Iterations', ylabel='Loss')\n",
        "if hasattr(tqdm, '_instances'): tqdm._instances.clear() # clear if it exists\n",
        "\n",
        "for iter in tqdm(range(num_training_iterations)):\n",
        "\n",
        "  # Grab a batch and propagate it through the network\n",
        "  x_batch, y_batch = get_batch(vectorized_poems, seq_length, batch_size)\n",
        "  loss = train_step(x_batch, y_batch)\n",
        "\n",
        "  # Update the progress bar\n",
        "  history.append(loss.numpy().mean())\n",
        "  plotter.plot(history)\n",
        "\n",
        "  # Update the model with the changed weights!\n",
        "  if iter % 100 == 0:     \n",
        "    model.save_weights(checkpoint_prefix)\n",
        "    \n",
        "# Save the trained model and the weights\n",
        "model.save_weights(checkpoint_prefix)"
      ],
      "execution_count": 68,
      "outputs": [
        {
          "output_type": "display_data",
          "data": {
            "image/png": "[encoded data removed]",
            "text/plain": [
              "<Figure size 432x288 with 1 Axes>"
            ]
          },
          "metadata": {
            "tags": []
          }
        },
        {
          "output_type": "stream",
          "text": [
            "100%|██████████| 600/600 [04:23<00:00,  2.28it/s]\n"
          ],
          "name": "stderr"
        },
        {
          "output_type": "display_data",
          "data": {
            "image/png": "[encoded data removed]",
            "text/plain": [
              "<Figure size 432x288 with 1 Axes>"
            ]
          },
          "metadata": {
            "tags": [],
            "needs_background": "light"
          }
        }
      ]
    },
    {
      "cell_type": "markdown",
      "metadata": {
        "id": "3UPagkCQ3gjZ"
      },
      "source": [
        "## Generate Poem \n"
      ]
    },
    {
      "cell_type": "code",
      "metadata": {
        "colab": {
          "base_uri": "https://localhost:8080/"
        },
        "id": "xpY9Owzo3p-_",
        "outputId": "c329202b-6af9-430d-fc02-00dc4144e8a9"
      },
      "source": [
        "'''TODO: Rebuild the model using a batch_size=1'''\n",
        "model = build_model(vocab_size, embedding_dim, rnn_units, batch_size=1) # TODO\n",
        "# model = build_model('''TODO''', '''TODO''', '''TODO''', batch_size=1)\n",
        "\n",
        "# Restore the model weights for the last checkpoint after training\n",
        "model.load_weights(tf.train.latest_checkpoint(checkpoint_dir))\n",
        "model.build(tf.TensorShape([1, None]))\n",
        "\n",
        "model.summary()"
      ],
      "execution_count": 69,
      "outputs": [
        {
          "output_type": "stream",
          "text": [
            "Model: \"sequential_5\"\n",
            "_________________________________________________________________\n",
            "Layer (type)                 Output Shape              Param #   \n",
            "=================================================================\n",
            "embedding_5 (Embedding)      (1, None, 200)            459200    \n",
            "_________________________________________________________________\n",
            "lstm_5 (LSTM)                (1, None, 1024)           5017600   \n",
            "_________________________________________________________________\n",
            "dense_5 (Dense)              (1, None, 2296)           2353400   \n",
            "=================================================================\n",
            "Total params: 7,830,200\n",
            "Trainable params: 7,830,200\n",
            "Non-trainable params: 0\n",
            "_________________________________________________________________\n"
          ],
          "name": "stdout"
        }
      ]
    },
    {
      "cell_type": "code",
      "metadata": {
        "id": "P_r8IX6L8IDa"
      },
      "source": [
        "#start_string=['i']\n",
        "#input_eval = [vocab[s] for s in start_string]\n",
        "#print(input_eval)"
      ],
      "execution_count": 32,
      "outputs": []
    },
    {
      "cell_type": "code",
      "metadata": {
        "id": "SvjB3kvc3zye"
      },
      "source": [
        "### Prediction of a generated song ###\n",
        "\n",
        "def generate_text(model, start_string, generation_length=75):\n",
        "  # Evaluation step (generating text using the learned RNN model)\n",
        "\n",
        "  '''TODO: convert the start string to numbers (vectorize)'''\n",
        "  input_eval = [vocab[s] for s in start_string] # TODO\n",
        "  # input_eval = ['''TODO''']\n",
        "  input_eval = tf.expand_dims(input_eval, 0)\n",
        "\n",
        "  # Empty string to store our results\n",
        "  text_generated = []\n",
        "\n",
        "  # Here batch size == 1\n",
        "  model.reset_states()\n",
        "  tqdm._instances.clear()\n",
        "\n",
        "  for i in tqdm(range(generation_length)):\n",
        "      '''TODO: evaluate the inputs and generate the next character predictions'''\n",
        "      predictions = model(input_eval)\n",
        "      # predictions = model('''TODO''')\n",
        "      \n",
        "      # Remove the batch dimension\n",
        "      predictions = tf.squeeze(predictions, 0)\n",
        "      \n",
        "      '''TODO: use a multinomial distribution to sample'''\n",
        "      predicted_id = tf.random.categorical(predictions, num_samples=1)[-1,0].numpy()\n",
        "      # predicted_id = tf.random.categorical('''TODO''', num_samples=1)[-1,0].numpy()\n",
        "      \n",
        "      # Pass the prediction along with the previous hidden state\n",
        "      #   as the next inputs to the model\n",
        "      input_eval = tf.expand_dims([predicted_id], 0)\n",
        "      \n",
        "      '''TODO: add the predicted character to the generated text!'''\n",
        "      # Hint: consider what format the prediction is in vs. the output\n",
        "      text_generated.append(inverse_vocab[predicted_id]) # TODO \n",
        "      # text_generated.append('''TODO''')\n",
        "    \n",
        "  return (' '.join(start_string) + ' ' + ' '.join(text_generated))"
      ],
      "execution_count": 70,
      "outputs": []
    },
    {
      "cell_type": "code",
      "metadata": {
        "colab": {
          "base_uri": "https://localhost:8080/"
        },
        "id": "wHkEd2dz6EIO",
        "outputId": "4a9444f2-5a28-400b-9458-5b04cefb1cee"
      },
      "source": [
        "'''TODO: Use the model and the function defined above to generate ABC format text of length generation_length!'''\n",
        "generated_text = generate_text(model, start_string=['the','sun','did','not','shine',':','it','was','too','wet','to','play',':'], generation_length=75)"
      ],
      "execution_count": 74,
      "outputs": [
        {
          "output_type": "stream",
          "text": [
            "100%|██████████| 75/75 [00:00<00:00, 103.16it/s]\n"
          ],
          "name": "stderr"
        }
      ]
    },
    {
      "cell_type": "code",
      "metadata": {
        "id": "7UZ-ta6r62Vf",
        "outputId": "cf69b94d-cb17-4a7d-ae5e-87188caa713c",
        "colab": {
          "base_uri": "https://localhost:8080/",
          "height": 164
        }
      },
      "source": [
        "vocab['.']"
      ],
      "execution_count": 73,
      "outputs": [
        {
          "output_type": "error",
          "ename": "KeyError",
          "evalue": "ignored",
          "traceback": [
            "\u001b[0;31m---------------------------------------------------------------------------\u001b[0m",
            "\u001b[0;31mKeyError\u001b[0m                                  Traceback (most recent call last)",
            "\u001b[0;32m<ipython-input-73-1ea2c747363b>\u001b[0m in \u001b[0;36m<module>\u001b[0;34m()\u001b[0m\n\u001b[0;32m----> 1\u001b[0;31m \u001b[0mvocab\u001b[0m\u001b[0;34m[\u001b[0m\u001b[0;34m'.'\u001b[0m\u001b[0;34m]\u001b[0m\u001b[0;34m\u001b[0m\u001b[0;34m\u001b[0m\u001b[0m\n\u001b[0m",
            "\u001b[0;31mKeyError\u001b[0m: '.'"
          ]
        }
      ]
    },
    {
      "cell_type": "code",
      "metadata": {
        "colab": {
          "base_uri": "https://localhost:8080/"
        },
        "id": "wMEK7gQi6Y-D",
        "outputId": "0807d01f-9904-4f45-8553-1709ec76f7fc"
      },
      "source": [
        "print(\"\", generated_text.replace(\":\",\"\\n\"))"
      ],
      "execution_count": 76,
      "outputs": [
        {
          "output_type": "stream",
          "text": [
            " the sun did not shine \n",
            " it was too wet to play \n",
            " mr \n",
            " grateful a small aren so a had eating \n",
            " big foot is a dish hump up baby me \n",
            " my friends you rule \n",
            " at course \n",
            " ill grow some may get \n",
            " that was course the old once ler felt sad \n",
            " why higher likes \n",
            " seuss our snow down up matter how small oh in yellow by the young miles \n",
            " tight perhaps they had stars to the first \n",
            " cried\n"
          ],
          "name": "stdout"
        }
      ]
    },
    {
      "cell_type": "code",
      "metadata": {
        "id": "3eCviCsBCk48"
      },
      "source": [
        ""
      ],
      "execution_count": null,
      "outputs": []
    }
  ]
}