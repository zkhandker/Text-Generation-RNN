{
  "nbformat": 4,
  "nbformat_minor": 0,
  "metadata": {
    "colab": {
      "name": "Zuhair01.ipynb",
      "provenance": [],
      "collapsed_sections": [],
      "authorship_tag": "ABX9TyNj6Mt7RGoaePSR0G9ZZefH",
      "include_colab_link": true
    },
    "kernelspec": {
      "name": "python3",
      "display_name": "Python 3"
    }
  },
  "cells": [
    {
      "cell_type": "markdown",
      "metadata": {
        "id": "view-in-github",
        "colab_type": "text"
      },
      "source": [
        "<a href=\"https://colab.research.google.com/github/zkhandker/rupi-kaur/blob/main/Zuhair01.ipynb\" target=\"_parent\"><img src=\"https://colab.research.google.com/assets/colab-badge.svg\" alt=\"Open In Colab\"/></a>"
      ]
    },
    {
      "cell_type": "markdown",
      "metadata": {
        "id": "rsvlBQYCrE4I"
      },
      "source": [
        "## Dependencies \n"
      ]
    },
    {
      "cell_type": "code",
      "metadata": {
        "id": "riVZCVK65QTH",
        "colab": {
          "base_uri": "https://localhost:8080/"
        },
        "outputId": "f366b117-40d3-4f8d-ead7-b708494914f6"
      },
      "source": [
        "# Import Tensorflow 2.0\n",
        "%tensorflow_version 2.x\n",
        "import tensorflow as tf \n",
        "\n",
        "# Download and import the MIT 6.S191 package\n",
        "!pip install mitdeeplearning\n",
        "import mitdeeplearning as mdl\n",
        "\n",
        "# Import all remaining packages\n",
        "import numpy as np\n",
        "import os\n",
        "import time\n",
        "import functools\n",
        "from IPython import display as ipythondisplay\n",
        "from tqdm import tqdm\n",
        "!apt-get install abcmidi timidity > /dev/null 2>&1\n",
        "\n",
        "# Check that we are using a GPU, if not switch runtimes\n",
        "#   using Runtime > Change Runtime Type > GPU\n",
        "## assert len(tf.config.list_physical_devices('GPU')) > 0\n",
        "import pathlib"
      ],
      "execution_count": 1,
      "outputs": [
        {
          "output_type": "stream",
          "text": [
            "Collecting mitdeeplearning\n",
            "\u001b[?25l  Downloading https://files.pythonhosted.org/packages/9d/ad/650eb53c0d9d1213536fe94bc150f89b564ff5ee784bd662272584bb091b/mitdeeplearning-0.2.0.tar.gz (2.1MB)\n",
            "\r\u001b[K     |▏                               | 10kB 15.5MB/s eta 0:00:01\r\u001b[K     |▎                               | 20kB 21.9MB/s eta 0:00:01\r\u001b[K     |▌                               | 30kB 25.7MB/s eta 0:00:01\r\u001b[K     |▋                               | 40kB 21.7MB/s eta 0:00:01\r\u001b[K     |▉                               | 51kB 19.9MB/s eta 0:00:01\r\u001b[K     |█                               | 61kB 17.0MB/s eta 0:00:01\r\u001b[K     |█                               | 71kB 17.1MB/s eta 0:00:01\r\u001b[K     |█▎                              | 81kB 16.1MB/s eta 0:00:01\r\u001b[K     |█▍                              | 92kB 17.1MB/s eta 0:00:01\r\u001b[K     |█▋                              | 102kB 17.4MB/s eta 0:00:01\r\u001b[K     |█▊                              | 112kB 17.4MB/s eta 0:00:01\r\u001b[K     |█▉                              | 122kB 17.4MB/s eta 0:00:01\r\u001b[K     |██                              | 133kB 17.4MB/s eta 0:00:01\r\u001b[K     |██▏                             | 143kB 17.4MB/s eta 0:00:01\r\u001b[K     |██▍                             | 153kB 17.4MB/s eta 0:00:01\r\u001b[K     |██▌                             | 163kB 17.4MB/s eta 0:00:01\r\u001b[K     |██▋                             | 174kB 17.4MB/s eta 0:00:01\r\u001b[K     |██▉                             | 184kB 17.4MB/s eta 0:00:01\r\u001b[K     |███                             | 194kB 17.4MB/s eta 0:00:01\r\u001b[K     |███▏                            | 204kB 17.4MB/s eta 0:00:01\r\u001b[K     |███▎                            | 215kB 17.4MB/s eta 0:00:01\r\u001b[K     |███▌                            | 225kB 17.4MB/s eta 0:00:01\r\u001b[K     |███▋                            | 235kB 17.4MB/s eta 0:00:01\r\u001b[K     |███▊                            | 245kB 17.4MB/s eta 0:00:01\r\u001b[K     |████                            | 256kB 17.4MB/s eta 0:00:01\r\u001b[K     |████                            | 266kB 17.4MB/s eta 0:00:01\r\u001b[K     |████▎                           | 276kB 17.4MB/s eta 0:00:01\r\u001b[K     |████▍                           | 286kB 17.4MB/s eta 0:00:01\r\u001b[K     |████▌                           | 296kB 17.4MB/s eta 0:00:01\r\u001b[K     |████▊                           | 307kB 17.4MB/s eta 0:00:01\r\u001b[K     |████▉                           | 317kB 17.4MB/s eta 0:00:01\r\u001b[K     |█████                           | 327kB 17.4MB/s eta 0:00:01\r\u001b[K     |█████▏                          | 337kB 17.4MB/s eta 0:00:01\r\u001b[K     |█████▎                          | 348kB 17.4MB/s eta 0:00:01\r\u001b[K     |█████▌                          | 358kB 17.4MB/s eta 0:00:01\r\u001b[K     |█████▋                          | 368kB 17.4MB/s eta 0:00:01\r\u001b[K     |█████▉                          | 378kB 17.4MB/s eta 0:00:01\r\u001b[K     |██████                          | 389kB 17.4MB/s eta 0:00:01\r\u001b[K     |██████▏                         | 399kB 17.4MB/s eta 0:00:01\r\u001b[K     |██████▎                         | 409kB 17.4MB/s eta 0:00:01\r\u001b[K     |██████▍                         | 419kB 17.4MB/s eta 0:00:01\r\u001b[K     |██████▋                         | 430kB 17.4MB/s eta 0:00:01\r\u001b[K     |██████▊                         | 440kB 17.4MB/s eta 0:00:01\r\u001b[K     |███████                         | 450kB 17.4MB/s eta 0:00:01\r\u001b[K     |███████                         | 460kB 17.4MB/s eta 0:00:01\r\u001b[K     |███████▏                        | 471kB 17.4MB/s eta 0:00:01\r\u001b[K     |███████▍                        | 481kB 17.4MB/s eta 0:00:01\r\u001b[K     |███████▌                        | 491kB 17.4MB/s eta 0:00:01\r\u001b[K     |███████▊                        | 501kB 17.4MB/s eta 0:00:01\r\u001b[K     |███████▉                        | 512kB 17.4MB/s eta 0:00:01\r\u001b[K     |████████                        | 522kB 17.4MB/s eta 0:00:01\r\u001b[K     |████████▏                       | 532kB 17.4MB/s eta 0:00:01\r\u001b[K     |████████▎                       | 542kB 17.4MB/s eta 0:00:01\r\u001b[K     |████████▌                       | 552kB 17.4MB/s eta 0:00:01\r\u001b[K     |████████▋                       | 563kB 17.4MB/s eta 0:00:01\r\u001b[K     |████████▉                       | 573kB 17.4MB/s eta 0:00:01\r\u001b[K     |█████████                       | 583kB 17.4MB/s eta 0:00:01\r\u001b[K     |█████████                       | 593kB 17.4MB/s eta 0:00:01\r\u001b[K     |█████████▎                      | 604kB 17.4MB/s eta 0:00:01\r\u001b[K     |█████████▍                      | 614kB 17.4MB/s eta 0:00:01\r\u001b[K     |█████████▋                      | 624kB 17.4MB/s eta 0:00:01\r\u001b[K     |█████████▊                      | 634kB 17.4MB/s eta 0:00:01\r\u001b[K     |█████████▉                      | 645kB 17.4MB/s eta 0:00:01\r\u001b[K     |██████████                      | 655kB 17.4MB/s eta 0:00:01\r\u001b[K     |██████████▏                     | 665kB 17.4MB/s eta 0:00:01\r\u001b[K     |██████████▍                     | 675kB 17.4MB/s eta 0:00:01\r\u001b[K     |██████████▌                     | 686kB 17.4MB/s eta 0:00:01\r\u001b[K     |██████████▋                     | 696kB 17.4MB/s eta 0:00:01\r\u001b[K     |██████████▉                     | 706kB 17.4MB/s eta 0:00:01\r\u001b[K     |███████████                     | 716kB 17.4MB/s eta 0:00:01\r\u001b[K     |███████████▏                    | 727kB 17.4MB/s eta 0:00:01\r\u001b[K     |███████████▎                    | 737kB 17.4MB/s eta 0:00:01\r\u001b[K     |███████████▍                    | 747kB 17.4MB/s eta 0:00:01\r\u001b[K     |███████████▋                    | 757kB 17.4MB/s eta 0:00:01\r\u001b[K     |███████████▊                    | 768kB 17.4MB/s eta 0:00:01\r\u001b[K     |████████████                    | 778kB 17.4MB/s eta 0:00:01\r\u001b[K     |████████████                    | 788kB 17.4MB/s eta 0:00:01\r\u001b[K     |████████████▎                   | 798kB 17.4MB/s eta 0:00:01\r\u001b[K     |████████████▍                   | 808kB 17.4MB/s eta 0:00:01\r\u001b[K     |████████████▌                   | 819kB 17.4MB/s eta 0:00:01\r\u001b[K     |████████████▊                   | 829kB 17.4MB/s eta 0:00:01\r\u001b[K     |████████████▉                   | 839kB 17.4MB/s eta 0:00:01\r\u001b[K     |█████████████                   | 849kB 17.4MB/s eta 0:00:01\r\u001b[K     |█████████████▏                  | 860kB 17.4MB/s eta 0:00:01\r\u001b[K     |█████████████▎                  | 870kB 17.4MB/s eta 0:00:01\r\u001b[K     |█████████████▌                  | 880kB 17.4MB/s eta 0:00:01\r\u001b[K     |█████████████▋                  | 890kB 17.4MB/s eta 0:00:01\r\u001b[K     |█████████████▉                  | 901kB 17.4MB/s eta 0:00:01\r\u001b[K     |██████████████                  | 911kB 17.4MB/s eta 0:00:01\r\u001b[K     |██████████████                  | 921kB 17.4MB/s eta 0:00:01\r\u001b[K     |██████████████▎                 | 931kB 17.4MB/s eta 0:00:01\r\u001b[K     |██████████████▍                 | 942kB 17.4MB/s eta 0:00:01\r\u001b[K     |██████████████▋                 | 952kB 17.4MB/s eta 0:00:01\r\u001b[K     |██████████████▊                 | 962kB 17.4MB/s eta 0:00:01\r\u001b[K     |███████████████                 | 972kB 17.4MB/s eta 0:00:01\r\u001b[K     |███████████████                 | 983kB 17.4MB/s eta 0:00:01\r\u001b[K     |███████████████▏                | 993kB 17.4MB/s eta 0:00:01\r\u001b[K     |███████████████▍                | 1.0MB 17.4MB/s eta 0:00:01\r\u001b[K     |███████████████▌                | 1.0MB 17.4MB/s eta 0:00:01\r\u001b[K     |███████████████▊                | 1.0MB 17.4MB/s eta 0:00:01\r\u001b[K     |███████████████▉                | 1.0MB 17.4MB/s eta 0:00:01\r\u001b[K     |████████████████                | 1.0MB 17.4MB/s eta 0:00:01\r\u001b[K     |████████████████▏               | 1.1MB 17.4MB/s eta 0:00:01\r\u001b[K     |████████████████▎               | 1.1MB 17.4MB/s eta 0:00:01\r\u001b[K     |████████████████▌               | 1.1MB 17.4MB/s eta 0:00:01\r\u001b[K     |████████████████▋               | 1.1MB 17.4MB/s eta 0:00:01\r\u001b[K     |████████████████▊               | 1.1MB 17.4MB/s eta 0:00:01\r\u001b[K     |█████████████████               | 1.1MB 17.4MB/s eta 0:00:01\r\u001b[K     |█████████████████               | 1.1MB 17.4MB/s eta 0:00:01\r\u001b[K     |█████████████████▎              | 1.1MB 17.4MB/s eta 0:00:01\r\u001b[K     |█████████████████▍              | 1.1MB 17.4MB/s eta 0:00:01\r\u001b[K     |█████████████████▋              | 1.1MB 17.4MB/s eta 0:00:01\r\u001b[K     |█████████████████▊              | 1.2MB 17.4MB/s eta 0:00:01\r\u001b[K     |█████████████████▉              | 1.2MB 17.4MB/s eta 0:00:01\r\u001b[K     |██████████████████              | 1.2MB 17.4MB/s eta 0:00:01\r\u001b[K     |██████████████████▏             | 1.2MB 17.4MB/s eta 0:00:01\r\u001b[K     |██████████████████▍             | 1.2MB 17.4MB/s eta 0:00:01\r\u001b[K     |██████████████████▌             | 1.2MB 17.4MB/s eta 0:00:01\r\u001b[K     |██████████████████▋             | 1.2MB 17.4MB/s eta 0:00:01\r\u001b[K     |██████████████████▉             | 1.2MB 17.4MB/s eta 0:00:01\r\u001b[K     |███████████████████             | 1.2MB 17.4MB/s eta 0:00:01\r\u001b[K     |███████████████████▏            | 1.2MB 17.4MB/s eta 0:00:01\r\u001b[K     |███████████████████▎            | 1.3MB 17.4MB/s eta 0:00:01\r\u001b[K     |███████████████████▍            | 1.3MB 17.4MB/s eta 0:00:01\r\u001b[K     |███████████████████▋            | 1.3MB 17.4MB/s eta 0:00:01\r\u001b[K     |███████████████████▊            | 1.3MB 17.4MB/s eta 0:00:01\r\u001b[K     |████████████████████            | 1.3MB 17.4MB/s eta 0:00:01\r\u001b[K     |████████████████████            | 1.3MB 17.4MB/s eta 0:00:01\r\u001b[K     |████████████████████▎           | 1.3MB 17.4MB/s eta 0:00:01\r\u001b[K     |████████████████████▍           | 1.3MB 17.4MB/s eta 0:00:01\r\u001b[K     |████████████████████▌           | 1.3MB 17.4MB/s eta 0:00:01\r\u001b[K     |████████████████████▊           | 1.4MB 17.4MB/s eta 0:00:01\r\u001b[K     |████████████████████▉           | 1.4MB 17.4MB/s eta 0:00:01\r\u001b[K     |█████████████████████           | 1.4MB 17.4MB/s eta 0:00:01\r\u001b[K     |█████████████████████▏          | 1.4MB 17.4MB/s eta 0:00:01\r\u001b[K     |█████████████████████▎          | 1.4MB 17.4MB/s eta 0:00:01\r\u001b[K     |█████████████████████▌          | 1.4MB 17.4MB/s eta 0:00:01\r\u001b[K     |█████████████████████▋          | 1.4MB 17.4MB/s eta 0:00:01\r\u001b[K     |█████████████████████▉          | 1.4MB 17.4MB/s eta 0:00:01\r\u001b[K     |██████████████████████          | 1.4MB 17.4MB/s eta 0:00:01\r\u001b[K     |██████████████████████          | 1.4MB 17.4MB/s eta 0:00:01\r\u001b[K     |██████████████████████▎         | 1.5MB 17.4MB/s eta 0:00:01\r\u001b[K     |██████████████████████▍         | 1.5MB 17.4MB/s eta 0:00:01\r\u001b[K     |██████████████████████▋         | 1.5MB 17.4MB/s eta 0:00:01\r\u001b[K     |██████████████████████▊         | 1.5MB 17.4MB/s eta 0:00:01\r\u001b[K     |██████████████████████▉         | 1.5MB 17.4MB/s eta 0:00:01\r\u001b[K     |███████████████████████         | 1.5MB 17.4MB/s eta 0:00:01\r\u001b[K     |███████████████████████▏        | 1.5MB 17.4MB/s eta 0:00:01\r\u001b[K     |███████████████████████▍        | 1.5MB 17.4MB/s eta 0:00:01\r\u001b[K     |███████████████████████▌        | 1.5MB 17.4MB/s eta 0:00:01\r\u001b[K     |███████████████████████▊        | 1.5MB 17.4MB/s eta 0:00:01\r\u001b[K     |███████████████████████▉        | 1.6MB 17.4MB/s eta 0:00:01\r\u001b[K     |████████████████████████        | 1.6MB 17.4MB/s eta 0:00:01\r\u001b[K     |████████████████████████▏       | 1.6MB 17.4MB/s eta 0:00:01\r\u001b[K     |████████████████████████▎       | 1.6MB 17.4MB/s eta 0:00:01\r\u001b[K     |████████████████████████▌       | 1.6MB 17.4MB/s eta 0:00:01\r\u001b[K     |████████████████████████▋       | 1.6MB 17.4MB/s eta 0:00:01\r\u001b[K     |████████████████████████▊       | 1.6MB 17.4MB/s eta 0:00:01\r\u001b[K     |█████████████████████████       | 1.6MB 17.4MB/s eta 0:00:01\r\u001b[K     |█████████████████████████       | 1.6MB 17.4MB/s eta 0:00:01\r\u001b[K     |█████████████████████████▎      | 1.6MB 17.4MB/s eta 0:00:01\r\u001b[K     |█████████████████████████▍      | 1.7MB 17.4MB/s eta 0:00:01\r\u001b[K     |█████████████████████████▌      | 1.7MB 17.4MB/s eta 0:00:01\r\u001b[K     |█████████████████████████▊      | 1.7MB 17.4MB/s eta 0:00:01\r\u001b[K     |█████████████████████████▉      | 1.7MB 17.4MB/s eta 0:00:01\r\u001b[K     |██████████████████████████      | 1.7MB 17.4MB/s eta 0:00:01\r\u001b[K     |██████████████████████████▏     | 1.7MB 17.4MB/s eta 0:00:01\r\u001b[K     |██████████████████████████▍     | 1.7MB 17.4MB/s eta 0:00:01\r\u001b[K     |██████████████████████████▌     | 1.7MB 17.4MB/s eta 0:00:01\r\u001b[K     |██████████████████████████▋     | 1.7MB 17.4MB/s eta 0:00:01\r\u001b[K     |██████████████████████████▉     | 1.8MB 17.4MB/s eta 0:00:01\r\u001b[K     |███████████████████████████     | 1.8MB 17.4MB/s eta 0:00:01\r\u001b[K     |███████████████████████████▏    | 1.8MB 17.4MB/s eta 0:00:01\r\u001b[K     |███████████████████████████▎    | 1.8MB 17.4MB/s eta 0:00:01\r\u001b[K     |███████████████████████████▍    | 1.8MB 17.4MB/s eta 0:00:01\r\u001b[K     |███████████████████████████▋    | 1.8MB 17.4MB/s eta 0:00:01\r\u001b[K     |███████████████████████████▊    | 1.8MB 17.4MB/s eta 0:00:01\r\u001b[K     |████████████████████████████    | 1.8MB 17.4MB/s eta 0:00:01\r\u001b[K     |████████████████████████████    | 1.8MB 17.4MB/s eta 0:00:01\r\u001b[K     |████████████████████████████▏   | 1.8MB 17.4MB/s eta 0:00:01\r\u001b[K     |████████████████████████████▍   | 1.9MB 17.4MB/s eta 0:00:01\r\u001b[K     |████████████████████████████▌   | 1.9MB 17.4MB/s eta 0:00:01\r\u001b[K     |████████████████████████████▊   | 1.9MB 17.4MB/s eta 0:00:01\r\u001b[K     |████████████████████████████▉   | 1.9MB 17.4MB/s eta 0:00:01\r\u001b[K     |█████████████████████████████   | 1.9MB 17.4MB/s eta 0:00:01\r\u001b[K     |█████████████████████████████▏  | 1.9MB 17.4MB/s eta 0:00:01\r\u001b[K     |█████████████████████████████▎  | 1.9MB 17.4MB/s eta 0:00:01\r\u001b[K     |█████████████████████████████▌  | 1.9MB 17.4MB/s eta 0:00:01\r\u001b[K     |█████████████████████████████▋  | 1.9MB 17.4MB/s eta 0:00:01\r\u001b[K     |█████████████████████████████▉  | 1.9MB 17.4MB/s eta 0:00:01\r\u001b[K     |██████████████████████████████  | 2.0MB 17.4MB/s eta 0:00:01\r\u001b[K     |██████████████████████████████  | 2.0MB 17.4MB/s eta 0:00:01\r\u001b[K     |██████████████████████████████▎ | 2.0MB 17.4MB/s eta 0:00:01\r\u001b[K     |██████████████████████████████▍ | 2.0MB 17.4MB/s eta 0:00:01\r\u001b[K     |██████████████████████████████▋ | 2.0MB 17.4MB/s eta 0:00:01\r\u001b[K     |██████████████████████████████▊ | 2.0MB 17.4MB/s eta 0:00:01\r\u001b[K     |██████████████████████████████▉ | 2.0MB 17.4MB/s eta 0:00:01\r\u001b[K     |███████████████████████████████ | 2.0MB 17.4MB/s eta 0:00:01\r\u001b[K     |███████████████████████████████▏| 2.0MB 17.4MB/s eta 0:00:01\r\u001b[K     |███████████████████████████████▍| 2.0MB 17.4MB/s eta 0:00:01\r\u001b[K     |███████████████████████████████▌| 2.1MB 17.4MB/s eta 0:00:01\r\u001b[K     |███████████████████████████████▊| 2.1MB 17.4MB/s eta 0:00:01\r\u001b[K     |███████████████████████████████▉| 2.1MB 17.4MB/s eta 0:00:01\r\u001b[K     |████████████████████████████████| 2.1MB 17.4MB/s eta 0:00:01\r\u001b[K     |████████████████████████████████| 2.1MB 17.4MB/s \n",
            "\u001b[?25hRequirement already satisfied: numpy in /usr/local/lib/python3.7/dist-packages (from mitdeeplearning) (1.19.5)\n",
            "Requirement already satisfied: regex in /usr/local/lib/python3.7/dist-packages (from mitdeeplearning) (2019.12.20)\n",
            "Requirement already satisfied: tqdm in /usr/local/lib/python3.7/dist-packages (from mitdeeplearning) (4.41.1)\n",
            "Requirement already satisfied: gym in /usr/local/lib/python3.7/dist-packages (from mitdeeplearning) (0.17.3)\n",
            "Requirement already satisfied: pyglet<=1.5.0,>=1.4.0 in /usr/local/lib/python3.7/dist-packages (from gym->mitdeeplearning) (1.5.0)\n",
            "Requirement already satisfied: cloudpickle<1.7.0,>=1.2.0 in /usr/local/lib/python3.7/dist-packages (from gym->mitdeeplearning) (1.3.0)\n",
            "Requirement already satisfied: scipy in /usr/local/lib/python3.7/dist-packages (from gym->mitdeeplearning) (1.4.1)\n",
            "Requirement already satisfied: future in /usr/local/lib/python3.7/dist-packages (from pyglet<=1.5.0,>=1.4.0->gym->mitdeeplearning) (0.16.0)\n",
            "Building wheels for collected packages: mitdeeplearning\n",
            "  Building wheel for mitdeeplearning (setup.py) ... \u001b[?25l\u001b[?25hdone\n",
            "  Created wheel for mitdeeplearning: filename=mitdeeplearning-0.2.0-cp37-none-any.whl size=2115442 sha256=4487c7c2fe26e0da66cbe3374ff47d5f3430aa02f565f971e67431e9cb7c5abc\n",
            "  Stored in directory: /root/.cache/pip/wheels/af/dc/2a/5c3633135e7e4ef4fd31463cfa1942cb1bae7486ab94e7a2ad\n",
            "Successfully built mitdeeplearning\n",
            "Installing collected packages: mitdeeplearning\n",
            "Successfully installed mitdeeplearning-0.2.0\n"
          ],
          "name": "stdout"
        }
      ]
    },
    {
      "cell_type": "markdown",
      "metadata": {
        "id": "12kd7ooJOWjZ"
      },
      "source": [
        "## Load Poems \n"
      ]
    },
    {
      "cell_type": "code",
      "metadata": {
        "id": "8FDuRchuZAce"
      },
      "source": [
        "#data_url = 'https://raw.githubusercontent.com/zkhandker/rupi-kaur/main/data/test.txt'\n",
        "#dataset = tf.keras.utils.get_file('test.txt',\n",
        "#    data_url)\n",
        "#dataset_dir = pathlib.Path(dataset).parent"
      ],
      "execution_count": 2,
      "outputs": []
    },
    {
      "cell_type": "code",
      "metadata": {
        "id": "0xUmL3QzfluV"
      },
      "source": [
        "# tf.io.gfile.remove(dataset_dir/'test2.txt')"
      ],
      "execution_count": null,
      "outputs": []
    },
    {
      "cell_type": "code",
      "metadata": {
        "id": "x5esSklXciP2"
      },
      "source": [
        "#list(dataset_dir.iterdir())"
      ],
      "execution_count": null,
      "outputs": []
    },
    {
      "cell_type": "code",
      "metadata": {
        "id": "suMjf1EPcXkL"
      },
      "source": [
        "#sample_file = dataset_dir/'test.txt'\n",
        "#with open(sample_file) as f:\n",
        "  #print(f.read())\n",
        "#  sentence=f.read()\n",
        "#  print(sentence)"
      ],
      "execution_count": null,
      "outputs": []
    },
    {
      "cell_type": "code",
      "metadata": {
        "id": "PYSGRMuTI0op",
        "outputId": "9a2e8632-90a5-49bf-b49a-b8474bcb6326",
        "colab": {
          "base_uri": "https://localhost:8080/"
        }
      },
      "source": [
        "path_to_file = tf.keras.utils.get_file('combined2', 'https://raw.githubusercontent.com/zkhandker/rupi-kaur/main/data/combined2.txt')\n",
        "with open(path_to_file) as f: \n",
        "  poems = f.read()\n",
        "  #print(poems)"
      ],
      "execution_count": 3,
      "outputs": [
        {
          "output_type": "stream",
          "text": [
            "Downloading data from https://raw.githubusercontent.com/zkhandker/rupi-kaur/main/data/combined2.txt\n",
            "73728/66843 [=================================] - 0s 2us/step\n"
          ],
          "name": "stdout"
        }
      ]
    },
    {
      "cell_type": "markdown",
      "metadata": {
        "id": "CF-KDgzwREqj"
      },
      "source": [
        "## Vectorize Poems \n"
      ]
    },
    {
      "cell_type": "code",
      "metadata": {
        "id": "WuOEcJy67AK3"
      },
      "source": [
        "#test=poems[0:146]\n",
        "#test2=test.splitlines(keepends=True)\n",
        "#test3=[line for line in test2 if line != '\\n']\n",
        "#test4=' '.join(test3)\n",
        "#test5=test4.replace(\"\\n\",\" :\")\n",
        "#tokens = list(test5.lower().split())\n",
        "#tokens"
      ],
      "execution_count": 145,
      "outputs": []
    },
    {
      "cell_type": "code",
      "metadata": {
        "id": "afqD5vsbABrF",
        "outputId": "2c0dab6e-a9f4-4733-8add-19c08deb1a55",
        "colab": {
          "base_uri": "https://localhost:8080/"
        }
      },
      "source": [
        "temp=poems\n",
        "temp2=temp.splitlines(keepends=True)\n",
        "temp3=[line for line in temp2 if line != '\\n']\n",
        "temp4=' '.join(temp3)\n",
        "temp5=temp4.replace(\"\\n\",\" :\")\n",
        "tokens = list(temp5.lower().split())\n",
        "len(tokens)"
      ],
      "execution_count": 144,
      "outputs": [
        {
          "output_type": "execute_result",
          "data": {
            "text/plain": [
              "15942"
            ]
          },
          "metadata": {
            "tags": []
          },
          "execution_count": 144
        }
      ]
    },
    {
      "cell_type": "code",
      "metadata": {
        "colab": {
          "base_uri": "https://localhost:8080/"
        },
        "id": "mRs_tAifGTjO",
        "outputId": "ff448386-6710-4d6e-9001-878a76d11530"
      },
      "source": [
        "#sentence = \"The wide road shimmered in the hot sun\"\n",
        "#tokens = list(poems.lower().split())\n",
        "#print(len(tokens))"
      ],
      "execution_count": 88,
      "outputs": [
        {
          "output_type": "stream",
          "text": [
            "13374\n"
          ],
          "name": "stdout"
        }
      ]
    },
    {
      "cell_type": "code",
      "metadata": {
        "colab": {
          "base_uri": "https://localhost:8080/"
        },
        "id": "PoMmec0_GtiY",
        "outputId": "3f30b741-25c1-4714-dc8f-7bef9c3bf4ef"
      },
      "source": [
        "vocab, index = {}, 1 # start indexing from 1\n",
        "vocab['<pad>'] = 0 # add a padding token \n",
        "for token in tokens:\n",
        "  if token not in vocab: \n",
        "    vocab[token] = index\n",
        "    index += 1\n",
        "vocab_size = len(vocab)\n",
        "print(vocab)\n",
        "print(vocab_size)"
      ],
      "execution_count": 146,
      "outputs": [
        {
          "output_type": "stream",
          "text": [
            "{'<pad>': 0, 'how': 1, 'is': 2, 'it': 3, 'so': 4, 'easy': 5, 'for': 6, 'you': 7, ':': 8, 'to': 9, 'be': 10, 'kind': 11, 'people': 12, 'he': 13, 'asked': 14, 'milk': 15, 'and': 16, 'honey': 17, 'dripped': 18, 'from': 19, 'my': 20, 'lips': 21, 'as': 22, 'i': 23, 'answered': 24, 'cause': 25, 'have': 26, 'not': 27, 'been': 28, 'me': 29, 'the': 30, 'first': 31, 'boy': 32, 'that': 33, 'kissed': 34, 'held': 35, 'shoulders': 36, 'down': 37, 'like': 38, 'handlebars': 39, 'of': 40, 'bicycle': 41, 'ever': 42, 'rode': 43, 'was': 44, 'five': 45, 'had': 46, 'smell': 47, 'starvation': 48, 'on': 49, 'his': 50, 'which': 51, 'picked': 52, 'up': 53, 'father': 54, 'feasting': 55, 'mother': 56, 'at': 57, '4': 58, 'a.m.': 59, 'teach': 60, 'body': 61, 'giving': 62, 'those': 63, 'wanted': 64, 'should': 65, 'feel': 66, 'anything': 67, 'less': 68, 'than': 69, 'whole': 70, 'god': 71, 'did': 72, 'empty': 73, '4:25': 74, \"i've\": 75, 'sex': 76, 'she': 77, 'said': 78, 'but': 79, \"don't\": 80, 'know': 81, 'what': 82, 'making': 83, 'love': 84, 'feels': 85, 'came': 86, 'all': 87, 'this': 88, 'way': 89, 'give': 90, 'these': 91, 'things': 92, \"aren't\": 93, 'even': 94, 'looking': 95, 'abused': 96, 'abuser': 97, '-': 98, 'both': 99, 'am': 100, 'undoing': 101, 'skin': 102, \"wasn't\": 103, 'kissing': 104, 'ó': 105, 'mistaken': 106, 'him': 107, 'mind': 108, 'your': 109, 'were': 110, 'just': 111, 'convenient': 112, 'always': 113, 'comes': 114, 'back': 115, 'boils': 116, 'circles': 117, 'itches': 118, 'its': 119, 'music': 120, 'ears': 121, 'cut': 122, 'off': 123, 'tongue': 124, 'sour': 125, 'hunger': 126, 'missing': 127, 'will': 128, 'build': 129, 'into': 130, 'life': 131, 'when': 132, 'want': 133, 'a': 134, 'with': 135, 'difference': 136, 'if': 137, 'knew': 138, 'safety': 139, 'looked': 140, 'would': 141, 'spent': 142, 'time': 143, 'falling': 144, 'arms': 145, 'rivers': 146, 'fall': 147, 'mouth': 148, 'tears': 149, 'eyes': 150, \"can't\": 151, 'carry': 152, 'are': 153, 'snakeskin': 154, 'keep': 155, 'shedding': 156, 'somehow': 157, 'forgetting': 158, 'every': 159, 'exquisite': 160, 'detail': 161, 'face': 162, 'letting': 163, 'go': 164, 'has': 165, 'become': 166, 'most': 167, 'pleasant': 168, 'saddest': 169, 'thing': 170, 'happened': 171, 'wrong': 172, 'leaving': 173, 'coming': 174, 'thinking': 175, 'could': 176, 'leave': 177, 'can': 178, 'write': 179, 'took': 180, 'hands': 181, 'neither': 182, 'us': 183, 'happy': 184, 'wants': 185, 'we': 186, 'breaking': 187, 'one': 188, 'another': 189, 'calling': 190, 'began': 191, 'honesty': 192, 'let': 193, 'end': 194, 'in': 195, 'too': 196, 'voice': 197, 'alone': 198, 'drives': 199, 'why': 200, 'split': 201, 'myself': 202, 'open': 203, 'others': 204, 'knowing': 205, 'sewing': 206, 'hurts': 207, 'much': 208, 'afterward': 209, 'they': 210, 'left': 211, 'stays': 212, 'takes': 213, 'consent': 214, 'two': 215, 'person': 216, 'lying': 217, 'there': 218, 'doing': 219, 'ready': 220, 'or': 221, 'mood': 222, 'simply': 223, 'yet': 224, 'other': 225, 'having': 226, 'their': 227, \"it's\": 228, 'rape': 229, 'cruel': 230, 'game': 231, 'made': 232, 'out': 233, 'our': 234, 'die': 235, 'written': 236, 'pages': 237, 'after': 238, 'hurt': 239, 'loss': 240, 'pain': 241, 'still': 242, 'only': 243, 'undressed': 244, 'under': 245, 'night': 246, 'woke': 247, 'broken': 248, 'place': 249, 'put': 250, 'pieces': 251, 'bags': 252, 'stay': 253, 'whispered': 254, 'shut': 255, 'door': 256, 'behind': 257, 'confident': 258, 'over': 259, 'you.': 260, 'some': 261, 'mornings': 262, 'wake': 263, 'smile': 264, 'pressed': 265, 'together': 266, 'thanking': 267, 'universe': 268, 'pulling': 269, 'me.': 270, 'thank': 271, 'cry.': 272, 'left.': 273, 'empire': 274, 'today': 275, 'stayed.': 276, 'then.': 277, 'nights': 278, 'imagine': 279, 'might': 280, 'do': 281, 'showed': 282, 'up.': 283, 'walked': 284, 'room': 285, 'very': 286, 'second': 287, 'awful': 288, \"you've\": 289, 'done': 290, 'tossed': 291, 'closest': 292, 'window': 293, 'rise': 294, 'again.': 295, 'pour': 296, 'through': 297, 'never': 298, 'really': 299, 'place.': 300, 'practicing': 301, 'silent': 302, 'long': 303, 'loud': 304, 'arrival.': 305, 'someone': 306, 'explain': 307, 'that.': 308, 'leaves.': 309, \"doesn't\": 310, 'leave.': 311, 'past': 312, 'helplessly': 313, 'brought': 314, \"isn't\": 315, 'head': 316, 'sobbed': 317, 'heart': 318, 'wilting': 319, 'friends': 320, 'more': 321, 'idea': 322, 'capable': 323, 'choose': 324, 'toxic': 325, 'losing': 326, 'parts': 327, 'lose': 328, 'eyelashes': 329, 'unknowingly': 330, 'everywhere': 331, 'cannot': 332, 'exist': 333, 'places': 334, 'once': 335, 'ask': 336, 'water': 337, 'soft': 338, 'enough': 339, 'offer': 340, 'tough': 341, 'drown': 342, 'away': 343, 'miss': 344, 'loved': 345, \"didn't\": 346, 'was.': 347, 'reflection': 348, 'everything': 349, 'gave': 350, 'see': 351, 'how.': 352, 'sit': 353, 'here': 354, 'soaking': 355, 'no': 356, 'else': 357, 'way.': 358, 'taught': 359, 'fill.': 360, 'needed': 361, 'filled.': 362, 'myself.': 363, 'credit': 364, 'warmth': 365, 'because': 366, 'felt': 367, 'it.': 368, 'who': 369, 'strength.': 370, 'wit.': 371, 'beauty.': 372, 'recognized': 373, 'already': 374, 'before': 375, 'met': 376, 'remain': 377, 'gone': 378, 'abandon': 379, 'linger': 380, 'think': 381, 'okay': 382, 'return': 383, 'tell': 384, 'about': 385, 'selfish': 386, 'people.': 387, 'walk': 388, 'taste': 389, 'type': 390, 'being': 391, 'on.': 392, 'shine': 393, 'felt.': 394, 'gotten': 395, 'good': 396, 'look': 397, 'offer.': 398, 'taken': 399, 'hair': 400, 'secrets': 401, 'them.': 402, 'realize': 403, 'real': 404, 'is.': 405, 'storm': 406, 'hits': 407, 'cowardice': 408, 'sets': 409, 'in.': 410, 'thought': 411, 'replaced': 412, 'by': 413, 'sad': 414, 'reality': 415, 'are.': 416, 'fighting': 417, 'bone': 418, 'saying': 419, 'find': 420, 'better': 421, 'stand': 422, 'naked': 423, 'half': 424, 'them': 425, 'hidden': 426, 'somewhere': 427, 'inside': 428, 'sob.': 429, 'asking': 430, 'forced': 431, 'intention': 432, 'loving': 433, \"they'll\": 434, 'say': 435, 'something': 436, 'along': 437, 'lines': 438, 'try.': 439, 'chance.': 440, 'all.': 441, 'romantic.': 442, 'sweet.': 443, 'engulfed': 444, 'existence': 445, 'risk': 446, 'sake': 447, \"weren't\": 448, 'out.': 449, 'meant': 450, 'little': 451, 'next': 452, 'curiosity': 453, 'gamble': 454, 'entire': 455, 'beings.': 456, 'souls': 457, 'please': 458, 'own.': 459, 'holding': 460, 'world': 461, 'lap': 462, 'belittled': 463, 'mere': 464, 'picture.': 465, 'moment.': 466, 'past.': 467, 'second.': 468, 'swallow': 469, 'whisper': 470, 'spend': 471, 'rest': 472, 'moment': 473, 'sense': 474, 'fear.': 475, 'halfway': 476, 'door.': 477, 'without': 478, 'nerve': 479, 'grace.': 480, 'human': 481, 'means': 482, 'this.': 483, 'taking.': 484, 'nerve.': 485, 'funny': 486, 'guts': 487, 'days': 488, 'undress': 489, 'fingers': 490, 'pick': 491, 'phone': 492, 'call.': 493, 'apologize.': 494, 'loss.': 495, 'her.': 496, 'list': 497, '(after': 498, 'breakup):': 499, '1.': 500, 'take': 501, 'refuge': 502, 'bed.': 503, '2.': 504, 'till': 505, 'stop': 506, '(this': 507, 'few': 508, 'days).': 509, '3.': 510, 'listen': 511, 'slow': 512, 'songs.': 513, '4.': 514, 'delete': 515, 'number': 516, 'though': 517, 'memorized': 518, 'fingertips.': 519, '5.': 520, 'old': 521, 'photos.': 522, '6.': 523, 'ice': 524, 'cream': 525, 'shop': 526, 'treat': 527, 'yourself': 528, 'scoops': 529, 'mint': 530, 'chocolate': 531, 'chip.': 532, 'calm': 533, 'heart.': 534, 'deserve': 535, 'chocolate.': 536, '7.': 537, 'buy': 538, 'new': 539, 'bed': 540, 'sheets.': 541, '8.': 542, 'collect': 543, 'gifts,': 544, 't-shirts,': 545, 'drop': 546, 'donation': 547, 'center.': 548, '9.': 549, 'plan': 550, 'trip.': 551, '10.': 552, 'perfect': 553, 'art': 554, 'smiling': 555, 'nodding': 556, 'brings': 557, 'name': 558, 'conversation.': 559, '11.': 560, 'start': 561, 'project.': 562, '12.': 563, 'whatever': 564, 'do.': 565, '13.': 566, 'beg': 567, 'does': 568, 'stay.': 569, '14.': 570, 'crying': 571, 'point.': 572, '15.': 573, 'allow': 574, 'foolish': 575, 'believing': 576, \"could've\": 577, 'built': 578, \"else's\": 579, 'stomach.': 580, '16.': 581, 'breathe.': 582, 'tells': 583, 'bigger': 584, 'illusion': 585, 'woman': 586, 'bring': 587, 'dishonor': 588, 'home': 589, 'tries': 590, 'her': 591, 'safe': 592, 'perhaps': 593, 'nice': 594, 'paying': 595, 'sins': 596, 'remember': 597, 'writing': 598, 'healing': 599, 'destroying': 600, 'bother': 601, 'make': 602, 'must': 603, 'enter': 604, 'relationship': 605, 'anyone': 606, 'accept': 607, 'painful': 608, 'moving': 609, 'healthiest': 610, 'move': 611, 'part': 612, 'experience': 613, 'afraid': 614, 'evolving': 615, 'loneliness': 616, 'sign': 617, 'desperate': 618, 'need': 619, 'habit': 620, 'co-depending': 621, 'lack': 622, 'tricked': 623, 'complete': 624, 'complement': 625, 'feet': 626, 'broke': 627, 'pinned': 628, 'legs': 629, 'ground': 630, 'demanded': 631, 'born': 632, 'weakness': 633, 'strength': 634, 'live': 635, 'waiting': 636, \"they're\": 637, 'sure': 638, 'exists': 639, '7': 640, 'billion': 641, 'strong': 642, 'grow': 643, 'flowers': 644, 'helped': 645, 'mine': 646, 'bloom': 647, 'beautifully': 648, 'dangerously': 649, 'loudly': 650, 'softly': 651, 'however': 652, 'reader': 653, 'taking': 654, 'balance': 655, 'grace': 656, 'situations': 657, 'solitude': 658, 'between': 659, 'telling': 660, 'actually': 661, 'sometimes': 662, 'apology': 663, 'nor': 664, 'late': 665, 'girls': 666, 'learn': 667, 'kiss': 668, 'closed': 669, 'phraseósomething': 670, 'unlike': 671, 'women': 672, 'call': 673, 'sisters': 674, 'order': 675, 'makes': 676, 'spit': 677, 'supposed': 678, 'proud': 679, 'relieved': 680, 'points': 681, 'growing': 682, 'remind': 683, 'guest': 684, 'warn': 685, 'outstep': 686, 'welcome': 687, 'again': 688, 'tear': 689, 'powerful': 690, 'completely': 691, 'found': 692, 'surroundings': 693, 'lost': 694, 'within': 695, 'hard': 696, 'believe': 697, 'tomorrow': 698, 'come': 699, 'difficult': 700, 'day': 701, 'get': 702, 'swear': 703, 'pass': 704, 'slowly': 705, 'promise': 706, 'stretch': 707, 'marks': 708, 'thighs': 709, \"we're\": 710, 'rough': 711, 'jungle': 712, 'wild': 713, 'feeling': 714, 'unafraid': 715, 'tend': 716, 'wounds': 717, 'utterly': 718, 'issue': 719, 'consider': 720, 'beautiful': 721, 'concept': 722, 'beauty': 723, 'centers': 724, 'around': 725, 'excluding': 726, 'wears': 727, 'garden': 728, 'definition': 729, 'big': 730, 'hooked': 731, 'noses': 732, 'pointing': 733, 'upward': 734, 'sky': 735, 'rising': 736, 'occasion': 737, 'color': 738, 'earth': 739, 'ancestors': 740, 'planted': 741, 'crops': 742, 'feed': 743, 'lineage': 744, 'thick': 745, 'tree': 746, 'trunks': 747, 'almonds': 748, 'deeply': 749, 'hooded': 750, 'conviction': 751, 'punjab': 752, 'flow': 753, 'bloodstream': 754, 'ones': 755, 'country': 756, 'backs': 757, 'stories': 758, 'books': 759, 'spine': 760, 'designed': 761, 'museum': 762, 'natural': 763, 'disasters': 764, 'grasp': 765, 'stunning': 766, 'sadness': 767, 'living': 768, \"shouldn't\": 769, 'becoming': 770, \"women's\": 771, 'bodies': 772, 'battlegrounds': 773, 'removing': 774, \"that's\": 775, 'keeping': 776, 'belong': 777, 'apparently': 778, 'ungraceful': 779, 'mention': 780, 'period': 781, 'public': 782, 'actual': 783, 'biology': 784, 'sell': 785, \"what's\": 786, \"woman's\": 787, 'inner': 788, 'workings': 789, 'recreational': 790, 'use': 791, 'seen': 792, 'while': 793, 'nature': 794, 'ugly': 795, 'dragon': 796, 'fly': 797, \"he's\": 798, 'apologize': 799, 'called': 800, 'pretty': 801, 'intelligent': 802, 'brave': 803, 'sorry': 804, 'sound': 805, 'simple': 806, \"you're\": 807, 'spirit': 808, 'crushed': 809, 'mountains': 810, 'now': 811, 'resilient': 812, 'extraordinary': 813, 'outlook': 814, 'cry': 815, 'hold': 816, 'heal': 817, 'happiness': 818, 'patient': 819, 'daughter': 820, 'kaur': 821, 'free': 822, 'removes': 823, 'shackles': 824, 'try': 825, 'bind': 826, 'uplifts': 827, 'equal': 828, 'any': 829, 'man': 830, 'state': 831, 'screams': 832, 'own': 833, 'wholly': 834, 'humbles': 835, 'calls': 836, 'says': 837, 'universal': 838, 'duty': 839, 'share': 840, 'humanity': 841, 'nurture': 842, 'serve': 843, 'sisterhood': 844, 'raise': 845, 'raising': 846, 'runs': 847, 'blood': 848, 'word': 849, 'itself': 850, 'existed': 851, 'identity': 852, 'liberation': 853, 'sikhi': 854, 'gives': 855, 'gold': 856, 'nothing': 857, 'purer': 858, 'aches': 859, 'helping': 860, 'ache': 861, 'spring': 862, 'goddess': 863, 'mouths': 864, 'soul': 865, 'mate': 866, 'bitter': 867, 'kindest': 868, 'forward': 869, 'recognize': 870, 'striking': 871, 'mean': 872, 'rooted': 873, 'deep': 874, 'help': 875, 'war': 876, 'naturally': 877, 'trying': 878, 'convince': 879, 'allowed': 880, 'space': 881, 'hand': 882, 'right': 883, 'shrinking': 884, 'hereditary': 885, 'importantly': 886, 'page': 887, 'where': 888, 'sitting': 889, 'degree': 890, 'job': 891, 'money': 892, 'matters': 893, 'except': 894, 'connection': 895, 'touched': 896, 'sink': 897, 'grounded': 898, 'searching': 899, 'point': 900, 'course': 901, 'successful': 902, 'crave': 903, 'success': 904, 'gain': 905, 'succeed': 906, 'heartbeat': 907, 'quickens': 908, 'birthing': 909, 'poems': 910, 'opening': 911, 'conceive': 912, 'lovemaking': 913, 'words': 914, 'erotic': 915, 'either': 916, 'lust': 917, 'terrifies': 918, 'foam': 919, 'envy': 920, 'sigh': 921, 'relief': 922, 'failing': 923, 'struggle': 924, 'celebrate': 925, 'each': 926, 'proven': 927, 'many': 928, 'work': 929, 'likes': 930, 'honest': 931, 'trade': 932, 'relatability': 933, 'young': 934, 'poets': 935, 'quiet': 936, 'opinions': 937, 'fire': 938, 'belly': 939, 'lightness': 940, 'heavy': 941, 'blade': 942, 'silk': 943, 'forget': 944, 'follow': 945, 'seva': 946, '(selfless': 947, 'service)': 948, 'youhe': 949, 'scraping': 950, 'cantaloupe': 951, 'clean': 952, 'offering': 953, 'absent': 954, 'border': 955, 'countries': 956, 'collateral': 957, 'damage': 958, 'paradox': 959, 'joins': 960, 'also': 961, 'splits': 962, 'apart': 963, 'emptying': 964, \"mother's\": 965, 'act': 966, 'disappearance': 967, 'learning': 968, 'shrink': 969, 'family': 970, 'daughters': 971, 'invisible': 972, 'repeat': 973, 'wish': 974, 'often': 975, 'reason': 976, 'alive': 977, 'heaving': 978, 'chest': 979, 'guess': 980, 'tenderness': 981, 'well': 982, 'same': 983, 'exhausted': 984, 'rage': 985, 'wear': 986, 'anger': 987, '(homage': 988, 'warsan': 989, \"shire's\": 990, 'inheritance)': 991, 'opens': 992, 'conversation': 993, 'dinner': 994, 'shoves': 995, 'hush': 996, 'speak': 997, 'full': 998, 'learned': 999, 'knees': 1000, 'pried': 1001, 'cousins': 1002, 'uncles': 1003, 'men': 1004, 'father.': 1005, 'particular.': 1006, \"i'm\": 1007, 'silence': 1008, 'stretches': 1009, 'lifetime': 1010, 'scramble': 1011, 'questions': 1012, 'going.': 1013, 'understand': 1014, 'feet.': 1015, 'blame': 1016, 'hurting': 1017, \"you'll\": 1018, 'care': 1019, 'mention.': 1020, 'aching': 1021, 'blood.': 1022, 'attention': 1023, 'collapse': 1024, 'daughter.': 1025, 'small': 1026, 'talk': 1027, 'plough': 1028, 'mostly': 1029, 'shocked.': 1030, 'rubber': 1031, 'against': 1032, 'an': 1033, 'wound.': 1034, 'begin': 1035, 'pushing': 1036, 'faster': 1037, 'faster.': 1038, 'nothing.': 1039, 'search': 1040, 'reaction': 1041, 'acting': 1042, 'videos': 1043, 'watch': 1044, \"one's\": 1045, 'looking.': 1046, 'imitate': 1047, 'moans.': 1048, 'hollow': 1049, 'hungry.': 1050, 'yes': 1051, 'quickly': 1052, 'sounds': 1053, 'rehearsed.': 1054, 'acting.': 1055, 'notice.': 1056, 'veins': 1057, 'terrified': 1058, 'looks': 1059, 'flinch': 1060, 'touch': 1061, 'fear': 1062, 'pregnant': 1063, 'child': 1064, 'four': 1065, 'pointed': 1066, 'swollen': 1067, 'confused': 1068, 'such': 1069, 'scooped': 1070, 'trunk': 1071, 'grown': 1072, 'age': 1073, 'changed': 1074, 'rested': 1075, 'energy': 1076, 'wanting': 1077, 'wait': 1078, \"won't\": 1079, 'sight': 1080, 'meet': 1081, \"it'll\": 1082, 'remembrance': 1083, 'marry': 1084, \"i'd\": 1085, 'son': 1086, 'revolution': 1087, 'starts': 1088, 'ends': 1089, 'asks': 1090, 'hope': 1091, 'form': 1092, 'favorite': 1093, 'herbs': 1094, 'gardens': 1095, 'therapist': 1096, 'doll': 1097, 'front': 1098, 'size': 1099, 'touching': 1100, 'spot': 1101, 'fingered': 1102, 'confession': 1103, \"how're\": 1104, 'pull': 1105, 'lump': 1106, 'throat': 1107, 'teeth': 1108, 'fine': 1109, 'numb': 1110, 'midweek': 1111, 'sessions': 1112, 'crumble': 1113, 'reasons': 1114, 'sun': 1115, 'faint': 1116, 'line': 1117, 'faith': 1118, 'blindly': 1119, 'letter': 1120, 'future': 1121, 'lover': 1122, 'safer': 1123, 'reading': 1124, 'date': 1125, 'placed': 1126, 'reaching': 1127, 'waist': 1128, 'hips': 1129, 'touches': 1130, 'surprised': 1131, 'goddamn': 1132, 'spread': 1133, 'easel': 1134, 'canvas': 1135, 'begging': 1136, 'fill': 1137, 'light': 1138, 'city': 1139, 'then': 1140, 'combined': 1141, 'set': 1142, 'melt': 1143, 'play': 1144, 'games': 1145, 'knows': 1146, 'speechless': 1147, 'truth': 1148, 'weak': 1149, 'forgets': 1150, 'language': 1151, 'company': 1152, 'packaging': 1153, 'foró': 1154, 'stops': 1155, 'midsentence': 1156, 'pay': 1157, 'bills': 1158, 'crazy': 1159, 'keeps': 1160, 'show': 1161, 'tips': 1162, 'forearm': 1163, 'graze': 1164, 'wrist': 1165, 'goose': 1166, 'bumps': 1167, 'surface': 1168, 'clench': 1169, 'muscles': 1170, 'tighten': 1171, 'pore': 1172, 'blink': 1173, 'break': 1174, 'gaze': 1175, 'inches': 1176, 'toward': 1177, 'step': 1178, 'command': 1179, 'cheeks': 1180, 'flush': 1181, 'shyly': 1182, 'confessing': 1183, 'loves': 1184, 'irrelevant': 1185, 'turn': 1186, 'forest': 1187, 'running': 1188, 'strongest': 1189, 'positive': 1190, 'negative': 1191, 'connotation': 1192, 'lights': 1193, 'leaves': 1194, 'whispers': 1195, 'ear': 1196, 'ways': 1197, 'undresses': 1198, 'male': 1199, 'french': 1200, 'wrap': 1201, 'foreplay': 1202, 'run': 1203, 'willing': 1204, 'exactly': 1205, 'hears': 1206, 'understanding': 1207, 'demand': 1208, 'dance': 1209, 'solo': 1210, 'performance': 1211, \"we've\": 1212, 'arguing': 1213, 'ought': 1214, 'to.': 1215, 'avoid': 1216, 'questions.': 1217, 'instead': 1218, 'used': 1219, 'fight': 1220, 'like:': 1221, 'first.': 1222, 'pop': 1223, 'frozen': 1224, 'pizza': 1225, 'oven': 1226, 'work.': 1227, 'vulnerable': 1228, 'another.': 1229, 'thorns': 1230, 'honey.': 1231, 'hurts.': 1232, 'table': 1233, 'tonight.': 1234, 'sleep.': 1235, 'last': 1236, 'week': 1237, 'working': 1238, 'late.': 1239, \"you'd\": 1240, 'couple': 1241, 'hours': 1242, 'ago.': 1243, 'hours.': 1244, 'know.': 1245, 'excuses': 1246, 'world.': 1247, 'carried': 1248, 'eventually': 1249, 'crying.': 1250, 'expect': 1251, 'baby.': 1252, 'much.': 1253, 'lying.': 1254, 'frustration.': 1255, 'stop.': 1256, 'tired': 1257, 'sick': 1258, 'toxin': 1259, 'burnt': 1260, 'holes': 1261, 'cheeks.': 1262, 'faces.': 1263, 'kid': 1264, 'yourself.': 1265, 'matter': 1266, 'bad': 1267, 'gets': 1268, 'wanna': 1269, 'nail': 1270, 'ground.': 1271, 'especially': 1272, 'screaming': 1273, 'wakes': 1274, 'neighbors.': 1275, 'save': 1276, 'us.': 1277, 'baby': 1278, 'instead.': 1279, 'lie': 1280, 'down.': 1281, 'lay': 1282, 'map.': 1283, 'finger': 1284, 'trace': 1285, '****': 1286, 'center': 1287, 'gravity': 1288, 'focal': 1289, 'yours.': 1290, 'places.': 1291, 'habit.': 1292, 'when.': 1293, 'home.': 1294, 'street': 1295, 'windows': 1296, 'wondering': 1297, 'commotion': 1298, 'trucks': 1299, 'rolling': 1300, 'distinguish': 1301, 'whether': 1302, 'flames': 1303, 'passion.': 1304, 'smile.': 1305, 'throw': 1306, 'back.': 1307, 'arch': 1308, 'mountain': 1309, 'half.': 1310, 'lick': 1311, 'gift': 1312, 'book.': 1313, 'read': 1314, 'carefully.': 1315, 'fluently.': 1316, 'vividly.': 1317, 'dare': 1318, 'single': 1319, 'untouched.': 1320, 'ending': 1321, 'good.': 1322, 'come.': 1323, 'mouth.': 1324, 'done.': 1325, 'seat.': 1326, 'sweet': 1327, 'flick': 1328, 'tongues.': 1329, 'decided': 1330, 'snap': 1331, 'defense': 1332, 'shout': 1333, 'defeated': 1334, 'parent': 1335, 'fix': 1336, 'wretched': 1337, 'distant': 1338, 'forgot': 1339, 'said.': 1340, 'be.': 1341, 'fate': 1342, 'together.': 1343, 'wonder': 1344, 'naive.': 1345, 'works': 1346, 'lives': 1347, 'staring': 1348, 'spends': 1349, 'placing': 1350, 'chess.': 1351, 'choices': 1352, 'make.': 1353, 'convinced': 1354, 'given': 1355, 'yours': 1356, 'use.': 1357, 'actions': 1358, 'define': 1359, 'scream': 1360, 'fool.': 1361, 'quietly.': 1362, 'quivering': 1363, 'thinking.': 1364, 'tragic': 1365, 'thing.': 1366, 'clearly': 1367, \"doesn't.\": 1368, 'mistake': 1369, 'salt': 1370, 'sugar': 1371, 'slips': 1372, 'waistband': 1373, 'pants': 1374, 'may': 1375, 'certainly': 1376, 'temptingly': 1377, 'stung': 1378, 'got': 1379, 'close': 1380, 'bootleg': 1381, 'version': 1382, 'am.': 1383, 'erase': 1384, 'punch': 1385, 'stomach': 1386, 'did.': 1387, 'body.': 1388, 'lick,': 1389, 'caress,': 1390, 'suck': 1391, 'replacement': 1392, 'slip.': 1393, 'excite': 1394, 'eyelids': 1395, 'pity': 1396, 'hit': 1397, 'busy': 1398, 'coffee': 1399, 'black': 1400, 'weep': 1401, 'drinking': 1402, 'rather': 1403, 'darkest': 1404, 'rose': 1405, 'manhood': 1406, 'curled': 1407, 'marinates': 1408, 'remembers': 1409, 'regret': 1410, 'stopped': 1411, 'longer': 1412, 'stayed': 1413, \"mustn't\": 1414, 'themselves': 1415, 'weekend': 1416, 'getaway': 1417, 'town': 1418, 'surrounding': 1419, 'heard': 1420, 'neon': 1421, 'skyscrapers': 1422, 'statues': 1423, 'thunder': 1424, 'bridges': 1425, 'tremble': 1426, 'meat': 1427, 'homemade': 1428, 'jam': 1429, 'sweetest': 1430, 'police': 1431, 'sirens': 1432, 'crackle': 1433, 'fireplace': 1434, 'burn': 1435, \"couldn't\": 1436, 'blush': 1437, 'hotel': 1438, 'whiskey': 1439, 'expectations': 1440, 'vacation': 1441, 'arrives': 1442, 'poetry': 1443, 'degrade': 1444, 'toxicity': 1445, 'central': 1446, 'douse': 1447, 'yell': 1448, 'confuse': 1449, 'kindness': 1450, 'seems': 1451, 'grows': 1452, 'trust': 1453, 'fathers': 1454, 'known': 1455, 'dipped': 1456, 'worth': 1457, 'question': 1458, 'problem': 1459, 'able': 1460, 'danger': 1461, 'rolls': 1462, 'accidently': 1463, 'everyone': 1464, 'tender': 1465, 'potential': 1466, 'allowing': 1467, 'now.': 1468, 'feel.': 1469, 'limiting': 1470, 'ripe': 1471, 'experienced': 1472, 'exhilarating': 1473, 'meet.': 1474, 'settling.': 1475, 'tasted': 1476, 'rawest': 1477, 'refined': 1478, 'synthetic.': 1479, 'beyond': 1480, 'add': 1481, 'years': 1482, 'combine': 1483, 'sweeter': 1484, 'falsehood': 1485, 'balanced': 1486, 'glow': 1487, 'angry': 1488, 'extremes': 1489, 'wings': 1490, 'grieve': 1491, 'shatter': 1492, 'iíve': 1493, 'donít': 1494, 'arenít': 1495, 'wasnít': 1496, 'canít': 1497, 'itís': 1498, 'youíve': 1499, 'doesnít': 1500, 'isnít': 1501, 'didnít': 1502, 'theyíll': 1503, 'werenít': 1504, 'couldíve': 1505, 'elseís': 1506, 'theyíre': 1507, 'weíre': 1508, 'shouldnít': 1509, 'womenís': 1510, 'thatís': 1511, 'whatís': 1512, 'womanís': 1513, 'heís': 1514, 'youíre': 1515, 'motherís': 1516, 'shireís': 1517, 'iím': 1518, 'youíll': 1519, 'oneís': 1520, 'wonít': 1521, 'itíll': 1522, 'iíd': 1523, 'howíre': 1524, 'weíve': 1525, 'youíd': 1526, 'doesnít.': 1527, 'mustnít': 1528, 'couldnít': 1529}\n",
            "1530\n"
          ],
          "name": "stdout"
        }
      ]
    },
    {
      "cell_type": "code",
      "metadata": {
        "colab": {
          "base_uri": "https://localhost:8080/"
        },
        "id": "oNj5VH7IHFPe",
        "outputId": "a56b32c9-c6b8-4adf-efbc-3c5d755d5fe6"
      },
      "source": [
        "inverse_vocab = {index: token for token, index in vocab.items()}\n",
        "print(inverse_vocab)"
      ],
      "execution_count": 147,
      "outputs": [
        {
          "output_type": "stream",
          "text": [
            "{0: '<pad>', 1: 'how', 2: 'is', 3: 'it', 4: 'so', 5: 'easy', 6: 'for', 7: 'you', 8: ':', 9: 'to', 10: 'be', 11: 'kind', 12: 'people', 13: 'he', 14: 'asked', 15: 'milk', 16: 'and', 17: 'honey', 18: 'dripped', 19: 'from', 20: 'my', 21: 'lips', 22: 'as', 23: 'i', 24: 'answered', 25: 'cause', 26: 'have', 27: 'not', 28: 'been', 29: 'me', 30: 'the', 31: 'first', 32: 'boy', 33: 'that', 34: 'kissed', 35: 'held', 36: 'shoulders', 37: 'down', 38: 'like', 39: 'handlebars', 40: 'of', 41: 'bicycle', 42: 'ever', 43: 'rode', 44: 'was', 45: 'five', 46: 'had', 47: 'smell', 48: 'starvation', 49: 'on', 50: 'his', 51: 'which', 52: 'picked', 53: 'up', 54: 'father', 55: 'feasting', 56: 'mother', 57: 'at', 58: '4', 59: 'a.m.', 60: 'teach', 61: 'body', 62: 'giving', 63: 'those', 64: 'wanted', 65: 'should', 66: 'feel', 67: 'anything', 68: 'less', 69: 'than', 70: 'whole', 71: 'god', 72: 'did', 73: 'empty', 74: '4:25', 75: \"i've\", 76: 'sex', 77: 'she', 78: 'said', 79: 'but', 80: \"don't\", 81: 'know', 82: 'what', 83: 'making', 84: 'love', 85: 'feels', 86: 'came', 87: 'all', 88: 'this', 89: 'way', 90: 'give', 91: 'these', 92: 'things', 93: \"aren't\", 94: 'even', 95: 'looking', 96: 'abused', 97: 'abuser', 98: '-', 99: 'both', 100: 'am', 101: 'undoing', 102: 'skin', 103: \"wasn't\", 104: 'kissing', 105: 'ó', 106: 'mistaken', 107: 'him', 108: 'mind', 109: 'your', 110: 'were', 111: 'just', 112: 'convenient', 113: 'always', 114: 'comes', 115: 'back', 116: 'boils', 117: 'circles', 118: 'itches', 119: 'its', 120: 'music', 121: 'ears', 122: 'cut', 123: 'off', 124: 'tongue', 125: 'sour', 126: 'hunger', 127: 'missing', 128: 'will', 129: 'build', 130: 'into', 131: 'life', 132: 'when', 133: 'want', 134: 'a', 135: 'with', 136: 'difference', 137: 'if', 138: 'knew', 139: 'safety', 140: 'looked', 141: 'would', 142: 'spent', 143: 'time', 144: 'falling', 145: 'arms', 146: 'rivers', 147: 'fall', 148: 'mouth', 149: 'tears', 150: 'eyes', 151: \"can't\", 152: 'carry', 153: 'are', 154: 'snakeskin', 155: 'keep', 156: 'shedding', 157: 'somehow', 158: 'forgetting', 159: 'every', 160: 'exquisite', 161: 'detail', 162: 'face', 163: 'letting', 164: 'go', 165: 'has', 166: 'become', 167: 'most', 168: 'pleasant', 169: 'saddest', 170: 'thing', 171: 'happened', 172: 'wrong', 173: 'leaving', 174: 'coming', 175: 'thinking', 176: 'could', 177: 'leave', 178: 'can', 179: 'write', 180: 'took', 181: 'hands', 182: 'neither', 183: 'us', 184: 'happy', 185: 'wants', 186: 'we', 187: 'breaking', 188: 'one', 189: 'another', 190: 'calling', 191: 'began', 192: 'honesty', 193: 'let', 194: 'end', 195: 'in', 196: 'too', 197: 'voice', 198: 'alone', 199: 'drives', 200: 'why', 201: 'split', 202: 'myself', 203: 'open', 204: 'others', 205: 'knowing', 206: 'sewing', 207: 'hurts', 208: 'much', 209: 'afterward', 210: 'they', 211: 'left', 212: 'stays', 213: 'takes', 214: 'consent', 215: 'two', 216: 'person', 217: 'lying', 218: 'there', 219: 'doing', 220: 'ready', 221: 'or', 222: 'mood', 223: 'simply', 224: 'yet', 225: 'other', 226: 'having', 227: 'their', 228: \"it's\", 229: 'rape', 230: 'cruel', 231: 'game', 232: 'made', 233: 'out', 234: 'our', 235: 'die', 236: 'written', 237: 'pages', 238: 'after', 239: 'hurt', 240: 'loss', 241: 'pain', 242: 'still', 243: 'only', 244: 'undressed', 245: 'under', 246: 'night', 247: 'woke', 248: 'broken', 249: 'place', 250: 'put', 251: 'pieces', 252: 'bags', 253: 'stay', 254: 'whispered', 255: 'shut', 256: 'door', 257: 'behind', 258: 'confident', 259: 'over', 260: 'you.', 261: 'some', 262: 'mornings', 263: 'wake', 264: 'smile', 265: 'pressed', 266: 'together', 267: 'thanking', 268: 'universe', 269: 'pulling', 270: 'me.', 271: 'thank', 272: 'cry.', 273: 'left.', 274: 'empire', 275: 'today', 276: 'stayed.', 277: 'then.', 278: 'nights', 279: 'imagine', 280: 'might', 281: 'do', 282: 'showed', 283: 'up.', 284: 'walked', 285: 'room', 286: 'very', 287: 'second', 288: 'awful', 289: \"you've\", 290: 'done', 291: 'tossed', 292: 'closest', 293: 'window', 294: 'rise', 295: 'again.', 296: 'pour', 297: 'through', 298: 'never', 299: 'really', 300: 'place.', 301: 'practicing', 302: 'silent', 303: 'long', 304: 'loud', 305: 'arrival.', 306: 'someone', 307: 'explain', 308: 'that.', 309: 'leaves.', 310: \"doesn't\", 311: 'leave.', 312: 'past', 313: 'helplessly', 314: 'brought', 315: \"isn't\", 316: 'head', 317: 'sobbed', 318: 'heart', 319: 'wilting', 320: 'friends', 321: 'more', 322: 'idea', 323: 'capable', 324: 'choose', 325: 'toxic', 326: 'losing', 327: 'parts', 328: 'lose', 329: 'eyelashes', 330: 'unknowingly', 331: 'everywhere', 332: 'cannot', 333: 'exist', 334: 'places', 335: 'once', 336: 'ask', 337: 'water', 338: 'soft', 339: 'enough', 340: 'offer', 341: 'tough', 342: 'drown', 343: 'away', 344: 'miss', 345: 'loved', 346: \"didn't\", 347: 'was.', 348: 'reflection', 349: 'everything', 350: 'gave', 351: 'see', 352: 'how.', 353: 'sit', 354: 'here', 355: 'soaking', 356: 'no', 357: 'else', 358: 'way.', 359: 'taught', 360: 'fill.', 361: 'needed', 362: 'filled.', 363: 'myself.', 364: 'credit', 365: 'warmth', 366: 'because', 367: 'felt', 368: 'it.', 369: 'who', 370: 'strength.', 371: 'wit.', 372: 'beauty.', 373: 'recognized', 374: 'already', 375: 'before', 376: 'met', 377: 'remain', 378: 'gone', 379: 'abandon', 380: 'linger', 381: 'think', 382: 'okay', 383: 'return', 384: 'tell', 385: 'about', 386: 'selfish', 387: 'people.', 388: 'walk', 389: 'taste', 390: 'type', 391: 'being', 392: 'on.', 393: 'shine', 394: 'felt.', 395: 'gotten', 396: 'good', 397: 'look', 398: 'offer.', 399: 'taken', 400: 'hair', 401: 'secrets', 402: 'them.', 403: 'realize', 404: 'real', 405: 'is.', 406: 'storm', 407: 'hits', 408: 'cowardice', 409: 'sets', 410: 'in.', 411: 'thought', 412: 'replaced', 413: 'by', 414: 'sad', 415: 'reality', 416: 'are.', 417: 'fighting', 418: 'bone', 419: 'saying', 420: 'find', 421: 'better', 422: 'stand', 423: 'naked', 424: 'half', 425: 'them', 426: 'hidden', 427: 'somewhere', 428: 'inside', 429: 'sob.', 430: 'asking', 431: 'forced', 432: 'intention', 433: 'loving', 434: \"they'll\", 435: 'say', 436: 'something', 437: 'along', 438: 'lines', 439: 'try.', 440: 'chance.', 441: 'all.', 442: 'romantic.', 443: 'sweet.', 444: 'engulfed', 445: 'existence', 446: 'risk', 447: 'sake', 448: \"weren't\", 449: 'out.', 450: 'meant', 451: 'little', 452: 'next', 453: 'curiosity', 454: 'gamble', 455: 'entire', 456: 'beings.', 457: 'souls', 458: 'please', 459: 'own.', 460: 'holding', 461: 'world', 462: 'lap', 463: 'belittled', 464: 'mere', 465: 'picture.', 466: 'moment.', 467: 'past.', 468: 'second.', 469: 'swallow', 470: 'whisper', 471: 'spend', 472: 'rest', 473: 'moment', 474: 'sense', 475: 'fear.', 476: 'halfway', 477: 'door.', 478: 'without', 479: 'nerve', 480: 'grace.', 481: 'human', 482: 'means', 483: 'this.', 484: 'taking.', 485: 'nerve.', 486: 'funny', 487: 'guts', 488: 'days', 489: 'undress', 490: 'fingers', 491: 'pick', 492: 'phone', 493: 'call.', 494: 'apologize.', 495: 'loss.', 496: 'her.', 497: 'list', 498: '(after', 499: 'breakup):', 500: '1.', 501: 'take', 502: 'refuge', 503: 'bed.', 504: '2.', 505: 'till', 506: 'stop', 507: '(this', 508: 'few', 509: 'days).', 510: '3.', 511: 'listen', 512: 'slow', 513: 'songs.', 514: '4.', 515: 'delete', 516: 'number', 517: 'though', 518: 'memorized', 519: 'fingertips.', 520: '5.', 521: 'old', 522: 'photos.', 523: '6.', 524: 'ice', 525: 'cream', 526: 'shop', 527: 'treat', 528: 'yourself', 529: 'scoops', 530: 'mint', 531: 'chocolate', 532: 'chip.', 533: 'calm', 534: 'heart.', 535: 'deserve', 536: 'chocolate.', 537: '7.', 538: 'buy', 539: 'new', 540: 'bed', 541: 'sheets.', 542: '8.', 543: 'collect', 544: 'gifts,', 545: 't-shirts,', 546: 'drop', 547: 'donation', 548: 'center.', 549: '9.', 550: 'plan', 551: 'trip.', 552: '10.', 553: 'perfect', 554: 'art', 555: 'smiling', 556: 'nodding', 557: 'brings', 558: 'name', 559: 'conversation.', 560: '11.', 561: 'start', 562: 'project.', 563: '12.', 564: 'whatever', 565: 'do.', 566: '13.', 567: 'beg', 568: 'does', 569: 'stay.', 570: '14.', 571: 'crying', 572: 'point.', 573: '15.', 574: 'allow', 575: 'foolish', 576: 'believing', 577: \"could've\", 578: 'built', 579: \"else's\", 580: 'stomach.', 581: '16.', 582: 'breathe.', 583: 'tells', 584: 'bigger', 585: 'illusion', 586: 'woman', 587: 'bring', 588: 'dishonor', 589: 'home', 590: 'tries', 591: 'her', 592: 'safe', 593: 'perhaps', 594: 'nice', 595: 'paying', 596: 'sins', 597: 'remember', 598: 'writing', 599: 'healing', 600: 'destroying', 601: 'bother', 602: 'make', 603: 'must', 604: 'enter', 605: 'relationship', 606: 'anyone', 607: 'accept', 608: 'painful', 609: 'moving', 610: 'healthiest', 611: 'move', 612: 'part', 613: 'experience', 614: 'afraid', 615: 'evolving', 616: 'loneliness', 617: 'sign', 618: 'desperate', 619: 'need', 620: 'habit', 621: 'co-depending', 622: 'lack', 623: 'tricked', 624: 'complete', 625: 'complement', 626: 'feet', 627: 'broke', 628: 'pinned', 629: 'legs', 630: 'ground', 631: 'demanded', 632: 'born', 633: 'weakness', 634: 'strength', 635: 'live', 636: 'waiting', 637: \"they're\", 638: 'sure', 639: 'exists', 640: '7', 641: 'billion', 642: 'strong', 643: 'grow', 644: 'flowers', 645: 'helped', 646: 'mine', 647: 'bloom', 648: 'beautifully', 649: 'dangerously', 650: 'loudly', 651: 'softly', 652: 'however', 653: 'reader', 654: 'taking', 655: 'balance', 656: 'grace', 657: 'situations', 658: 'solitude', 659: 'between', 660: 'telling', 661: 'actually', 662: 'sometimes', 663: 'apology', 664: 'nor', 665: 'late', 666: 'girls', 667: 'learn', 668: 'kiss', 669: 'closed', 670: 'phraseósomething', 671: 'unlike', 672: 'women', 673: 'call', 674: 'sisters', 675: 'order', 676: 'makes', 677: 'spit', 678: 'supposed', 679: 'proud', 680: 'relieved', 681: 'points', 682: 'growing', 683: 'remind', 684: 'guest', 685: 'warn', 686: 'outstep', 687: 'welcome', 688: 'again', 689: 'tear', 690: 'powerful', 691: 'completely', 692: 'found', 693: 'surroundings', 694: 'lost', 695: 'within', 696: 'hard', 697: 'believe', 698: 'tomorrow', 699: 'come', 700: 'difficult', 701: 'day', 702: 'get', 703: 'swear', 704: 'pass', 705: 'slowly', 706: 'promise', 707: 'stretch', 708: 'marks', 709: 'thighs', 710: \"we're\", 711: 'rough', 712: 'jungle', 713: 'wild', 714: 'feeling', 715: 'unafraid', 716: 'tend', 717: 'wounds', 718: 'utterly', 719: 'issue', 720: 'consider', 721: 'beautiful', 722: 'concept', 723: 'beauty', 724: 'centers', 725: 'around', 726: 'excluding', 727: 'wears', 728: 'garden', 729: 'definition', 730: 'big', 731: 'hooked', 732: 'noses', 733: 'pointing', 734: 'upward', 735: 'sky', 736: 'rising', 737: 'occasion', 738: 'color', 739: 'earth', 740: 'ancestors', 741: 'planted', 742: 'crops', 743: 'feed', 744: 'lineage', 745: 'thick', 746: 'tree', 747: 'trunks', 748: 'almonds', 749: 'deeply', 750: 'hooded', 751: 'conviction', 752: 'punjab', 753: 'flow', 754: 'bloodstream', 755: 'ones', 756: 'country', 757: 'backs', 758: 'stories', 759: 'books', 760: 'spine', 761: 'designed', 762: 'museum', 763: 'natural', 764: 'disasters', 765: 'grasp', 766: 'stunning', 767: 'sadness', 768: 'living', 769: \"shouldn't\", 770: 'becoming', 771: \"women's\", 772: 'bodies', 773: 'battlegrounds', 774: 'removing', 775: \"that's\", 776: 'keeping', 777: 'belong', 778: 'apparently', 779: 'ungraceful', 780: 'mention', 781: 'period', 782: 'public', 783: 'actual', 784: 'biology', 785: 'sell', 786: \"what's\", 787: \"woman's\", 788: 'inner', 789: 'workings', 790: 'recreational', 791: 'use', 792: 'seen', 793: 'while', 794: 'nature', 795: 'ugly', 796: 'dragon', 797: 'fly', 798: \"he's\", 799: 'apologize', 800: 'called', 801: 'pretty', 802: 'intelligent', 803: 'brave', 804: 'sorry', 805: 'sound', 806: 'simple', 807: \"you're\", 808: 'spirit', 809: 'crushed', 810: 'mountains', 811: 'now', 812: 'resilient', 813: 'extraordinary', 814: 'outlook', 815: 'cry', 816: 'hold', 817: 'heal', 818: 'happiness', 819: 'patient', 820: 'daughter', 821: 'kaur', 822: 'free', 823: 'removes', 824: 'shackles', 825: 'try', 826: 'bind', 827: 'uplifts', 828: 'equal', 829: 'any', 830: 'man', 831: 'state', 832: 'screams', 833: 'own', 834: 'wholly', 835: 'humbles', 836: 'calls', 837: 'says', 838: 'universal', 839: 'duty', 840: 'share', 841: 'humanity', 842: 'nurture', 843: 'serve', 844: 'sisterhood', 845: 'raise', 846: 'raising', 847: 'runs', 848: 'blood', 849: 'word', 850: 'itself', 851: 'existed', 852: 'identity', 853: 'liberation', 854: 'sikhi', 855: 'gives', 856: 'gold', 857: 'nothing', 858: 'purer', 859: 'aches', 860: 'helping', 861: 'ache', 862: 'spring', 863: 'goddess', 864: 'mouths', 865: 'soul', 866: 'mate', 867: 'bitter', 868: 'kindest', 869: 'forward', 870: 'recognize', 871: 'striking', 872: 'mean', 873: 'rooted', 874: 'deep', 875: 'help', 876: 'war', 877: 'naturally', 878: 'trying', 879: 'convince', 880: 'allowed', 881: 'space', 882: 'hand', 883: 'right', 884: 'shrinking', 885: 'hereditary', 886: 'importantly', 887: 'page', 888: 'where', 889: 'sitting', 890: 'degree', 891: 'job', 892: 'money', 893: 'matters', 894: 'except', 895: 'connection', 896: 'touched', 897: 'sink', 898: 'grounded', 899: 'searching', 900: 'point', 901: 'course', 902: 'successful', 903: 'crave', 904: 'success', 905: 'gain', 906: 'succeed', 907: 'heartbeat', 908: 'quickens', 909: 'birthing', 910: 'poems', 911: 'opening', 912: 'conceive', 913: 'lovemaking', 914: 'words', 915: 'erotic', 916: 'either', 917: 'lust', 918: 'terrifies', 919: 'foam', 920: 'envy', 921: 'sigh', 922: 'relief', 923: 'failing', 924: 'struggle', 925: 'celebrate', 926: 'each', 927: 'proven', 928: 'many', 929: 'work', 930: 'likes', 931: 'honest', 932: 'trade', 933: 'relatability', 934: 'young', 935: 'poets', 936: 'quiet', 937: 'opinions', 938: 'fire', 939: 'belly', 940: 'lightness', 941: 'heavy', 942: 'blade', 943: 'silk', 944: 'forget', 945: 'follow', 946: 'seva', 947: '(selfless', 948: 'service)', 949: 'youhe', 950: 'scraping', 951: 'cantaloupe', 952: 'clean', 953: 'offering', 954: 'absent', 955: 'border', 956: 'countries', 957: 'collateral', 958: 'damage', 959: 'paradox', 960: 'joins', 961: 'also', 962: 'splits', 963: 'apart', 964: 'emptying', 965: \"mother's\", 966: 'act', 967: 'disappearance', 968: 'learning', 969: 'shrink', 970: 'family', 971: 'daughters', 972: 'invisible', 973: 'repeat', 974: 'wish', 975: 'often', 976: 'reason', 977: 'alive', 978: 'heaving', 979: 'chest', 980: 'guess', 981: 'tenderness', 982: 'well', 983: 'same', 984: 'exhausted', 985: 'rage', 986: 'wear', 987: 'anger', 988: '(homage', 989: 'warsan', 990: \"shire's\", 991: 'inheritance)', 992: 'opens', 993: 'conversation', 994: 'dinner', 995: 'shoves', 996: 'hush', 997: 'speak', 998: 'full', 999: 'learned', 1000: 'knees', 1001: 'pried', 1002: 'cousins', 1003: 'uncles', 1004: 'men', 1005: 'father.', 1006: 'particular.', 1007: \"i'm\", 1008: 'silence', 1009: 'stretches', 1010: 'lifetime', 1011: 'scramble', 1012: 'questions', 1013: 'going.', 1014: 'understand', 1015: 'feet.', 1016: 'blame', 1017: 'hurting', 1018: \"you'll\", 1019: 'care', 1020: 'mention.', 1021: 'aching', 1022: 'blood.', 1023: 'attention', 1024: 'collapse', 1025: 'daughter.', 1026: 'small', 1027: 'talk', 1028: 'plough', 1029: 'mostly', 1030: 'shocked.', 1031: 'rubber', 1032: 'against', 1033: 'an', 1034: 'wound.', 1035: 'begin', 1036: 'pushing', 1037: 'faster', 1038: 'faster.', 1039: 'nothing.', 1040: 'search', 1041: 'reaction', 1042: 'acting', 1043: 'videos', 1044: 'watch', 1045: \"one's\", 1046: 'looking.', 1047: 'imitate', 1048: 'moans.', 1049: 'hollow', 1050: 'hungry.', 1051: 'yes', 1052: 'quickly', 1053: 'sounds', 1054: 'rehearsed.', 1055: 'acting.', 1056: 'notice.', 1057: 'veins', 1058: 'terrified', 1059: 'looks', 1060: 'flinch', 1061: 'touch', 1062: 'fear', 1063: 'pregnant', 1064: 'child', 1065: 'four', 1066: 'pointed', 1067: 'swollen', 1068: 'confused', 1069: 'such', 1070: 'scooped', 1071: 'trunk', 1072: 'grown', 1073: 'age', 1074: 'changed', 1075: 'rested', 1076: 'energy', 1077: 'wanting', 1078: 'wait', 1079: \"won't\", 1080: 'sight', 1081: 'meet', 1082: \"it'll\", 1083: 'remembrance', 1084: 'marry', 1085: \"i'd\", 1086: 'son', 1087: 'revolution', 1088: 'starts', 1089: 'ends', 1090: 'asks', 1091: 'hope', 1092: 'form', 1093: 'favorite', 1094: 'herbs', 1095: 'gardens', 1096: 'therapist', 1097: 'doll', 1098: 'front', 1099: 'size', 1100: 'touching', 1101: 'spot', 1102: 'fingered', 1103: 'confession', 1104: \"how're\", 1105: 'pull', 1106: 'lump', 1107: 'throat', 1108: 'teeth', 1109: 'fine', 1110: 'numb', 1111: 'midweek', 1112: 'sessions', 1113: 'crumble', 1114: 'reasons', 1115: 'sun', 1116: 'faint', 1117: 'line', 1118: 'faith', 1119: 'blindly', 1120: 'letter', 1121: 'future', 1122: 'lover', 1123: 'safer', 1124: 'reading', 1125: 'date', 1126: 'placed', 1127: 'reaching', 1128: 'waist', 1129: 'hips', 1130: 'touches', 1131: 'surprised', 1132: 'goddamn', 1133: 'spread', 1134: 'easel', 1135: 'canvas', 1136: 'begging', 1137: 'fill', 1138: 'light', 1139: 'city', 1140: 'then', 1141: 'combined', 1142: 'set', 1143: 'melt', 1144: 'play', 1145: 'games', 1146: 'knows', 1147: 'speechless', 1148: 'truth', 1149: 'weak', 1150: 'forgets', 1151: 'language', 1152: 'company', 1153: 'packaging', 1154: 'foró', 1155: 'stops', 1156: 'midsentence', 1157: 'pay', 1158: 'bills', 1159: 'crazy', 1160: 'keeps', 1161: 'show', 1162: 'tips', 1163: 'forearm', 1164: 'graze', 1165: 'wrist', 1166: 'goose', 1167: 'bumps', 1168: 'surface', 1169: 'clench', 1170: 'muscles', 1171: 'tighten', 1172: 'pore', 1173: 'blink', 1174: 'break', 1175: 'gaze', 1176: 'inches', 1177: 'toward', 1178: 'step', 1179: 'command', 1180: 'cheeks', 1181: 'flush', 1182: 'shyly', 1183: 'confessing', 1184: 'loves', 1185: 'irrelevant', 1186: 'turn', 1187: 'forest', 1188: 'running', 1189: 'strongest', 1190: 'positive', 1191: 'negative', 1192: 'connotation', 1193: 'lights', 1194: 'leaves', 1195: 'whispers', 1196: 'ear', 1197: 'ways', 1198: 'undresses', 1199: 'male', 1200: 'french', 1201: 'wrap', 1202: 'foreplay', 1203: 'run', 1204: 'willing', 1205: 'exactly', 1206: 'hears', 1207: 'understanding', 1208: 'demand', 1209: 'dance', 1210: 'solo', 1211: 'performance', 1212: \"we've\", 1213: 'arguing', 1214: 'ought', 1215: 'to.', 1216: 'avoid', 1217: 'questions.', 1218: 'instead', 1219: 'used', 1220: 'fight', 1221: 'like:', 1222: 'first.', 1223: 'pop', 1224: 'frozen', 1225: 'pizza', 1226: 'oven', 1227: 'work.', 1228: 'vulnerable', 1229: 'another.', 1230: 'thorns', 1231: 'honey.', 1232: 'hurts.', 1233: 'table', 1234: 'tonight.', 1235: 'sleep.', 1236: 'last', 1237: 'week', 1238: 'working', 1239: 'late.', 1240: \"you'd\", 1241: 'couple', 1242: 'hours', 1243: 'ago.', 1244: 'hours.', 1245: 'know.', 1246: 'excuses', 1247: 'world.', 1248: 'carried', 1249: 'eventually', 1250: 'crying.', 1251: 'expect', 1252: 'baby.', 1253: 'much.', 1254: 'lying.', 1255: 'frustration.', 1256: 'stop.', 1257: 'tired', 1258: 'sick', 1259: 'toxin', 1260: 'burnt', 1261: 'holes', 1262: 'cheeks.', 1263: 'faces.', 1264: 'kid', 1265: 'yourself.', 1266: 'matter', 1267: 'bad', 1268: 'gets', 1269: 'wanna', 1270: 'nail', 1271: 'ground.', 1272: 'especially', 1273: 'screaming', 1274: 'wakes', 1275: 'neighbors.', 1276: 'save', 1277: 'us.', 1278: 'baby', 1279: 'instead.', 1280: 'lie', 1281: 'down.', 1282: 'lay', 1283: 'map.', 1284: 'finger', 1285: 'trace', 1286: '****', 1287: 'center', 1288: 'gravity', 1289: 'focal', 1290: 'yours.', 1291: 'places.', 1292: 'habit.', 1293: 'when.', 1294: 'home.', 1295: 'street', 1296: 'windows', 1297: 'wondering', 1298: 'commotion', 1299: 'trucks', 1300: 'rolling', 1301: 'distinguish', 1302: 'whether', 1303: 'flames', 1304: 'passion.', 1305: 'smile.', 1306: 'throw', 1307: 'back.', 1308: 'arch', 1309: 'mountain', 1310: 'half.', 1311: 'lick', 1312: 'gift', 1313: 'book.', 1314: 'read', 1315: 'carefully.', 1316: 'fluently.', 1317: 'vividly.', 1318: 'dare', 1319: 'single', 1320: 'untouched.', 1321: 'ending', 1322: 'good.', 1323: 'come.', 1324: 'mouth.', 1325: 'done.', 1326: 'seat.', 1327: 'sweet', 1328: 'flick', 1329: 'tongues.', 1330: 'decided', 1331: 'snap', 1332: 'defense', 1333: 'shout', 1334: 'defeated', 1335: 'parent', 1336: 'fix', 1337: 'wretched', 1338: 'distant', 1339: 'forgot', 1340: 'said.', 1341: 'be.', 1342: 'fate', 1343: 'together.', 1344: 'wonder', 1345: 'naive.', 1346: 'works', 1347: 'lives', 1348: 'staring', 1349: 'spends', 1350: 'placing', 1351: 'chess.', 1352: 'choices', 1353: 'make.', 1354: 'convinced', 1355: 'given', 1356: 'yours', 1357: 'use.', 1358: 'actions', 1359: 'define', 1360: 'scream', 1361: 'fool.', 1362: 'quietly.', 1363: 'quivering', 1364: 'thinking.', 1365: 'tragic', 1366: 'thing.', 1367: 'clearly', 1368: \"doesn't.\", 1369: 'mistake', 1370: 'salt', 1371: 'sugar', 1372: 'slips', 1373: 'waistband', 1374: 'pants', 1375: 'may', 1376: 'certainly', 1377: 'temptingly', 1378: 'stung', 1379: 'got', 1380: 'close', 1381: 'bootleg', 1382: 'version', 1383: 'am.', 1384: 'erase', 1385: 'punch', 1386: 'stomach', 1387: 'did.', 1388: 'body.', 1389: 'lick,', 1390: 'caress,', 1391: 'suck', 1392: 'replacement', 1393: 'slip.', 1394: 'excite', 1395: 'eyelids', 1396: 'pity', 1397: 'hit', 1398: 'busy', 1399: 'coffee', 1400: 'black', 1401: 'weep', 1402: 'drinking', 1403: 'rather', 1404: 'darkest', 1405: 'rose', 1406: 'manhood', 1407: 'curled', 1408: 'marinates', 1409: 'remembers', 1410: 'regret', 1411: 'stopped', 1412: 'longer', 1413: 'stayed', 1414: \"mustn't\", 1415: 'themselves', 1416: 'weekend', 1417: 'getaway', 1418: 'town', 1419: 'surrounding', 1420: 'heard', 1421: 'neon', 1422: 'skyscrapers', 1423: 'statues', 1424: 'thunder', 1425: 'bridges', 1426: 'tremble', 1427: 'meat', 1428: 'homemade', 1429: 'jam', 1430: 'sweetest', 1431: 'police', 1432: 'sirens', 1433: 'crackle', 1434: 'fireplace', 1435: 'burn', 1436: \"couldn't\", 1437: 'blush', 1438: 'hotel', 1439: 'whiskey', 1440: 'expectations', 1441: 'vacation', 1442: 'arrives', 1443: 'poetry', 1444: 'degrade', 1445: 'toxicity', 1446: 'central', 1447: 'douse', 1448: 'yell', 1449: 'confuse', 1450: 'kindness', 1451: 'seems', 1452: 'grows', 1453: 'trust', 1454: 'fathers', 1455: 'known', 1456: 'dipped', 1457: 'worth', 1458: 'question', 1459: 'problem', 1460: 'able', 1461: 'danger', 1462: 'rolls', 1463: 'accidently', 1464: 'everyone', 1465: 'tender', 1466: 'potential', 1467: 'allowing', 1468: 'now.', 1469: 'feel.', 1470: 'limiting', 1471: 'ripe', 1472: 'experienced', 1473: 'exhilarating', 1474: 'meet.', 1475: 'settling.', 1476: 'tasted', 1477: 'rawest', 1478: 'refined', 1479: 'synthetic.', 1480: 'beyond', 1481: 'add', 1482: 'years', 1483: 'combine', 1484: 'sweeter', 1485: 'falsehood', 1486: 'balanced', 1487: 'glow', 1488: 'angry', 1489: 'extremes', 1490: 'wings', 1491: 'grieve', 1492: 'shatter', 1493: 'iíve', 1494: 'donít', 1495: 'arenít', 1496: 'wasnít', 1497: 'canít', 1498: 'itís', 1499: 'youíve', 1500: 'doesnít', 1501: 'isnít', 1502: 'didnít', 1503: 'theyíll', 1504: 'werenít', 1505: 'couldíve', 1506: 'elseís', 1507: 'theyíre', 1508: 'weíre', 1509: 'shouldnít', 1510: 'womenís', 1511: 'thatís', 1512: 'whatís', 1513: 'womanís', 1514: 'heís', 1515: 'youíre', 1516: 'motherís', 1517: 'shireís', 1518: 'iím', 1519: 'youíll', 1520: 'oneís', 1521: 'wonít', 1522: 'itíll', 1523: 'iíd', 1524: 'howíre', 1525: 'weíve', 1526: 'youíd', 1527: 'doesnít.', 1528: 'mustnít', 1529: 'couldnít'}\n"
          ],
          "name": "stdout"
        }
      ]
    },
    {
      "cell_type": "code",
      "metadata": {
        "colab": {
          "base_uri": "https://localhost:8080/",
          "height": 35
        },
        "id": "iLNS-QXhVMD0",
        "outputId": "f3548f24-6f25-4378-efd8-df70dc479b08"
      },
      "source": [
        "inverse_vocab[8]"
      ],
      "execution_count": 150,
      "outputs": [
        {
          "output_type": "execute_result",
          "data": {
            "application/vnd.google.colaboratory.intrinsic+json": {
              "type": "string"
            },
            "text/plain": [
              "':'"
            ]
          },
          "metadata": {
            "tags": []
          },
          "execution_count": 150
        }
      ]
    },
    {
      "cell_type": "code",
      "metadata": {
        "colab": {
          "base_uri": "https://localhost:8080/"
        },
        "id": "KzDC8bPlHLfP",
        "outputId": "e7e092b7-5b41-4650-882d-dafdabf45e89"
      },
      "source": [
        "vectorized_poems = np.array([vocab[word] for word in tokens])\n",
        "print(vectorized_poems)"
      ],
      "execution_count": 151,
      "outputs": [
        {
          "output_type": "stream",
          "text": [
            "[   1    2    3 ...   23 1492    8]\n"
          ],
          "name": "stdout"
        }
      ]
    },
    {
      "cell_type": "code",
      "metadata": {
        "colab": {
          "base_uri": "https://localhost:8080/"
        },
        "id": "8dcrkLknPLOS",
        "outputId": "81827c6d-cdbb-41bf-8ed2-35220756d8d2"
      },
      "source": [
        "print ('{} ---- characters mapped to int ----> {}'.format(repr(poems[:10]), vectorized_poems[:10]))\n",
        "# check that vectorized_poems is a numpy array\n",
        "assert isinstance(vectorized_poems, np.ndarray), \"returned result should be a numpy array\""
      ],
      "execution_count": 152,
      "outputs": [
        {
          "output_type": "stream",
          "text": [
            "'how is it ' ---- characters mapped to int ----> [ 1  2  3  4  5  6  7  8  9 10]\n"
          ],
          "name": "stdout"
        }
      ]
    },
    {
      "cell_type": "markdown",
      "metadata": {
        "id": "EBb-AxOFRXpb"
      },
      "source": [
        "## Define Batch \n"
      ]
    },
    {
      "cell_type": "code",
      "metadata": {
        "colab": {
          "base_uri": "https://localhost:8080/"
        },
        "id": "TK9wy75rRgzr",
        "outputId": "6d10fbf8-bbc0-414a-d39e-4c4a070799df"
      },
      "source": [
        "### Batch definition to create training examples ###\n",
        "\n",
        "def get_batch(vectorized_songs, seq_length, batch_size):\n",
        "  # the length of the vectorized songs string\n",
        "  n = vectorized_songs.shape[0] - 1\n",
        "  # randomly choose the starting indices for the examples in the training batch\n",
        "  idx = np.random.choice(n-seq_length, batch_size)\n",
        "\n",
        "  '''TODO: construct a list of input sequences for the training batch'''\n",
        "  input_batch = [vectorized_songs[i : i+seq_length] for i in idx]\n",
        "  # input_batch = # TODO\n",
        "  '''TODO: construct a list of output sequences for the training batch'''\n",
        "  output_batch = [vectorized_songs[i+1 : i+seq_length+1] for i in idx]\n",
        "  # output_batch = # TODO\n",
        "\n",
        "  # x_batch, y_batch provide the true inputs and targets for network training\n",
        "  x_batch = np.reshape(input_batch, [batch_size, seq_length])\n",
        "  y_batch = np.reshape(output_batch, [batch_size, seq_length])\n",
        "  return x_batch, y_batch\n",
        "\n",
        "\n",
        "# Perform some simple tests to make sure your batch function is working properly! \n",
        "test_args = (vectorized_poems, 10, 2)\n",
        "if not mdl.lab1.test_batch_func_types(get_batch, test_args) or \\\n",
        "   not mdl.lab1.test_batch_func_shapes(get_batch, test_args) or \\\n",
        "   not mdl.lab1.test_batch_func_next_step(get_batch, test_args): \n",
        "   print(\"======\\n[FAIL] could not pass tests\")\n",
        "else: \n",
        "   print(\"======\\n[PASS] passed all tests!\")"
      ],
      "execution_count": 153,
      "outputs": [
        {
          "output_type": "stream",
          "text": [
            "[PASS] test_batch_func_types\n",
            "[PASS] test_batch_func_shapes\n",
            "[PASS] test_batch_func_next_step\n",
            "======\n",
            "[PASS] passed all tests!\n"
          ],
          "name": "stdout"
        }
      ]
    },
    {
      "cell_type": "code",
      "metadata": {
        "id": "kwNvWLRkR0gd"
      },
      "source": [
        "x_batch, y_batch = get_batch(vectorized_poems, seq_length=5, batch_size=1)"
      ],
      "execution_count": 154,
      "outputs": []
    },
    {
      "cell_type": "code",
      "metadata": {
        "colab": {
          "base_uri": "https://localhost:8080/"
        },
        "id": "S3NKP8x-TbnF",
        "outputId": "d0d2b1ee-4408-4adf-c1bf-8bf2aaef1454"
      },
      "source": [
        "print(x_batch)\n",
        "print(y_batch)"
      ],
      "execution_count": 155,
      "outputs": [
        {
          "output_type": "stream",
          "text": [
            "[[779  40  29   8   9]]\n",
            "[[ 40  29   8   9 780]]\n"
          ],
          "name": "stdout"
        }
      ]
    },
    {
      "cell_type": "markdown",
      "metadata": {
        "id": "dCbW_Jf7RfDc"
      },
      "source": [
        "## Define RNN \n"
      ]
    },
    {
      "cell_type": "code",
      "metadata": {
        "id": "ra3VNBQ7Rk7P"
      },
      "source": [
        "def LSTM(rnn_units): \n",
        "  return tf.keras.layers.LSTM(\n",
        "    rnn_units, \n",
        "    return_sequences=True, \n",
        "    recurrent_initializer='glorot_uniform',\n",
        "    recurrent_activation='sigmoid',\n",
        "    stateful=True,\n",
        "  )"
      ],
      "execution_count": 156,
      "outputs": []
    },
    {
      "cell_type": "code",
      "metadata": {
        "id": "MtCrdfzEI2N0"
      },
      "source": [
        "### Defining the RNN Model ###\n",
        "\n",
        "'''TODO: Add LSTM and Dense layers to define the RNN model using the Sequential API.'''\n",
        "def build_model(vocab_size, embedding_dim, rnn_units, batch_size):\n",
        "  model = tf.keras.Sequential([\n",
        "    # Layer 1: Embedding layer to transform indices into dense vectors \n",
        "    #   of a fixed embedding size\n",
        "    tf.keras.layers.Embedding(vocab_size, embedding_dim, batch_input_shape=[batch_size, None]),\n",
        "\n",
        "    # Layer 2: LSTM with `rnn_units` number of units. \n",
        "    # TODO: Call the LSTM function defined above to add this layer.\n",
        "    LSTM(rnn_units), \n",
        "    # LSTM('''TODO'''),\n",
        "\n",
        "    # Layer 3: Dense (fully-connected) layer that transforms the LSTM output\n",
        "    #   into the vocabulary size. \n",
        "    # TODO: Add the Dense layer.\n",
        "    tf.keras.layers.Dense(vocab_size)\n",
        "    # '''TODO: DENSE LAYER HERE'''\n",
        "  ])\n",
        "\n",
        "  return model\n",
        "\n",
        "# Build a simple model with default hyperparameters. You will get the \n",
        "#   chance to change these later.\n",
        "model = build_model(len(vocab), embedding_dim=100, rnn_units=1024, batch_size=32)"
      ],
      "execution_count": 157,
      "outputs": []
    },
    {
      "cell_type": "code",
      "metadata": {
        "colab": {
          "base_uri": "https://localhost:8080/"
        },
        "id": "-wrURNgpSjSP",
        "outputId": "43c9dcaa-d692-4fd2-edd2-6ee7efbcfe44"
      },
      "source": [
        "len(vocab)"
      ],
      "execution_count": 158,
      "outputs": [
        {
          "output_type": "execute_result",
          "data": {
            "text/plain": [
              "1530"
            ]
          },
          "metadata": {
            "tags": []
          },
          "execution_count": 158
        }
      ]
    },
    {
      "cell_type": "markdown",
      "metadata": {
        "id": "GFcErzGFS5LM"
      },
      "source": [
        "## Test Untrained RNN \n"
      ]
    },
    {
      "cell_type": "code",
      "metadata": {
        "colab": {
          "base_uri": "https://localhost:8080/"
        },
        "id": "4IEIwfcxTBXf",
        "outputId": "226c3e59-5c82-4efd-dfa9-fbdfefac9659"
      },
      "source": [
        "model.summary()"
      ],
      "execution_count": 159,
      "outputs": [
        {
          "output_type": "stream",
          "text": [
            "Model: \"sequential_4\"\n",
            "_________________________________________________________________\n",
            "Layer (type)                 Output Shape              Param #   \n",
            "=================================================================\n",
            "embedding_4 (Embedding)      (32, None, 100)           153000    \n",
            "_________________________________________________________________\n",
            "lstm_4 (LSTM)                (32, None, 1024)          4608000   \n",
            "_________________________________________________________________\n",
            "dense_4 (Dense)              (32, None, 1530)          1568250   \n",
            "=================================================================\n",
            "Total params: 6,329,250\n",
            "Trainable params: 6,329,250\n",
            "Non-trainable params: 0\n",
            "_________________________________________________________________\n"
          ],
          "name": "stdout"
        }
      ]
    },
    {
      "cell_type": "code",
      "metadata": {
        "colab": {
          "base_uri": "https://localhost:8080/"
        },
        "id": "lGWmoh51TB7A",
        "outputId": "4863bdca-1898-49a5-ae45-a01e7db6a800"
      },
      "source": [
        "x, y = get_batch(vectorized_poems, seq_length=10, batch_size=32)\n",
        "pred = model(x)\n",
        "print(\"Input shape:      \", x.shape, \" # (batch_size, sequence_length)\")\n",
        "print(\"Prediction shape: \", pred.shape, \"# (batch_size, sequence_length, vocab_size)\")"
      ],
      "execution_count": 160,
      "outputs": [
        {
          "output_type": "stream",
          "text": [
            "Input shape:       (32, 10)  # (batch_size, sequence_length)\n",
            "Prediction shape:  (32, 10, 1530) # (batch_size, sequence_length, vocab_size)\n"
          ],
          "name": "stdout"
        }
      ]
    },
    {
      "cell_type": "code",
      "metadata": {
        "colab": {
          "base_uri": "https://localhost:8080/"
        },
        "id": "1fjbCX32Z3f9",
        "outputId": "a792e30e-7494-49bd-a237-19d81bf9b3e1"
      },
      "source": [
        "x[0]"
      ],
      "execution_count": 161,
      "outputs": [
        {
          "output_type": "execute_result",
          "data": {
            "text/plain": [
              "array([   8,   13, 1155,   29, 1156,    8,  356,   27,   82,    7])"
            ]
          },
          "metadata": {
            "tags": []
          },
          "execution_count": 161
        }
      ]
    },
    {
      "cell_type": "code",
      "metadata": {
        "colab": {
          "base_uri": "https://localhost:8080/"
        },
        "id": "tvxsk6IhUsex",
        "outputId": "93ef25e3-0d1c-4879-90bd-8dcf7b40f8f0"
      },
      "source": [
        "sampled_indices = tf.random.categorical(pred[0], num_samples=1)\n",
        "sampled_indices = tf.squeeze(sampled_indices,axis=-1).numpy()\n",
        "sampled_indices"
      ],
      "execution_count": 162,
      "outputs": [
        {
          "output_type": "execute_result",
          "data": {
            "text/plain": [
              "array([ 120, 1116, 1498, 1046, 1121,  653, 1395,  607,  975,  719])"
            ]
          },
          "metadata": {
            "tags": []
          },
          "execution_count": 162
        }
      ]
    },
    {
      "cell_type": "code",
      "metadata": {
        "colab": {
          "base_uri": "https://localhost:8080/"
        },
        "id": "CCVnc5GZY-Mi",
        "outputId": "30b56205-8518-4ad2-843d-3968bed4943b"
      },
      "source": [
        "print(\"Input: \\n\")\n",
        "for i in x[0]:\n",
        "  print(inverse_vocab[i])"
      ],
      "execution_count": 163,
      "outputs": [
        {
          "output_type": "stream",
          "text": [
            "Input: \n",
            "\n",
            ":\n",
            "he\n",
            "stops\n",
            "me\n",
            "midsentence\n",
            ":\n",
            "no\n",
            "not\n",
            "what\n",
            "you\n"
          ],
          "name": "stdout"
        }
      ]
    },
    {
      "cell_type": "code",
      "metadata": {
        "colab": {
          "base_uri": "https://localhost:8080/"
        },
        "id": "hKZPYQTLZecI",
        "outputId": "2a54825a-6c65-480c-b518-bc73f1562b51"
      },
      "source": [
        "print(\"Output: \\n\")\n",
        "for i in sampled_indices:\n",
        "  print(inverse_vocab[i])"
      ],
      "execution_count": 164,
      "outputs": [
        {
          "output_type": "stream",
          "text": [
            "Output: \n",
            "\n",
            "music\n",
            "faint\n",
            "itís\n",
            "looking.\n",
            "future\n",
            "reader\n",
            "eyelids\n",
            "accept\n",
            "often\n",
            "issue\n"
          ],
          "name": "stdout"
        }
      ]
    },
    {
      "cell_type": "markdown",
      "metadata": {
        "id": "T8WFox1OsxZJ"
      },
      "source": [
        "## Train \n"
      ]
    },
    {
      "cell_type": "code",
      "metadata": {
        "colab": {
          "base_uri": "https://localhost:8080/"
        },
        "id": "q-OZW5yDtAwP",
        "outputId": "e7e5b271-f28f-48ec-94dc-b2341be3e62f"
      },
      "source": [
        "### Defining the loss function ###\n",
        "\n",
        "'''TODO: define the loss function to compute and return the loss between\n",
        "    the true labels and predictions (logits). Set the argument from_logits=True.'''\n",
        "def compute_loss(labels, logits):\n",
        "  loss = tf.keras.losses.sparse_categorical_crossentropy(labels, logits, from_logits=True)\n",
        "  # loss = tf.keras.losses.sparse_categorical_crossentropy('''TODO''', '''TODO''', from_logits=True) # TODO\n",
        "  return loss\n",
        "\n",
        "'''TODO: compute the loss using the true next characters from the example batch \n",
        "    and the predictions from the untrained model several cells above'''\n",
        "example_batch_loss = compute_loss(y, pred)\n",
        "# example_batch_loss = compute_loss('''TODO''', '''TODO''') # TODO\n",
        "\n",
        "print(\"Prediction shape: \", pred.shape, \" # (batch_size, sequence_length, vocab_size)\") \n",
        "print(\"scalar_loss:      \", example_batch_loss.numpy().mean())"
      ],
      "execution_count": 184,
      "outputs": [
        {
          "output_type": "stream",
          "text": [
            "Prediction shape:  (32, 10, 1530)  # (batch_size, sequence_length, vocab_size)\n",
            "scalar_loss:       7.3331423\n"
          ],
          "name": "stdout"
        }
      ]
    },
    {
      "cell_type": "code",
      "metadata": {
        "id": "Prie5xnjtWe2"
      },
      "source": [
        "### Hyperparameter setting and optimization ###\n",
        "\n",
        "# Optimization parameters:\n",
        "num_training_iterations = 600  # Increase this to train longer\n",
        "batch_size = 10  # Experiment between 1 and 64\n",
        "seq_length = 10  # Experiment between 50 and 500\n",
        "learning_rate = 5e-3  # Experiment between 1e-5 and 1e-1\n",
        "\n",
        "# Model parameters: \n",
        "vocab_size = len(vocab)\n",
        "embedding_dim = 250 \n",
        "rnn_units = 1024  # Experiment between 1 and 2048\n",
        "\n",
        "# Checkpoint location: \n",
        "checkpoint_dir = './training_checkpoints'\n",
        "checkpoint_prefix = os.path.join(checkpoint_dir, \"my_ckpt\")"
      ],
      "execution_count": 185,
      "outputs": []
    },
    {
      "cell_type": "code",
      "metadata": {
        "colab": {
          "base_uri": "https://localhost:8080/",
          "height": 558
        },
        "id": "lWRcf1QgvlFC",
        "outputId": "f103f128-0d12-4a25-e6e1-cb3367b29acc"
      },
      "source": [
        "### Define optimizer and training operation ###\n",
        "\n",
        "'''TODO: instantiate a new model for training using the `build_model`\n",
        "  function and the hyperparameters created above.'''\n",
        "model = build_model(vocab_size, embedding_dim, rnn_units, batch_size)\n",
        "# model = build_model('''TODO: arguments''')\n",
        "\n",
        "'''TODO: instantiate an optimizer with its learning rate.\n",
        "  Checkout the tensorflow website for a list of supported optimizers.\n",
        "  https://www.tensorflow.org/api_docs/python/tf/keras/optimizers/\n",
        "  Try using the Adam optimizer to start.'''\n",
        "optimizer = tf.keras.optimizers.Adam(learning_rate)\n",
        "# optimizer = # TODO\n",
        "\n",
        "@tf.function\n",
        "def train_step(x, y): \n",
        "  # Use tf.GradientTape()\n",
        "  with tf.GradientTape() as tape:\n",
        "  \n",
        "    '''TODO: feed the current input into the model and generate predictions'''\n",
        "    y_hat = model(x) # TODO\n",
        "    # y_hat = model('''TODO''')\n",
        "  \n",
        "    '''TODO: compute the loss!'''\n",
        "    loss = compute_loss(y, y_hat) # TODO\n",
        "    # loss = compute_loss('''TODO''', '''TODO''')\n",
        "\n",
        "  # Now, compute the gradients \n",
        "  '''TODO: complete the function call for gradient computation. \n",
        "      Remember that we want the gradient of the loss with respect all \n",
        "      of the model parameters. \n",
        "      HINT: use `model.trainable_variables` to get a list of all model\n",
        "      parameters.'''\n",
        "  grads = tape.gradient(loss, model.trainable_variables) # TODO\n",
        "  # grads = tape.gradient('''TODO''', '''TODO''')\n",
        "  \n",
        "  # Apply the gradients to the optimizer so it can update the model accordingly\n",
        "  optimizer.apply_gradients(zip(grads, model.trainable_variables))\n",
        "  return loss\n",
        "\n",
        "##################\n",
        "# Begin training!#\n",
        "##################\n",
        "\n",
        "history = []\n",
        "plotter = mdl.util.PeriodicPlotter(sec=2, xlabel='Iterations', ylabel='Loss')\n",
        "if hasattr(tqdm, '_instances'): tqdm._instances.clear() # clear if it exists\n",
        "\n",
        "for iter in tqdm(range(num_training_iterations)):\n",
        "\n",
        "  # Grab a batch and propagate it through the network\n",
        "  x_batch, y_batch = get_batch(vectorized_poems, seq_length, batch_size)\n",
        "  loss = train_step(x_batch, y_batch)\n",
        "\n",
        "  # Update the progress bar\n",
        "  history.append(loss.numpy().mean())\n",
        "  plotter.plot(history)\n",
        "\n",
        "  # Update the model with the changed weights!\n",
        "  if iter % 100 == 0:     \n",
        "    model.save_weights(checkpoint_prefix)\n",
        "    \n",
        "# Save the trained model and the weights\n",
        "model.save_weights(checkpoint_prefix)"
      ],
      "execution_count": 186,
      "outputs": [
        {
          "output_type": "display_data",
          "data": {
            "image/png": "[encoded data removed]",
            "text/plain": [
              "<Figure size 432x288 with 1 Axes>"
            ]
          },
          "metadata": {
            "tags": []
          }
        },
        {
          "output_type": "stream",
          "text": [
            "100%|██████████| 600/600 [04:07<00:00,  2.42it/s]\n"
          ],
          "name": "stderr"
        },
        {
          "output_type": "display_data",
          "data": {
            "image/png": "[encoded data removed]",
            "text/plain": [
              "<Figure size 432x288 with 1 Axes>"
            ]
          },
          "metadata": {
            "tags": [],
            "needs_background": "light"
          }
        }
      ]
    },
    {
      "cell_type": "markdown",
      "metadata": {
        "id": "3UPagkCQ3gjZ"
      },
      "source": [
        "## Generate Poem \n"
      ]
    },
    {
      "cell_type": "code",
      "metadata": {
        "colab": {
          "base_uri": "https://localhost:8080/"
        },
        "id": "xpY9Owzo3p-_",
        "outputId": "9fb4a64c-c794-4596-c3eb-e729b4e958a4"
      },
      "source": [
        "'''TODO: Rebuild the model using a batch_size=1'''\n",
        "model = build_model(vocab_size, embedding_dim, rnn_units, batch_size=1) # TODO\n",
        "# model = build_model('''TODO''', '''TODO''', '''TODO''', batch_size=1)\n",
        "\n",
        "# Restore the model weights for the last checkpoint after training\n",
        "model.load_weights(tf.train.latest_checkpoint(checkpoint_dir))\n",
        "model.build(tf.TensorShape([1, None]))\n",
        "\n",
        "model.summary()"
      ],
      "execution_count": 187,
      "outputs": [
        {
          "output_type": "stream",
          "text": [
            "Model: \"sequential_10\"\n",
            "_________________________________________________________________\n",
            "Layer (type)                 Output Shape              Param #   \n",
            "=================================================================\n",
            "embedding_10 (Embedding)     (1, None, 250)            382500    \n",
            "_________________________________________________________________\n",
            "lstm_10 (LSTM)               (1, None, 1024)           5222400   \n",
            "_________________________________________________________________\n",
            "dense_10 (Dense)             (1, None, 1530)           1568250   \n",
            "=================================================================\n",
            "Total params: 7,173,150\n",
            "Trainable params: 7,173,150\n",
            "Non-trainable params: 0\n",
            "_________________________________________________________________\n"
          ],
          "name": "stdout"
        }
      ]
    },
    {
      "cell_type": "code",
      "metadata": {
        "colab": {
          "base_uri": "https://localhost:8080/"
        },
        "id": "P_r8IX6L8IDa",
        "outputId": "59297adc-a194-4749-d899-c99368721642"
      },
      "source": [
        "#start_string=['i']\n",
        "#input_eval = [vocab[s] for s in start_string]\n",
        "#print(input_eval)"
      ],
      "execution_count": 27,
      "outputs": [
        {
          "output_type": "stream",
          "text": [
            "[22]\n"
          ],
          "name": "stdout"
        }
      ]
    },
    {
      "cell_type": "code",
      "metadata": {
        "id": "SvjB3kvc3zye"
      },
      "source": [
        "### Prediction of a generated song ###\n",
        "\n",
        "def generate_text(model, start_string, generation_length=75):\n",
        "  # Evaluation step (generating text using the learned RNN model)\n",
        "\n",
        "  '''TODO: convert the start string to numbers (vectorize)'''\n",
        "  input_eval = [vocab[s] for s in start_string] # TODO\n",
        "  # input_eval = ['''TODO''']\n",
        "  input_eval = tf.expand_dims(input_eval, 0)\n",
        "\n",
        "  # Empty string to store our results\n",
        "  text_generated = []\n",
        "\n",
        "  # Here batch size == 1\n",
        "  model.reset_states()\n",
        "  tqdm._instances.clear()\n",
        "\n",
        "  for i in tqdm(range(generation_length)):\n",
        "      '''TODO: evaluate the inputs and generate the next character predictions'''\n",
        "      predictions = model(input_eval)\n",
        "      # predictions = model('''TODO''')\n",
        "      \n",
        "      # Remove the batch dimension\n",
        "      predictions = tf.squeeze(predictions, 0)\n",
        "      \n",
        "      '''TODO: use a multinomial distribution to sample'''\n",
        "      predicted_id = tf.random.categorical(predictions, num_samples=1)[-1,0].numpy()\n",
        "      # predicted_id = tf.random.categorical('''TODO''', num_samples=1)[-1,0].numpy()\n",
        "      \n",
        "      # Pass the prediction along with the previous hidden state\n",
        "      #   as the next inputs to the model\n",
        "      input_eval = tf.expand_dims([predicted_id], 0)\n",
        "      \n",
        "      '''TODO: add the predicted character to the generated text!'''\n",
        "      # Hint: consider what format the prediction is in vs. the output\n",
        "      text_generated.append(inverse_vocab[predicted_id]) # TODO \n",
        "      # text_generated.append('''TODO''')\n",
        "    \n",
        "  return (' '.join(start_string) + ' ' + ' '.join(text_generated))"
      ],
      "execution_count": 188,
      "outputs": []
    },
    {
      "cell_type": "code",
      "metadata": {
        "colab": {
          "base_uri": "https://localhost:8080/"
        },
        "id": "wHkEd2dz6EIO",
        "outputId": "2060fb89-c670-42ba-d2ed-c1956fc3f478"
      },
      "source": [
        "'''TODO: Use the model and the function defined above to generate ABC format text of length generation_length!'''\n",
        "generated_text = generate_text(model, start_string=['it','is','okay'], generation_length=75)"
      ],
      "execution_count": 199,
      "outputs": [
        {
          "output_type": "stream",
          "text": [
            "100%|██████████| 75/75 [00:00<00:00, 112.54it/s]\n"
          ],
          "name": "stderr"
        }
      ]
    },
    {
      "cell_type": "code",
      "metadata": {
        "colab": {
          "base_uri": "https://localhost:8080/"
        },
        "id": "wMEK7gQi6Y-D",
        "outputId": "fd9831a2-9c45-4ada-a228-db22cecdda3e"
      },
      "source": [
        "print(\"\", generated_text.replace(\":\",\"\\n\"))"
      ],
      "execution_count": 200,
      "outputs": [
        {
          "output_type": "stream",
          "text": [
            " it is okay to with your fingers closed \n",
            " i break gaze pretty \n",
            " to do list (after the nerve to let you go with grace. as if the \n",
            " heaving of gravity and synthetic. that one \n",
            " us i long midsentence \n",
            " how i pour \n",
            " soaking as simple as what youíre born with \n",
            " the writing that \n",
            " under my name \n",
            " he \n",
            " when. the nerve. biology \n",
            " is on his mother better back \n",
            "\n"
          ],
          "name": "stdout"
        }
      ]
    },
    {
      "cell_type": "code",
      "metadata": {
        "id": "3eCviCsBCk48"
      },
      "source": [
        ""
      ],
      "execution_count": null,
      "outputs": []
    }
  ]
}