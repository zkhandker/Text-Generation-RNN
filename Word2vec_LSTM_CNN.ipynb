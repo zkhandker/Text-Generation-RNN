{
  "nbformat": 4,
  "nbformat_minor": 0,
  "metadata": {
    "colab": {
      "name": "Word2vec_LSTM_CNN.ipynb",
      "provenance": [],
      "collapsed_sections": [],
      "include_colab_link": true
    },
    "kernelspec": {
      "name": "python3",
      "display_name": "Python 3"
    }
  },
  "cells": [
    {
      "cell_type": "markdown",
      "metadata": {
        "id": "view-in-github",
        "colab_type": "text"
      },
      "source": [
        "<a href=\"https://colab.research.google.com/github/zkhandker/rupi-kaur/blob/main/Word2vec_LSTM_CNN.ipynb\" target=\"_parent\"><img src=\"https://colab.research.google.com/assets/colab-badge.svg\" alt=\"Open In Colab\"/></a>"
      ]
    },
    {
      "cell_type": "markdown",
      "metadata": {
        "id": "rsvlBQYCrE4I"
      },
      "source": [
        "## Dependencies \n"
      ]
    },
    {
      "cell_type": "code",
      "metadata": {
        "id": "riVZCVK65QTH",
        "colab": {
          "base_uri": "https://localhost:8080/"
        },
        "outputId": "90e34dab-268f-444f-d056-a0306895a535"
      },
      "source": [
        "# Import Tensorflow 2.0\n",
        "%tensorflow_version 2.x\n",
        "import tensorflow as tf \n",
        "\n",
        "# Download and import the MIT 6.S191 package\n",
        "!pip install mitdeeplearning\n",
        "import mitdeeplearning as mdl\n",
        "\n",
        "# Import all remaining packages\n",
        "import numpy as np\n",
        "import os\n",
        "import time\n",
        "import functools\n",
        "from IPython import display as ipythondisplay\n",
        "from tqdm import tqdm\n",
        "!apt-get install abcmidi timidity > /dev/null 2>&1\n",
        "\n",
        "# Check that we are using a GPU, if not switch runtimes\n",
        "#   using Runtime > Change Runtime Type > GPU\n",
        "## assert len(tf.config.list_physical_devices('GPU')) > 0\n",
        "import pathlib"
      ],
      "execution_count": 69,
      "outputs": [
        {
          "output_type": "stream",
          "text": [
            "Requirement already satisfied: mitdeeplearning in /usr/local/lib/python3.7/dist-packages (0.2.0)\n",
            "Requirement already satisfied: numpy in /usr/local/lib/python3.7/dist-packages (from mitdeeplearning) (1.19.5)\n",
            "Requirement already satisfied: regex in /usr/local/lib/python3.7/dist-packages (from mitdeeplearning) (2019.12.20)\n",
            "Requirement already satisfied: gym in /usr/local/lib/python3.7/dist-packages (from mitdeeplearning) (0.17.3)\n",
            "Requirement already satisfied: tqdm in /usr/local/lib/python3.7/dist-packages (from mitdeeplearning) (4.41.1)\n",
            "Requirement already satisfied: cloudpickle<1.7.0,>=1.2.0 in /usr/local/lib/python3.7/dist-packages (from gym->mitdeeplearning) (1.3.0)\n",
            "Requirement already satisfied: scipy in /usr/local/lib/python3.7/dist-packages (from gym->mitdeeplearning) (1.4.1)\n",
            "Requirement already satisfied: pyglet<=1.5.0,>=1.4.0 in /usr/local/lib/python3.7/dist-packages (from gym->mitdeeplearning) (1.5.0)\n",
            "Requirement already satisfied: future in /usr/local/lib/python3.7/dist-packages (from pyglet<=1.5.0,>=1.4.0->gym->mitdeeplearning) (0.16.0)\n"
          ],
          "name": "stdout"
        }
      ]
    },
    {
      "cell_type": "markdown",
      "metadata": {
        "id": "12kd7ooJOWjZ"
      },
      "source": [
        "## Load Poems \n"
      ]
    },
    {
      "cell_type": "code",
      "metadata": {
        "id": "PYSGRMuTI0op"
      },
      "source": [
        "path_to_file = tf.keras.utils.get_file('combined2', 'https://raw.githubusercontent.com/zkhandker/rupi-kaur/main/data/combined2.txt')\n",
        "with open(path_to_file) as f: \n",
        "  poems = f.read()\n",
        "  #print(poems)"
      ],
      "execution_count": 74,
      "outputs": []
    },
    {
      "cell_type": "markdown",
      "metadata": {
        "id": "CF-KDgzwREqj"
      },
      "source": [
        "## Vectorize Poems \n"
      ]
    },
    {
      "cell_type": "code",
      "metadata": {
        "colab": {
          "base_uri": "https://localhost:8080/"
        },
        "id": "mRs_tAifGTjO",
        "outputId": "7cf2be79-ba1e-49b0-f5fd-895a55dd3f01"
      },
      "source": [
        "#sentence = \"The wide road shimmered in the hot sun\"\n",
        "tokens = list(poems.lower().split())\n",
        "print(len(tokens))"
      ],
      "execution_count": 75,
      "outputs": [
        {
          "output_type": "stream",
          "text": [
            "13374\n"
          ],
          "name": "stdout"
        }
      ]
    },
    {
      "cell_type": "code",
      "metadata": {
        "colab": {
          "base_uri": "https://localhost:8080/"
        },
        "id": "QjM2uSyu9edf",
        "outputId": "f5b2b8d6-7336-4185-fd7e-15d6a81e8e77"
      },
      "source": [
        "import gensim.downloader\n",
        "# Show all available models in gensim-data\n",
        "print(list(gensim.downloader.info()['models'].keys()))\n"
      ],
      "execution_count": 76,
      "outputs": [
        {
          "output_type": "stream",
          "text": [
            "['fasttext-wiki-news-subwords-300', 'conceptnet-numberbatch-17-06-300', 'word2vec-ruscorpora-300', 'word2vec-google-news-300', 'glove-wiki-gigaword-50', 'glove-wiki-gigaword-100', 'glove-wiki-gigaword-200', 'glove-wiki-gigaword-300', 'glove-twitter-25', 'glove-twitter-50', 'glove-twitter-100', 'glove-twitter-200', '__testing_word2vec-matrix-synopsis']\n"
          ],
          "name": "stdout"
        }
      ]
    },
    {
      "cell_type": "code",
      "metadata": {
        "colab": {
          "base_uri": "https://localhost:8080/"
        },
        "id": "Ppl6cEDS_V9c",
        "outputId": "16394521-f338-44f7-ed85-008fb839dd1d"
      },
      "source": [
        "# Download the \"glove-twitter-25\" embeddings\n",
        "glove_vectors = gensim.downloader.load('glove-twitter-25')\n",
        "\n",
        "# Use the downloaded vectors as usual:\n",
        "glove_vectors.most_similar('twitter')"
      ],
      "execution_count": 77,
      "outputs": [
        {
          "output_type": "execute_result",
          "data": {
            "text/plain": [
              "[('facebook', 0.9480051398277283),\n",
              " ('tweet', 0.9403422474861145),\n",
              " ('fb', 0.9342358708381653),\n",
              " ('instagram', 0.9104823470115662),\n",
              " ('chat', 0.8964964747428894),\n",
              " ('hashtag', 0.8885936141014099),\n",
              " ('tweets', 0.8878157734870911),\n",
              " ('tl', 0.8778461813926697),\n",
              " ('link', 0.877821147441864),\n",
              " ('internet', 0.8753897547721863)]"
            ]
          },
          "metadata": {
            "tags": []
          },
          "execution_count": 77
        }
      ]
    },
    {
      "cell_type": "code",
      "metadata": {
        "colab": {
          "base_uri": "https://localhost:8080/"
        },
        "id": "SFci1RxUERbw",
        "outputId": "96492d94-def9-4ceb-abd2-6ecb2947fb31"
      },
      "source": [
        "glove_vectors[\"you\"]"
      ],
      "execution_count": 78,
      "outputs": [
        {
          "output_type": "execute_result",
          "data": {
            "text/plain": [
              "array([-0.41586 ,  0.32548 , -0.087621,  0.2018  , -0.80017 , -0.34418 ,\n",
              "        2.1431  ,  0.37188 , -0.9409  ,  0.24283 , -0.86396 ,  0.63858 ,\n",
              "       -6.0171  , -0.54081 , -0.43305 ,  0.095707,  0.37971 , -1.1432  ,\n",
              "        0.11382 , -0.38361 ,  0.41758 ,  0.081476, -0.02659 ,  0.75438 ,\n",
              "       -0.77178 ], dtype=float32)"
            ]
          },
          "metadata": {
            "tags": []
          },
          "execution_count": 78
        }
      ]
    },
    {
      "cell_type": "code",
      "metadata": {
        "colab": {
          "base_uri": "https://localhost:8080/"
        },
        "id": "f6F4mYG1Ecjp",
        "outputId": "690591f0-359c-49ed-b0bb-718cd092a545"
      },
      "source": [
        "glove_vectors in glove_vectors.vocab"
      ],
      "execution_count": 79,
      "outputs": [
        {
          "output_type": "execute_result",
          "data": {
            "text/plain": [
              "False"
            ]
          },
          "metadata": {
            "tags": []
          },
          "execution_count": 79
        }
      ]
    },
    {
      "cell_type": "code",
      "metadata": {
        "colab": {
          "base_uri": "https://localhost:8080/"
        },
        "id": "PoMmec0_GtiY",
        "outputId": "eb2df1d5-a269-42e9-dae4-6df4c07f2c51"
      },
      "source": [
        "# create a weight matrix for words in training docs\n",
        "embedding_matrix = []\n",
        "\n",
        "vocab, index = {}, 0 # start indexing from 0\n",
        "for token in tokens:\n",
        "  if (token not in vocab) and (token in glove_vectors.vocab):\n",
        "    vocab[token] = index\n",
        "    index += 1\n",
        "    embedding_vector = glove_vectors[token]\n",
        "    if embedding_vector is not None:\n",
        "        embedding_matrix.append(embedding_vector)\n",
        "vocab_size = len(vocab)\n",
        "print(vocab)\n",
        "print(vocab_size)\n",
        "\n",
        "embedding_matrix=np.array(embedding_matrix)\n",
        "embedding_matrix.shape"
      ],
      "execution_count": 80,
      "outputs": [
        {
          "output_type": "stream",
          "text": [
            "{'how': 0, 'is': 1, 'it': 2, 'so': 3, 'easy': 4, 'for': 5, 'you': 6, 'to': 7, 'be': 8, 'kind': 9, 'people': 10, 'he': 11, 'asked': 12, 'milk': 13, 'and': 14, 'honey': 15, 'dripped': 16, 'from': 17, 'my': 18, 'lips': 19, 'as': 20, 'i': 21, 'answered': 22, 'cause': 23, 'have': 24, 'not': 25, 'been': 26, 'me': 27, 'the': 28, 'first': 29, 'boy': 30, 'that': 31, 'kissed': 32, 'held': 33, 'shoulders': 34, 'down': 35, 'like': 36, 'handlebars': 37, 'of': 38, 'bicycle': 39, 'ever': 40, 'rode': 41, 'was': 42, 'five': 43, 'had': 44, 'smell': 45, 'starvation': 46, 'on': 47, 'his': 48, 'which': 49, 'picked': 50, 'up': 51, 'father': 52, 'feasting': 53, 'mother': 54, 'at': 55, 'a.m.': 56, 'teach': 57, 'body': 58, 'giving': 59, 'those': 60, 'wanted': 61, 'should': 62, 'feel': 63, 'anything': 64, 'less': 65, 'than': 66, 'whole': 67, 'god': 68, 'did': 69, 'empty': 70, 'sex': 71, 'she': 72, 'said': 73, 'but': 74, 'know': 75, 'what': 76, 'making': 77, 'love': 78, 'feels': 79, 'came': 80, 'all': 81, 'this': 82, 'way': 83, 'give': 84, 'these': 85, 'things': 86, 'even': 87, 'looking': 88, 'abused': 89, 'abuser': 90, '-': 91, 'both': 92, 'am': 93, 'undoing': 94, 'skin': 95, 'kissing': 96, 'ó': 97, 'mistaken': 98, 'him': 99, 'mind': 100, 'your': 101, 'were': 102, 'just': 103, 'convenient': 104, 'always': 105, 'comes': 106, 'back': 107, 'boils': 108, 'circles': 109, 'itches': 110, 'its': 111, 'music': 112, 'ears': 113, 'cut': 114, 'off': 115, 'tongue': 116, 'sour': 117, 'hunger': 118, 'missing': 119, 'will': 120, 'build': 121, 'into': 122, 'life': 123, 'when': 124, 'want': 125, 'a': 126, 'with': 127, 'difference': 128, 'if': 129, 'knew': 130, 'safety': 131, 'looked': 132, 'would': 133, 'spent': 134, 'time': 135, 'falling': 136, 'arms': 137, 'rivers': 138, 'fall': 139, 'mouth': 140, 'tears': 141, 'eyes': 142, 'carry': 143, 'are': 144, 'snakeskin': 145, 'keep': 146, 'shedding': 147, 'somehow': 148, 'forgetting': 149, 'every': 150, 'exquisite': 151, 'detail': 152, 'face': 153, 'letting': 154, 'go': 155, 'has': 156, 'become': 157, 'most': 158, 'pleasant': 159, 'saddest': 160, 'thing': 161, 'happened': 162, 'wrong': 163, 'leaving': 164, 'coming': 165, 'thinking': 166, 'could': 167, 'leave': 168, 'can': 169, 'write': 170, 'took': 171, 'hands': 172, 'neither': 173, 'us': 174, 'happy': 175, 'wants': 176, 'we': 177, 'breaking': 178, 'one': 179, 'another': 180, 'calling': 181, 'began': 182, 'honesty': 183, 'let': 184, 'end': 185, 'in': 186, 'too': 187, 'voice': 188, 'alone': 189, 'drives': 190, 'why': 191, 'split': 192, 'myself': 193, 'open': 194, 'others': 195, 'knowing': 196, 'sewing': 197, 'hurts': 198, 'much': 199, 'afterward': 200, 'they': 201, 'left': 202, 'stays': 203, 'takes': 204, 'consent': 205, 'two': 206, 'person': 207, 'lying': 208, 'there': 209, 'doing': 210, 'ready': 211, 'or': 212, 'mood': 213, 'simply': 214, 'yet': 215, 'other': 216, 'having': 217, 'their': 218, 'rape': 219, 'cruel': 220, 'game': 221, 'made': 222, 'out': 223, 'our': 224, 'die': 225, 'written': 226, 'pages': 227, 'after': 228, 'hurt': 229, 'loss': 230, 'pain': 231, 'still': 232, 'only': 233, 'undressed': 234, 'under': 235, 'night': 236, 'woke': 237, 'broken': 238, 'place': 239, 'put': 240, 'pieces': 241, 'bags': 242, 'stay': 243, 'whispered': 244, 'shut': 245, 'door': 246, 'behind': 247, 'confident': 248, 'over': 249, 'you.': 250, 'some': 251, 'mornings': 252, 'wake': 253, 'smile': 254, 'pressed': 255, 'together': 256, 'thanking': 257, 'universe': 258, 'pulling': 259, 'me.': 260, 'thank': 261, 'empire': 262, 'today': 263, 'nights': 264, 'imagine': 265, 'might': 266, 'do': 267, 'showed': 268, 'up.': 269, 'walked': 270, 'room': 271, 'very': 272, 'second': 273, 'awful': 274, 'done': 275, 'tossed': 276, 'closest': 277, 'window': 278, 'rise': 279, 'again.': 280, 'pour': 281, 'through': 282, 'never': 283, 'really': 284, 'practicing': 285, 'silent': 286, 'long': 287, 'loud': 288, 'someone': 289, 'explain': 290, 'that.': 291, 'past': 292, 'helplessly': 293, 'brought': 294, 'head': 295, 'sobbed': 296, 'heart': 297, 'wilting': 298, 'friends': 299, 'more': 300, 'idea': 301, 'capable': 302, 'choose': 303, 'toxic': 304, 'losing': 305, 'parts': 306, 'lose': 307, 'eyelashes': 308, 'unknowingly': 309, 'everywhere': 310, 'cannot': 311, 'exist': 312, 'places': 313, 'once': 314, 'ask': 315, 'water': 316, 'soft': 317, 'enough': 318, 'offer': 319, 'tough': 320, 'drown': 321, 'away': 322, 'miss': 323, 'loved': 324, 'reflection': 325, 'everything': 326, 'gave': 327, 'see': 328, 'sit': 329, 'here': 330, 'soaking': 331, 'no': 332, 'else': 333, 'way.': 334, 'taught': 335, 'needed': 336, 'credit': 337, 'warmth': 338, 'because': 339, 'felt': 340, 'it.': 341, 'who': 342, 'recognized': 343, 'already': 344, 'before': 345, 'met': 346, 'remain': 347, 'gone': 348, 'abandon': 349, 'linger': 350, 'think': 351, 'okay': 352, 'return': 353, 'tell': 354, 'about': 355, 'selfish': 356, 'people.': 357, 'walk': 358, 'taste': 359, 'type': 360, 'being': 361, 'on.': 362, 'shine': 363, 'gotten': 364, 'good': 365, 'look': 366, 'taken': 367, 'hair': 368, 'secrets': 369, 'them.': 370, 'realize': 371, 'real': 372, 'is.': 373, 'storm': 374, 'hits': 375, 'cowardice': 376, 'sets': 377, 'in.': 378, 'thought': 379, 'replaced': 380, 'by': 381, 'sad': 382, 'reality': 383, 'fighting': 384, 'bone': 385, 'saying': 386, 'find': 387, 'better': 388, 'stand': 389, 'naked': 390, 'half': 391, 'them': 392, 'hidden': 393, 'somewhere': 394, 'inside': 395, 'asking': 396, 'forced': 397, 'intention': 398, 'loving': 399, 'say': 400, 'something': 401, 'along': 402, 'lines': 403, 'all.': 404, 'engulfed': 405, 'existence': 406, 'risk': 407, 'sake': 408, 'out.': 409, 'meant': 410, 'little': 411, 'next': 412, 'curiosity': 413, 'gamble': 414, 'entire': 415, 'souls': 416, 'please': 417, 'holding': 418, 'world': 419, 'lap': 420, 'belittled': 421, 'mere': 422, 'swallow': 423, 'whisper': 424, 'spend': 425, 'rest': 426, 'moment': 427, 'sense': 428, 'halfway': 429, 'without': 430, 'nerve': 431, 'human': 432, 'means': 433, 'this.': 434, 'funny': 435, 'guts': 436, 'days': 437, 'undress': 438, 'fingers': 439, 'pick': 440, 'phone': 441, 'her.': 442, 'list': 443, 'take': 444, 'refuge': 445, 'till': 446, 'stop': 447, 'few': 448, 'listen': 449, 'slow': 450, 'delete': 451, 'number': 452, 'though': 453, 'memorized': 454, 'old': 455, 'ice': 456, 'cream': 457, 'shop': 458, 'treat': 459, 'yourself': 460, 'scoops': 461, 'mint': 462, 'chocolate': 463, 'calm': 464, 'deserve': 465, 'buy': 466, 'new': 467, 'bed': 468, 'collect': 469, 'drop': 470, 'donation': 471, 'plan': 472, 'perfect': 473, 'art': 474, 'smiling': 475, 'nodding': 476, 'brings': 477, 'name': 478, 'start': 479, 'whatever': 480, 'do.': 481, 'beg': 482, 'does': 483, 'crying': 484, 'allow': 485, 'foolish': 486, 'believing': 487, 'built': 488, 'tells': 489, 'bigger': 490, 'illusion': 491, 'woman': 492, 'bring': 493, 'dishonor': 494, 'home': 495, 'tries': 496, 'her': 497, 'safe': 498, 'perhaps': 499, 'nice': 500, 'paying': 501, 'sins': 502, 'remember': 503, 'writing': 504, 'healing': 505, 'destroying': 506, 'bother': 507, 'make': 508, 'must': 509, 'enter': 510, 'relationship': 511, 'anyone': 512, 'accept': 513, 'painful': 514, 'moving': 515, 'healthiest': 516, 'move': 517, 'part': 518, 'experience': 519, 'afraid': 520, 'evolving': 521, 'loneliness': 522, 'sign': 523, 'desperate': 524, 'need': 525, 'habit': 526, 'lack': 527, 'tricked': 528, 'complete': 529, 'complement': 530, 'feet': 531, 'broke': 532, 'pinned': 533, 'legs': 534, 'ground': 535, 'demanded': 536, 'born': 537, 'weakness': 538, 'strength': 539, 'live': 540, 'waiting': 541, 'sure': 542, 'exists': 543, 'billion': 544, 'strong': 545, 'grow': 546, 'flowers': 547, 'helped': 548, 'mine': 549, 'bloom': 550, 'beautifully': 551, 'dangerously': 552, 'loudly': 553, 'softly': 554, 'however': 555, 'reader': 556, 'taking': 557, 'balance': 558, 'grace': 559, 'situations': 560, 'solitude': 561, 'between': 562, 'telling': 563, 'actually': 564, 'sometimes': 565, 'apology': 566, 'nor': 567, 'late': 568, 'girls': 569, 'learn': 570, 'kiss': 571, 'closed': 572, 'unlike': 573, 'women': 574, 'call': 575, 'sisters': 576, 'order': 577, 'makes': 578, 'spit': 579, 'supposed': 580, 'proud': 581, 'relieved': 582, 'points': 583, 'growing': 584, 'remind': 585, 'guest': 586, 'warn': 587, 'welcome': 588, 'again': 589, 'tear': 590, 'powerful': 591, 'completely': 592, 'found': 593, 'surroundings': 594, 'lost': 595, 'within': 596, 'hard': 597, 'believe': 598, 'tomorrow': 599, 'come': 600, 'difficult': 601, 'day': 602, 'get': 603, 'swear': 604, 'pass': 605, 'slowly': 606, 'promise': 607, 'stretch': 608, 'marks': 609, 'thighs': 610, 'rough': 611, 'jungle': 612, 'wild': 613, 'feeling': 614, 'unafraid': 615, 'tend': 616, 'wounds': 617, 'utterly': 618, 'issue': 619, 'consider': 620, 'beautiful': 621, 'concept': 622, 'beauty': 623, 'centers': 624, 'around': 625, 'excluding': 626, 'wears': 627, 'garden': 628, 'definition': 629, 'big': 630, 'hooked': 631, 'noses': 632, 'pointing': 633, 'upward': 634, 'sky': 635, 'rising': 636, 'occasion': 637, 'color': 638, 'earth': 639, 'ancestors': 640, 'planted': 641, 'crops': 642, 'feed': 643, 'lineage': 644, 'thick': 645, 'tree': 646, 'trunks': 647, 'almonds': 648, 'deeply': 649, 'hooded': 650, 'conviction': 651, 'punjab': 652, 'flow': 653, 'bloodstream': 654, 'ones': 655, 'country': 656, 'backs': 657, 'stories': 658, 'books': 659, 'spine': 660, 'designed': 661, 'museum': 662, 'natural': 663, 'disasters': 664, 'grasp': 665, 'stunning': 666, 'sadness': 667, 'living': 668, 'becoming': 669, 'bodies': 670, 'battlegrounds': 671, 'removing': 672, 'keeping': 673, 'belong': 674, 'apparently': 675, 'mention': 676, 'period': 677, 'public': 678, 'actual': 679, 'biology': 680, 'sell': 681, 'inner': 682, 'workings': 683, 'recreational': 684, 'use': 685, 'seen': 686, 'while': 687, 'nature': 688, 'ugly': 689, 'dragon': 690, 'fly': 691, 'apologize': 692, 'called': 693, 'pretty': 694, 'intelligent': 695, 'brave': 696, 'sorry': 697, 'sound': 698, 'simple': 699, 'spirit': 700, 'crushed': 701, 'mountains': 702, 'now': 703, 'resilient': 704, 'extraordinary': 705, 'outlook': 706, 'cry': 707, 'hold': 708, 'heal': 709, 'happiness': 710, 'patient': 711, 'daughter': 712, 'kaur': 713, 'free': 714, 'removes': 715, 'shackles': 716, 'try': 717, 'bind': 718, 'uplifts': 719, 'equal': 720, 'any': 721, 'man': 722, 'state': 723, 'screams': 724, 'own': 725, 'wholly': 726, 'humbles': 727, 'calls': 728, 'says': 729, 'universal': 730, 'duty': 731, 'share': 732, 'humanity': 733, 'nurture': 734, 'serve': 735, 'sisterhood': 736, 'raise': 737, 'raising': 738, 'runs': 739, 'blood': 740, 'word': 741, 'itself': 742, 'existed': 743, 'identity': 744, 'liberation': 745, 'sikhi': 746, 'gives': 747, 'gold': 748, 'nothing': 749, 'purer': 750, 'aches': 751, 'helping': 752, 'ache': 753, 'spring': 754, 'goddess': 755, 'mouths': 756, 'soul': 757, 'mate': 758, 'bitter': 759, 'kindest': 760, 'forward': 761, 'recognize': 762, 'striking': 763, 'mean': 764, 'rooted': 765, 'deep': 766, 'help': 767, 'war': 768, 'naturally': 769, 'trying': 770, 'convince': 771, 'allowed': 772, 'space': 773, 'hand': 774, 'right': 775, 'shrinking': 776, 'hereditary': 777, 'importantly': 778, 'page': 779, 'where': 780, 'sitting': 781, 'degree': 782, 'job': 783, 'money': 784, 'matters': 785, 'except': 786, 'connection': 787, 'touched': 788, 'sink': 789, 'grounded': 790, 'searching': 791, 'point': 792, 'course': 793, 'successful': 794, 'crave': 795, 'success': 796, 'gain': 797, 'succeed': 798, 'heartbeat': 799, 'quickens': 800, 'birthing': 801, 'poems': 802, 'opening': 803, 'conceive': 804, 'lovemaking': 805, 'words': 806, 'erotic': 807, 'either': 808, 'lust': 809, 'terrifies': 810, 'foam': 811, 'envy': 812, 'sigh': 813, 'relief': 814, 'failing': 815, 'struggle': 816, 'celebrate': 817, 'each': 818, 'proven': 819, 'many': 820, 'work': 821, 'likes': 822, 'honest': 823, 'trade': 824, 'young': 825, 'poets': 826, 'quiet': 827, 'opinions': 828, 'fire': 829, 'belly': 830, 'lightness': 831, 'heavy': 832, 'blade': 833, 'silk': 834, 'forget': 835, 'follow': 836, 'seva': 837, 'scraping': 838, 'cantaloupe': 839, 'clean': 840, 'offering': 841, 'absent': 842, 'border': 843, 'countries': 844, 'collateral': 845, 'damage': 846, 'paradox': 847, 'joins': 848, 'also': 849, 'splits': 850, 'apart': 851, 'emptying': 852, 'act': 853, 'disappearance': 854, 'learning': 855, 'shrink': 856, 'family': 857, 'daughters': 858, 'invisible': 859, 'repeat': 860, 'wish': 861, 'often': 862, 'reason': 863, 'alive': 864, 'heaving': 865, 'chest': 866, 'guess': 867, 'tenderness': 868, 'well': 869, 'same': 870, 'exhausted': 871, 'rage': 872, 'wear': 873, 'anger': 874, 'warsan': 875, 'opens': 876, 'conversation': 877, 'dinner': 878, 'shoves': 879, 'hush': 880, 'speak': 881, 'full': 882, 'learned': 883, 'knees': 884, 'pried': 885, 'cousins': 886, 'uncles': 887, 'men': 888, 'silence': 889, 'stretches': 890, 'lifetime': 891, 'scramble': 892, 'questions': 893, 'understand': 894, 'blame': 895, 'hurting': 896, 'care': 897, 'aching': 898, 'attention': 899, 'collapse': 900, 'small': 901, 'talk': 902, 'plough': 903, 'mostly': 904, 'rubber': 905, 'against': 906, 'an': 907, 'begin': 908, 'pushing': 909, 'faster': 910, 'search': 911, 'reaction': 912, 'acting': 913, 'videos': 914, 'watch': 915, 'imitate': 916, 'hollow': 917, 'yes': 918, 'quickly': 919, 'sounds': 920, 'veins': 921, 'terrified': 922, 'looks': 923, 'flinch': 924, 'touch': 925, 'fear': 926, 'pregnant': 927, 'child': 928, 'four': 929, 'pointed': 930, 'swollen': 931, 'confused': 932, 'such': 933, 'scooped': 934, 'trunk': 935, 'grown': 936, 'age': 937, 'changed': 938, 'rested': 939, 'energy': 940, 'wanting': 941, 'wait': 942, 'sight': 943, 'meet': 944, 'remembrance': 945, 'marry': 946, 'son': 947, 'revolution': 948, 'starts': 949, 'ends': 950, 'asks': 951, 'hope': 952, 'form': 953, 'favorite': 954, 'herbs': 955, 'gardens': 956, 'therapist': 957, 'doll': 958, 'front': 959, 'size': 960, 'touching': 961, 'spot': 962, 'fingered': 963, 'confession': 964, 'pull': 965, 'lump': 966, 'throat': 967, 'teeth': 968, 'fine': 969, 'numb': 970, 'midweek': 971, 'sessions': 972, 'crumble': 973, 'reasons': 974, 'sun': 975, 'faint': 976, 'line': 977, 'faith': 978, 'blindly': 979, 'letter': 980, 'future': 981, 'lover': 982, 'safer': 983, 'reading': 984, 'date': 985, 'placed': 986, 'reaching': 987, 'waist': 988, 'hips': 989, 'touches': 990, 'surprised': 991, 'goddamn': 992, 'spread': 993, 'easel': 994, 'canvas': 995, 'begging': 996, 'fill': 997, 'light': 998, 'city': 999, 'then': 1000, 'combined': 1001, 'set': 1002, 'melt': 1003, 'play': 1004, 'games': 1005, 'knows': 1006, 'speechless': 1007, 'truth': 1008, 'weak': 1009, 'forgets': 1010, 'language': 1011, 'company': 1012, 'packaging': 1013, 'stops': 1014, 'pay': 1015, 'bills': 1016, 'crazy': 1017, 'keeps': 1018, 'show': 1019, 'tips': 1020, 'forearm': 1021, 'graze': 1022, 'wrist': 1023, 'goose': 1024, 'bumps': 1025, 'surface': 1026, 'clench': 1027, 'muscles': 1028, 'tighten': 1029, 'pore': 1030, 'blink': 1031, 'break': 1032, 'gaze': 1033, 'inches': 1034, 'toward': 1035, 'step': 1036, 'command': 1037, 'cheeks': 1038, 'flush': 1039, 'shyly': 1040, 'confessing': 1041, 'loves': 1042, 'irrelevant': 1043, 'turn': 1044, 'forest': 1045, 'running': 1046, 'strongest': 1047, 'positive': 1048, 'negative': 1049, 'connotation': 1050, 'lights': 1051, 'leaves': 1052, 'whispers': 1053, 'ear': 1054, 'ways': 1055, 'undresses': 1056, 'male': 1057, 'french': 1058, 'wrap': 1059, 'foreplay': 1060, 'run': 1061, 'willing': 1062, 'exactly': 1063, 'hears': 1064, 'understanding': 1065, 'demand': 1066, 'dance': 1067, 'solo': 1068, 'performance': 1069, 'arguing': 1070, 'ought': 1071, 'to.': 1072, 'avoid': 1073, 'instead': 1074, 'used': 1075, 'fight': 1076, 'pop': 1077, 'frozen': 1078, 'pizza': 1079, 'oven': 1080, 'work.': 1081, 'vulnerable': 1082, 'thorns': 1083, 'table': 1084, 'tonight.': 1085, 'sleep.': 1086, 'last': 1087, 'week': 1088, 'working': 1089, 'couple': 1090, 'hours': 1091, 'know.': 1092, 'excuses': 1093, 'world.': 1094, 'carried': 1095, 'eventually': 1096, 'expect': 1097, 'much.': 1098, 'tired': 1099, 'sick': 1100, 'toxin': 1101, 'burnt': 1102, 'holes': 1103, 'kid': 1104, 'matter': 1105, 'bad': 1106, 'gets': 1107, 'wanna': 1108, 'nail': 1109, 'especially': 1110, 'screaming': 1111, 'wakes': 1112, 'save': 1113, 'us.': 1114, 'baby': 1115, 'lie': 1116, 'down.': 1117, 'lay': 1118, 'finger': 1119, 'trace': 1120, '****': 1121, 'center': 1122, 'gravity': 1123, 'focal': 1124, 'home.': 1125, 'street': 1126, 'windows': 1127, 'wondering': 1128, 'commotion': 1129, 'trucks': 1130, 'rolling': 1131, 'distinguish': 1132, 'whether': 1133, 'flames': 1134, 'throw': 1135, 'back.': 1136, 'arch': 1137, 'mountain': 1138, 'lick': 1139, 'gift': 1140, 'read': 1141, 'dare': 1142, 'single': 1143, 'ending': 1144, 'good.': 1145, 'sweet': 1146, 'flick': 1147, 'decided': 1148, 'snap': 1149, 'defense': 1150, 'shout': 1151, 'defeated': 1152, 'parent': 1153, 'fix': 1154, 'wretched': 1155, 'distant': 1156, 'forgot': 1157, 'fate': 1158, 'wonder': 1159, 'works': 1160, 'lives': 1161, 'staring': 1162, 'spends': 1163, 'placing': 1164, 'choices': 1165, 'convinced': 1166, 'given': 1167, 'yours': 1168, 'actions': 1169, 'define': 1170, 'scream': 1171, 'quivering': 1172, 'tragic': 1173, 'clearly': 1174, 'mistake': 1175, 'salt': 1176, 'sugar': 1177, 'slips': 1178, 'waistband': 1179, 'pants': 1180, 'may': 1181, 'certainly': 1182, 'stung': 1183, 'got': 1184, 'close': 1185, 'bootleg': 1186, 'version': 1187, 'am.': 1188, 'erase': 1189, 'punch': 1190, 'stomach': 1191, 'suck': 1192, 'replacement': 1193, 'excite': 1194, 'eyelids': 1195, 'pity': 1196, 'hit': 1197, 'busy': 1198, 'coffee': 1199, 'black': 1200, 'weep': 1201, 'drinking': 1202, 'rather': 1203, 'darkest': 1204, 'rose': 1205, 'manhood': 1206, 'curled': 1207, 'remembers': 1208, 'regret': 1209, 'stopped': 1210, 'longer': 1211, 'stayed': 1212, 'themselves': 1213, 'weekend': 1214, 'getaway': 1215, 'town': 1216, 'surrounding': 1217, 'heard': 1218, 'neon': 1219, 'skyscrapers': 1220, 'statues': 1221, 'thunder': 1222, 'bridges': 1223, 'tremble': 1224, 'meat': 1225, 'homemade': 1226, 'jam': 1227, 'sweetest': 1228, 'police': 1229, 'sirens': 1230, 'crackle': 1231, 'fireplace': 1232, 'burn': 1233, 'blush': 1234, 'hotel': 1235, 'whiskey': 1236, 'expectations': 1237, 'vacation': 1238, 'arrives': 1239, 'poetry': 1240, 'degrade': 1241, 'toxicity': 1242, 'central': 1243, 'douse': 1244, 'yell': 1245, 'confuse': 1246, 'kindness': 1247, 'seems': 1248, 'grows': 1249, 'trust': 1250, 'fathers': 1251, 'known': 1252, 'dipped': 1253, 'worth': 1254, 'question': 1255, 'problem': 1256, 'able': 1257, 'danger': 1258, 'rolls': 1259, 'accidently': 1260, 'everyone': 1261, 'tender': 1262, 'potential': 1263, 'allowing': 1264, 'now.': 1265, 'limiting': 1266, 'ripe': 1267, 'experienced': 1268, 'exhilarating': 1269, 'tasted': 1270, 'rawest': 1271, 'refined': 1272, 'beyond': 1273, 'add': 1274, 'years': 1275, 'combine': 1276, 'sweeter': 1277, 'falsehood': 1278, 'balanced': 1279, 'glow': 1280, 'angry': 1281, 'extremes': 1282, 'wings': 1283, 'grieve': 1284, 'shatter': 1285, 'donít': 1286, 'youíre': 1287}\n",
            "1288\n"
          ],
          "name": "stdout"
        },
        {
          "output_type": "execute_result",
          "data": {
            "text/plain": [
              "(1288, 25)"
            ]
          },
          "metadata": {
            "tags": []
          },
          "execution_count": 80
        }
      ]
    },
    {
      "cell_type": "code",
      "metadata": {
        "colab": {
          "base_uri": "https://localhost:8080/"
        },
        "id": "oNj5VH7IHFPe",
        "outputId": "aec589bb-3b4b-4a15-a1ac-0f460d282d82"
      },
      "source": [
        "inverse_vocab = {index: token for token, index in vocab.items()}\n",
        "print(inverse_vocab)"
      ],
      "execution_count": 81,
      "outputs": [
        {
          "output_type": "stream",
          "text": [
            "{0: 'how', 1: 'is', 2: 'it', 3: 'so', 4: 'easy', 5: 'for', 6: 'you', 7: 'to', 8: 'be', 9: 'kind', 10: 'people', 11: 'he', 12: 'asked', 13: 'milk', 14: 'and', 15: 'honey', 16: 'dripped', 17: 'from', 18: 'my', 19: 'lips', 20: 'as', 21: 'i', 22: 'answered', 23: 'cause', 24: 'have', 25: 'not', 26: 'been', 27: 'me', 28: 'the', 29: 'first', 30: 'boy', 31: 'that', 32: 'kissed', 33: 'held', 34: 'shoulders', 35: 'down', 36: 'like', 37: 'handlebars', 38: 'of', 39: 'bicycle', 40: 'ever', 41: 'rode', 42: 'was', 43: 'five', 44: 'had', 45: 'smell', 46: 'starvation', 47: 'on', 48: 'his', 49: 'which', 50: 'picked', 51: 'up', 52: 'father', 53: 'feasting', 54: 'mother', 55: 'at', 56: 'a.m.', 57: 'teach', 58: 'body', 59: 'giving', 60: 'those', 61: 'wanted', 62: 'should', 63: 'feel', 64: 'anything', 65: 'less', 66: 'than', 67: 'whole', 68: 'god', 69: 'did', 70: 'empty', 71: 'sex', 72: 'she', 73: 'said', 74: 'but', 75: 'know', 76: 'what', 77: 'making', 78: 'love', 79: 'feels', 80: 'came', 81: 'all', 82: 'this', 83: 'way', 84: 'give', 85: 'these', 86: 'things', 87: 'even', 88: 'looking', 89: 'abused', 90: 'abuser', 91: '-', 92: 'both', 93: 'am', 94: 'undoing', 95: 'skin', 96: 'kissing', 97: 'ó', 98: 'mistaken', 99: 'him', 100: 'mind', 101: 'your', 102: 'were', 103: 'just', 104: 'convenient', 105: 'always', 106: 'comes', 107: 'back', 108: 'boils', 109: 'circles', 110: 'itches', 111: 'its', 112: 'music', 113: 'ears', 114: 'cut', 115: 'off', 116: 'tongue', 117: 'sour', 118: 'hunger', 119: 'missing', 120: 'will', 121: 'build', 122: 'into', 123: 'life', 124: 'when', 125: 'want', 126: 'a', 127: 'with', 128: 'difference', 129: 'if', 130: 'knew', 131: 'safety', 132: 'looked', 133: 'would', 134: 'spent', 135: 'time', 136: 'falling', 137: 'arms', 138: 'rivers', 139: 'fall', 140: 'mouth', 141: 'tears', 142: 'eyes', 143: 'carry', 144: 'are', 145: 'snakeskin', 146: 'keep', 147: 'shedding', 148: 'somehow', 149: 'forgetting', 150: 'every', 151: 'exquisite', 152: 'detail', 153: 'face', 154: 'letting', 155: 'go', 156: 'has', 157: 'become', 158: 'most', 159: 'pleasant', 160: 'saddest', 161: 'thing', 162: 'happened', 163: 'wrong', 164: 'leaving', 165: 'coming', 166: 'thinking', 167: 'could', 168: 'leave', 169: 'can', 170: 'write', 171: 'took', 172: 'hands', 173: 'neither', 174: 'us', 175: 'happy', 176: 'wants', 177: 'we', 178: 'breaking', 179: 'one', 180: 'another', 181: 'calling', 182: 'began', 183: 'honesty', 184: 'let', 185: 'end', 186: 'in', 187: 'too', 188: 'voice', 189: 'alone', 190: 'drives', 191: 'why', 192: 'split', 193: 'myself', 194: 'open', 195: 'others', 196: 'knowing', 197: 'sewing', 198: 'hurts', 199: 'much', 200: 'afterward', 201: 'they', 202: 'left', 203: 'stays', 204: 'takes', 205: 'consent', 206: 'two', 207: 'person', 208: 'lying', 209: 'there', 210: 'doing', 211: 'ready', 212: 'or', 213: 'mood', 214: 'simply', 215: 'yet', 216: 'other', 217: 'having', 218: 'their', 219: 'rape', 220: 'cruel', 221: 'game', 222: 'made', 223: 'out', 224: 'our', 225: 'die', 226: 'written', 227: 'pages', 228: 'after', 229: 'hurt', 230: 'loss', 231: 'pain', 232: 'still', 233: 'only', 234: 'undressed', 235: 'under', 236: 'night', 237: 'woke', 238: 'broken', 239: 'place', 240: 'put', 241: 'pieces', 242: 'bags', 243: 'stay', 244: 'whispered', 245: 'shut', 246: 'door', 247: 'behind', 248: 'confident', 249: 'over', 250: 'you.', 251: 'some', 252: 'mornings', 253: 'wake', 254: 'smile', 255: 'pressed', 256: 'together', 257: 'thanking', 258: 'universe', 259: 'pulling', 260: 'me.', 261: 'thank', 262: 'empire', 263: 'today', 264: 'nights', 265: 'imagine', 266: 'might', 267: 'do', 268: 'showed', 269: 'up.', 270: 'walked', 271: 'room', 272: 'very', 273: 'second', 274: 'awful', 275: 'done', 276: 'tossed', 277: 'closest', 278: 'window', 279: 'rise', 280: 'again.', 281: 'pour', 282: 'through', 283: 'never', 284: 'really', 285: 'practicing', 286: 'silent', 287: 'long', 288: 'loud', 289: 'someone', 290: 'explain', 291: 'that.', 292: 'past', 293: 'helplessly', 294: 'brought', 295: 'head', 296: 'sobbed', 297: 'heart', 298: 'wilting', 299: 'friends', 300: 'more', 301: 'idea', 302: 'capable', 303: 'choose', 304: 'toxic', 305: 'losing', 306: 'parts', 307: 'lose', 308: 'eyelashes', 309: 'unknowingly', 310: 'everywhere', 311: 'cannot', 312: 'exist', 313: 'places', 314: 'once', 315: 'ask', 316: 'water', 317: 'soft', 318: 'enough', 319: 'offer', 320: 'tough', 321: 'drown', 322: 'away', 323: 'miss', 324: 'loved', 325: 'reflection', 326: 'everything', 327: 'gave', 328: 'see', 329: 'sit', 330: 'here', 331: 'soaking', 332: 'no', 333: 'else', 334: 'way.', 335: 'taught', 336: 'needed', 337: 'credit', 338: 'warmth', 339: 'because', 340: 'felt', 341: 'it.', 342: 'who', 343: 'recognized', 344: 'already', 345: 'before', 346: 'met', 347: 'remain', 348: 'gone', 349: 'abandon', 350: 'linger', 351: 'think', 352: 'okay', 353: 'return', 354: 'tell', 355: 'about', 356: 'selfish', 357: 'people.', 358: 'walk', 359: 'taste', 360: 'type', 361: 'being', 362: 'on.', 363: 'shine', 364: 'gotten', 365: 'good', 366: 'look', 367: 'taken', 368: 'hair', 369: 'secrets', 370: 'them.', 371: 'realize', 372: 'real', 373: 'is.', 374: 'storm', 375: 'hits', 376: 'cowardice', 377: 'sets', 378: 'in.', 379: 'thought', 380: 'replaced', 381: 'by', 382: 'sad', 383: 'reality', 384: 'fighting', 385: 'bone', 386: 'saying', 387: 'find', 388: 'better', 389: 'stand', 390: 'naked', 391: 'half', 392: 'them', 393: 'hidden', 394: 'somewhere', 395: 'inside', 396: 'asking', 397: 'forced', 398: 'intention', 399: 'loving', 400: 'say', 401: 'something', 402: 'along', 403: 'lines', 404: 'all.', 405: 'engulfed', 406: 'existence', 407: 'risk', 408: 'sake', 409: 'out.', 410: 'meant', 411: 'little', 412: 'next', 413: 'curiosity', 414: 'gamble', 415: 'entire', 416: 'souls', 417: 'please', 418: 'holding', 419: 'world', 420: 'lap', 421: 'belittled', 422: 'mere', 423: 'swallow', 424: 'whisper', 425: 'spend', 426: 'rest', 427: 'moment', 428: 'sense', 429: 'halfway', 430: 'without', 431: 'nerve', 432: 'human', 433: 'means', 434: 'this.', 435: 'funny', 436: 'guts', 437: 'days', 438: 'undress', 439: 'fingers', 440: 'pick', 441: 'phone', 442: 'her.', 443: 'list', 444: 'take', 445: 'refuge', 446: 'till', 447: 'stop', 448: 'few', 449: 'listen', 450: 'slow', 451: 'delete', 452: 'number', 453: 'though', 454: 'memorized', 455: 'old', 456: 'ice', 457: 'cream', 458: 'shop', 459: 'treat', 460: 'yourself', 461: 'scoops', 462: 'mint', 463: 'chocolate', 464: 'calm', 465: 'deserve', 466: 'buy', 467: 'new', 468: 'bed', 469: 'collect', 470: 'drop', 471: 'donation', 472: 'plan', 473: 'perfect', 474: 'art', 475: 'smiling', 476: 'nodding', 477: 'brings', 478: 'name', 479: 'start', 480: 'whatever', 481: 'do.', 482: 'beg', 483: 'does', 484: 'crying', 485: 'allow', 486: 'foolish', 487: 'believing', 488: 'built', 489: 'tells', 490: 'bigger', 491: 'illusion', 492: 'woman', 493: 'bring', 494: 'dishonor', 495: 'home', 496: 'tries', 497: 'her', 498: 'safe', 499: 'perhaps', 500: 'nice', 501: 'paying', 502: 'sins', 503: 'remember', 504: 'writing', 505: 'healing', 506: 'destroying', 507: 'bother', 508: 'make', 509: 'must', 510: 'enter', 511: 'relationship', 512: 'anyone', 513: 'accept', 514: 'painful', 515: 'moving', 516: 'healthiest', 517: 'move', 518: 'part', 519: 'experience', 520: 'afraid', 521: 'evolving', 522: 'loneliness', 523: 'sign', 524: 'desperate', 525: 'need', 526: 'habit', 527: 'lack', 528: 'tricked', 529: 'complete', 530: 'complement', 531: 'feet', 532: 'broke', 533: 'pinned', 534: 'legs', 535: 'ground', 536: 'demanded', 537: 'born', 538: 'weakness', 539: 'strength', 540: 'live', 541: 'waiting', 542: 'sure', 543: 'exists', 544: 'billion', 545: 'strong', 546: 'grow', 547: 'flowers', 548: 'helped', 549: 'mine', 550: 'bloom', 551: 'beautifully', 552: 'dangerously', 553: 'loudly', 554: 'softly', 555: 'however', 556: 'reader', 557: 'taking', 558: 'balance', 559: 'grace', 560: 'situations', 561: 'solitude', 562: 'between', 563: 'telling', 564: 'actually', 565: 'sometimes', 566: 'apology', 567: 'nor', 568: 'late', 569: 'girls', 570: 'learn', 571: 'kiss', 572: 'closed', 573: 'unlike', 574: 'women', 575: 'call', 576: 'sisters', 577: 'order', 578: 'makes', 579: 'spit', 580: 'supposed', 581: 'proud', 582: 'relieved', 583: 'points', 584: 'growing', 585: 'remind', 586: 'guest', 587: 'warn', 588: 'welcome', 589: 'again', 590: 'tear', 591: 'powerful', 592: 'completely', 593: 'found', 594: 'surroundings', 595: 'lost', 596: 'within', 597: 'hard', 598: 'believe', 599: 'tomorrow', 600: 'come', 601: 'difficult', 602: 'day', 603: 'get', 604: 'swear', 605: 'pass', 606: 'slowly', 607: 'promise', 608: 'stretch', 609: 'marks', 610: 'thighs', 611: 'rough', 612: 'jungle', 613: 'wild', 614: 'feeling', 615: 'unafraid', 616: 'tend', 617: 'wounds', 618: 'utterly', 619: 'issue', 620: 'consider', 621: 'beautiful', 622: 'concept', 623: 'beauty', 624: 'centers', 625: 'around', 626: 'excluding', 627: 'wears', 628: 'garden', 629: 'definition', 630: 'big', 631: 'hooked', 632: 'noses', 633: 'pointing', 634: 'upward', 635: 'sky', 636: 'rising', 637: 'occasion', 638: 'color', 639: 'earth', 640: 'ancestors', 641: 'planted', 642: 'crops', 643: 'feed', 644: 'lineage', 645: 'thick', 646: 'tree', 647: 'trunks', 648: 'almonds', 649: 'deeply', 650: 'hooded', 651: 'conviction', 652: 'punjab', 653: 'flow', 654: 'bloodstream', 655: 'ones', 656: 'country', 657: 'backs', 658: 'stories', 659: 'books', 660: 'spine', 661: 'designed', 662: 'museum', 663: 'natural', 664: 'disasters', 665: 'grasp', 666: 'stunning', 667: 'sadness', 668: 'living', 669: 'becoming', 670: 'bodies', 671: 'battlegrounds', 672: 'removing', 673: 'keeping', 674: 'belong', 675: 'apparently', 676: 'mention', 677: 'period', 678: 'public', 679: 'actual', 680: 'biology', 681: 'sell', 682: 'inner', 683: 'workings', 684: 'recreational', 685: 'use', 686: 'seen', 687: 'while', 688: 'nature', 689: 'ugly', 690: 'dragon', 691: 'fly', 692: 'apologize', 693: 'called', 694: 'pretty', 695: 'intelligent', 696: 'brave', 697: 'sorry', 698: 'sound', 699: 'simple', 700: 'spirit', 701: 'crushed', 702: 'mountains', 703: 'now', 704: 'resilient', 705: 'extraordinary', 706: 'outlook', 707: 'cry', 708: 'hold', 709: 'heal', 710: 'happiness', 711: 'patient', 712: 'daughter', 713: 'kaur', 714: 'free', 715: 'removes', 716: 'shackles', 717: 'try', 718: 'bind', 719: 'uplifts', 720: 'equal', 721: 'any', 722: 'man', 723: 'state', 724: 'screams', 725: 'own', 726: 'wholly', 727: 'humbles', 728: 'calls', 729: 'says', 730: 'universal', 731: 'duty', 732: 'share', 733: 'humanity', 734: 'nurture', 735: 'serve', 736: 'sisterhood', 737: 'raise', 738: 'raising', 739: 'runs', 740: 'blood', 741: 'word', 742: 'itself', 743: 'existed', 744: 'identity', 745: 'liberation', 746: 'sikhi', 747: 'gives', 748: 'gold', 749: 'nothing', 750: 'purer', 751: 'aches', 752: 'helping', 753: 'ache', 754: 'spring', 755: 'goddess', 756: 'mouths', 757: 'soul', 758: 'mate', 759: 'bitter', 760: 'kindest', 761: 'forward', 762: 'recognize', 763: 'striking', 764: 'mean', 765: 'rooted', 766: 'deep', 767: 'help', 768: 'war', 769: 'naturally', 770: 'trying', 771: 'convince', 772: 'allowed', 773: 'space', 774: 'hand', 775: 'right', 776: 'shrinking', 777: 'hereditary', 778: 'importantly', 779: 'page', 780: 'where', 781: 'sitting', 782: 'degree', 783: 'job', 784: 'money', 785: 'matters', 786: 'except', 787: 'connection', 788: 'touched', 789: 'sink', 790: 'grounded', 791: 'searching', 792: 'point', 793: 'course', 794: 'successful', 795: 'crave', 796: 'success', 797: 'gain', 798: 'succeed', 799: 'heartbeat', 800: 'quickens', 801: 'birthing', 802: 'poems', 803: 'opening', 804: 'conceive', 805: 'lovemaking', 806: 'words', 807: 'erotic', 808: 'either', 809: 'lust', 810: 'terrifies', 811: 'foam', 812: 'envy', 813: 'sigh', 814: 'relief', 815: 'failing', 816: 'struggle', 817: 'celebrate', 818: 'each', 819: 'proven', 820: 'many', 821: 'work', 822: 'likes', 823: 'honest', 824: 'trade', 825: 'young', 826: 'poets', 827: 'quiet', 828: 'opinions', 829: 'fire', 830: 'belly', 831: 'lightness', 832: 'heavy', 833: 'blade', 834: 'silk', 835: 'forget', 836: 'follow', 837: 'seva', 838: 'scraping', 839: 'cantaloupe', 840: 'clean', 841: 'offering', 842: 'absent', 843: 'border', 844: 'countries', 845: 'collateral', 846: 'damage', 847: 'paradox', 848: 'joins', 849: 'also', 850: 'splits', 851: 'apart', 852: 'emptying', 853: 'act', 854: 'disappearance', 855: 'learning', 856: 'shrink', 857: 'family', 858: 'daughters', 859: 'invisible', 860: 'repeat', 861: 'wish', 862: 'often', 863: 'reason', 864: 'alive', 865: 'heaving', 866: 'chest', 867: 'guess', 868: 'tenderness', 869: 'well', 870: 'same', 871: 'exhausted', 872: 'rage', 873: 'wear', 874: 'anger', 875: 'warsan', 876: 'opens', 877: 'conversation', 878: 'dinner', 879: 'shoves', 880: 'hush', 881: 'speak', 882: 'full', 883: 'learned', 884: 'knees', 885: 'pried', 886: 'cousins', 887: 'uncles', 888: 'men', 889: 'silence', 890: 'stretches', 891: 'lifetime', 892: 'scramble', 893: 'questions', 894: 'understand', 895: 'blame', 896: 'hurting', 897: 'care', 898: 'aching', 899: 'attention', 900: 'collapse', 901: 'small', 902: 'talk', 903: 'plough', 904: 'mostly', 905: 'rubber', 906: 'against', 907: 'an', 908: 'begin', 909: 'pushing', 910: 'faster', 911: 'search', 912: 'reaction', 913: 'acting', 914: 'videos', 915: 'watch', 916: 'imitate', 917: 'hollow', 918: 'yes', 919: 'quickly', 920: 'sounds', 921: 'veins', 922: 'terrified', 923: 'looks', 924: 'flinch', 925: 'touch', 926: 'fear', 927: 'pregnant', 928: 'child', 929: 'four', 930: 'pointed', 931: 'swollen', 932: 'confused', 933: 'such', 934: 'scooped', 935: 'trunk', 936: 'grown', 937: 'age', 938: 'changed', 939: 'rested', 940: 'energy', 941: 'wanting', 942: 'wait', 943: 'sight', 944: 'meet', 945: 'remembrance', 946: 'marry', 947: 'son', 948: 'revolution', 949: 'starts', 950: 'ends', 951: 'asks', 952: 'hope', 953: 'form', 954: 'favorite', 955: 'herbs', 956: 'gardens', 957: 'therapist', 958: 'doll', 959: 'front', 960: 'size', 961: 'touching', 962: 'spot', 963: 'fingered', 964: 'confession', 965: 'pull', 966: 'lump', 967: 'throat', 968: 'teeth', 969: 'fine', 970: 'numb', 971: 'midweek', 972: 'sessions', 973: 'crumble', 974: 'reasons', 975: 'sun', 976: 'faint', 977: 'line', 978: 'faith', 979: 'blindly', 980: 'letter', 981: 'future', 982: 'lover', 983: 'safer', 984: 'reading', 985: 'date', 986: 'placed', 987: 'reaching', 988: 'waist', 989: 'hips', 990: 'touches', 991: 'surprised', 992: 'goddamn', 993: 'spread', 994: 'easel', 995: 'canvas', 996: 'begging', 997: 'fill', 998: 'light', 999: 'city', 1000: 'then', 1001: 'combined', 1002: 'set', 1003: 'melt', 1004: 'play', 1005: 'games', 1006: 'knows', 1007: 'speechless', 1008: 'truth', 1009: 'weak', 1010: 'forgets', 1011: 'language', 1012: 'company', 1013: 'packaging', 1014: 'stops', 1015: 'pay', 1016: 'bills', 1017: 'crazy', 1018: 'keeps', 1019: 'show', 1020: 'tips', 1021: 'forearm', 1022: 'graze', 1023: 'wrist', 1024: 'goose', 1025: 'bumps', 1026: 'surface', 1027: 'clench', 1028: 'muscles', 1029: 'tighten', 1030: 'pore', 1031: 'blink', 1032: 'break', 1033: 'gaze', 1034: 'inches', 1035: 'toward', 1036: 'step', 1037: 'command', 1038: 'cheeks', 1039: 'flush', 1040: 'shyly', 1041: 'confessing', 1042: 'loves', 1043: 'irrelevant', 1044: 'turn', 1045: 'forest', 1046: 'running', 1047: 'strongest', 1048: 'positive', 1049: 'negative', 1050: 'connotation', 1051: 'lights', 1052: 'leaves', 1053: 'whispers', 1054: 'ear', 1055: 'ways', 1056: 'undresses', 1057: 'male', 1058: 'french', 1059: 'wrap', 1060: 'foreplay', 1061: 'run', 1062: 'willing', 1063: 'exactly', 1064: 'hears', 1065: 'understanding', 1066: 'demand', 1067: 'dance', 1068: 'solo', 1069: 'performance', 1070: 'arguing', 1071: 'ought', 1072: 'to.', 1073: 'avoid', 1074: 'instead', 1075: 'used', 1076: 'fight', 1077: 'pop', 1078: 'frozen', 1079: 'pizza', 1080: 'oven', 1081: 'work.', 1082: 'vulnerable', 1083: 'thorns', 1084: 'table', 1085: 'tonight.', 1086: 'sleep.', 1087: 'last', 1088: 'week', 1089: 'working', 1090: 'couple', 1091: 'hours', 1092: 'know.', 1093: 'excuses', 1094: 'world.', 1095: 'carried', 1096: 'eventually', 1097: 'expect', 1098: 'much.', 1099: 'tired', 1100: 'sick', 1101: 'toxin', 1102: 'burnt', 1103: 'holes', 1104: 'kid', 1105: 'matter', 1106: 'bad', 1107: 'gets', 1108: 'wanna', 1109: 'nail', 1110: 'especially', 1111: 'screaming', 1112: 'wakes', 1113: 'save', 1114: 'us.', 1115: 'baby', 1116: 'lie', 1117: 'down.', 1118: 'lay', 1119: 'finger', 1120: 'trace', 1121: '****', 1122: 'center', 1123: 'gravity', 1124: 'focal', 1125: 'home.', 1126: 'street', 1127: 'windows', 1128: 'wondering', 1129: 'commotion', 1130: 'trucks', 1131: 'rolling', 1132: 'distinguish', 1133: 'whether', 1134: 'flames', 1135: 'throw', 1136: 'back.', 1137: 'arch', 1138: 'mountain', 1139: 'lick', 1140: 'gift', 1141: 'read', 1142: 'dare', 1143: 'single', 1144: 'ending', 1145: 'good.', 1146: 'sweet', 1147: 'flick', 1148: 'decided', 1149: 'snap', 1150: 'defense', 1151: 'shout', 1152: 'defeated', 1153: 'parent', 1154: 'fix', 1155: 'wretched', 1156: 'distant', 1157: 'forgot', 1158: 'fate', 1159: 'wonder', 1160: 'works', 1161: 'lives', 1162: 'staring', 1163: 'spends', 1164: 'placing', 1165: 'choices', 1166: 'convinced', 1167: 'given', 1168: 'yours', 1169: 'actions', 1170: 'define', 1171: 'scream', 1172: 'quivering', 1173: 'tragic', 1174: 'clearly', 1175: 'mistake', 1176: 'salt', 1177: 'sugar', 1178: 'slips', 1179: 'waistband', 1180: 'pants', 1181: 'may', 1182: 'certainly', 1183: 'stung', 1184: 'got', 1185: 'close', 1186: 'bootleg', 1187: 'version', 1188: 'am.', 1189: 'erase', 1190: 'punch', 1191: 'stomach', 1192: 'suck', 1193: 'replacement', 1194: 'excite', 1195: 'eyelids', 1196: 'pity', 1197: 'hit', 1198: 'busy', 1199: 'coffee', 1200: 'black', 1201: 'weep', 1202: 'drinking', 1203: 'rather', 1204: 'darkest', 1205: 'rose', 1206: 'manhood', 1207: 'curled', 1208: 'remembers', 1209: 'regret', 1210: 'stopped', 1211: 'longer', 1212: 'stayed', 1213: 'themselves', 1214: 'weekend', 1215: 'getaway', 1216: 'town', 1217: 'surrounding', 1218: 'heard', 1219: 'neon', 1220: 'skyscrapers', 1221: 'statues', 1222: 'thunder', 1223: 'bridges', 1224: 'tremble', 1225: 'meat', 1226: 'homemade', 1227: 'jam', 1228: 'sweetest', 1229: 'police', 1230: 'sirens', 1231: 'crackle', 1232: 'fireplace', 1233: 'burn', 1234: 'blush', 1235: 'hotel', 1236: 'whiskey', 1237: 'expectations', 1238: 'vacation', 1239: 'arrives', 1240: 'poetry', 1241: 'degrade', 1242: 'toxicity', 1243: 'central', 1244: 'douse', 1245: 'yell', 1246: 'confuse', 1247: 'kindness', 1248: 'seems', 1249: 'grows', 1250: 'trust', 1251: 'fathers', 1252: 'known', 1253: 'dipped', 1254: 'worth', 1255: 'question', 1256: 'problem', 1257: 'able', 1258: 'danger', 1259: 'rolls', 1260: 'accidently', 1261: 'everyone', 1262: 'tender', 1263: 'potential', 1264: 'allowing', 1265: 'now.', 1266: 'limiting', 1267: 'ripe', 1268: 'experienced', 1269: 'exhilarating', 1270: 'tasted', 1271: 'rawest', 1272: 'refined', 1273: 'beyond', 1274: 'add', 1275: 'years', 1276: 'combine', 1277: 'sweeter', 1278: 'falsehood', 1279: 'balanced', 1280: 'glow', 1281: 'angry', 1282: 'extremes', 1283: 'wings', 1284: 'grieve', 1285: 'shatter', 1286: 'donít', 1287: 'youíre'}\n"
          ],
          "name": "stdout"
        }
      ]
    },
    {
      "cell_type": "code",
      "metadata": {
        "colab": {
          "base_uri": "https://localhost:8080/"
        },
        "id": "KzDC8bPlHLfP",
        "outputId": "8d1633bc-76cc-44b9-f0ca-468100479cd9"
      },
      "source": [
        "vectorized_poems = np.array([vocab[word] for word in vocab.keys()])\n",
        "print(vectorized_poems)"
      ],
      "execution_count": 83,
      "outputs": [
        {
          "output_type": "stream",
          "text": [
            "[   0    1    2 ... 1285 1286 1287]\n"
          ],
          "name": "stdout"
        }
      ]
    },
    {
      "cell_type": "code",
      "metadata": {
        "colab": {
          "base_uri": "https://localhost:8080/"
        },
        "id": "8dcrkLknPLOS",
        "outputId": "8ef2afb4-6177-46c2-a6cd-5cc9b55053ee"
      },
      "source": [
        "print ('{} ---- characters mapped to int ----> {}'.format(repr(poems[:10]), vectorized_poems[:10]))\n",
        "# check that vectorized_poems is a numpy array\n",
        "assert isinstance(vectorized_poems, np.ndarray), \"returned result should be a numpy array\""
      ],
      "execution_count": 84,
      "outputs": [
        {
          "output_type": "stream",
          "text": [
            "'how is it ' ---- characters mapped to int ----> [0 1 2 3 4 5 6 7 8 9]\n"
          ],
          "name": "stdout"
        }
      ]
    },
    {
      "cell_type": "markdown",
      "metadata": {
        "id": "EBb-AxOFRXpb"
      },
      "source": [
        "## Define Batch \n"
      ]
    },
    {
      "cell_type": "code",
      "metadata": {
        "id": "TK9wy75rRgzr"
      },
      "source": [
        "### Batch definition to create training examples ###\n",
        "\n",
        "def get_batch(vectorized_songs, seq_length, batch_size):\n",
        "  # the length of the vectorized songs string\n",
        "  n = vectorized_songs.shape[0] - 1\n",
        "  # randomly choose the starting indices for the examples in the training batch\n",
        "  idx = np.random.choice(n-seq_length, batch_size)\n",
        "\n",
        "  '''TODO: construct a list of input sequences for the training batch'''\n",
        "  input_batch = [vectorized_songs[i : i+seq_length] for i in idx]\n",
        "  # input_batch = # TODO\n",
        "  '''TODO: construct a list of output sequences for the training batch'''\n",
        "  output_batch = [vectorized_songs[i+1 : i+seq_length+1] for i in idx]\n",
        "  # output_batch = # TODO\n",
        "\n",
        "  # x_batch, y_batch provide the true inputs and targets for network training\n",
        "  x_batch = np.reshape(input_batch, [batch_size, seq_length])\n",
        "  y_batch = np.reshape(output_batch, [batch_size, seq_length])\n",
        "  return x_batch, y_batch\n",
        "\n",
        "\n",
        "# Perform some simple tests to make sure your batch function is working properly! \n",
        "test_args = (vectorized_poems, 10, 2)\n",
        "if not mdl.lab1.test_batch_func_types(get_batch, test_args) or \\\n",
        "   not mdl.lab1.test_batch_func_shapes(get_batch, test_args) or \\\n",
        "   not mdl.lab1.test_batch_func_next_step(get_batch, test_args): \n",
        "   print(\"======\\n[FAIL] could not pass tests\")\n",
        "else: \n",
        "   print(\"======\\n[PASS] passed all tests!\")"
      ],
      "execution_count": null,
      "outputs": []
    },
    {
      "cell_type": "code",
      "metadata": {
        "id": "kwNvWLRkR0gd"
      },
      "source": [
        "x_batch, y_batch = get_batch(vectorized_poems, seq_length=5, batch_size=1)"
      ],
      "execution_count": null,
      "outputs": []
    },
    {
      "cell_type": "code",
      "metadata": {
        "id": "S3NKP8x-TbnF"
      },
      "source": [
        "print(x_batch)\n",
        "print(y_batch)"
      ],
      "execution_count": null,
      "outputs": []
    },
    {
      "cell_type": "markdown",
      "metadata": {
        "id": "dCbW_Jf7RfDc"
      },
      "source": [
        "## Define RNN \n"
      ]
    },
    {
      "cell_type": "code",
      "metadata": {
        "id": "ra3VNBQ7Rk7P"
      },
      "source": [
        "def LSTM(rnn_units): \n",
        "  return tf.keras.layers.LSTM(\n",
        "    rnn_units, \n",
        "    return_sequences=True, \n",
        "    recurrent_initializer='glorot_uniform',\n",
        "    recurrent_activation='sigmoid',\n",
        "    stateful=True,\n",
        "  )"
      ],
      "execution_count": null,
      "outputs": []
    },
    {
      "cell_type": "code",
      "metadata": {
        "id": "5kwOv8iTGcjk"
      },
      "source": [
        "model.add(Embedding(size_of_vocabulary,300,weights=[embedding_matrix],input_length=100,trainable=False)) \n"
      ],
      "execution_count": null,
      "outputs": []
    },
    {
      "cell_type": "code",
      "metadata": {
        "id": "MtCrdfzEI2N0"
      },
      "source": [
        "### Defining the RNN Model ###\n",
        "\n",
        "'''TODO: Add LSTM and Dense layers to define the RNN model using the Sequential API.'''\n",
        "def build_model(vocab_size, embedding_dim, rnn_units, batch_size):\n",
        "  model = tf.keras.Sequential([\n",
        "    # Layer 1: Embedding layer to transform indices into dense vectors \n",
        "    #   of a fixed embedding size\n",
        "    tf.keras.layers.Embedding(vocab_size, embedding_dim, embeddings_initializer=tf.keras.initializers.Constant(embedding_matrix), batch_input_shape=[batch_size, None], trainable=False),\n",
        "\n",
        "    # Layer 2: LSTM with `rnn_units` number of units. \n",
        "    # TODO: Call the LSTM function defined above to add this layer.\n",
        "    LSTM(rnn_units), \n",
        "    # LSTM('''TODO'''),\n",
        "\n",
        "    # Layer 3: Dense (fully-connected) layer that transforms the LSTM output\n",
        "    #   into the vocabulary size. \n",
        "    # TODO: Add the Dense layer.\n",
        "    tf.keras.layers.Dense(vocab_size)\n",
        "    # '''TODO: DENSE LAYER HERE'''\n",
        "  ])\n",
        "\n",
        "  return model\n",
        "\n",
        "# Build a simple model with default hyperparameters. You will get the \n",
        "#   chance to change these later.\n",
        "model = build_model(len(vocab), embedding_dim=25, rnn_units=1024, batch_size=32)"
      ],
      "execution_count": 87,
      "outputs": []
    },
    {
      "cell_type": "code",
      "metadata": {
        "id": "-wrURNgpSjSP"
      },
      "source": [
        "len(vocab)"
      ],
      "execution_count": null,
      "outputs": []
    },
    {
      "cell_type": "markdown",
      "metadata": {
        "id": "GFcErzGFS5LM"
      },
      "source": [
        "## Test Untrained RNN \n"
      ]
    },
    {
      "cell_type": "code",
      "metadata": {
        "colab": {
          "base_uri": "https://localhost:8080/"
        },
        "id": "4IEIwfcxTBXf",
        "outputId": "29f82208-291e-46de-b48c-c72de088b6a8"
      },
      "source": [
        "model.summary()"
      ],
      "execution_count": 88,
      "outputs": [
        {
          "output_type": "stream",
          "text": [
            "Model: \"sequential_2\"\n",
            "_________________________________________________________________\n",
            "Layer (type)                 Output Shape              Param #   \n",
            "=================================================================\n",
            "embedding_2 (Embedding)      (32, None, 25)            32200     \n",
            "_________________________________________________________________\n",
            "lstm_2 (LSTM)                (32, None, 1024)          4300800   \n",
            "_________________________________________________________________\n",
            "dense_2 (Dense)              (32, None, 1288)          1320200   \n",
            "=================================================================\n",
            "Total params: 5,653,200\n",
            "Trainable params: 5,621,000\n",
            "Non-trainable params: 32,200\n",
            "_________________________________________________________________\n"
          ],
          "name": "stdout"
        }
      ]
    },
    {
      "cell_type": "code",
      "metadata": {
        "colab": {
          "base_uri": "https://localhost:8080/"
        },
        "id": "lGWmoh51TB7A",
        "outputId": "43386966-f2e8-48d4-eb9a-593e1247101e"
      },
      "source": [
        "x, y = get_batch(vectorized_poems, seq_length=10, batch_size=32)\n",
        "pred = model(x)\n",
        "print(\"Input shape:      \", x.shape, \" # (batch_size, sequence_length)\")\n",
        "print(\"Prediction shape: \", pred.shape, \"# (batch_size, sequence_length, vocab_size)\")"
      ],
      "execution_count": 89,
      "outputs": [
        {
          "output_type": "stream",
          "text": [
            "Input shape:       (32, 10)  # (batch_size, sequence_length)\n",
            "Prediction shape:  (32, 10, 1288) # (batch_size, sequence_length, vocab_size)\n"
          ],
          "name": "stdout"
        }
      ]
    },
    {
      "cell_type": "code",
      "metadata": {
        "colab": {
          "base_uri": "https://localhost:8080/"
        },
        "id": "1fjbCX32Z3f9",
        "outputId": "2e4608c9-af4f-4ad5-9f62-6a02ca6a170c"
      },
      "source": [
        "x[0]"
      ],
      "execution_count": 90,
      "outputs": [
        {
          "output_type": "execute_result",
          "data": {
            "text/plain": [
              "array([331, 332, 333, 334, 335, 336, 337, 338, 339, 340])"
            ]
          },
          "metadata": {
            "tags": []
          },
          "execution_count": 90
        }
      ]
    },
    {
      "cell_type": "code",
      "metadata": {
        "colab": {
          "base_uri": "https://localhost:8080/"
        },
        "id": "tvxsk6IhUsex",
        "outputId": "f8962969-d542-427e-d753-f498127a0973"
      },
      "source": [
        "sampled_indices = tf.random.categorical(pred[0], num_samples=1)\n",
        "sampled_indices = tf.squeeze(sampled_indices,axis=-1).numpy()\n",
        "sampled_indices"
      ],
      "execution_count": 91,
      "outputs": [
        {
          "output_type": "execute_result",
          "data": {
            "text/plain": [
              "array([1067,  246,  303, 1175,   94, 1178,  573,  423,   33,  558])"
            ]
          },
          "metadata": {
            "tags": []
          },
          "execution_count": 91
        }
      ]
    },
    {
      "cell_type": "code",
      "metadata": {
        "colab": {
          "base_uri": "https://localhost:8080/"
        },
        "id": "CCVnc5GZY-Mi",
        "outputId": "45b4de56-e9b2-4e7b-9d2c-ea6015b4ffe3"
      },
      "source": [
        "print(\"Input: \\n\")\n",
        "for i in x[0]:\n",
        "  print(inverse_vocab[i])"
      ],
      "execution_count": 92,
      "outputs": [
        {
          "output_type": "stream",
          "text": [
            "Input: \n",
            "\n",
            "soaking\n",
            "no\n",
            "else\n",
            "way.\n",
            "taught\n",
            "needed\n",
            "credit\n",
            "warmth\n",
            "because\n",
            "felt\n"
          ],
          "name": "stdout"
        }
      ]
    },
    {
      "cell_type": "code",
      "metadata": {
        "id": "hKZPYQTLZecI"
      },
      "source": [
        "print(\"Output: \\n\")\n",
        "for i in sampled_indices:\n",
        "  print(inverse_vocab[i])"
      ],
      "execution_count": null,
      "outputs": []
    },
    {
      "cell_type": "markdown",
      "metadata": {
        "id": "T8WFox1OsxZJ"
      },
      "source": [
        "## Train \n"
      ]
    },
    {
      "cell_type": "code",
      "metadata": {
        "colab": {
          "base_uri": "https://localhost:8080/"
        },
        "id": "q-OZW5yDtAwP",
        "outputId": "afee8b34-221d-4f3d-bf52-fb2cc959a136"
      },
      "source": [
        "### Defining the loss function ###\n",
        "\n",
        "'''TODO: define the loss function to compute and return the loss between\n",
        "    the true labels and predictions (logits). Set the argument from_logits=True.'''\n",
        "def compute_loss(labels, logits):\n",
        "  loss = tf.keras.losses.sparse_categorical_crossentropy(labels, logits, from_logits=True)\n",
        "  # loss = tf.keras.losses.sparse_categorical_crossentropy('''TODO''', '''TODO''', from_logits=True) # TODO\n",
        "  return loss\n",
        "\n",
        "'''TODO: compute the loss using the true next characters from the example batch \n",
        "    and the predictions from the untrained model several cells above'''\n",
        "example_batch_loss = compute_loss(y, pred)\n",
        "# example_batch_loss = compute_loss('''TODO''', '''TODO''') # TODO\n",
        "\n",
        "print(\"Prediction shape: \", pred.shape, \" # (batch_size, sequence_length, vocab_size)\") \n",
        "print(\"scalar_loss:      \", example_batch_loss.numpy().mean())"
      ],
      "execution_count": 97,
      "outputs": [
        {
          "output_type": "stream",
          "text": [
            "Prediction shape:  (32, 10, 1288)  # (batch_size, sequence_length, vocab_size)\n",
            "scalar_loss:       7.164717\n"
          ],
          "name": "stdout"
        }
      ]
    },
    {
      "cell_type": "code",
      "metadata": {
        "id": "Prie5xnjtWe2"
      },
      "source": [
        "### Hyperparameter setting and optimization ###\n",
        "\n",
        "# Optimization parameters:\n",
        "num_training_iterations = 2000  # Increase this to train longer\n",
        "batch_size = 4  # Experiment between 1 and 64\n",
        "seq_length = 10  # Experiment between 50 and 500\n",
        "learning_rate = 5e-3  # Experiment between 1e-5 and 1e-1\n",
        "\n",
        "# Model parameters: \n",
        "vocab_size = len(vocab)\n",
        "embedding_dim = 25 \n",
        "rnn_units = 1024  # Experiment between 1 and 2048\n",
        "\n",
        "# Checkpoint location: \n",
        "checkpoint_dir = './training_checkpoints'\n",
        "checkpoint_prefix = os.path.join(checkpoint_dir, \"my_ckpt\")"
      ],
      "execution_count": 100,
      "outputs": []
    },
    {
      "cell_type": "code",
      "metadata": {
        "colab": {
          "base_uri": "https://localhost:8080/",
          "height": 559
        },
        "id": "lWRcf1QgvlFC",
        "outputId": "66d750fa-a411-4970-cffe-40dbeaa0c582"
      },
      "source": [
        "### Define optimizer and training operation ###\n",
        "\n",
        "'''TODO: instantiate a new model for training using the `build_model`\n",
        "  function and the hyperparameters created above.'''\n",
        "model = build_model(vocab_size, embedding_dim, rnn_units, batch_size)\n",
        "# model = build_model('''TODO: arguments''')\n",
        "\n",
        "'''TODO: instantiate an optimizer with its learning rate.\n",
        "  Checkout the tensorflow website for a list of supported optimizers.\n",
        "  https://www.tensorflow.org/api_docs/python/tf/keras/optimizers/\n",
        "  Try using the Adam optimizer to start.'''\n",
        "optimizer = tf.keras.optimizers.Adam(learning_rate)\n",
        "# optimizer = # TODO\n",
        "\n",
        "@tf.function\n",
        "def train_step(x, y): \n",
        "  # Use tf.GradientTape()\n",
        "  with tf.GradientTape() as tape:\n",
        "  \n",
        "    '''TODO: feed the current input into the model and generate predictions'''\n",
        "    y_hat = model(x) # TODO\n",
        "    # y_hat = model('''TODO''')\n",
        "  \n",
        "    '''TODO: compute the loss!'''\n",
        "    loss = compute_loss(y, y_hat) # TODO\n",
        "    # loss = compute_loss('''TODO''', '''TODO''')\n",
        "\n",
        "  # Now, compute the gradients \n",
        "  '''TODO: complete the function call for gradient computation. \n",
        "      Remember that we want the gradient of the loss with respect all \n",
        "      of the model parameters. \n",
        "      HINT: use `model.trainable_variables` to get a list of all model\n",
        "      parameters.'''\n",
        "  grads = tape.gradient(loss, model.trainable_variables) # TODO\n",
        "  # grads = tape.gradient('''TODO''', '''TODO''')\n",
        "  \n",
        "  # Apply the gradients to the optimizer so it can update the model accordingly\n",
        "  optimizer.apply_gradients(zip(grads, model.trainable_variables))\n",
        "  return loss\n",
        "\n",
        "##################\n",
        "# Begin training!#\n",
        "##################\n",
        "\n",
        "history = []\n",
        "plotter = mdl.util.PeriodicPlotter(sec=2, xlabel='Iterations', ylabel='Loss')\n",
        "if hasattr(tqdm, '_instances'): tqdm._instances.clear() # clear if it exists\n",
        "\n",
        "for iter in tqdm(range(num_training_iterations)):\n",
        "\n",
        "  # Grab a batch and propagate it through the network\n",
        "  x_batch, y_batch = get_batch(vectorized_poems, seq_length, batch_size)\n",
        "  loss = train_step(x_batch, y_batch)\n",
        "\n",
        "  # Update the progress bar\n",
        "  history.append(loss.numpy().mean())\n",
        "  plotter.plot(history)\n",
        "\n",
        "  # Update the model with the changed weights!\n",
        "  if iter % 100 == 0:     \n",
        "    model.save_weights(checkpoint_prefix)\n",
        "    \n",
        "# Save the trained model and the weights\n",
        "model.save_weights(checkpoint_prefix)"
      ],
      "execution_count": 101,
      "outputs": [
        {
          "output_type": "display_data",
          "data": {
            "image/png": "[encoded data removed]",
            "text/plain": [
              "<Figure size 432x288 with 1 Axes>"
            ]
          },
          "metadata": {
            "tags": []
          }
        },
        {
          "output_type": "stream",
          "text": [
            "100%|██████████| 2000/2000 [14:10<00:00,  2.35it/s]\n"
          ],
          "name": "stderr"
        },
        {
          "output_type": "display_data",
          "data": {
            "image/png": "[encoded data removed]",
            "text/plain": [
              "<Figure size 432x288 with 1 Axes>"
            ]
          },
          "metadata": {
            "tags": [],
            "needs_background": "light"
          }
        }
      ]
    },
    {
      "cell_type": "markdown",
      "metadata": {
        "id": "3UPagkCQ3gjZ"
      },
      "source": [
        "## Generate Poem \n"
      ]
    },
    {
      "cell_type": "code",
      "metadata": {
        "id": "xpY9Owzo3p-_",
        "colab": {
          "base_uri": "https://localhost:8080/"
        },
        "outputId": "f179aa4f-fc53-41d2-e979-461eabae1983"
      },
      "source": [
        "'''TODO: Rebuild the model using a batch_size=1'''\n",
        "model = build_model(vocab_size, embedding_dim, rnn_units, batch_size=1) # TODO\n",
        "# model = build_model('''TODO''', '''TODO''', '''TODO''', batch_size=1)\n",
        "\n",
        "# Restore the model weights for the last checkpoint after training\n",
        "model.load_weights(tf.train.latest_checkpoint(checkpoint_dir))\n",
        "model.build(tf.TensorShape([1, None]))\n",
        "\n",
        "model.summary()"
      ],
      "execution_count": 102,
      "outputs": [
        {
          "output_type": "stream",
          "text": [
            "Model: \"sequential_6\"\n",
            "_________________________________________________________________\n",
            "Layer (type)                 Output Shape              Param #   \n",
            "=================================================================\n",
            "embedding_6 (Embedding)      (1, None, 25)             32200     \n",
            "_________________________________________________________________\n",
            "lstm_6 (LSTM)                (1, None, 1024)           4300800   \n",
            "_________________________________________________________________\n",
            "dense_6 (Dense)              (1, None, 1288)           1320200   \n",
            "=================================================================\n",
            "Total params: 5,653,200\n",
            "Trainable params: 5,621,000\n",
            "Non-trainable params: 32,200\n",
            "_________________________________________________________________\n"
          ],
          "name": "stdout"
        }
      ]
    },
    {
      "cell_type": "code",
      "metadata": {
        "id": "P_r8IX6L8IDa",
        "colab": {
          "base_uri": "https://localhost:8080/"
        },
        "outputId": "9a379c2f-ed47-4f0d-b38e-14534944e013"
      },
      "source": [
        "start_string=['i']\n",
        "input_eval = [vocab[s] for s in start_string]\n",
        "print(input_eval)"
      ],
      "execution_count": 103,
      "outputs": [
        {
          "output_type": "stream",
          "text": [
            "[21]\n"
          ],
          "name": "stdout"
        }
      ]
    },
    {
      "cell_type": "code",
      "metadata": {
        "id": "SvjB3kvc3zye"
      },
      "source": [
        "### Prediction of a generated song ###\n",
        "\n",
        "def generate_text(model, start_string, generation_length=75):\n",
        "  # Evaluation step (generating text using the learned RNN model)\n",
        "\n",
        "  '''TODO: convert the start string to numbers (vectorize)'''\n",
        "  input_eval = [vocab[s] for s in start_string] # TODO\n",
        "  # input_eval = ['''TODO''']\n",
        "  input_eval = tf.expand_dims(input_eval, 0)\n",
        "\n",
        "  # Empty string to store our results\n",
        "  text_generated = []\n",
        "\n",
        "  # Here batch size == 1\n",
        "  model.reset_states()\n",
        "  tqdm._instances.clear()\n",
        "\n",
        "  for i in tqdm(range(generation_length)):\n",
        "      '''TODO: evaluate the inputs and generate the next character predictions'''\n",
        "      predictions = model(input_eval)\n",
        "      # predictions = model('''TODO''')\n",
        "      \n",
        "      # Remove the batch dimension\n",
        "      predictions = tf.squeeze(predictions, 0)\n",
        "      \n",
        "      '''TODO: use a multinomial distribution to sample'''\n",
        "      predicted_id = tf.random.categorical(predictions, num_samples=1)[-1,0].numpy()\n",
        "      # predicted_id = tf.random.categorical('''TODO''', num_samples=1)[-1,0].numpy()\n",
        "      \n",
        "      # Pass the prediction along with the previous hidden state\n",
        "      #   as the next inputs to the model\n",
        "      input_eval = tf.expand_dims([predicted_id], 0)\n",
        "      \n",
        "      '''TODO: add the predicted character to the generated text!'''\n",
        "      # Hint: consider what format the prediction is in vs. the output\n",
        "      text_generated.append(inverse_vocab[predicted_id]) # TODO \n",
        "      # text_generated.append('''TODO''')\n",
        "    \n",
        "  return (' '.join(start_string) + ' ' + ' '.join(text_generated))"
      ],
      "execution_count": 104,
      "outputs": []
    },
    {
      "cell_type": "code",
      "metadata": {
        "id": "wHkEd2dz6EIO",
        "colab": {
          "base_uri": "https://localhost:8080/"
        },
        "outputId": "f903d309-2e55-4824-b0c6-02319e36f994"
      },
      "source": [
        "'''TODO: Use the model and the function defined above to generate ABC format text of length generation_length!'''\n",
        "generated_text = generate_text(model, start_string=['my','body'], generation_length=50)"
      ],
      "execution_count": 105,
      "outputs": [
        {
          "output_type": "stream",
          "text": [
            "100%|██████████| 50/50 [00:00<00:00, 95.37it/s]\n"
          ],
          "name": "stderr"
        }
      ]
    },
    {
      "cell_type": "code",
      "metadata": {
        "id": "wMEK7gQi6Y-D",
        "colab": {
          "base_uri": "https://localhost:8080/"
        },
        "outputId": "6f641219-614a-4975-d3f6-79155cb0e40e"
      },
      "source": [
        "print(generated_text)"
      ],
      "execution_count": 106,
      "outputs": [
        {
          "output_type": "stream",
          "text": [
            "my body being on. shine gotten good look taken hair secrets them. realize real is. storm hits cowardice sets in. thought replaced by sad reality fighting bone saying find better stand naked half them hidden somewhere inside asking forced intention loving say something along lines all. engulfed existence risk sake out. meant\n"
          ],
          "name": "stdout"
        }
      ]
    }
  ]
}