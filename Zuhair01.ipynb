{
  "nbformat": 4,
  "nbformat_minor": 0,
  "metadata": {
    "colab": {
      "name": "Zuhair01.ipynb",
      "provenance": [],
      "collapsed_sections": [],
      "authorship_tag": "ABX9TyNY+9v9tyVjp2r9+fS/yWcN",
      "include_colab_link": true
    },
    "kernelspec": {
      "name": "python3",
      "display_name": "Python 3"
    }
  },
  "cells": [
    {
      "cell_type": "markdown",
      "metadata": {
        "id": "view-in-github",
        "colab_type": "text"
      },
      "source": [
        "<a href=\"https://colab.research.google.com/github/zkhandker/rupi-kaur/blob/main/Zuhair01.ipynb\" target=\"_parent\"><img src=\"https://colab.research.google.com/assets/colab-badge.svg\" alt=\"Open In Colab\"/></a>"
      ]
    },
    {
      "cell_type": "markdown",
      "metadata": {
        "id": "rsvlBQYCrE4I"
      },
      "source": [
        "## Dependencies \n"
      ]
    },
    {
      "cell_type": "code",
      "metadata": {
        "id": "riVZCVK65QTH",
        "colab": {
          "base_uri": "https://localhost:8080/"
        },
        "outputId": "da4a28b8-619d-48cb-a5f1-f28963958bbe"
      },
      "source": [
        "# Import Tensorflow 2.0\n",
        "%tensorflow_version 2.x\n",
        "import tensorflow as tf \n",
        "\n",
        "# Download and import the MIT 6.S191 package\n",
        "!pip install mitdeeplearning\n",
        "import mitdeeplearning as mdl\n",
        "\n",
        "# Import all remaining packages\n",
        "import numpy as np\n",
        "import os\n",
        "import time\n",
        "import functools\n",
        "from IPython import display as ipythondisplay\n",
        "from tqdm import tqdm\n",
        "!apt-get install abcmidi timidity > /dev/null 2>&1\n",
        "\n",
        "# Check that we are using a GPU, if not switch runtimes\n",
        "#   using Runtime > Change Runtime Type > GPU\n",
        "## assert len(tf.config.list_physical_devices('GPU')) > 0\n",
        "import pathlib"
      ],
      "execution_count": 2,
      "outputs": [
        {
          "output_type": "stream",
          "text": [
            "Requirement already satisfied: mitdeeplearning in /usr/local/lib/python3.7/dist-packages (0.2.0)\n",
            "Requirement already satisfied: tqdm in /usr/local/lib/python3.7/dist-packages (from mitdeeplearning) (4.41.1)\n",
            "Requirement already satisfied: gym in /usr/local/lib/python3.7/dist-packages (from mitdeeplearning) (0.17.3)\n",
            "Requirement already satisfied: numpy in /usr/local/lib/python3.7/dist-packages (from mitdeeplearning) (1.19.5)\n",
            "Requirement already satisfied: regex in /usr/local/lib/python3.7/dist-packages (from mitdeeplearning) (2019.12.20)\n",
            "Requirement already satisfied: scipy in /usr/local/lib/python3.7/dist-packages (from gym->mitdeeplearning) (1.4.1)\n",
            "Requirement already satisfied: cloudpickle<1.7.0,>=1.2.0 in /usr/local/lib/python3.7/dist-packages (from gym->mitdeeplearning) (1.3.0)\n",
            "Requirement already satisfied: pyglet<=1.5.0,>=1.4.0 in /usr/local/lib/python3.7/dist-packages (from gym->mitdeeplearning) (1.5.0)\n",
            "Requirement already satisfied: future in /usr/local/lib/python3.7/dist-packages (from pyglet<=1.5.0,>=1.4.0->gym->mitdeeplearning) (0.16.0)\n"
          ],
          "name": "stdout"
        }
      ]
    },
    {
      "cell_type": "markdown",
      "metadata": {
        "id": "12kd7ooJOWjZ"
      },
      "source": [
        "## Load Poems \n"
      ]
    },
    {
      "cell_type": "code",
      "metadata": {
        "id": "8FDuRchuZAce"
      },
      "source": [
        "#data_url = 'https://raw.githubusercontent.com/zkhandker/rupi-kaur/main/data/test.txt'\n",
        "#dataset = tf.keras.utils.get_file('test.txt',\n",
        "#    data_url)\n",
        "#dataset_dir = pathlib.Path(dataset).parent"
      ],
      "execution_count": 30,
      "outputs": []
    },
    {
      "cell_type": "code",
      "metadata": {
        "id": "0xUmL3QzfluV"
      },
      "source": [
        "# tf.io.gfile.remove(dataset_dir/'test2.txt')"
      ],
      "execution_count": null,
      "outputs": []
    },
    {
      "cell_type": "code",
      "metadata": {
        "id": "x5esSklXciP2"
      },
      "source": [
        "#list(dataset_dir.iterdir())"
      ],
      "execution_count": 31,
      "outputs": []
    },
    {
      "cell_type": "code",
      "metadata": {
        "id": "suMjf1EPcXkL"
      },
      "source": [
        "#sample_file = dataset_dir/'test.txt'\n",
        "#with open(sample_file) as f:\n",
        "  #print(f.read())\n",
        "#  sentence=f.read()\n",
        "#  print(sentence)"
      ],
      "execution_count": 32,
      "outputs": []
    },
    {
      "cell_type": "code",
      "metadata": {
        "id": "PYSGRMuTI0op"
      },
      "source": [
        "path_to_file = tf.keras.utils.get_file('combined2', 'https://raw.githubusercontent.com/zkhandker/rupi-kaur/main/data/combined2.txt')\n",
        "with open(path_to_file) as f: \n",
        "  poems = f.read()\n",
        "  #print(poems)"
      ],
      "execution_count": 3,
      "outputs": []
    },
    {
      "cell_type": "markdown",
      "metadata": {
        "id": "CF-KDgzwREqj"
      },
      "source": [
        "## Vectorize Poems \n"
      ]
    },
    {
      "cell_type": "code",
      "metadata": {
        "colab": {
          "base_uri": "https://localhost:8080/"
        },
        "id": "mRs_tAifGTjO",
        "outputId": "966a8cd7-b5ab-4694-97bc-9088d1906449"
      },
      "source": [
        "#sentence = \"The wide road shimmered in the hot sun\"\n",
        "tokens = list(poems.lower().split())\n",
        "print(len(tokens))"
      ],
      "execution_count": 4,
      "outputs": [
        {
          "output_type": "stream",
          "text": [
            "13374\n"
          ],
          "name": "stdout"
        }
      ]
    },
    {
      "cell_type": "code",
      "metadata": {
        "colab": {
          "base_uri": "https://localhost:8080/"
        },
        "id": "PoMmec0_GtiY",
        "outputId": "c5d047a3-1bac-47bf-a0cf-7ad424d20275"
      },
      "source": [
        "vocab, index = {}, 1 # start indexing from 1\n",
        "vocab['<pad>'] = 0 # add a padding token \n",
        "for token in tokens:\n",
        "  if token not in vocab: \n",
        "    vocab[token] = index\n",
        "    index += 1\n",
        "vocab_size = len(vocab)\n",
        "print(vocab)\n",
        "print(vocab_size)"
      ],
      "execution_count": 5,
      "outputs": [
        {
          "output_type": "stream",
          "text": [
            "{'<pad>': 0, 'how': 1, 'is': 2, 'it': 3, 'so': 4, 'easy': 5, 'for': 6, 'you': 7, 'to': 8, 'be': 9, 'kind': 10, 'people': 11, 'he': 12, 'asked': 13, 'milk': 14, 'and': 15, 'honey': 16, 'dripped': 17, 'from': 18, 'my': 19, 'lips': 20, 'as': 21, 'i': 22, 'answered': 23, 'cause': 24, 'have': 25, 'not': 26, 'been': 27, 'me': 28, 'the': 29, 'first': 30, 'boy': 31, 'that': 32, 'kissed': 33, 'held': 34, 'shoulders': 35, 'down': 36, 'like': 37, 'handlebars': 38, 'of': 39, 'bicycle': 40, 'ever': 41, 'rode': 42, 'was': 43, 'five': 44, 'had': 45, 'smell': 46, 'starvation': 47, 'on': 48, 'his': 49, 'which': 50, 'picked': 51, 'up': 52, 'father': 53, 'feasting': 54, 'mother': 55, 'at': 56, '4': 57, 'a.m.': 58, 'teach': 59, 'body': 60, 'giving': 61, 'those': 62, 'wanted': 63, 'should': 64, 'feel': 65, 'anything': 66, 'less': 67, 'than': 68, 'whole': 69, 'god': 70, 'did': 71, 'empty': 72, '4:25': 73, \"i've\": 74, 'sex': 75, 'she': 76, 'said': 77, 'but': 78, \"don't\": 79, 'know': 80, 'what': 81, 'making': 82, 'love': 83, 'feels': 84, 'came': 85, 'all': 86, 'this': 87, 'way': 88, 'give': 89, 'these': 90, 'things': 91, \"aren't\": 92, 'even': 93, 'looking': 94, 'abused': 95, 'abuser': 96, '-': 97, 'both': 98, 'am': 99, 'undoing': 100, 'skin': 101, \"wasn't\": 102, 'kissing': 103, 'ó': 104, 'mistaken': 105, 'him': 106, 'mind': 107, 'your': 108, 'were': 109, 'just': 110, 'convenient': 111, 'always': 112, 'comes': 113, 'back': 114, 'boils': 115, 'circles': 116, 'itches': 117, 'its': 118, 'music': 119, 'ears': 120, 'cut': 121, 'off': 122, 'tongue': 123, 'sour': 124, 'hunger': 125, 'missing': 126, 'will': 127, 'build': 128, 'into': 129, 'life': 130, 'when': 131, 'want': 132, 'a': 133, 'with': 134, 'difference': 135, 'if': 136, 'knew': 137, 'safety': 138, 'looked': 139, 'would': 140, 'spent': 141, 'time': 142, 'falling': 143, 'arms': 144, 'rivers': 145, 'fall': 146, 'mouth': 147, 'tears': 148, 'eyes': 149, \"can't\": 150, 'carry': 151, 'are': 152, 'snakeskin': 153, 'keep': 154, 'shedding': 155, 'somehow': 156, 'forgetting': 157, 'every': 158, 'exquisite': 159, 'detail': 160, 'face': 161, 'letting': 162, 'go': 163, 'has': 164, 'become': 165, 'most': 166, 'pleasant': 167, 'saddest': 168, 'thing': 169, 'happened': 170, 'wrong': 171, 'leaving': 172, 'coming': 173, 'thinking': 174, 'could': 175, 'leave': 176, 'can': 177, 'write': 178, 'took': 179, 'hands': 180, 'neither': 181, 'us': 182, 'happy': 183, 'wants': 184, 'we': 185, 'breaking': 186, 'one': 187, 'another': 188, 'calling': 189, 'began': 190, 'honesty': 191, 'let': 192, 'end': 193, 'in': 194, 'too': 195, 'voice': 196, 'alone': 197, 'drives': 198, 'why': 199, 'split': 200, 'myself': 201, 'open': 202, 'others': 203, 'knowing': 204, 'sewing': 205, 'hurts': 206, 'much': 207, 'afterward': 208, 'they': 209, 'left': 210, 'stays': 211, 'takes': 212, 'consent': 213, 'two': 214, 'person': 215, 'lying': 216, 'there': 217, 'doing': 218, 'ready': 219, 'or': 220, 'mood': 221, 'simply': 222, 'yet': 223, 'other': 224, 'having': 225, 'their': 226, \"it's\": 227, 'rape': 228, 'cruel': 229, 'game': 230, 'made': 231, 'out': 232, 'our': 233, 'die': 234, 'written': 235, 'pages': 236, 'after': 237, 'hurt': 238, 'loss': 239, 'pain': 240, 'still': 241, 'only': 242, 'undressed': 243, 'under': 244, 'night': 245, 'woke': 246, 'broken': 247, 'place': 248, 'put': 249, 'pieces': 250, 'bags': 251, 'stay': 252, 'whispered': 253, 'shut': 254, 'door': 255, 'behind': 256, 'confident': 257, 'over': 258, 'you.': 259, 'some': 260, 'mornings': 261, 'wake': 262, 'smile': 263, 'pressed': 264, 'together': 265, 'thanking': 266, 'universe': 267, 'pulling': 268, 'me.': 269, 'thank': 270, 'cry.': 271, 'left.': 272, 'empire': 273, 'today': 274, 'stayed.': 275, 'then.': 276, 'nights': 277, 'imagine': 278, 'might': 279, 'do': 280, 'showed': 281, 'up.': 282, 'walked': 283, 'room': 284, 'very': 285, 'second': 286, 'awful': 287, \"you've\": 288, 'done': 289, 'tossed': 290, 'closest': 291, 'window': 292, 'rise': 293, 'again.': 294, 'pour': 295, 'through': 296, 'never': 297, 'really': 298, 'place.': 299, 'practicing': 300, 'silent': 301, 'long': 302, 'loud': 303, 'arrival.': 304, 'someone': 305, 'explain': 306, 'that.': 307, 'leaves.': 308, \"doesn't\": 309, 'leave.': 310, 'past': 311, 'helplessly': 312, 'brought': 313, \"isn't\": 314, 'head': 315, 'sobbed': 316, 'heart': 317, 'wilting': 318, 'friends': 319, 'more': 320, 'idea': 321, 'capable': 322, 'choose': 323, 'toxic': 324, 'losing': 325, 'parts': 326, 'lose': 327, 'eyelashes': 328, 'unknowingly': 329, 'everywhere': 330, 'cannot': 331, 'exist': 332, 'places': 333, 'once': 334, 'ask': 335, 'water': 336, 'soft': 337, 'enough': 338, 'offer': 339, 'tough': 340, 'drown': 341, 'away': 342, 'miss': 343, 'loved': 344, \"didn't\": 345, 'was.': 346, 'reflection': 347, 'everything': 348, 'gave': 349, 'see': 350, 'how.': 351, 'sit': 352, 'here': 353, 'soaking': 354, 'no': 355, 'else': 356, 'way.': 357, 'taught': 358, 'fill.': 359, 'needed': 360, 'filled.': 361, 'myself.': 362, 'credit': 363, 'warmth': 364, 'because': 365, 'felt': 366, 'it.': 367, 'who': 368, 'strength.': 369, 'wit.': 370, 'beauty.': 371, 'recognized': 372, 'already': 373, 'before': 374, 'met': 375, 'remain': 376, 'gone': 377, 'abandon': 378, 'linger': 379, 'think': 380, 'okay': 381, 'return': 382, 'tell': 383, 'about': 384, 'selfish': 385, 'people.': 386, 'walk': 387, 'taste': 388, 'type': 389, 'being': 390, 'on.': 391, 'shine': 392, 'felt.': 393, 'gotten': 394, 'good': 395, 'look': 396, 'offer.': 397, 'taken': 398, 'hair': 399, 'secrets': 400, 'them.': 401, 'realize': 402, 'real': 403, 'is.': 404, 'storm': 405, 'hits': 406, 'cowardice': 407, 'sets': 408, 'in.': 409, 'thought': 410, 'replaced': 411, 'by': 412, 'sad': 413, 'reality': 414, 'are.': 415, 'fighting': 416, 'bone': 417, 'saying': 418, 'find': 419, 'better': 420, 'stand': 421, 'naked': 422, 'half': 423, 'them': 424, 'hidden': 425, 'somewhere': 426, 'inside': 427, 'sob.': 428, 'asking': 429, 'forced': 430, 'intention': 431, 'loving': 432, \"they'll\": 433, 'say': 434, 'something': 435, 'along': 436, 'lines': 437, 'try.': 438, 'chance.': 439, 'all.': 440, 'romantic.': 441, 'sweet.': 442, 'engulfed': 443, 'existence': 444, 'risk': 445, 'sake': 446, \"weren't\": 447, 'out.': 448, 'meant': 449, 'little': 450, 'next': 451, 'curiosity': 452, 'gamble': 453, 'entire': 454, 'beings.': 455, 'souls': 456, 'please': 457, 'own.': 458, 'holding': 459, 'world': 460, 'lap': 461, 'belittled': 462, 'mere': 463, 'picture.': 464, 'moment.': 465, 'past.': 466, 'second.': 467, 'swallow': 468, 'whisper': 469, 'spend': 470, 'rest': 471, 'moment': 472, 'sense': 473, 'fear.': 474, 'halfway': 475, 'door.': 476, 'without': 477, 'nerve': 478, 'grace.': 479, 'human': 480, 'means': 481, 'this.': 482, 'taking.': 483, 'nerve.': 484, 'funny': 485, 'guts': 486, 'days': 487, 'undress': 488, 'fingers': 489, 'pick': 490, 'phone': 491, 'call.': 492, 'apologize.': 493, 'loss.': 494, 'her.': 495, 'list': 496, '(after': 497, 'breakup):': 498, '1.': 499, 'take': 500, 'refuge': 501, 'bed.': 502, '2.': 503, 'till': 504, 'stop': 505, '(this': 506, 'few': 507, 'days).': 508, '3.': 509, 'listen': 510, 'slow': 511, 'songs.': 512, '4.': 513, 'delete': 514, 'number': 515, 'though': 516, 'memorized': 517, 'fingertips.': 518, '5.': 519, 'old': 520, 'photos.': 521, '6.': 522, 'ice': 523, 'cream': 524, 'shop': 525, 'treat': 526, 'yourself': 527, 'scoops': 528, 'mint': 529, 'chocolate': 530, 'chip.': 531, 'calm': 532, 'heart.': 533, 'deserve': 534, 'chocolate.': 535, '7.': 536, 'buy': 537, 'new': 538, 'bed': 539, 'sheets.': 540, '8.': 541, 'collect': 542, 'gifts,': 543, 't-shirts,': 544, 'drop': 545, 'donation': 546, 'center.': 547, '9.': 548, 'plan': 549, 'trip.': 550, '10.': 551, 'perfect': 552, 'art': 553, 'smiling': 554, 'nodding': 555, 'brings': 556, 'name': 557, 'conversation.': 558, '11.': 559, 'start': 560, 'project.': 561, '12.': 562, 'whatever': 563, 'do.': 564, '13.': 565, 'beg': 566, 'does': 567, 'stay.': 568, '14.': 569, 'crying': 570, 'point.': 571, '15.': 572, 'allow': 573, 'foolish': 574, 'believing': 575, \"could've\": 576, 'built': 577, \"else's\": 578, 'stomach.': 579, '16.': 580, 'breathe.': 581, 'tells': 582, 'bigger': 583, 'illusion': 584, 'woman': 585, 'bring': 586, 'dishonor': 587, 'home': 588, 'tries': 589, 'her': 590, 'safe': 591, 'perhaps': 592, 'nice': 593, 'paying': 594, 'sins': 595, 'remember': 596, 'writing': 597, 'healing': 598, 'destroying': 599, 'bother': 600, 'make': 601, 'must': 602, 'enter': 603, 'relationship': 604, 'anyone': 605, 'accept': 606, 'painful': 607, 'moving': 608, 'healthiest': 609, 'move': 610, 'part': 611, 'experience': 612, 'afraid': 613, 'evolving': 614, 'loneliness': 615, 'sign': 616, 'desperate': 617, 'need': 618, 'habit': 619, 'co-depending': 620, 'lack': 621, 'tricked': 622, 'complete': 623, 'complement': 624, 'feet': 625, 'broke': 626, 'pinned': 627, 'legs': 628, 'ground': 629, 'demanded': 630, 'born': 631, 'weakness': 632, 'strength': 633, 'live': 634, 'waiting': 635, \"they're\": 636, 'sure': 637, 'exists': 638, '7': 639, 'billion': 640, 'strong': 641, 'grow': 642, 'flowers': 643, 'helped': 644, 'mine': 645, 'bloom': 646, 'beautifully': 647, 'dangerously': 648, 'loudly': 649, 'softly': 650, 'however': 651, 'reader': 652, 'taking': 653, 'balance': 654, 'grace': 655, 'situations': 656, 'solitude': 657, 'between': 658, 'telling': 659, 'actually': 660, 'sometimes': 661, 'apology': 662, 'nor': 663, 'late': 664, 'girls': 665, 'learn': 666, 'kiss': 667, 'closed': 668, 'phraseósomething': 669, 'unlike': 670, 'women': 671, 'call': 672, 'sisters': 673, 'order': 674, 'makes': 675, 'spit': 676, 'supposed': 677, 'proud': 678, 'relieved': 679, 'points': 680, 'growing': 681, 'remind': 682, 'guest': 683, 'warn': 684, 'outstep': 685, 'welcome': 686, 'again': 687, 'tear': 688, 'powerful': 689, 'completely': 690, 'found': 691, 'surroundings': 692, 'lost': 693, 'within': 694, 'hard': 695, 'believe': 696, 'tomorrow': 697, 'come': 698, 'difficult': 699, 'day': 700, 'get': 701, 'swear': 702, 'pass': 703, 'slowly': 704, 'promise': 705, 'stretch': 706, 'marks': 707, 'thighs': 708, \"we're\": 709, 'rough': 710, 'jungle': 711, 'wild': 712, 'feeling': 713, 'unafraid': 714, 'tend': 715, 'wounds': 716, 'utterly': 717, 'issue': 718, 'consider': 719, 'beautiful': 720, 'concept': 721, 'beauty': 722, 'centers': 723, 'around': 724, 'excluding': 725, 'wears': 726, 'garden': 727, 'definition': 728, 'big': 729, 'hooked': 730, 'noses': 731, 'pointing': 732, 'upward': 733, 'sky': 734, 'rising': 735, 'occasion': 736, 'color': 737, 'earth': 738, 'ancestors': 739, 'planted': 740, 'crops': 741, 'feed': 742, 'lineage': 743, 'thick': 744, 'tree': 745, 'trunks': 746, 'almonds': 747, 'deeply': 748, 'hooded': 749, 'conviction': 750, 'punjab': 751, 'flow': 752, 'bloodstream': 753, 'ones': 754, 'country': 755, 'backs': 756, 'stories': 757, 'books': 758, 'spine': 759, 'designed': 760, 'museum': 761, 'natural': 762, 'disasters': 763, 'grasp': 764, 'stunning': 765, 'sadness': 766, 'living': 767, \"shouldn't\": 768, 'becoming': 769, \"women's\": 770, 'bodies': 771, 'battlegrounds': 772, 'removing': 773, \"that's\": 774, 'keeping': 775, 'belong': 776, 'apparently': 777, 'ungraceful': 778, 'mention': 779, 'period': 780, 'public': 781, 'actual': 782, 'biology': 783, 'sell': 784, \"what's\": 785, \"woman's\": 786, 'inner': 787, 'workings': 788, 'recreational': 789, 'use': 790, 'seen': 791, 'while': 792, 'nature': 793, 'ugly': 794, 'dragon': 795, 'fly': 796, \"he's\": 797, 'apologize': 798, 'called': 799, 'pretty': 800, 'intelligent': 801, 'brave': 802, 'sorry': 803, 'sound': 804, 'simple': 805, \"you're\": 806, 'spirit': 807, 'crushed': 808, 'mountains': 809, 'now': 810, 'resilient': 811, 'extraordinary': 812, 'outlook': 813, 'cry': 814, 'hold': 815, 'heal': 816, 'happiness': 817, 'patient': 818, 'daughter': 819, 'kaur': 820, 'free': 821, 'removes': 822, 'shackles': 823, 'try': 824, 'bind': 825, 'uplifts': 826, 'equal': 827, 'any': 828, 'man': 829, 'state': 830, 'screams': 831, 'own': 832, 'wholly': 833, 'humbles': 834, 'calls': 835, 'says': 836, 'universal': 837, 'duty': 838, 'share': 839, 'humanity': 840, 'nurture': 841, 'serve': 842, 'sisterhood': 843, 'raise': 844, 'raising': 845, 'runs': 846, 'blood': 847, 'word': 848, 'itself': 849, 'existed': 850, 'identity': 851, 'liberation': 852, 'sikhi': 853, 'gives': 854, 'gold': 855, 'nothing': 856, 'purer': 857, 'aches': 858, 'helping': 859, 'ache': 860, 'spring': 861, 'goddess': 862, 'mouths': 863, 'soul': 864, 'mate': 865, 'bitter': 866, 'kindest': 867, 'forward': 868, 'recognize': 869, 'striking': 870, 'mean': 871, 'rooted': 872, 'deep': 873, 'help': 874, 'war': 875, 'naturally': 876, 'trying': 877, 'convince': 878, 'allowed': 879, 'space': 880, 'hand': 881, 'right': 882, 'shrinking': 883, 'hereditary': 884, 'importantly': 885, 'page': 886, 'where': 887, 'sitting': 888, 'degree': 889, 'job': 890, 'money': 891, 'matters': 892, 'except': 893, 'connection': 894, 'touched': 895, 'sink': 896, 'grounded': 897, 'searching': 898, 'point': 899, 'course': 900, 'successful': 901, 'crave': 902, 'success': 903, 'gain': 904, 'succeed': 905, 'heartbeat': 906, 'quickens': 907, 'birthing': 908, 'poems': 909, 'opening': 910, 'conceive': 911, 'lovemaking': 912, 'words': 913, 'erotic': 914, 'either': 915, 'lust': 916, 'terrifies': 917, 'foam': 918, 'envy': 919, 'sigh': 920, 'relief': 921, 'failing': 922, 'struggle': 923, 'celebrate': 924, 'each': 925, 'proven': 926, 'many': 927, 'work': 928, 'likes': 929, 'honest': 930, 'trade': 931, 'relatability': 932, 'young': 933, 'poets': 934, 'quiet': 935, 'opinions': 936, 'fire': 937, 'belly': 938, 'lightness': 939, 'heavy': 940, 'blade': 941, 'silk': 942, 'forget': 943, 'follow': 944, 'seva': 945, '(selfless': 946, 'service)': 947, 'youhe': 948, 'scraping': 949, 'cantaloupe': 950, 'clean': 951, 'offering': 952, 'absent': 953, 'border': 954, 'countries': 955, 'collateral': 956, 'damage': 957, 'paradox': 958, 'joins': 959, 'also': 960, 'splits': 961, 'apart': 962, 'emptying': 963, \"mother's\": 964, 'act': 965, 'disappearance': 966, 'learning': 967, 'shrink': 968, 'family': 969, 'daughters': 970, 'invisible': 971, 'repeat': 972, 'wish': 973, 'often': 974, 'reason': 975, 'alive': 976, 'heaving': 977, 'chest': 978, 'guess': 979, 'tenderness': 980, 'well': 981, 'same': 982, 'exhausted': 983, 'rage': 984, 'wear': 985, 'anger': 986, '(homage': 987, 'warsan': 988, \"shire's\": 989, 'inheritance)': 990, 'opens': 991, 'conversation': 992, 'dinner': 993, 'shoves': 994, 'hush': 995, 'speak': 996, 'full': 997, 'learned': 998, 'knees': 999, 'pried': 1000, 'cousins': 1001, 'uncles': 1002, 'men': 1003, 'father.': 1004, 'particular.': 1005, \"i'm\": 1006, 'silence': 1007, 'stretches': 1008, 'lifetime': 1009, 'scramble': 1010, 'questions': 1011, 'going.': 1012, 'understand': 1013, 'feet.': 1014, 'blame': 1015, 'hurting': 1016, \"you'll\": 1017, 'care': 1018, 'mention.': 1019, 'aching': 1020, 'blood.': 1021, 'attention': 1022, 'collapse': 1023, 'daughter.': 1024, 'small': 1025, 'talk': 1026, 'plough': 1027, 'mostly': 1028, 'shocked.': 1029, 'rubber': 1030, 'against': 1031, 'an': 1032, 'wound.': 1033, 'begin': 1034, 'pushing': 1035, 'faster': 1036, 'faster.': 1037, 'nothing.': 1038, 'search': 1039, 'reaction': 1040, 'acting': 1041, 'videos': 1042, 'watch': 1043, \"one's\": 1044, 'looking.': 1045, 'imitate': 1046, 'moans.': 1047, 'hollow': 1048, 'hungry.': 1049, 'yes': 1050, 'quickly': 1051, 'sounds': 1052, 'rehearsed.': 1053, 'acting.': 1054, 'notice.': 1055, 'veins': 1056, 'terrified': 1057, 'looks': 1058, 'flinch': 1059, 'touch': 1060, 'fear': 1061, 'pregnant': 1062, 'child': 1063, 'four': 1064, 'pointed': 1065, 'swollen': 1066, 'confused': 1067, 'such': 1068, 'scooped': 1069, 'trunk': 1070, 'grown': 1071, 'age': 1072, 'changed': 1073, 'rested': 1074, 'energy': 1075, 'wanting': 1076, 'wait': 1077, \"won't\": 1078, 'sight': 1079, 'meet': 1080, \"it'll\": 1081, 'remembrance': 1082, 'marry': 1083, \"i'd\": 1084, 'son': 1085, 'revolution': 1086, 'starts': 1087, 'ends': 1088, 'asks': 1089, 'hope': 1090, 'form': 1091, 'favorite': 1092, 'herbs': 1093, 'gardens': 1094, 'therapist': 1095, 'doll': 1096, 'front': 1097, 'size': 1098, 'touching': 1099, 'spot': 1100, 'fingered': 1101, 'confession': 1102, \"how're\": 1103, 'pull': 1104, 'lump': 1105, 'throat': 1106, 'teeth': 1107, 'fine': 1108, 'numb': 1109, 'midweek': 1110, 'sessions': 1111, 'crumble': 1112, 'reasons': 1113, 'sun': 1114, 'faint': 1115, 'line': 1116, 'faith': 1117, 'blindly': 1118, 'letter': 1119, 'future': 1120, 'lover': 1121, 'safer': 1122, 'reading': 1123, 'date': 1124, 'placed': 1125, 'reaching': 1126, 'waist': 1127, 'hips': 1128, 'touches': 1129, 'surprised': 1130, 'goddamn': 1131, 'spread': 1132, 'easel': 1133, 'canvas': 1134, 'begging': 1135, 'fill': 1136, 'light': 1137, 'city': 1138, 'then': 1139, 'combined': 1140, 'set': 1141, 'melt': 1142, 'play': 1143, 'games': 1144, 'knows': 1145, 'speechless': 1146, 'truth': 1147, 'weak': 1148, 'forgets': 1149, 'language': 1150, 'company': 1151, 'packaging': 1152, 'foró': 1153, 'stops': 1154, 'midsentence': 1155, 'pay': 1156, 'bills': 1157, 'crazy': 1158, 'keeps': 1159, 'show': 1160, 'tips': 1161, 'forearm': 1162, 'graze': 1163, 'wrist': 1164, 'goose': 1165, 'bumps': 1166, 'surface': 1167, 'clench': 1168, 'muscles': 1169, 'tighten': 1170, 'pore': 1171, 'blink': 1172, 'break': 1173, 'gaze': 1174, 'inches': 1175, 'toward': 1176, 'step': 1177, 'command': 1178, 'cheeks': 1179, 'flush': 1180, 'shyly': 1181, 'confessing': 1182, 'loves': 1183, 'irrelevant': 1184, 'turn': 1185, 'forest': 1186, 'running': 1187, 'strongest': 1188, 'positive': 1189, 'negative': 1190, 'connotation': 1191, 'lights': 1192, 'leaves': 1193, 'whispers': 1194, 'ear': 1195, 'ways': 1196, 'undresses': 1197, 'male': 1198, 'french': 1199, 'wrap': 1200, 'foreplay': 1201, 'run': 1202, 'willing': 1203, 'exactly': 1204, 'hears': 1205, 'understanding': 1206, 'demand': 1207, 'dance': 1208, 'solo': 1209, 'performance': 1210, \"we've\": 1211, 'arguing': 1212, 'ought': 1213, 'to.': 1214, 'avoid': 1215, 'questions.': 1216, 'instead': 1217, 'used': 1218, 'fight': 1219, 'like:': 1220, 'first.': 1221, 'pop': 1222, 'frozen': 1223, 'pizza': 1224, 'oven': 1225, 'work.': 1226, 'vulnerable': 1227, 'another.': 1228, 'thorns': 1229, 'honey.': 1230, 'hurts.': 1231, 'table': 1232, 'tonight.': 1233, 'sleep.': 1234, 'last': 1235, 'week': 1236, 'working': 1237, 'late.': 1238, \"you'd\": 1239, 'couple': 1240, 'hours': 1241, 'ago.': 1242, 'hours.': 1243, 'know.': 1244, 'excuses': 1245, 'world.': 1246, 'carried': 1247, 'eventually': 1248, 'crying.': 1249, 'expect': 1250, 'baby.': 1251, 'much.': 1252, 'lying.': 1253, 'frustration.': 1254, 'stop.': 1255, 'tired': 1256, 'sick': 1257, 'toxin': 1258, 'burnt': 1259, 'holes': 1260, 'cheeks.': 1261, 'faces.': 1262, 'kid': 1263, 'yourself.': 1264, 'matter': 1265, 'bad': 1266, 'gets': 1267, 'wanna': 1268, 'nail': 1269, 'ground.': 1270, 'especially': 1271, 'screaming': 1272, 'wakes': 1273, 'neighbors.': 1274, 'save': 1275, 'us.': 1276, 'baby': 1277, 'instead.': 1278, 'lie': 1279, 'down.': 1280, 'lay': 1281, 'map.': 1282, 'finger': 1283, 'trace': 1284, '****': 1285, 'center': 1286, 'gravity': 1287, 'focal': 1288, 'yours.': 1289, 'places.': 1290, 'habit.': 1291, 'when.': 1292, 'home.': 1293, 'street': 1294, 'windows': 1295, 'wondering': 1296, 'commotion': 1297, 'trucks': 1298, 'rolling': 1299, 'distinguish': 1300, 'whether': 1301, 'flames': 1302, 'passion.': 1303, 'smile.': 1304, 'throw': 1305, 'back.': 1306, 'arch': 1307, 'mountain': 1308, 'half.': 1309, 'lick': 1310, 'gift': 1311, 'book.': 1312, 'read': 1313, 'carefully.': 1314, 'fluently.': 1315, 'vividly.': 1316, 'dare': 1317, 'single': 1318, 'untouched.': 1319, 'ending': 1320, 'good.': 1321, 'come.': 1322, 'mouth.': 1323, 'done.': 1324, 'seat.': 1325, 'sweet': 1326, 'flick': 1327, 'tongues.': 1328, 'decided': 1329, 'snap': 1330, 'defense': 1331, 'shout': 1332, 'defeated': 1333, 'parent': 1334, 'fix': 1335, 'wretched': 1336, 'distant': 1337, 'forgot': 1338, 'said.': 1339, 'be.': 1340, 'fate': 1341, 'together.': 1342, 'wonder': 1343, 'naive.': 1344, 'works': 1345, 'lives': 1346, 'staring': 1347, 'spends': 1348, 'placing': 1349, 'chess.': 1350, 'choices': 1351, 'make.': 1352, 'convinced': 1353, 'given': 1354, 'yours': 1355, 'use.': 1356, 'actions': 1357, 'define': 1358, 'scream': 1359, 'fool.': 1360, 'quietly.': 1361, 'quivering': 1362, 'thinking.': 1363, 'tragic': 1364, 'thing.': 1365, 'clearly': 1366, \"doesn't.\": 1367, 'mistake': 1368, 'salt': 1369, 'sugar': 1370, 'slips': 1371, 'waistband': 1372, 'pants': 1373, 'may': 1374, 'certainly': 1375, 'temptingly': 1376, 'stung': 1377, 'got': 1378, 'close': 1379, 'bootleg': 1380, 'version': 1381, 'am.': 1382, 'erase': 1383, 'punch': 1384, 'stomach': 1385, 'did.': 1386, 'body.': 1387, 'lick,': 1388, 'caress,': 1389, 'suck': 1390, 'replacement': 1391, 'slip.': 1392, 'excite': 1393, 'eyelids': 1394, 'pity': 1395, 'hit': 1396, 'busy': 1397, 'coffee': 1398, 'black': 1399, 'weep': 1400, 'drinking': 1401, 'rather': 1402, 'darkest': 1403, 'rose': 1404, 'manhood': 1405, 'curled': 1406, 'marinates': 1407, 'remembers': 1408, 'regret': 1409, 'stopped': 1410, 'longer': 1411, 'stayed': 1412, \"mustn't\": 1413, 'themselves': 1414, 'weekend': 1415, 'getaway': 1416, 'town': 1417, 'surrounding': 1418, 'heard': 1419, 'neon': 1420, 'skyscrapers': 1421, 'statues': 1422, 'thunder': 1423, 'bridges': 1424, 'tremble': 1425, 'meat': 1426, 'homemade': 1427, 'jam': 1428, 'sweetest': 1429, 'police': 1430, 'sirens': 1431, 'crackle': 1432, 'fireplace': 1433, 'burn': 1434, \"couldn't\": 1435, 'blush': 1436, 'hotel': 1437, 'whiskey': 1438, 'expectations': 1439, 'vacation': 1440, 'arrives': 1441, 'poetry': 1442, 'degrade': 1443, 'toxicity': 1444, 'central': 1445, 'douse': 1446, 'yell': 1447, 'confuse': 1448, 'kindness': 1449, 'seems': 1450, 'grows': 1451, 'trust': 1452, 'fathers': 1453, 'known': 1454, 'dipped': 1455, 'worth': 1456, 'question': 1457, 'problem': 1458, 'able': 1459, 'danger': 1460, 'rolls': 1461, 'accidently': 1462, 'everyone': 1463, 'tender': 1464, 'potential': 1465, 'allowing': 1466, 'now.': 1467, 'feel.': 1468, 'limiting': 1469, 'ripe': 1470, 'experienced': 1471, 'exhilarating': 1472, 'meet.': 1473, 'settling.': 1474, 'tasted': 1475, 'rawest': 1476, 'refined': 1477, 'synthetic.': 1478, 'beyond': 1479, 'add': 1480, 'years': 1481, 'combine': 1482, 'sweeter': 1483, 'falsehood': 1484, 'balanced': 1485, 'glow': 1486, 'angry': 1487, 'extremes': 1488, 'wings': 1489, 'grieve': 1490, 'shatter': 1491, 'iíve': 1492, 'donít': 1493, 'arenít': 1494, 'wasnít': 1495, 'canít': 1496, 'itís': 1497, 'youíve': 1498, 'doesnít': 1499, 'isnít': 1500, 'didnít': 1501, 'theyíll': 1502, 'werenít': 1503, 'couldíve': 1504, 'elseís': 1505, 'theyíre': 1506, 'weíre': 1507, 'shouldnít': 1508, 'womenís': 1509, 'thatís': 1510, 'whatís': 1511, 'womanís': 1512, 'heís': 1513, 'youíre': 1514, 'motherís': 1515, 'shireís': 1516, 'iím': 1517, 'youíll': 1518, 'oneís': 1519, 'wonít': 1520, 'itíll': 1521, 'iíd': 1522, 'howíre': 1523, 'weíve': 1524, 'youíd': 1525, 'doesnít.': 1526, 'mustnít': 1527, 'couldnít': 1528}\n",
            "1529\n"
          ],
          "name": "stdout"
        }
      ]
    },
    {
      "cell_type": "code",
      "metadata": {
        "colab": {
          "base_uri": "https://localhost:8080/"
        },
        "id": "oNj5VH7IHFPe",
        "outputId": "84abbcf0-60f9-4716-d671-fba339aedcdd"
      },
      "source": [
        "inverse_vocab = {index: token for token, index in vocab.items()}\n",
        "print(inverse_vocab)"
      ],
      "execution_count": 6,
      "outputs": [
        {
          "output_type": "stream",
          "text": [
            "{0: '<pad>', 1: 'how', 2: 'is', 3: 'it', 4: 'so', 5: 'easy', 6: 'for', 7: 'you', 8: 'to', 9: 'be', 10: 'kind', 11: 'people', 12: 'he', 13: 'asked', 14: 'milk', 15: 'and', 16: 'honey', 17: 'dripped', 18: 'from', 19: 'my', 20: 'lips', 21: 'as', 22: 'i', 23: 'answered', 24: 'cause', 25: 'have', 26: 'not', 27: 'been', 28: 'me', 29: 'the', 30: 'first', 31: 'boy', 32: 'that', 33: 'kissed', 34: 'held', 35: 'shoulders', 36: 'down', 37: 'like', 38: 'handlebars', 39: 'of', 40: 'bicycle', 41: 'ever', 42: 'rode', 43: 'was', 44: 'five', 45: 'had', 46: 'smell', 47: 'starvation', 48: 'on', 49: 'his', 50: 'which', 51: 'picked', 52: 'up', 53: 'father', 54: 'feasting', 55: 'mother', 56: 'at', 57: '4', 58: 'a.m.', 59: 'teach', 60: 'body', 61: 'giving', 62: 'those', 63: 'wanted', 64: 'should', 65: 'feel', 66: 'anything', 67: 'less', 68: 'than', 69: 'whole', 70: 'god', 71: 'did', 72: 'empty', 73: '4:25', 74: \"i've\", 75: 'sex', 76: 'she', 77: 'said', 78: 'but', 79: \"don't\", 80: 'know', 81: 'what', 82: 'making', 83: 'love', 84: 'feels', 85: 'came', 86: 'all', 87: 'this', 88: 'way', 89: 'give', 90: 'these', 91: 'things', 92: \"aren't\", 93: 'even', 94: 'looking', 95: 'abused', 96: 'abuser', 97: '-', 98: 'both', 99: 'am', 100: 'undoing', 101: 'skin', 102: \"wasn't\", 103: 'kissing', 104: 'ó', 105: 'mistaken', 106: 'him', 107: 'mind', 108: 'your', 109: 'were', 110: 'just', 111: 'convenient', 112: 'always', 113: 'comes', 114: 'back', 115: 'boils', 116: 'circles', 117: 'itches', 118: 'its', 119: 'music', 120: 'ears', 121: 'cut', 122: 'off', 123: 'tongue', 124: 'sour', 125: 'hunger', 126: 'missing', 127: 'will', 128: 'build', 129: 'into', 130: 'life', 131: 'when', 132: 'want', 133: 'a', 134: 'with', 135: 'difference', 136: 'if', 137: 'knew', 138: 'safety', 139: 'looked', 140: 'would', 141: 'spent', 142: 'time', 143: 'falling', 144: 'arms', 145: 'rivers', 146: 'fall', 147: 'mouth', 148: 'tears', 149: 'eyes', 150: \"can't\", 151: 'carry', 152: 'are', 153: 'snakeskin', 154: 'keep', 155: 'shedding', 156: 'somehow', 157: 'forgetting', 158: 'every', 159: 'exquisite', 160: 'detail', 161: 'face', 162: 'letting', 163: 'go', 164: 'has', 165: 'become', 166: 'most', 167: 'pleasant', 168: 'saddest', 169: 'thing', 170: 'happened', 171: 'wrong', 172: 'leaving', 173: 'coming', 174: 'thinking', 175: 'could', 176: 'leave', 177: 'can', 178: 'write', 179: 'took', 180: 'hands', 181: 'neither', 182: 'us', 183: 'happy', 184: 'wants', 185: 'we', 186: 'breaking', 187: 'one', 188: 'another', 189: 'calling', 190: 'began', 191: 'honesty', 192: 'let', 193: 'end', 194: 'in', 195: 'too', 196: 'voice', 197: 'alone', 198: 'drives', 199: 'why', 200: 'split', 201: 'myself', 202: 'open', 203: 'others', 204: 'knowing', 205: 'sewing', 206: 'hurts', 207: 'much', 208: 'afterward', 209: 'they', 210: 'left', 211: 'stays', 212: 'takes', 213: 'consent', 214: 'two', 215: 'person', 216: 'lying', 217: 'there', 218: 'doing', 219: 'ready', 220: 'or', 221: 'mood', 222: 'simply', 223: 'yet', 224: 'other', 225: 'having', 226: 'their', 227: \"it's\", 228: 'rape', 229: 'cruel', 230: 'game', 231: 'made', 232: 'out', 233: 'our', 234: 'die', 235: 'written', 236: 'pages', 237: 'after', 238: 'hurt', 239: 'loss', 240: 'pain', 241: 'still', 242: 'only', 243: 'undressed', 244: 'under', 245: 'night', 246: 'woke', 247: 'broken', 248: 'place', 249: 'put', 250: 'pieces', 251: 'bags', 252: 'stay', 253: 'whispered', 254: 'shut', 255: 'door', 256: 'behind', 257: 'confident', 258: 'over', 259: 'you.', 260: 'some', 261: 'mornings', 262: 'wake', 263: 'smile', 264: 'pressed', 265: 'together', 266: 'thanking', 267: 'universe', 268: 'pulling', 269: 'me.', 270: 'thank', 271: 'cry.', 272: 'left.', 273: 'empire', 274: 'today', 275: 'stayed.', 276: 'then.', 277: 'nights', 278: 'imagine', 279: 'might', 280: 'do', 281: 'showed', 282: 'up.', 283: 'walked', 284: 'room', 285: 'very', 286: 'second', 287: 'awful', 288: \"you've\", 289: 'done', 290: 'tossed', 291: 'closest', 292: 'window', 293: 'rise', 294: 'again.', 295: 'pour', 296: 'through', 297: 'never', 298: 'really', 299: 'place.', 300: 'practicing', 301: 'silent', 302: 'long', 303: 'loud', 304: 'arrival.', 305: 'someone', 306: 'explain', 307: 'that.', 308: 'leaves.', 309: \"doesn't\", 310: 'leave.', 311: 'past', 312: 'helplessly', 313: 'brought', 314: \"isn't\", 315: 'head', 316: 'sobbed', 317: 'heart', 318: 'wilting', 319: 'friends', 320: 'more', 321: 'idea', 322: 'capable', 323: 'choose', 324: 'toxic', 325: 'losing', 326: 'parts', 327: 'lose', 328: 'eyelashes', 329: 'unknowingly', 330: 'everywhere', 331: 'cannot', 332: 'exist', 333: 'places', 334: 'once', 335: 'ask', 336: 'water', 337: 'soft', 338: 'enough', 339: 'offer', 340: 'tough', 341: 'drown', 342: 'away', 343: 'miss', 344: 'loved', 345: \"didn't\", 346: 'was.', 347: 'reflection', 348: 'everything', 349: 'gave', 350: 'see', 351: 'how.', 352: 'sit', 353: 'here', 354: 'soaking', 355: 'no', 356: 'else', 357: 'way.', 358: 'taught', 359: 'fill.', 360: 'needed', 361: 'filled.', 362: 'myself.', 363: 'credit', 364: 'warmth', 365: 'because', 366: 'felt', 367: 'it.', 368: 'who', 369: 'strength.', 370: 'wit.', 371: 'beauty.', 372: 'recognized', 373: 'already', 374: 'before', 375: 'met', 376: 'remain', 377: 'gone', 378: 'abandon', 379: 'linger', 380: 'think', 381: 'okay', 382: 'return', 383: 'tell', 384: 'about', 385: 'selfish', 386: 'people.', 387: 'walk', 388: 'taste', 389: 'type', 390: 'being', 391: 'on.', 392: 'shine', 393: 'felt.', 394: 'gotten', 395: 'good', 396: 'look', 397: 'offer.', 398: 'taken', 399: 'hair', 400: 'secrets', 401: 'them.', 402: 'realize', 403: 'real', 404: 'is.', 405: 'storm', 406: 'hits', 407: 'cowardice', 408: 'sets', 409: 'in.', 410: 'thought', 411: 'replaced', 412: 'by', 413: 'sad', 414: 'reality', 415: 'are.', 416: 'fighting', 417: 'bone', 418: 'saying', 419: 'find', 420: 'better', 421: 'stand', 422: 'naked', 423: 'half', 424: 'them', 425: 'hidden', 426: 'somewhere', 427: 'inside', 428: 'sob.', 429: 'asking', 430: 'forced', 431: 'intention', 432: 'loving', 433: \"they'll\", 434: 'say', 435: 'something', 436: 'along', 437: 'lines', 438: 'try.', 439: 'chance.', 440: 'all.', 441: 'romantic.', 442: 'sweet.', 443: 'engulfed', 444: 'existence', 445: 'risk', 446: 'sake', 447: \"weren't\", 448: 'out.', 449: 'meant', 450: 'little', 451: 'next', 452: 'curiosity', 453: 'gamble', 454: 'entire', 455: 'beings.', 456: 'souls', 457: 'please', 458: 'own.', 459: 'holding', 460: 'world', 461: 'lap', 462: 'belittled', 463: 'mere', 464: 'picture.', 465: 'moment.', 466: 'past.', 467: 'second.', 468: 'swallow', 469: 'whisper', 470: 'spend', 471: 'rest', 472: 'moment', 473: 'sense', 474: 'fear.', 475: 'halfway', 476: 'door.', 477: 'without', 478: 'nerve', 479: 'grace.', 480: 'human', 481: 'means', 482: 'this.', 483: 'taking.', 484: 'nerve.', 485: 'funny', 486: 'guts', 487: 'days', 488: 'undress', 489: 'fingers', 490: 'pick', 491: 'phone', 492: 'call.', 493: 'apologize.', 494: 'loss.', 495: 'her.', 496: 'list', 497: '(after', 498: 'breakup):', 499: '1.', 500: 'take', 501: 'refuge', 502: 'bed.', 503: '2.', 504: 'till', 505: 'stop', 506: '(this', 507: 'few', 508: 'days).', 509: '3.', 510: 'listen', 511: 'slow', 512: 'songs.', 513: '4.', 514: 'delete', 515: 'number', 516: 'though', 517: 'memorized', 518: 'fingertips.', 519: '5.', 520: 'old', 521: 'photos.', 522: '6.', 523: 'ice', 524: 'cream', 525: 'shop', 526: 'treat', 527: 'yourself', 528: 'scoops', 529: 'mint', 530: 'chocolate', 531: 'chip.', 532: 'calm', 533: 'heart.', 534: 'deserve', 535: 'chocolate.', 536: '7.', 537: 'buy', 538: 'new', 539: 'bed', 540: 'sheets.', 541: '8.', 542: 'collect', 543: 'gifts,', 544: 't-shirts,', 545: 'drop', 546: 'donation', 547: 'center.', 548: '9.', 549: 'plan', 550: 'trip.', 551: '10.', 552: 'perfect', 553: 'art', 554: 'smiling', 555: 'nodding', 556: 'brings', 557: 'name', 558: 'conversation.', 559: '11.', 560: 'start', 561: 'project.', 562: '12.', 563: 'whatever', 564: 'do.', 565: '13.', 566: 'beg', 567: 'does', 568: 'stay.', 569: '14.', 570: 'crying', 571: 'point.', 572: '15.', 573: 'allow', 574: 'foolish', 575: 'believing', 576: \"could've\", 577: 'built', 578: \"else's\", 579: 'stomach.', 580: '16.', 581: 'breathe.', 582: 'tells', 583: 'bigger', 584: 'illusion', 585: 'woman', 586: 'bring', 587: 'dishonor', 588: 'home', 589: 'tries', 590: 'her', 591: 'safe', 592: 'perhaps', 593: 'nice', 594: 'paying', 595: 'sins', 596: 'remember', 597: 'writing', 598: 'healing', 599: 'destroying', 600: 'bother', 601: 'make', 602: 'must', 603: 'enter', 604: 'relationship', 605: 'anyone', 606: 'accept', 607: 'painful', 608: 'moving', 609: 'healthiest', 610: 'move', 611: 'part', 612: 'experience', 613: 'afraid', 614: 'evolving', 615: 'loneliness', 616: 'sign', 617: 'desperate', 618: 'need', 619: 'habit', 620: 'co-depending', 621: 'lack', 622: 'tricked', 623: 'complete', 624: 'complement', 625: 'feet', 626: 'broke', 627: 'pinned', 628: 'legs', 629: 'ground', 630: 'demanded', 631: 'born', 632: 'weakness', 633: 'strength', 634: 'live', 635: 'waiting', 636: \"they're\", 637: 'sure', 638: 'exists', 639: '7', 640: 'billion', 641: 'strong', 642: 'grow', 643: 'flowers', 644: 'helped', 645: 'mine', 646: 'bloom', 647: 'beautifully', 648: 'dangerously', 649: 'loudly', 650: 'softly', 651: 'however', 652: 'reader', 653: 'taking', 654: 'balance', 655: 'grace', 656: 'situations', 657: 'solitude', 658: 'between', 659: 'telling', 660: 'actually', 661: 'sometimes', 662: 'apology', 663: 'nor', 664: 'late', 665: 'girls', 666: 'learn', 667: 'kiss', 668: 'closed', 669: 'phraseósomething', 670: 'unlike', 671: 'women', 672: 'call', 673: 'sisters', 674: 'order', 675: 'makes', 676: 'spit', 677: 'supposed', 678: 'proud', 679: 'relieved', 680: 'points', 681: 'growing', 682: 'remind', 683: 'guest', 684: 'warn', 685: 'outstep', 686: 'welcome', 687: 'again', 688: 'tear', 689: 'powerful', 690: 'completely', 691: 'found', 692: 'surroundings', 693: 'lost', 694: 'within', 695: 'hard', 696: 'believe', 697: 'tomorrow', 698: 'come', 699: 'difficult', 700: 'day', 701: 'get', 702: 'swear', 703: 'pass', 704: 'slowly', 705: 'promise', 706: 'stretch', 707: 'marks', 708: 'thighs', 709: \"we're\", 710: 'rough', 711: 'jungle', 712: 'wild', 713: 'feeling', 714: 'unafraid', 715: 'tend', 716: 'wounds', 717: 'utterly', 718: 'issue', 719: 'consider', 720: 'beautiful', 721: 'concept', 722: 'beauty', 723: 'centers', 724: 'around', 725: 'excluding', 726: 'wears', 727: 'garden', 728: 'definition', 729: 'big', 730: 'hooked', 731: 'noses', 732: 'pointing', 733: 'upward', 734: 'sky', 735: 'rising', 736: 'occasion', 737: 'color', 738: 'earth', 739: 'ancestors', 740: 'planted', 741: 'crops', 742: 'feed', 743: 'lineage', 744: 'thick', 745: 'tree', 746: 'trunks', 747: 'almonds', 748: 'deeply', 749: 'hooded', 750: 'conviction', 751: 'punjab', 752: 'flow', 753: 'bloodstream', 754: 'ones', 755: 'country', 756: 'backs', 757: 'stories', 758: 'books', 759: 'spine', 760: 'designed', 761: 'museum', 762: 'natural', 763: 'disasters', 764: 'grasp', 765: 'stunning', 766: 'sadness', 767: 'living', 768: \"shouldn't\", 769: 'becoming', 770: \"women's\", 771: 'bodies', 772: 'battlegrounds', 773: 'removing', 774: \"that's\", 775: 'keeping', 776: 'belong', 777: 'apparently', 778: 'ungraceful', 779: 'mention', 780: 'period', 781: 'public', 782: 'actual', 783: 'biology', 784: 'sell', 785: \"what's\", 786: \"woman's\", 787: 'inner', 788: 'workings', 789: 'recreational', 790: 'use', 791: 'seen', 792: 'while', 793: 'nature', 794: 'ugly', 795: 'dragon', 796: 'fly', 797: \"he's\", 798: 'apologize', 799: 'called', 800: 'pretty', 801: 'intelligent', 802: 'brave', 803: 'sorry', 804: 'sound', 805: 'simple', 806: \"you're\", 807: 'spirit', 808: 'crushed', 809: 'mountains', 810: 'now', 811: 'resilient', 812: 'extraordinary', 813: 'outlook', 814: 'cry', 815: 'hold', 816: 'heal', 817: 'happiness', 818: 'patient', 819: 'daughter', 820: 'kaur', 821: 'free', 822: 'removes', 823: 'shackles', 824: 'try', 825: 'bind', 826: 'uplifts', 827: 'equal', 828: 'any', 829: 'man', 830: 'state', 831: 'screams', 832: 'own', 833: 'wholly', 834: 'humbles', 835: 'calls', 836: 'says', 837: 'universal', 838: 'duty', 839: 'share', 840: 'humanity', 841: 'nurture', 842: 'serve', 843: 'sisterhood', 844: 'raise', 845: 'raising', 846: 'runs', 847: 'blood', 848: 'word', 849: 'itself', 850: 'existed', 851: 'identity', 852: 'liberation', 853: 'sikhi', 854: 'gives', 855: 'gold', 856: 'nothing', 857: 'purer', 858: 'aches', 859: 'helping', 860: 'ache', 861: 'spring', 862: 'goddess', 863: 'mouths', 864: 'soul', 865: 'mate', 866: 'bitter', 867: 'kindest', 868: 'forward', 869: 'recognize', 870: 'striking', 871: 'mean', 872: 'rooted', 873: 'deep', 874: 'help', 875: 'war', 876: 'naturally', 877: 'trying', 878: 'convince', 879: 'allowed', 880: 'space', 881: 'hand', 882: 'right', 883: 'shrinking', 884: 'hereditary', 885: 'importantly', 886: 'page', 887: 'where', 888: 'sitting', 889: 'degree', 890: 'job', 891: 'money', 892: 'matters', 893: 'except', 894: 'connection', 895: 'touched', 896: 'sink', 897: 'grounded', 898: 'searching', 899: 'point', 900: 'course', 901: 'successful', 902: 'crave', 903: 'success', 904: 'gain', 905: 'succeed', 906: 'heartbeat', 907: 'quickens', 908: 'birthing', 909: 'poems', 910: 'opening', 911: 'conceive', 912: 'lovemaking', 913: 'words', 914: 'erotic', 915: 'either', 916: 'lust', 917: 'terrifies', 918: 'foam', 919: 'envy', 920: 'sigh', 921: 'relief', 922: 'failing', 923: 'struggle', 924: 'celebrate', 925: 'each', 926: 'proven', 927: 'many', 928: 'work', 929: 'likes', 930: 'honest', 931: 'trade', 932: 'relatability', 933: 'young', 934: 'poets', 935: 'quiet', 936: 'opinions', 937: 'fire', 938: 'belly', 939: 'lightness', 940: 'heavy', 941: 'blade', 942: 'silk', 943: 'forget', 944: 'follow', 945: 'seva', 946: '(selfless', 947: 'service)', 948: 'youhe', 949: 'scraping', 950: 'cantaloupe', 951: 'clean', 952: 'offering', 953: 'absent', 954: 'border', 955: 'countries', 956: 'collateral', 957: 'damage', 958: 'paradox', 959: 'joins', 960: 'also', 961: 'splits', 962: 'apart', 963: 'emptying', 964: \"mother's\", 965: 'act', 966: 'disappearance', 967: 'learning', 968: 'shrink', 969: 'family', 970: 'daughters', 971: 'invisible', 972: 'repeat', 973: 'wish', 974: 'often', 975: 'reason', 976: 'alive', 977: 'heaving', 978: 'chest', 979: 'guess', 980: 'tenderness', 981: 'well', 982: 'same', 983: 'exhausted', 984: 'rage', 985: 'wear', 986: 'anger', 987: '(homage', 988: 'warsan', 989: \"shire's\", 990: 'inheritance)', 991: 'opens', 992: 'conversation', 993: 'dinner', 994: 'shoves', 995: 'hush', 996: 'speak', 997: 'full', 998: 'learned', 999: 'knees', 1000: 'pried', 1001: 'cousins', 1002: 'uncles', 1003: 'men', 1004: 'father.', 1005: 'particular.', 1006: \"i'm\", 1007: 'silence', 1008: 'stretches', 1009: 'lifetime', 1010: 'scramble', 1011: 'questions', 1012: 'going.', 1013: 'understand', 1014: 'feet.', 1015: 'blame', 1016: 'hurting', 1017: \"you'll\", 1018: 'care', 1019: 'mention.', 1020: 'aching', 1021: 'blood.', 1022: 'attention', 1023: 'collapse', 1024: 'daughter.', 1025: 'small', 1026: 'talk', 1027: 'plough', 1028: 'mostly', 1029: 'shocked.', 1030: 'rubber', 1031: 'against', 1032: 'an', 1033: 'wound.', 1034: 'begin', 1035: 'pushing', 1036: 'faster', 1037: 'faster.', 1038: 'nothing.', 1039: 'search', 1040: 'reaction', 1041: 'acting', 1042: 'videos', 1043: 'watch', 1044: \"one's\", 1045: 'looking.', 1046: 'imitate', 1047: 'moans.', 1048: 'hollow', 1049: 'hungry.', 1050: 'yes', 1051: 'quickly', 1052: 'sounds', 1053: 'rehearsed.', 1054: 'acting.', 1055: 'notice.', 1056: 'veins', 1057: 'terrified', 1058: 'looks', 1059: 'flinch', 1060: 'touch', 1061: 'fear', 1062: 'pregnant', 1063: 'child', 1064: 'four', 1065: 'pointed', 1066: 'swollen', 1067: 'confused', 1068: 'such', 1069: 'scooped', 1070: 'trunk', 1071: 'grown', 1072: 'age', 1073: 'changed', 1074: 'rested', 1075: 'energy', 1076: 'wanting', 1077: 'wait', 1078: \"won't\", 1079: 'sight', 1080: 'meet', 1081: \"it'll\", 1082: 'remembrance', 1083: 'marry', 1084: \"i'd\", 1085: 'son', 1086: 'revolution', 1087: 'starts', 1088: 'ends', 1089: 'asks', 1090: 'hope', 1091: 'form', 1092: 'favorite', 1093: 'herbs', 1094: 'gardens', 1095: 'therapist', 1096: 'doll', 1097: 'front', 1098: 'size', 1099: 'touching', 1100: 'spot', 1101: 'fingered', 1102: 'confession', 1103: \"how're\", 1104: 'pull', 1105: 'lump', 1106: 'throat', 1107: 'teeth', 1108: 'fine', 1109: 'numb', 1110: 'midweek', 1111: 'sessions', 1112: 'crumble', 1113: 'reasons', 1114: 'sun', 1115: 'faint', 1116: 'line', 1117: 'faith', 1118: 'blindly', 1119: 'letter', 1120: 'future', 1121: 'lover', 1122: 'safer', 1123: 'reading', 1124: 'date', 1125: 'placed', 1126: 'reaching', 1127: 'waist', 1128: 'hips', 1129: 'touches', 1130: 'surprised', 1131: 'goddamn', 1132: 'spread', 1133: 'easel', 1134: 'canvas', 1135: 'begging', 1136: 'fill', 1137: 'light', 1138: 'city', 1139: 'then', 1140: 'combined', 1141: 'set', 1142: 'melt', 1143: 'play', 1144: 'games', 1145: 'knows', 1146: 'speechless', 1147: 'truth', 1148: 'weak', 1149: 'forgets', 1150: 'language', 1151: 'company', 1152: 'packaging', 1153: 'foró', 1154: 'stops', 1155: 'midsentence', 1156: 'pay', 1157: 'bills', 1158: 'crazy', 1159: 'keeps', 1160: 'show', 1161: 'tips', 1162: 'forearm', 1163: 'graze', 1164: 'wrist', 1165: 'goose', 1166: 'bumps', 1167: 'surface', 1168: 'clench', 1169: 'muscles', 1170: 'tighten', 1171: 'pore', 1172: 'blink', 1173: 'break', 1174: 'gaze', 1175: 'inches', 1176: 'toward', 1177: 'step', 1178: 'command', 1179: 'cheeks', 1180: 'flush', 1181: 'shyly', 1182: 'confessing', 1183: 'loves', 1184: 'irrelevant', 1185: 'turn', 1186: 'forest', 1187: 'running', 1188: 'strongest', 1189: 'positive', 1190: 'negative', 1191: 'connotation', 1192: 'lights', 1193: 'leaves', 1194: 'whispers', 1195: 'ear', 1196: 'ways', 1197: 'undresses', 1198: 'male', 1199: 'french', 1200: 'wrap', 1201: 'foreplay', 1202: 'run', 1203: 'willing', 1204: 'exactly', 1205: 'hears', 1206: 'understanding', 1207: 'demand', 1208: 'dance', 1209: 'solo', 1210: 'performance', 1211: \"we've\", 1212: 'arguing', 1213: 'ought', 1214: 'to.', 1215: 'avoid', 1216: 'questions.', 1217: 'instead', 1218: 'used', 1219: 'fight', 1220: 'like:', 1221: 'first.', 1222: 'pop', 1223: 'frozen', 1224: 'pizza', 1225: 'oven', 1226: 'work.', 1227: 'vulnerable', 1228: 'another.', 1229: 'thorns', 1230: 'honey.', 1231: 'hurts.', 1232: 'table', 1233: 'tonight.', 1234: 'sleep.', 1235: 'last', 1236: 'week', 1237: 'working', 1238: 'late.', 1239: \"you'd\", 1240: 'couple', 1241: 'hours', 1242: 'ago.', 1243: 'hours.', 1244: 'know.', 1245: 'excuses', 1246: 'world.', 1247: 'carried', 1248: 'eventually', 1249: 'crying.', 1250: 'expect', 1251: 'baby.', 1252: 'much.', 1253: 'lying.', 1254: 'frustration.', 1255: 'stop.', 1256: 'tired', 1257: 'sick', 1258: 'toxin', 1259: 'burnt', 1260: 'holes', 1261: 'cheeks.', 1262: 'faces.', 1263: 'kid', 1264: 'yourself.', 1265: 'matter', 1266: 'bad', 1267: 'gets', 1268: 'wanna', 1269: 'nail', 1270: 'ground.', 1271: 'especially', 1272: 'screaming', 1273: 'wakes', 1274: 'neighbors.', 1275: 'save', 1276: 'us.', 1277: 'baby', 1278: 'instead.', 1279: 'lie', 1280: 'down.', 1281: 'lay', 1282: 'map.', 1283: 'finger', 1284: 'trace', 1285: '****', 1286: 'center', 1287: 'gravity', 1288: 'focal', 1289: 'yours.', 1290: 'places.', 1291: 'habit.', 1292: 'when.', 1293: 'home.', 1294: 'street', 1295: 'windows', 1296: 'wondering', 1297: 'commotion', 1298: 'trucks', 1299: 'rolling', 1300: 'distinguish', 1301: 'whether', 1302: 'flames', 1303: 'passion.', 1304: 'smile.', 1305: 'throw', 1306: 'back.', 1307: 'arch', 1308: 'mountain', 1309: 'half.', 1310: 'lick', 1311: 'gift', 1312: 'book.', 1313: 'read', 1314: 'carefully.', 1315: 'fluently.', 1316: 'vividly.', 1317: 'dare', 1318: 'single', 1319: 'untouched.', 1320: 'ending', 1321: 'good.', 1322: 'come.', 1323: 'mouth.', 1324: 'done.', 1325: 'seat.', 1326: 'sweet', 1327: 'flick', 1328: 'tongues.', 1329: 'decided', 1330: 'snap', 1331: 'defense', 1332: 'shout', 1333: 'defeated', 1334: 'parent', 1335: 'fix', 1336: 'wretched', 1337: 'distant', 1338: 'forgot', 1339: 'said.', 1340: 'be.', 1341: 'fate', 1342: 'together.', 1343: 'wonder', 1344: 'naive.', 1345: 'works', 1346: 'lives', 1347: 'staring', 1348: 'spends', 1349: 'placing', 1350: 'chess.', 1351: 'choices', 1352: 'make.', 1353: 'convinced', 1354: 'given', 1355: 'yours', 1356: 'use.', 1357: 'actions', 1358: 'define', 1359: 'scream', 1360: 'fool.', 1361: 'quietly.', 1362: 'quivering', 1363: 'thinking.', 1364: 'tragic', 1365: 'thing.', 1366: 'clearly', 1367: \"doesn't.\", 1368: 'mistake', 1369: 'salt', 1370: 'sugar', 1371: 'slips', 1372: 'waistband', 1373: 'pants', 1374: 'may', 1375: 'certainly', 1376: 'temptingly', 1377: 'stung', 1378: 'got', 1379: 'close', 1380: 'bootleg', 1381: 'version', 1382: 'am.', 1383: 'erase', 1384: 'punch', 1385: 'stomach', 1386: 'did.', 1387: 'body.', 1388: 'lick,', 1389: 'caress,', 1390: 'suck', 1391: 'replacement', 1392: 'slip.', 1393: 'excite', 1394: 'eyelids', 1395: 'pity', 1396: 'hit', 1397: 'busy', 1398: 'coffee', 1399: 'black', 1400: 'weep', 1401: 'drinking', 1402: 'rather', 1403: 'darkest', 1404: 'rose', 1405: 'manhood', 1406: 'curled', 1407: 'marinates', 1408: 'remembers', 1409: 'regret', 1410: 'stopped', 1411: 'longer', 1412: 'stayed', 1413: \"mustn't\", 1414: 'themselves', 1415: 'weekend', 1416: 'getaway', 1417: 'town', 1418: 'surrounding', 1419: 'heard', 1420: 'neon', 1421: 'skyscrapers', 1422: 'statues', 1423: 'thunder', 1424: 'bridges', 1425: 'tremble', 1426: 'meat', 1427: 'homemade', 1428: 'jam', 1429: 'sweetest', 1430: 'police', 1431: 'sirens', 1432: 'crackle', 1433: 'fireplace', 1434: 'burn', 1435: \"couldn't\", 1436: 'blush', 1437: 'hotel', 1438: 'whiskey', 1439: 'expectations', 1440: 'vacation', 1441: 'arrives', 1442: 'poetry', 1443: 'degrade', 1444: 'toxicity', 1445: 'central', 1446: 'douse', 1447: 'yell', 1448: 'confuse', 1449: 'kindness', 1450: 'seems', 1451: 'grows', 1452: 'trust', 1453: 'fathers', 1454: 'known', 1455: 'dipped', 1456: 'worth', 1457: 'question', 1458: 'problem', 1459: 'able', 1460: 'danger', 1461: 'rolls', 1462: 'accidently', 1463: 'everyone', 1464: 'tender', 1465: 'potential', 1466: 'allowing', 1467: 'now.', 1468: 'feel.', 1469: 'limiting', 1470: 'ripe', 1471: 'experienced', 1472: 'exhilarating', 1473: 'meet.', 1474: 'settling.', 1475: 'tasted', 1476: 'rawest', 1477: 'refined', 1478: 'synthetic.', 1479: 'beyond', 1480: 'add', 1481: 'years', 1482: 'combine', 1483: 'sweeter', 1484: 'falsehood', 1485: 'balanced', 1486: 'glow', 1487: 'angry', 1488: 'extremes', 1489: 'wings', 1490: 'grieve', 1491: 'shatter', 1492: 'iíve', 1493: 'donít', 1494: 'arenít', 1495: 'wasnít', 1496: 'canít', 1497: 'itís', 1498: 'youíve', 1499: 'doesnít', 1500: 'isnít', 1501: 'didnít', 1502: 'theyíll', 1503: 'werenít', 1504: 'couldíve', 1505: 'elseís', 1506: 'theyíre', 1507: 'weíre', 1508: 'shouldnít', 1509: 'womenís', 1510: 'thatís', 1511: 'whatís', 1512: 'womanís', 1513: 'heís', 1514: 'youíre', 1515: 'motherís', 1516: 'shireís', 1517: 'iím', 1518: 'youíll', 1519: 'oneís', 1520: 'wonít', 1521: 'itíll', 1522: 'iíd', 1523: 'howíre', 1524: 'weíve', 1525: 'youíd', 1526: 'doesnít.', 1527: 'mustnít', 1528: 'couldnít'}\n"
          ],
          "name": "stdout"
        }
      ]
    },
    {
      "cell_type": "code",
      "metadata": {
        "colab": {
          "base_uri": "https://localhost:8080/",
          "height": 35
        },
        "id": "iLNS-QXhVMD0",
        "outputId": "9ba453d9-6c67-471b-efd2-f6af5da6acbe"
      },
      "source": [
        "inverse_vocab[2]"
      ],
      "execution_count": 7,
      "outputs": [
        {
          "output_type": "execute_result",
          "data": {
            "application/vnd.google.colaboratory.intrinsic+json": {
              "type": "string"
            },
            "text/plain": [
              "'is'"
            ]
          },
          "metadata": {
            "tags": []
          },
          "execution_count": 7
        }
      ]
    },
    {
      "cell_type": "code",
      "metadata": {
        "colab": {
          "base_uri": "https://localhost:8080/"
        },
        "id": "KzDC8bPlHLfP",
        "outputId": "9d16ae2a-f621-48fe-87cc-a263a6e668ce"
      },
      "source": [
        "vectorized_poems = np.array([vocab[word] for word in tokens])\n",
        "print(vectorized_poems)"
      ],
      "execution_count": 8,
      "outputs": [
        {
          "output_type": "stream",
          "text": [
            "[   1    2    3 ... 1490   22 1491]\n"
          ],
          "name": "stdout"
        }
      ]
    },
    {
      "cell_type": "code",
      "metadata": {
        "colab": {
          "base_uri": "https://localhost:8080/"
        },
        "id": "8dcrkLknPLOS",
        "outputId": "35160ca5-4461-45ac-fa45-0b26a31654ea"
      },
      "source": [
        "print ('{} ---- characters mapped to int ----> {}'.format(repr(poems[:10]), vectorized_poems[:10]))\n",
        "# check that vectorized_poems is a numpy array\n",
        "assert isinstance(vectorized_poems, np.ndarray), \"returned result should be a numpy array\""
      ],
      "execution_count": 9,
      "outputs": [
        {
          "output_type": "stream",
          "text": [
            "'how is it ' ---- characters mapped to int ----> [ 1  2  3  4  5  6  7  8  9 10]\n"
          ],
          "name": "stdout"
        }
      ]
    },
    {
      "cell_type": "markdown",
      "metadata": {
        "id": "EBb-AxOFRXpb"
      },
      "source": [
        "## Define Batch \n"
      ]
    },
    {
      "cell_type": "code",
      "metadata": {
        "colab": {
          "base_uri": "https://localhost:8080/"
        },
        "id": "TK9wy75rRgzr",
        "outputId": "d1b9bcab-c032-422c-e9be-76cdeb459d51"
      },
      "source": [
        "### Batch definition to create training examples ###\n",
        "\n",
        "def get_batch(vectorized_songs, seq_length, batch_size):\n",
        "  # the length of the vectorized songs string\n",
        "  n = vectorized_songs.shape[0] - 1\n",
        "  # randomly choose the starting indices for the examples in the training batch\n",
        "  idx = np.random.choice(n-seq_length, batch_size)\n",
        "\n",
        "  '''TODO: construct a list of input sequences for the training batch'''\n",
        "  input_batch = [vectorized_songs[i : i+seq_length] for i in idx]\n",
        "  # input_batch = # TODO\n",
        "  '''TODO: construct a list of output sequences for the training batch'''\n",
        "  output_batch = [vectorized_songs[i+1 : i+seq_length+1] for i in idx]\n",
        "  # output_batch = # TODO\n",
        "\n",
        "  # x_batch, y_batch provide the true inputs and targets for network training\n",
        "  x_batch = np.reshape(input_batch, [batch_size, seq_length])\n",
        "  y_batch = np.reshape(output_batch, [batch_size, seq_length])\n",
        "  return x_batch, y_batch\n",
        "\n",
        "\n",
        "# Perform some simple tests to make sure your batch function is working properly! \n",
        "test_args = (vectorized_poems, 10, 2)\n",
        "if not mdl.lab1.test_batch_func_types(get_batch, test_args) or \\\n",
        "   not mdl.lab1.test_batch_func_shapes(get_batch, test_args) or \\\n",
        "   not mdl.lab1.test_batch_func_next_step(get_batch, test_args): \n",
        "   print(\"======\\n[FAIL] could not pass tests\")\n",
        "else: \n",
        "   print(\"======\\n[PASS] passed all tests!\")"
      ],
      "execution_count": 10,
      "outputs": [
        {
          "output_type": "stream",
          "text": [
            "[PASS] test_batch_func_types\n",
            "[PASS] test_batch_func_shapes\n",
            "[PASS] test_batch_func_next_step\n",
            "======\n",
            "[PASS] passed all tests!\n"
          ],
          "name": "stdout"
        }
      ]
    },
    {
      "cell_type": "code",
      "metadata": {
        "id": "kwNvWLRkR0gd"
      },
      "source": [
        "x_batch, y_batch = get_batch(vectorized_poems, seq_length=5, batch_size=1)"
      ],
      "execution_count": 11,
      "outputs": []
    },
    {
      "cell_type": "code",
      "metadata": {
        "colab": {
          "base_uri": "https://localhost:8080/"
        },
        "id": "S3NKP8x-TbnF",
        "outputId": "0a07baf9-6c5f-4364-e4df-9c9f66b6c3b7"
      },
      "source": [
        "print(x_batch)\n",
        "print(y_batch)"
      ],
      "execution_count": 12,
      "outputs": [
        {
          "output_type": "stream",
          "text": [
            "[[ 109    7    6   62 1240]]\n",
            "[[   7    6   62 1240 1243]]\n"
          ],
          "name": "stdout"
        }
      ]
    },
    {
      "cell_type": "markdown",
      "metadata": {
        "id": "dCbW_Jf7RfDc"
      },
      "source": [
        "## Define RNN \n"
      ]
    },
    {
      "cell_type": "code",
      "metadata": {
        "id": "ra3VNBQ7Rk7P"
      },
      "source": [
        "def LSTM(rnn_units): \n",
        "  return tf.keras.layers.LSTM(\n",
        "    rnn_units, \n",
        "    return_sequences=True, \n",
        "    recurrent_initializer='glorot_uniform',\n",
        "    recurrent_activation='sigmoid',\n",
        "    stateful=True,\n",
        "  )"
      ],
      "execution_count": 13,
      "outputs": []
    },
    {
      "cell_type": "code",
      "metadata": {
        "id": "MtCrdfzEI2N0"
      },
      "source": [
        "### Defining the RNN Model ###\n",
        "\n",
        "'''TODO: Add LSTM and Dense layers to define the RNN model using the Sequential API.'''\n",
        "def build_model(vocab_size, embedding_dim, rnn_units, batch_size):\n",
        "  model = tf.keras.Sequential([\n",
        "    # Layer 1: Embedding layer to transform indices into dense vectors \n",
        "    #   of a fixed embedding size\n",
        "    tf.keras.layers.Embedding(vocab_size, embedding_dim, batch_input_shape=[batch_size, None]),\n",
        "\n",
        "    # Layer 2: LSTM with `rnn_units` number of units. \n",
        "    # TODO: Call the LSTM function defined above to add this layer.\n",
        "    LSTM(rnn_units), \n",
        "    # LSTM('''TODO'''),\n",
        "\n",
        "    # Layer 3: Dense (fully-connected) layer that transforms the LSTM output\n",
        "    #   into the vocabulary size. \n",
        "    # TODO: Add the Dense layer.\n",
        "    tf.keras.layers.Dense(vocab_size)\n",
        "    # '''TODO: DENSE LAYER HERE'''\n",
        "  ])\n",
        "\n",
        "  return model\n",
        "\n",
        "# Build a simple model with default hyperparameters. You will get the \n",
        "#   chance to change these later.\n",
        "model = build_model(len(vocab), embedding_dim=1600, rnn_units=1024, batch_size=32)"
      ],
      "execution_count": 14,
      "outputs": []
    },
    {
      "cell_type": "code",
      "metadata": {
        "colab": {
          "base_uri": "https://localhost:8080/"
        },
        "id": "-wrURNgpSjSP",
        "outputId": "4e5d93df-6c7e-42c6-9301-db90e925bcb6"
      },
      "source": [
        "len(vocab)"
      ],
      "execution_count": 15,
      "outputs": [
        {
          "output_type": "execute_result",
          "data": {
            "text/plain": [
              "1529"
            ]
          },
          "metadata": {
            "tags": []
          },
          "execution_count": 15
        }
      ]
    },
    {
      "cell_type": "markdown",
      "metadata": {
        "id": "GFcErzGFS5LM"
      },
      "source": [
        "## Test Untrained RNN \n"
      ]
    },
    {
      "cell_type": "code",
      "metadata": {
        "colab": {
          "base_uri": "https://localhost:8080/"
        },
        "id": "4IEIwfcxTBXf",
        "outputId": "2c052639-c82f-4e98-f873-eb73e3dc6421"
      },
      "source": [
        "model.summary()"
      ],
      "execution_count": 16,
      "outputs": [
        {
          "output_type": "stream",
          "text": [
            "Model: \"sequential\"\n",
            "_________________________________________________________________\n",
            "Layer (type)                 Output Shape              Param #   \n",
            "=================================================================\n",
            "embedding (Embedding)        (32, None, 1600)          2446400   \n",
            "_________________________________________________________________\n",
            "lstm (LSTM)                  (32, None, 1024)          10752000  \n",
            "_________________________________________________________________\n",
            "dense (Dense)                (32, None, 1529)          1567225   \n",
            "=================================================================\n",
            "Total params: 14,765,625\n",
            "Trainable params: 14,765,625\n",
            "Non-trainable params: 0\n",
            "_________________________________________________________________\n"
          ],
          "name": "stdout"
        }
      ]
    },
    {
      "cell_type": "code",
      "metadata": {
        "colab": {
          "base_uri": "https://localhost:8080/"
        },
        "id": "lGWmoh51TB7A",
        "outputId": "48919714-c9c8-4661-fcc5-ab86c19763e3"
      },
      "source": [
        "x, y = get_batch(vectorized_poems, seq_length=10, batch_size=32)\n",
        "pred = model(x)\n",
        "print(\"Input shape:      \", x.shape, \" # (batch_size, sequence_length)\")\n",
        "print(\"Prediction shape: \", pred.shape, \"# (batch_size, sequence_length, vocab_size)\")"
      ],
      "execution_count": 17,
      "outputs": [
        {
          "output_type": "stream",
          "text": [
            "Input shape:       (32, 10)  # (batch_size, sequence_length)\n",
            "Prediction shape:  (32, 10, 1529) # (batch_size, sequence_length, vocab_size)\n"
          ],
          "name": "stdout"
        }
      ]
    },
    {
      "cell_type": "code",
      "metadata": {
        "colab": {
          "base_uri": "https://localhost:8080/"
        },
        "id": "1fjbCX32Z3f9",
        "outputId": "3e8bc956-b24d-4fb7-d5e2-e96c8863c45b"
      },
      "source": [
        "x[0]"
      ],
      "execution_count": 18,
      "outputs": [
        {
          "output_type": "execute_result",
          "data": {
            "text/plain": [
              "array([1456,  459,   48,    8,  140,   26,   25,  192,  163,  131])"
            ]
          },
          "metadata": {
            "tags": []
          },
          "execution_count": 18
        }
      ]
    },
    {
      "cell_type": "code",
      "metadata": {
        "colab": {
          "base_uri": "https://localhost:8080/"
        },
        "id": "tvxsk6IhUsex",
        "outputId": "ce43ab14-a6cd-4863-eb99-691e9116270c"
      },
      "source": [
        "sampled_indices = tf.random.categorical(pred[0], num_samples=1)\n",
        "sampled_indices = tf.squeeze(sampled_indices,axis=-1).numpy()\n",
        "sampled_indices"
      ],
      "execution_count": 19,
      "outputs": [
        {
          "output_type": "execute_result",
          "data": {
            "text/plain": [
              "array([1169, 1058,   75,  863, 1117, 1376,   99,  445,  931,  378])"
            ]
          },
          "metadata": {
            "tags": []
          },
          "execution_count": 19
        }
      ]
    },
    {
      "cell_type": "code",
      "metadata": {
        "colab": {
          "base_uri": "https://localhost:8080/"
        },
        "id": "CCVnc5GZY-Mi",
        "outputId": "7b65b2f1-539a-42a5-cbb5-f0866bbe9daf"
      },
      "source": [
        "print(\"Input: \\n\")\n",
        "for i in x[0]:\n",
        "  print(inverse_vocab[i])"
      ],
      "execution_count": 20,
      "outputs": [
        {
          "output_type": "stream",
          "text": [
            "Input: \n",
            "\n",
            "worth\n",
            "holding\n",
            "on\n",
            "to\n",
            "would\n",
            "not\n",
            "have\n",
            "let\n",
            "go\n",
            "when\n"
          ],
          "name": "stdout"
        }
      ]
    },
    {
      "cell_type": "code",
      "metadata": {
        "colab": {
          "base_uri": "https://localhost:8080/"
        },
        "id": "hKZPYQTLZecI",
        "outputId": "15bef2c6-b2b7-4aba-bfdf-0a6e3c3be51d"
      },
      "source": [
        "print(\"Output: \\n\")\n",
        "for i in sampled_indices:\n",
        "  print(inverse_vocab[i])"
      ],
      "execution_count": 21,
      "outputs": [
        {
          "output_type": "stream",
          "text": [
            "Output: \n",
            "\n",
            "muscles\n",
            "looks\n",
            "sex\n",
            "mouths\n",
            "faith\n",
            "temptingly\n",
            "am\n",
            "risk\n",
            "trade\n",
            "abandon\n"
          ],
          "name": "stdout"
        }
      ]
    },
    {
      "cell_type": "markdown",
      "metadata": {
        "id": "T8WFox1OsxZJ"
      },
      "source": [
        "## Train \n"
      ]
    },
    {
      "cell_type": "code",
      "metadata": {
        "colab": {
          "base_uri": "https://localhost:8080/"
        },
        "id": "q-OZW5yDtAwP",
        "outputId": "a142dc1d-0217-4d5a-e5b7-82e2c798cbe3"
      },
      "source": [
        "### Defining the loss function ###\n",
        "\n",
        "'''TODO: define the loss function to compute and return the loss between\n",
        "    the true labels and predictions (logits). Set the argument from_logits=True.'''\n",
        "def compute_loss(labels, logits):\n",
        "  loss = tf.keras.losses.sparse_categorical_crossentropy(labels, logits, from_logits=True)\n",
        "  # loss = tf.keras.losses.sparse_categorical_crossentropy('''TODO''', '''TODO''', from_logits=True) # TODO\n",
        "  return loss\n",
        "\n",
        "'''TODO: compute the loss using the true next characters from the example batch \n",
        "    and the predictions from the untrained model several cells above'''\n",
        "example_batch_loss = compute_loss(y, pred)\n",
        "# example_batch_loss = compute_loss('''TODO''', '''TODO''') # TODO\n",
        "\n",
        "print(\"Prediction shape: \", pred.shape, \" # (batch_size, sequence_length, vocab_size)\") \n",
        "print(\"scalar_loss:      \", example_batch_loss.numpy().mean())"
      ],
      "execution_count": 22,
      "outputs": [
        {
          "output_type": "stream",
          "text": [
            "Prediction shape:  (32, 10, 1529)  # (batch_size, sequence_length, vocab_size)\n",
            "scalar_loss:       7.3324547\n"
          ],
          "name": "stdout"
        }
      ]
    },
    {
      "cell_type": "code",
      "metadata": {
        "id": "Prie5xnjtWe2"
      },
      "source": [
        "### Hyperparameter setting and optimization ###\n",
        "\n",
        "# Optimization parameters:\n",
        "num_training_iterations = 2000  # Increase this to train longer\n",
        "batch_size = 4  # Experiment between 1 and 64\n",
        "seq_length = 10  # Experiment between 50 and 500\n",
        "learning_rate = 5e-3  # Experiment between 1e-5 and 1e-1\n",
        "\n",
        "# Model parameters: \n",
        "vocab_size = len(vocab)\n",
        "embedding_dim = 1600 \n",
        "rnn_units = 1024  # Experiment between 1 and 2048\n",
        "\n",
        "# Checkpoint location: \n",
        "checkpoint_dir = './training_checkpoints'\n",
        "checkpoint_prefix = os.path.join(checkpoint_dir, \"my_ckpt\")"
      ],
      "execution_count": 80,
      "outputs": []
    },
    {
      "cell_type": "code",
      "metadata": {
        "colab": {
          "base_uri": "https://localhost:8080/",
          "height": 562
        },
        "id": "lWRcf1QgvlFC",
        "outputId": "4f6e8ce1-68e2-4dbd-9795-f594d80881b9"
      },
      "source": [
        "### Define optimizer and training operation ###\n",
        "\n",
        "'''TODO: instantiate a new model for training using the `build_model`\n",
        "  function and the hyperparameters created above.'''\n",
        "model = build_model(vocab_size, embedding_dim, rnn_units, batch_size)\n",
        "# model = build_model('''TODO: arguments''')\n",
        "\n",
        "'''TODO: instantiate an optimizer with its learning rate.\n",
        "  Checkout the tensorflow website for a list of supported optimizers.\n",
        "  https://www.tensorflow.org/api_docs/python/tf/keras/optimizers/\n",
        "  Try using the Adam optimizer to start.'''\n",
        "optimizer = tf.keras.optimizers.Adam(learning_rate)\n",
        "# optimizer = # TODO\n",
        "\n",
        "@tf.function\n",
        "def train_step(x, y): \n",
        "  # Use tf.GradientTape()\n",
        "  with tf.GradientTape() as tape:\n",
        "  \n",
        "    '''TODO: feed the current input into the model and generate predictions'''\n",
        "    y_hat = model(x) # TODO\n",
        "    # y_hat = model('''TODO''')\n",
        "  \n",
        "    '''TODO: compute the loss!'''\n",
        "    loss = compute_loss(y, y_hat) # TODO\n",
        "    # loss = compute_loss('''TODO''', '''TODO''')\n",
        "\n",
        "  # Now, compute the gradients \n",
        "  '''TODO: complete the function call for gradient computation. \n",
        "      Remember that we want the gradient of the loss with respect all \n",
        "      of the model parameters. \n",
        "      HINT: use `model.trainable_variables` to get a list of all model\n",
        "      parameters.'''\n",
        "  grads = tape.gradient(loss, model.trainable_variables) # TODO\n",
        "  # grads = tape.gradient('''TODO''', '''TODO''')\n",
        "  \n",
        "  # Apply the gradients to the optimizer so it can update the model accordingly\n",
        "  optimizer.apply_gradients(zip(grads, model.trainable_variables))\n",
        "  return loss\n",
        "\n",
        "##################\n",
        "# Begin training!#\n",
        "##################\n",
        "\n",
        "history = []\n",
        "plotter = mdl.util.PeriodicPlotter(sec=2, xlabel='Iterations', ylabel='Loss')\n",
        "if hasattr(tqdm, '_instances'): tqdm._instances.clear() # clear if it exists\n",
        "\n",
        "for iter in tqdm(range(num_training_iterations)):\n",
        "\n",
        "  # Grab a batch and propagate it through the network\n",
        "  x_batch, y_batch = get_batch(vectorized_poems, seq_length, batch_size)\n",
        "  loss = train_step(x_batch, y_batch)\n",
        "\n",
        "  # Update the progress bar\n",
        "  history.append(loss.numpy().mean())\n",
        "  plotter.plot(history)\n",
        "\n",
        "  # Update the model with the changed weights!\n",
        "  if iter % 100 == 0:     \n",
        "    model.save_weights(checkpoint_prefix)\n",
        "    \n",
        "# Save the trained model and the weights\n",
        "model.save_weights(checkpoint_prefix)"
      ],
      "execution_count": 81,
      "outputs": [
        {
          "output_type": "display_data",
          "data": {
            "image/png": "[encoded data removed]",
            "text/plain": [
              "<Figure size 432x288 with 1 Axes>"
            ]
          },
          "metadata": {
            "tags": []
          }
        },
        {
          "output_type": "stream",
          "text": [
            "100%|██████████| 2000/2000 [33:17<00:00,  1.00it/s]\n"
          ],
          "name": "stderr"
        },
        {
          "output_type": "display_data",
          "data": {
            "image/png": "[encoded data removed]",
            "text/plain": [
              "<Figure size 432x288 with 1 Axes>"
            ]
          },
          "metadata": {
            "tags": [],
            "needs_background": "light"
          }
        }
      ]
    },
    {
      "cell_type": "markdown",
      "metadata": {
        "id": "3UPagkCQ3gjZ"
      },
      "source": [
        "## Generate Poem \n"
      ]
    },
    {
      "cell_type": "code",
      "metadata": {
        "colab": {
          "base_uri": "https://localhost:8080/"
        },
        "id": "xpY9Owzo3p-_",
        "outputId": "e33cd623-98ac-4e85-d395-fa674fac2752"
      },
      "source": [
        "'''TODO: Rebuild the model using a batch_size=1'''\n",
        "model = build_model(vocab_size, embedding_dim, rnn_units, batch_size=1) # TODO\n",
        "# model = build_model('''TODO''', '''TODO''', '''TODO''', batch_size=1)\n",
        "\n",
        "# Restore the model weights for the last checkpoint after training\n",
        "model.load_weights(tf.train.latest_checkpoint(checkpoint_dir))\n",
        "model.build(tf.TensorShape([1, None]))\n",
        "\n",
        "model.summary()"
      ],
      "execution_count": 82,
      "outputs": [
        {
          "output_type": "stream",
          "text": [
            "Model: \"sequential_4\"\n",
            "_________________________________________________________________\n",
            "Layer (type)                 Output Shape              Param #   \n",
            "=================================================================\n",
            "embedding_4 (Embedding)      (1, None, 1600)           2446400   \n",
            "_________________________________________________________________\n",
            "lstm_4 (LSTM)                (1, None, 1024)           10752000  \n",
            "_________________________________________________________________\n",
            "dense_4 (Dense)              (1, None, 1529)           1567225   \n",
            "=================================================================\n",
            "Total params: 14,765,625\n",
            "Trainable params: 14,765,625\n",
            "Non-trainable params: 0\n",
            "_________________________________________________________________\n"
          ],
          "name": "stdout"
        }
      ]
    },
    {
      "cell_type": "code",
      "metadata": {
        "colab": {
          "base_uri": "https://localhost:8080/"
        },
        "id": "P_r8IX6L8IDa",
        "outputId": "dd6e83ef-7aed-43c0-a8d6-e95bf14448be"
      },
      "source": [
        "start_string=['i']\n",
        "input_eval = [vocab[s] for s in start_string]\n",
        "print(input_eval)"
      ],
      "execution_count": 83,
      "outputs": [
        {
          "output_type": "stream",
          "text": [
            "[22]\n"
          ],
          "name": "stdout"
        }
      ]
    },
    {
      "cell_type": "code",
      "metadata": {
        "id": "SvjB3kvc3zye"
      },
      "source": [
        "### Prediction of a generated song ###\n",
        "\n",
        "def generate_text(model, start_string, generation_length=75):\n",
        "  # Evaluation step (generating text using the learned RNN model)\n",
        "\n",
        "  '''TODO: convert the start string to numbers (vectorize)'''\n",
        "  input_eval = [vocab[s] for s in start_string] # TODO\n",
        "  # input_eval = ['''TODO''']\n",
        "  input_eval = tf.expand_dims(input_eval, 0)\n",
        "\n",
        "  # Empty string to store our results\n",
        "  text_generated = []\n",
        "\n",
        "  # Here batch size == 1\n",
        "  model.reset_states()\n",
        "  tqdm._instances.clear()\n",
        "\n",
        "  for i in tqdm(range(generation_length)):\n",
        "      '''TODO: evaluate the inputs and generate the next character predictions'''\n",
        "      predictions = model(input_eval)\n",
        "      # predictions = model('''TODO''')\n",
        "      \n",
        "      # Remove the batch dimension\n",
        "      predictions = tf.squeeze(predictions, 0)\n",
        "      \n",
        "      '''TODO: use a multinomial distribution to sample'''\n",
        "      predicted_id = tf.random.categorical(predictions, num_samples=1)[-1,0].numpy()\n",
        "      # predicted_id = tf.random.categorical('''TODO''', num_samples=1)[-1,0].numpy()\n",
        "      \n",
        "      # Pass the prediction along with the previous hidden state\n",
        "      #   as the next inputs to the model\n",
        "      input_eval = tf.expand_dims([predicted_id], 0)\n",
        "      \n",
        "      '''TODO: add the predicted character to the generated text!'''\n",
        "      # Hint: consider what format the prediction is in vs. the output\n",
        "      text_generated.append(inverse_vocab[predicted_id]) # TODO \n",
        "      # text_generated.append('''TODO''')\n",
        "    \n",
        "  return (' '.join(start_string) + ' ' + ' '.join(text_generated))"
      ],
      "execution_count": 84,
      "outputs": []
    },
    {
      "cell_type": "code",
      "metadata": {
        "colab": {
          "base_uri": "https://localhost:8080/"
        },
        "id": "wHkEd2dz6EIO",
        "outputId": "17e28404-5ec6-40dc-934e-7df60b68cd55"
      },
      "source": [
        "'''TODO: Use the model and the function defined above to generate ABC format text of length generation_length!'''\n",
        "generated_text = generate_text(model, start_string=['my','body'], generation_length=50)"
      ],
      "execution_count": 97,
      "outputs": [
        {
          "output_type": "stream",
          "text": [
            "100%|██████████| 50/50 [00:00<00:00, 72.42it/s]\n"
          ],
          "name": "stderr"
        }
      ]
    },
    {
      "cell_type": "code",
      "metadata": {
        "colab": {
          "base_uri": "https://localhost:8080/"
        },
        "id": "wMEK7gQi6Y-D",
        "outputId": "12d970b9-dc4a-4fe2-8b76-56a21f8691da"
      },
      "source": [
        "print(generated_text)"
      ],
      "execution_count": 98,
      "outputs": [
        {
          "output_type": "stream",
          "text": [
            "my body is tired of women aren't as if the human heart means that little to them. and after all this. after all of the taking. the nerve. isnít it sad and funny how people have more guts these days to that thing that does will excite you and this is how\n"
          ],
          "name": "stdout"
        }
      ]
    },
    {
      "cell_type": "code",
      "metadata": {
        "id": "FPssxEtlHVRl"
      },
      "source": [
        ""
      ],
      "execution_count": null,
      "outputs": []
    }
  ]
}