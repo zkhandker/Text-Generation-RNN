{
  "nbformat": 4,
  "nbformat_minor": 0,
  "metadata": {
    "colab": {
      "name": "Word2vec_LSTM_CNN.ipynb",
      "provenance": [],
      "collapsed_sections": [],
      "include_colab_link": true
    },
    "kernelspec": {
      "name": "python3",
      "display_name": "Python 3"
    }
  },
  "cells": [
    {
      "cell_type": "markdown",
      "metadata": {
        "id": "view-in-github",
        "colab_type": "text"
      },
      "source": [
        "<a href=\"https://colab.research.google.com/github/zkhandker/rupi-kaur/blob/main/Word2vec_LSTM_CNN.ipynb\" target=\"_parent\"><img src=\"https://colab.research.google.com/assets/colab-badge.svg\" alt=\"Open In Colab\"/></a>"
      ]
    },
    {
      "cell_type": "markdown",
      "metadata": {
        "id": "rsvlBQYCrE4I"
      },
      "source": [
        "## Dependencies \n"
      ]
    },
    {
      "cell_type": "code",
      "metadata": {
        "id": "riVZCVK65QTH",
        "colab": {
          "base_uri": "https://localhost:8080/"
        },
        "outputId": "ddb9a666-5e4f-4216-cbb8-5a584011af79"
      },
      "source": [
        "# Import Tensorflow 2.0\n",
        "%tensorflow_version 2.x\n",
        "import tensorflow as tf \n",
        "\n",
        "# Download and import the MIT 6.S191 package\n",
        "!pip install mitdeeplearning\n",
        "import mitdeeplearning as mdl\n",
        "\n",
        "# Import all remaining packages\n",
        "import numpy as np\n",
        "import os\n",
        "import time\n",
        "import functools\n",
        "from IPython import display as ipythondisplay\n",
        "from tqdm import tqdm\n",
        "!apt-get install abcmidi timidity > /dev/null 2>&1\n",
        "\n",
        "# Check that we are using a GPU, if not switch runtimes\n",
        "#   using Runtime > Change Runtime Type > GPU\n",
        "## assert len(tf.config.list_physical_devices('GPU')) > 0\n",
        "import pathlib"
      ],
      "execution_count": 142,
      "outputs": [
        {
          "output_type": "stream",
          "text": [
            "Requirement already satisfied: mitdeeplearning in /usr/local/lib/python3.7/dist-packages (0.2.0)\n",
            "Requirement already satisfied: numpy in /usr/local/lib/python3.7/dist-packages (from mitdeeplearning) (1.19.5)\n",
            "Requirement already satisfied: regex in /usr/local/lib/python3.7/dist-packages (from mitdeeplearning) (2019.12.20)\n",
            "Requirement already satisfied: gym in /usr/local/lib/python3.7/dist-packages (from mitdeeplearning) (0.17.3)\n",
            "Requirement already satisfied: tqdm in /usr/local/lib/python3.7/dist-packages (from mitdeeplearning) (4.41.1)\n",
            "Requirement already satisfied: cloudpickle<1.7.0,>=1.2.0 in /usr/local/lib/python3.7/dist-packages (from gym->mitdeeplearning) (1.3.0)\n",
            "Requirement already satisfied: scipy in /usr/local/lib/python3.7/dist-packages (from gym->mitdeeplearning) (1.4.1)\n",
            "Requirement already satisfied: pyglet<=1.5.0,>=1.4.0 in /usr/local/lib/python3.7/dist-packages (from gym->mitdeeplearning) (1.5.0)\n",
            "Requirement already satisfied: future in /usr/local/lib/python3.7/dist-packages (from pyglet<=1.5.0,>=1.4.0->gym->mitdeeplearning) (0.16.0)\n"
          ],
          "name": "stdout"
        }
      ]
    },
    {
      "cell_type": "markdown",
      "metadata": {
        "id": "12kd7ooJOWjZ"
      },
      "source": [
        "## Load Poems \n"
      ]
    },
    {
      "cell_type": "code",
      "metadata": {
        "id": "PYSGRMuTI0op"
      },
      "source": [
        "path_to_file = tf.keras.utils.get_file('combined2', 'https://raw.githubusercontent.com/zkhandker/rupi-kaur/main/data/combined2.txt')\n",
        "with open(path_to_file) as f: \n",
        "  poems = f.read()\n",
        "  #print(poems)"
      ],
      "execution_count": 143,
      "outputs": []
    },
    {
      "cell_type": "markdown",
      "metadata": {
        "id": "CF-KDgzwREqj"
      },
      "source": [
        "## Vectorize Poems \n"
      ]
    },
    {
      "cell_type": "code",
      "metadata": {
        "id": "HvJPK0QFQTdR"
      },
      "source": [
        ""
      ],
      "execution_count": 143,
      "outputs": []
    },
    {
      "cell_type": "code",
      "metadata": {
        "colab": {
          "base_uri": "https://localhost:8080/"
        },
        "id": "mRs_tAifGTjO",
        "outputId": "8165b698-f41f-4399-f398-36302a656a1f"
      },
      "source": [
        "#clean up the data, get rid of punctuations \n",
        "poems=poems.replace('í',\"\\'\")\n",
        "tokens = list(re.sub(\"[^\\w\\s]\", \"\", poems).lower().split())\n",
        "print(len(tokens))"
      ],
      "execution_count": 144,
      "outputs": [
        {
          "output_type": "stream",
          "text": [
            "13290\n"
          ],
          "name": "stdout"
        }
      ]
    },
    {
      "cell_type": "code",
      "metadata": {
        "colab": {
          "base_uri": "https://localhost:8080/"
        },
        "id": "QjM2uSyu9edf",
        "outputId": "baf50f29-0333-4990-eb4b-1b79fae671c0"
      },
      "source": [
        "import gensim.downloader\n",
        "# Show all available models in gensim-data\n",
        "print(list(gensim.downloader.info()['models'].keys()))"
      ],
      "execution_count": 145,
      "outputs": [
        {
          "output_type": "stream",
          "text": [
            "['fasttext-wiki-news-subwords-300', 'conceptnet-numberbatch-17-06-300', 'word2vec-ruscorpora-300', 'word2vec-google-news-300', 'glove-wiki-gigaword-50', 'glove-wiki-gigaword-100', 'glove-wiki-gigaword-200', 'glove-wiki-gigaword-300', 'glove-twitter-25', 'glove-twitter-50', 'glove-twitter-100', 'glove-twitter-200', '__testing_word2vec-matrix-synopsis']\n"
          ],
          "name": "stdout"
        }
      ]
    },
    {
      "cell_type": "code",
      "metadata": {
        "colab": {
          "base_uri": "https://localhost:8080/"
        },
        "id": "Ppl6cEDS_V9c",
        "outputId": "66d428aa-481b-4060-a78f-4ffaa9847808"
      },
      "source": [
        "# Download the \"glove-twitter-25\" embeddings\n",
        "glove_vectors = gensim.downloader.load('fasttext-wiki-news-subwords-300')\n",
        "\n",
        "# Use the downloaded vectors as usual:\n",
        "glove_vectors.most_similar('twitter')"
      ],
      "execution_count": 146,
      "outputs": [
        {
          "output_type": "stream",
          "text": [
            "[==================================================] 100.0% 958.5/958.4MB downloaded\n"
          ],
          "name": "stdout"
        },
        {
          "output_type": "execute_result",
          "data": {
            "text/plain": [
              "[('Twitter', 0.8208357095718384),\n",
              " ('twitters', 0.8099666833877563),\n",
              " ('tweet', 0.7791348695755005),\n",
              " ('facebook', 0.7708379030227661),\n",
              " ('twitterer', 0.7670276165008545),\n",
              " ('twitter.', 0.7437460422515869),\n",
              " ('instagram', 0.7390024662017822),\n",
              " ('twittering', 0.7377669811248779),\n",
              " ('twitterfeed', 0.7372093200683594),\n",
              " ('twitterati', 0.7354255318641663)]"
            ]
          },
          "metadata": {
            "tags": []
          },
          "execution_count": 146
        }
      ]
    },
    {
      "cell_type": "code",
      "metadata": {
        "colab": {
          "base_uri": "https://localhost:8080/"
        },
        "id": "SFci1RxUERbw",
        "outputId": "52e776ee-8505-4eab-a83e-38d5533961d9"
      },
      "source": [
        "glove_vectors[\"you\"]"
      ],
      "execution_count": 147,
      "outputs": [
        {
          "output_type": "execute_result",
          "data": {
            "text/plain": [
              "array([-0.047138  ,  0.043438  ,  0.024106  , -0.0059057 ,  0.025643  ,\n",
              "        0.010874  ,  0.011461  , -0.16515   , -0.036061  , -0.027179  ,\n",
              "       -0.06232   , -0.052361  ,  0.046935  , -0.031904  , -0.025043  ,\n",
              "        0.0039717 ,  0.027289  ,  0.032638  ,  0.098477  , -0.01711   ,\n",
              "       -0.00067445, -0.0082902 , -0.036168  ,  0.14525   , -0.040871  ,\n",
              "        0.013815  ,  0.014847  , -0.016972  ,  0.14669   ,  0.018505  ,\n",
              "        0.040175  ,  0.031467  , -0.015746  ,  0.064635  , -0.053259  ,\n",
              "       -0.12856   , -0.0077305 , -0.013476  , -0.034531  ,  0.033491  ,\n",
              "        0.039787  , -0.1525    ,  0.032298  ,  0.04135   , -0.019938  ,\n",
              "       -0.030942  , -0.042261  , -0.0303    , -0.081923  ,  0.034114  ,\n",
              "        0.06674   , -0.010858  ,  0.033501  , -0.071083  , -0.071181  ,\n",
              "       -0.044888  , -0.029608  , -0.0085234 , -0.099894  ,  0.019831  ,\n",
              "        0.046507  ,  0.001986  ,  0.078474  , -0.053777  ,  0.021799  ,\n",
              "        0.050007  , -0.022611  , -0.011141  ,  0.030034  ,  0.030741  ,\n",
              "        0.045877  ,  0.0036801 ,  0.22192   ,  0.0088384 , -0.014171  ,\n",
              "       -0.0015703 ,  0.03008   , -0.022456  , -0.075481  ,  0.041712  ,\n",
              "       -0.10694   ,  0.13633   ,  0.055972  ,  0.091307  , -0.020824  ,\n",
              "       -0.011578  , -0.062547  , -0.083994  ,  0.011058  , -0.041811  ,\n",
              "        0.014029  ,  0.048765  , -0.22574   , -0.22135   ,  0.03629   ,\n",
              "       -0.14378   ,  0.04116   ,  0.068182  ,  0.032656  , -0.062182  ,\n",
              "       -0.0088196 ,  0.074222  , -0.040606  ,  0.015482  , -0.047677  ,\n",
              "       -0.11416   ,  0.013511  ,  0.022629  ,  0.021557  , -0.046641  ,\n",
              "       -0.018681  ,  0.17101   ,  0.026324  , -0.04208   , -0.033705  ,\n",
              "        0.056568  , -0.080565  , -0.099221  ,  0.037309  , -0.03186   ,\n",
              "        0.04009   ,  0.00056289,  0.017849  ,  0.056036  , -0.06309   ,\n",
              "        0.017841  ,  0.05967   , -0.0437    , -0.021353  ,  0.13929   ,\n",
              "       -0.10411   ,  0.11088   , -0.010765  ,  0.012511  ,  0.014496  ,\n",
              "        0.013354  , -0.028206  ,  0.13953   , -0.031956  , -0.030364  ,\n",
              "       -0.007581  ,  0.02957   ,  0.013536  , -0.042527  , -0.067498  ,\n",
              "        0.074174  ,  0.034709  , -0.081292  ,  0.026406  ,  0.016279  ,\n",
              "        0.16199   ,  0.22953   , -0.040685  , -0.086451  , -0.058847  ,\n",
              "       -0.050805  ,  0.039528  , -0.078009  , -0.033888  , -0.13875   ,\n",
              "       -0.014732  ,  0.019155  ,  0.099483  ,  0.017235  ,  0.041341  ,\n",
              "       -0.017964  , -0.042783  , -0.012074  ,  0.00075686,  0.034405  ,\n",
              "        0.070368  , -0.012567  , -0.014134  ,  0.0067707 , -0.028087  ,\n",
              "        0.048474  , -0.022101  , -0.018236  , -0.017899  , -0.025924  ,\n",
              "       -0.024745  ,  0.024289  ,  0.0040071 ,  0.0086769 , -0.036043  ,\n",
              "       -0.25148   , -0.022906  ,  0.23119   ,  0.051151  , -0.013108  ,\n",
              "       -0.0080993 ,  0.21012   , -0.25619   ,  0.0062319 , -0.0057913 ,\n",
              "        0.0077277 ,  0.01598   ,  0.011676  , -0.11984   ,  0.012906  ,\n",
              "       -0.1946    ,  0.11752   ,  0.089238  ,  0.066085  , -0.031509  ,\n",
              "        0.011266  ,  0.019971  , -0.032139  ,  0.022991  , -0.10806   ,\n",
              "       -0.11434   ,  0.025508  ,  0.17815   , -0.080245  , -0.011183  ,\n",
              "        0.010716  ,  0.061114  , -0.030748  ,  0.028561  ,  0.043324  ,\n",
              "       -0.0039058 ,  0.0073666 ,  0.048311  ,  0.22541   ,  0.14155   ,\n",
              "       -0.022426  ,  0.043772  ,  0.10968   , -0.021422  ,  0.017652  ,\n",
              "        0.019828  , -0.17669   , -0.12244   ,  0.043191  ,  0.032077  ,\n",
              "        0.038763  , -0.058042  , -0.029559  , -0.012887  , -0.054139  ,\n",
              "        0.10675   ,  0.014775  ,  0.0095153 , -0.054438  , -0.030428  ,\n",
              "       -0.091975  ,  0.057735  , -0.10702   , -0.012768  ,  0.0089362 ,\n",
              "        0.038272  , -0.027552  , -0.043306  , -0.0043148 , -0.086326  ,\n",
              "       -0.075858  , -0.044346  ,  0.021085  ,  0.020239  ,  0.010097  ,\n",
              "       -0.006068  ,  0.0713    ,  0.023086  , -0.070876  ,  0.0056864 ,\n",
              "        0.010983  , -0.011508  ,  0.12747   ,  0.059619  ,  0.0099137 ,\n",
              "       -0.035493  ,  0.097601  , -0.16122   , -0.029814  ,  0.066861  ,\n",
              "        0.053348  , -0.0099381 , -0.035022  , -0.0036945 , -0.016345  ,\n",
              "       -0.24367   ,  0.0033639 ,  0.041861  , -0.034098  ,  0.047908  ,\n",
              "        0.016985  ,  0.10317   , -0.030722  ,  0.00054673, -0.027982  ,\n",
              "       -0.0128    , -0.061955  , -0.097118  ,  0.031175  ,  0.04996   ,\n",
              "       -0.054166  ,  0.043986  , -0.011364  , -0.037262  , -0.031316  ],\n",
              "      dtype=float32)"
            ]
          },
          "metadata": {
            "tags": []
          },
          "execution_count": 147
        }
      ]
    },
    {
      "cell_type": "code",
      "metadata": {
        "colab": {
          "base_uri": "https://localhost:8080/"
        },
        "id": "f6F4mYG1Ecjp",
        "outputId": "3ddaabd6-7f0f-4388-edb4-18640d428dd5"
      },
      "source": [
        "glove_vectors in glove_vectors.vocab"
      ],
      "execution_count": 148,
      "outputs": [
        {
          "output_type": "execute_result",
          "data": {
            "text/plain": [
              "False"
            ]
          },
          "metadata": {
            "tags": []
          },
          "execution_count": 148
        }
      ]
    },
    {
      "cell_type": "code",
      "metadata": {
        "colab": {
          "base_uri": "https://localhost:8080/"
        },
        "id": "PoMmec0_GtiY",
        "outputId": "bbdda8ca-674f-4119-ec57-85790f6e98e9"
      },
      "source": [
        "# create a weight matrix for words in training docs\n",
        "embedding_matrix = []\n",
        "\n",
        "vocab, index = {}, 0 # start indexing from 0\n",
        "for token in tokens:\n",
        "  if (token not in vocab) and (token in glove_vectors.vocab):\n",
        "    vocab[token] = index\n",
        "    index += 1\n",
        "    embedding_vector = glove_vectors[token]\n",
        "    if embedding_vector is not None:\n",
        "        embedding_matrix.append(embedding_vector)\n",
        "vocab_size = len(vocab)\n",
        "print(vocab)\n",
        "print(vocab_size)\n",
        "\n",
        "embedding_matrix=np.array(embedding_matrix)\n",
        "embedding_matrix.shape"
      ],
      "execution_count": 149,
      "outputs": [
        {
          "output_type": "stream",
          "text": [
            "{'how': 0, 'is': 1, 'it': 2, 'so': 3, 'easy': 4, 'for': 5, 'you': 6, 'to': 7, 'be': 8, 'kind': 9, 'people': 10, 'he': 11, 'asked': 12, 'milk': 13, 'and': 14, 'honey': 15, 'dripped': 16, 'from': 17, 'my': 18, 'lips': 19, 'as': 20, 'i': 21, 'answered': 22, 'cause': 23, 'have': 24, 'not': 25, 'been': 26, 'me': 27, 'the': 28, 'first': 29, 'boy': 30, 'that': 31, 'kissed': 32, 'held': 33, 'shoulders': 34, 'down': 35, 'like': 36, 'handlebars': 37, 'of': 38, 'bicycle': 39, 'ever': 40, 'rode': 41, 'was': 42, 'five': 43, 'had': 44, 'smell': 45, 'starvation': 46, 'on': 47, 'his': 48, 'which': 49, 'picked': 50, 'up': 51, 'father': 52, 'feasting': 53, 'mother': 54, 'at': 55, '4': 56, 'am': 57, 'teach': 58, 'body': 59, 'giving': 60, 'those': 61, 'wanted': 62, 'should': 63, 'feel': 64, 'anything': 65, 'less': 66, 'than': 67, 'whole': 68, 'god': 69, 'did': 70, 'empty': 71, '425': 72, 'ive': 73, 'sex': 74, 'she': 75, 'said': 76, 'but': 77, 'dont': 78, 'know': 79, 'what': 80, 'making': 81, 'love': 82, 'feels': 83, 'came': 84, 'all': 85, 'this': 86, 'way': 87, 'give': 88, 'these': 89, 'things': 90, 'arent': 91, 'even': 92, 'looking': 93, 'abused': 94, 'abuser': 95, 'both': 96, 'undoing': 97, 'skin': 98, 'wasnt': 99, 'kissing': 100, 'ó': 101, 'mistaken': 102, 'him': 103, 'mind': 104, 'your': 105, 'were': 106, 'just': 107, 'convenient': 108, 'always': 109, 'comes': 110, 'back': 111, 'boils': 112, 'circles': 113, 'itches': 114, 'its': 115, 'music': 116, 'ears': 117, 'cut': 118, 'off': 119, 'tongue': 120, 'sour': 121, 'hunger': 122, 'missing': 123, 'will': 124, 'build': 125, 'into': 126, 'life': 127, 'when': 128, 'want': 129, 'a': 130, 'with': 131, 'difference': 132, 'if': 133, 'knew': 134, 'safety': 135, 'looked': 136, 'would': 137, 'spent': 138, 'time': 139, 'falling': 140, 'arms': 141, 'rivers': 142, 'fall': 143, 'mouth': 144, 'tears': 145, 'eyes': 146, 'cant': 147, 'carry': 148, 'are': 149, 'snakeskin': 150, 'keep': 151, 'shedding': 152, 'somehow': 153, 'forgetting': 154, 'every': 155, 'exquisite': 156, 'detail': 157, 'face': 158, 'letting': 159, 'go': 160, 'has': 161, 'become': 162, 'most': 163, 'pleasant': 164, 'saddest': 165, 'thing': 166, 'happened': 167, 'wrong': 168, 'leaving': 169, 'coming': 170, 'thinking': 171, 'could': 172, 'leave': 173, 'can': 174, 'write': 175, 'took': 176, 'hands': 177, 'neither': 178, 'us': 179, 'happy': 180, 'wants': 181, 'we': 182, 'breaking': 183, 'one': 184, 'another': 185, 'calling': 186, 'began': 187, 'honesty': 188, 'let': 189, 'end': 190, 'in': 191, 'too': 192, 'voice': 193, 'alone': 194, 'drives': 195, 'why': 196, 'split': 197, 'myself': 198, 'open': 199, 'others': 200, 'knowing': 201, 'sewing': 202, 'hurts': 203, 'much': 204, 'afterward': 205, 'they': 206, 'left': 207, 'stays': 208, 'takes': 209, 'consent': 210, 'two': 211, 'person': 212, 'lying': 213, 'there': 214, 'doing': 215, 'ready': 216, 'or': 217, 'mood': 218, 'simply': 219, 'yet': 220, 'other': 221, 'having': 222, 'their': 223, 'rape': 224, 'cruel': 225, 'game': 226, 'made': 227, 'out': 228, 'our': 229, 'die': 230, 'written': 231, 'pages': 232, 'after': 233, 'hurt': 234, 'loss': 235, 'pain': 236, 'still': 237, 'only': 238, 'undressed': 239, 'under': 240, 'night': 241, 'woke': 242, 'broken': 243, 'place': 244, 'put': 245, 'pieces': 246, 'bags': 247, 'stay': 248, 'whispered': 249, 'shut': 250, 'door': 251, 'behind': 252, 'confident': 253, 'over': 254, 'some': 255, 'mornings': 256, 'wake': 257, 'smile': 258, 'pressed': 259, 'together': 260, 'thanking': 261, 'universe': 262, 'pulling': 263, 'thank': 264, 'cry': 265, 'empire': 266, 'today': 267, 'stayed': 268, 'then': 269, 'nights': 270, 'imagine': 271, 'might': 272, 'do': 273, 'showed': 274, 'walked': 275, 'room': 276, 'very': 277, 'second': 278, 'awful': 279, 'youve': 280, 'done': 281, 'tossed': 282, 'closest': 283, 'window': 284, 'rise': 285, 'again': 286, 'pour': 287, 'through': 288, 'never': 289, 'really': 290, 'practicing': 291, 'silent': 292, 'long': 293, 'loud': 294, 'arrival': 295, 'someone': 296, 'explain': 297, 'leaves': 298, 'doesnt': 299, 'past': 300, 'helplessly': 301, 'brought': 302, 'isnt': 303, 'head': 304, 'sobbed': 305, 'heart': 306, 'wilting': 307, 'friends': 308, 'more': 309, 'idea': 310, 'capable': 311, 'choose': 312, 'toxic': 313, 'losing': 314, 'parts': 315, 'lose': 316, 'eyelashes': 317, 'unknowingly': 318, 'everywhere': 319, 'cannot': 320, 'exist': 321, 'places': 322, 'once': 323, 'ask': 324, 'water': 325, 'soft': 326, 'enough': 327, 'offer': 328, 'tough': 329, 'drown': 330, 'away': 331, 'miss': 332, 'loved': 333, 'didnt': 334, 'reflection': 335, 'everything': 336, 'gave': 337, 'see': 338, 'sit': 339, 'here': 340, 'soaking': 341, 'no': 342, 'else': 343, 'taught': 344, 'fill': 345, 'needed': 346, 'filled': 347, 'credit': 348, 'warmth': 349, 'because': 350, 'felt': 351, 'who': 352, 'strength': 353, 'wit': 354, 'beauty': 355, 'recognized': 356, 'already': 357, 'before': 358, 'met': 359, 'remain': 360, 'gone': 361, 'abandon': 362, 'linger': 363, 'think': 364, 'okay': 365, 'return': 366, 'tell': 367, 'about': 368, 'selfish': 369, 'walk': 370, 'taste': 371, 'type': 372, 'being': 373, 'shine': 374, 'gotten': 375, 'good': 376, 'look': 377, 'taken': 378, 'hair': 379, 'secrets': 380, 'them': 381, 'realize': 382, 'real': 383, 'storm': 384, 'hits': 385, 'cowardice': 386, 'sets': 387, 'thought': 388, 'replaced': 389, 'by': 390, 'sad': 391, 'reality': 392, 'fighting': 393, 'bone': 394, 'saying': 395, 'find': 396, 'better': 397, 'stand': 398, 'naked': 399, 'half': 400, 'hidden': 401, 'somewhere': 402, 'inside': 403, 'sob': 404, 'asking': 405, 'forced': 406, 'intention': 407, 'loving': 408, 'theyll': 409, 'say': 410, 'something': 411, 'along': 412, 'lines': 413, 'try': 414, 'chance': 415, 'romantic': 416, 'sweet': 417, 'engulfed': 418, 'existence': 419, 'risk': 420, 'sake': 421, 'werent': 422, 'meant': 423, 'little': 424, 'next': 425, 'curiosity': 426, 'gamble': 427, 'entire': 428, 'beings': 429, 'souls': 430, 'please': 431, 'own': 432, 'holding': 433, 'world': 434, 'lap': 435, 'belittled': 436, 'mere': 437, 'picture': 438, 'moment': 439, 'swallow': 440, 'whisper': 441, 'spend': 442, 'rest': 443, 'sense': 444, 'fear': 445, 'halfway': 446, 'without': 447, 'nerve': 448, 'grace': 449, 'human': 450, 'means': 451, 'taking': 452, 'funny': 453, 'guts': 454, 'days': 455, 'undress': 456, 'fingers': 457, 'pick': 458, 'phone': 459, 'call': 460, 'apologize': 461, 'her': 462, 'list': 463, 'breakup': 464, '1': 465, 'take': 466, 'refuge': 467, 'bed': 468, '2': 469, 'till': 470, 'stop': 471, 'few': 472, '3': 473, 'listen': 474, 'slow': 475, 'songs': 476, 'delete': 477, 'number': 478, 'though': 479, 'memorized': 480, 'fingertips': 481, '5': 482, 'old': 483, 'photos': 484, '6': 485, 'ice': 486, 'cream': 487, 'shop': 488, 'treat': 489, 'yourself': 490, 'scoops': 491, 'mint': 492, 'chocolate': 493, 'chip': 494, 'calm': 495, 'deserve': 496, '7': 497, 'buy': 498, 'new': 499, 'sheets': 500, '8': 501, 'collect': 502, 'gifts': 503, 'tshirts': 504, 'drop': 505, 'donation': 506, 'center': 507, '9': 508, 'plan': 509, 'trip': 510, '10': 511, 'perfect': 512, 'art': 513, 'smiling': 514, 'nodding': 515, 'brings': 516, 'name': 517, 'conversation': 518, '11': 519, 'start': 520, 'project': 521, '12': 522, 'whatever': 523, '13': 524, 'beg': 525, 'does': 526, '14': 527, 'crying': 528, 'point': 529, '15': 530, 'allow': 531, 'foolish': 532, 'believing': 533, 'couldve': 534, 'built': 535, 'elses': 536, 'stomach': 537, '16': 538, 'breathe': 539, 'tells': 540, 'bigger': 541, 'illusion': 542, 'woman': 543, 'bring': 544, 'dishonor': 545, 'home': 546, 'tries': 547, 'safe': 548, 'perhaps': 549, 'nice': 550, 'paying': 551, 'sins': 552, 'remember': 553, 'writing': 554, 'healing': 555, 'destroying': 556, 'bother': 557, 'make': 558, 'must': 559, 'enter': 560, 'relationship': 561, 'anyone': 562, 'accept': 563, 'painful': 564, 'moving': 565, 'healthiest': 566, 'move': 567, 'part': 568, 'experience': 569, 'afraid': 570, 'evolving': 571, 'loneliness': 572, 'sign': 573, 'desperate': 574, 'need': 575, 'habit': 576, 'lack': 577, 'tricked': 578, 'complete': 579, 'complement': 580, 'feet': 581, 'broke': 582, 'pinned': 583, 'legs': 584, 'ground': 585, 'demanded': 586, 'born': 587, 'weakness': 588, 'live': 589, 'waiting': 590, 'theyre': 591, 'sure': 592, 'exists': 593, 'billion': 594, 'strong': 595, 'grow': 596, 'flowers': 597, 'helped': 598, 'mine': 599, 'bloom': 600, 'beautifully': 601, 'dangerously': 602, 'loudly': 603, 'softly': 604, 'however': 605, 'reader': 606, 'balance': 607, 'situations': 608, 'solitude': 609, 'between': 610, 'telling': 611, 'actually': 612, 'sometimes': 613, 'apology': 614, 'nor': 615, 'late': 616, 'girls': 617, 'learn': 618, 'kiss': 619, 'closed': 620, 'unlike': 621, 'women': 622, 'sisters': 623, 'order': 624, 'makes': 625, 'spit': 626, 'supposed': 627, 'proud': 628, 'relieved': 629, 'points': 630, 'growing': 631, 'remind': 632, 'guest': 633, 'warn': 634, 'welcome': 635, 'tear': 636, 'powerful': 637, 'completely': 638, 'found': 639, 'surroundings': 640, 'lost': 641, 'within': 642, 'hard': 643, 'believe': 644, 'tomorrow': 645, 'come': 646, 'difficult': 647, 'day': 648, 'get': 649, 'swear': 650, 'pass': 651, 'slowly': 652, 'promise': 653, 'stretch': 654, 'marks': 655, 'thighs': 656, 'rough': 657, 'jungle': 658, 'wild': 659, 'feeling': 660, 'unafraid': 661, 'tend': 662, 'wounds': 663, 'utterly': 664, 'issue': 665, 'consider': 666, 'beautiful': 667, 'concept': 668, 'centers': 669, 'around': 670, 'excluding': 671, 'wears': 672, 'garden': 673, 'definition': 674, 'big': 675, 'hooked': 676, 'noses': 677, 'pointing': 678, 'upward': 679, 'sky': 680, 'rising': 681, 'occasion': 682, 'color': 683, 'earth': 684, 'ancestors': 685, 'planted': 686, 'crops': 687, 'feed': 688, 'lineage': 689, 'thick': 690, 'tree': 691, 'trunks': 692, 'almonds': 693, 'deeply': 694, 'hooded': 695, 'conviction': 696, 'punjab': 697, 'flow': 698, 'bloodstream': 699, 'ones': 700, 'country': 701, 'backs': 702, 'stories': 703, 'books': 704, 'spine': 705, 'designed': 706, 'museum': 707, 'natural': 708, 'disasters': 709, 'grasp': 710, 'stunning': 711, 'sadness': 712, 'living': 713, 'shouldnt': 714, 'becoming': 715, 'womens': 716, 'bodies': 717, 'battlegrounds': 718, 'removing': 719, 'thats': 720, 'keeping': 721, 'belong': 722, 'apparently': 723, 'ungraceful': 724, 'mention': 725, 'period': 726, 'public': 727, 'actual': 728, 'biology': 729, 'sell': 730, 'whats': 731, 'womans': 732, 'inner': 733, 'workings': 734, 'recreational': 735, 'use': 736, 'seen': 737, 'while': 738, 'nature': 739, 'ugly': 740, 'dragon': 741, 'fly': 742, 'hes': 743, 'called': 744, 'pretty': 745, 'intelligent': 746, 'brave': 747, 'sorry': 748, 'sound': 749, 'simple': 750, 'youre': 751, 'spirit': 752, 'crushed': 753, 'mountains': 754, 'now': 755, 'resilient': 756, 'extraordinary': 757, 'outlook': 758, 'hold': 759, 'heal': 760, 'happiness': 761, 'patient': 762, 'daughter': 763, 'kaur': 764, 'free': 765, 'removes': 766, 'shackles': 767, 'bind': 768, 'uplifts': 769, 'equal': 770, 'any': 771, 'man': 772, 'state': 773, 'screams': 774, 'wholly': 775, 'humbles': 776, 'calls': 777, 'says': 778, 'universal': 779, 'duty': 780, 'share': 781, 'humanity': 782, 'nurture': 783, 'serve': 784, 'sisterhood': 785, 'raise': 786, 'raising': 787, 'runs': 788, 'blood': 789, 'word': 790, 'itself': 791, 'existed': 792, 'identity': 793, 'liberation': 794, 'gives': 795, 'gold': 796, 'nothing': 797, 'purer': 798, 'aches': 799, 'helping': 800, 'ache': 801, 'spring': 802, 'goddess': 803, 'mouths': 804, 'soul': 805, 'mate': 806, 'bitter': 807, 'kindest': 808, 'forward': 809, 'recognize': 810, 'striking': 811, 'mean': 812, 'rooted': 813, 'deep': 814, 'help': 815, 'war': 816, 'naturally': 817, 'trying': 818, 'convince': 819, 'allowed': 820, 'space': 821, 'hand': 822, 'right': 823, 'shrinking': 824, 'hereditary': 825, 'importantly': 826, 'page': 827, 'where': 828, 'sitting': 829, 'degree': 830, 'job': 831, 'money': 832, 'matters': 833, 'except': 834, 'connection': 835, 'touched': 836, 'sink': 837, 'grounded': 838, 'searching': 839, 'course': 840, 'successful': 841, 'crave': 842, 'success': 843, 'gain': 844, 'succeed': 845, 'heartbeat': 846, 'quickens': 847, 'birthing': 848, 'poems': 849, 'opening': 850, 'conceive': 851, 'lovemaking': 852, 'words': 853, 'erotic': 854, 'either': 855, 'lust': 856, 'terrifies': 857, 'foam': 858, 'envy': 859, 'sigh': 860, 'relief': 861, 'failing': 862, 'struggle': 863, 'celebrate': 864, 'each': 865, 'proven': 866, 'many': 867, 'work': 868, 'likes': 869, 'honest': 870, 'trade': 871, 'relatability': 872, 'young': 873, 'poets': 874, 'quiet': 875, 'opinions': 876, 'fire': 877, 'belly': 878, 'lightness': 879, 'heavy': 880, 'blade': 881, 'silk': 882, 'forget': 883, 'follow': 884, 'seva': 885, 'selfless': 886, 'service': 887, 'scraping': 888, 'cantaloupe': 889, 'clean': 890, 'offering': 891, 'absent': 892, 'border': 893, 'countries': 894, 'collateral': 895, 'damage': 896, 'paradox': 897, 'joins': 898, 'also': 899, 'splits': 900, 'apart': 901, 'emptying': 902, 'mothers': 903, 'act': 904, 'disappearance': 905, 'learning': 906, 'shrink': 907, 'family': 908, 'daughters': 909, 'invisible': 910, 'repeat': 911, 'wish': 912, 'often': 913, 'reason': 914, 'alive': 915, 'heaving': 916, 'chest': 917, 'guess': 918, 'tenderness': 919, 'well': 920, 'same': 921, 'exhausted': 922, 'rage': 923, 'wear': 924, 'anger': 925, 'homage': 926, 'shires': 927, 'inheritance': 928, 'opens': 929, 'dinner': 930, 'shoves': 931, 'hush': 932, 'speak': 933, 'full': 934, 'learned': 935, 'knees': 936, 'pried': 937, 'cousins': 938, 'uncles': 939, 'men': 940, 'particular': 941, 'im': 942, 'silence': 943, 'stretches': 944, 'lifetime': 945, 'scramble': 946, 'questions': 947, 'going': 948, 'understand': 949, 'blame': 950, 'hurting': 951, 'youll': 952, 'care': 953, 'aching': 954, 'attention': 955, 'collapse': 956, 'small': 957, 'talk': 958, 'plough': 959, 'mostly': 960, 'shocked': 961, 'rubber': 962, 'against': 963, 'an': 964, 'wound': 965, 'begin': 966, 'pushing': 967, 'faster': 968, 'search': 969, 'reaction': 970, 'acting': 971, 'videos': 972, 'watch': 973, 'imitate': 974, 'moans': 975, 'hollow': 976, 'hungry': 977, 'yes': 978, 'quickly': 979, 'sounds': 980, 'rehearsed': 981, 'notice': 982, 'veins': 983, 'terrified': 984, 'looks': 985, 'flinch': 986, 'touch': 987, 'pregnant': 988, 'child': 989, 'four': 990, 'pointed': 991, 'swollen': 992, 'confused': 993, 'such': 994, 'scooped': 995, 'trunk': 996, 'grown': 997, 'age': 998, 'changed': 999, 'rested': 1000, 'energy': 1001, 'wanting': 1002, 'wait': 1003, 'wont': 1004, 'sight': 1005, 'meet': 1006, 'itll': 1007, 'remembrance': 1008, 'marry': 1009, 'id': 1010, 'son': 1011, 'revolution': 1012, 'starts': 1013, 'ends': 1014, 'asks': 1015, 'hope': 1016, 'form': 1017, 'favorite': 1018, 'herbs': 1019, 'gardens': 1020, 'therapist': 1021, 'doll': 1022, 'front': 1023, 'size': 1024, 'touching': 1025, 'spot': 1026, 'fingered': 1027, 'confession': 1028, 'pull': 1029, 'lump': 1030, 'throat': 1031, 'teeth': 1032, 'fine': 1033, 'numb': 1034, 'midweek': 1035, 'sessions': 1036, 'crumble': 1037, 'reasons': 1038, 'sun': 1039, 'faint': 1040, 'line': 1041, 'faith': 1042, 'blindly': 1043, 'letter': 1044, 'future': 1045, 'lover': 1046, 'safer': 1047, 'reading': 1048, 'date': 1049, 'placed': 1050, 'reaching': 1051, 'waist': 1052, 'hips': 1053, 'touches': 1054, 'surprised': 1055, 'goddamn': 1056, 'spread': 1057, 'easel': 1058, 'canvas': 1059, 'begging': 1060, 'light': 1061, 'city': 1062, 'combined': 1063, 'set': 1064, 'melt': 1065, 'play': 1066, 'games': 1067, 'knows': 1068, 'speechless': 1069, 'truth': 1070, 'weak': 1071, 'forgets': 1072, 'language': 1073, 'company': 1074, 'packaging': 1075, 'stops': 1076, 'midsentence': 1077, 'pay': 1078, 'bills': 1079, 'crazy': 1080, 'keeps': 1081, 'show': 1082, 'tips': 1083, 'forearm': 1084, 'graze': 1085, 'wrist': 1086, 'goose': 1087, 'bumps': 1088, 'surface': 1089, 'clench': 1090, 'muscles': 1091, 'tighten': 1092, 'pore': 1093, 'blink': 1094, 'break': 1095, 'gaze': 1096, 'inches': 1097, 'toward': 1098, 'step': 1099, 'command': 1100, 'cheeks': 1101, 'flush': 1102, 'shyly': 1103, 'confessing': 1104, 'loves': 1105, 'irrelevant': 1106, 'turn': 1107, 'forest': 1108, 'running': 1109, 'strongest': 1110, 'positive': 1111, 'negative': 1112, 'connotation': 1113, 'lights': 1114, 'whispers': 1115, 'ear': 1116, 'ways': 1117, 'undresses': 1118, 'male': 1119, 'french': 1120, 'wrap': 1121, 'foreplay': 1122, 'run': 1123, 'willing': 1124, 'exactly': 1125, 'hears': 1126, 'understanding': 1127, 'demand': 1128, 'dance': 1129, 'solo': 1130, 'performance': 1131, 'weve': 1132, 'arguing': 1133, 'ought': 1134, 'avoid': 1135, 'instead': 1136, 'used': 1137, 'fight': 1138, 'pop': 1139, 'frozen': 1140, 'pizza': 1141, 'oven': 1142, 'vulnerable': 1143, 'thorns': 1144, 'table': 1145, 'tonight': 1146, 'sleep': 1147, 'last': 1148, 'week': 1149, 'working': 1150, 'youd': 1151, 'couple': 1152, 'hours': 1153, 'ago': 1154, 'excuses': 1155, 'carried': 1156, 'eventually': 1157, 'expect': 1158, 'baby': 1159, 'frustration': 1160, 'tired': 1161, 'sick': 1162, 'toxin': 1163, 'burnt': 1164, 'holes': 1165, 'faces': 1166, 'kid': 1167, 'matter': 1168, 'bad': 1169, 'gets': 1170, 'wanna': 1171, 'nail': 1172, 'especially': 1173, 'screaming': 1174, 'wakes': 1175, 'neighbors': 1176, 'save': 1177, 'lie': 1178, 'lay': 1179, 'map': 1180, 'finger': 1181, 'trace': 1182, 'gravity': 1183, 'focal': 1184, 'yours': 1185, 'street': 1186, 'windows': 1187, 'wondering': 1188, 'commotion': 1189, 'trucks': 1190, 'rolling': 1191, 'distinguish': 1192, 'whether': 1193, 'flames': 1194, 'passion': 1195, 'throw': 1196, 'arch': 1197, 'mountain': 1198, 'lick': 1199, 'gift': 1200, 'book': 1201, 'read': 1202, 'carefully': 1203, 'fluently': 1204, 'vividly': 1205, 'dare': 1206, 'single': 1207, 'untouched': 1208, 'ending': 1209, 'seat': 1210, 'flick': 1211, 'tongues': 1212, 'decided': 1213, 'snap': 1214, 'defense': 1215, 'shout': 1216, 'defeated': 1217, 'parent': 1218, 'fix': 1219, 'wretched': 1220, 'distant': 1221, 'forgot': 1222, 'fate': 1223, 'wonder': 1224, 'naive': 1225, 'works': 1226, 'lives': 1227, 'staring': 1228, 'spends': 1229, 'placing': 1230, 'chess': 1231, 'choices': 1232, 'convinced': 1233, 'given': 1234, 'actions': 1235, 'define': 1236, 'scream': 1237, 'fool': 1238, 'quietly': 1239, 'quivering': 1240, 'tragic': 1241, 'clearly': 1242, 'mistake': 1243, 'salt': 1244, 'sugar': 1245, 'slips': 1246, 'waistband': 1247, 'pants': 1248, 'may': 1249, 'certainly': 1250, 'temptingly': 1251, 'stung': 1252, 'got': 1253, 'close': 1254, 'bootleg': 1255, 'version': 1256, 'erase': 1257, 'punch': 1258, 'caress': 1259, 'suck': 1260, 'replacement': 1261, 'slip': 1262, 'excite': 1263, 'eyelids': 1264, 'pity': 1265, 'hit': 1266, 'busy': 1267, 'coffee': 1268, 'black': 1269, 'weep': 1270, 'drinking': 1271, 'rather': 1272, 'darkest': 1273, 'rose': 1274, 'manhood': 1275, 'curled': 1276, 'marinates': 1277, 'remembers': 1278, 'regret': 1279, 'stopped': 1280, 'longer': 1281, 'mustnt': 1282, 'themselves': 1283, 'weekend': 1284, 'getaway': 1285, 'town': 1286, 'surrounding': 1287, 'heard': 1288, 'neon': 1289, 'skyscrapers': 1290, 'statues': 1291, 'thunder': 1292, 'bridges': 1293, 'tremble': 1294, 'meat': 1295, 'homemade': 1296, 'jam': 1297, 'sweetest': 1298, 'police': 1299, 'sirens': 1300, 'crackle': 1301, 'fireplace': 1302, 'burn': 1303, 'couldnt': 1304, 'blush': 1305, 'hotel': 1306, 'whiskey': 1307, 'expectations': 1308, 'vacation': 1309, 'arrives': 1310, 'poetry': 1311, 'degrade': 1312, 'toxicity': 1313, 'central': 1314, 'douse': 1315, 'yell': 1316, 'confuse': 1317, 'kindness': 1318, 'seems': 1319, 'grows': 1320, 'trust': 1321, 'fathers': 1322, 'known': 1323, 'dipped': 1324, 'worth': 1325, 'question': 1326, 'problem': 1327, 'able': 1328, 'danger': 1329, 'rolls': 1330, 'accidently': 1331, 'everyone': 1332, 'tender': 1333, 'potential': 1334, 'allowing': 1335, 'limiting': 1336, 'ripe': 1337, 'experienced': 1338, 'exhilarating': 1339, 'settling': 1340, 'tasted': 1341, 'rawest': 1342, 'refined': 1343, 'synthetic': 1344, 'beyond': 1345, 'add': 1346, 'years': 1347, 'combine': 1348, 'sweeter': 1349, 'falsehood': 1350, 'balanced': 1351, 'glow': 1352, 'angry': 1353, 'extremes': 1354, 'wings': 1355, 'grieve': 1356, 'shatter': 1357}\n",
            "1358\n"
          ],
          "name": "stdout"
        },
        {
          "output_type": "execute_result",
          "data": {
            "text/plain": [
              "(1358, 300)"
            ]
          },
          "metadata": {
            "tags": []
          },
          "execution_count": 149
        }
      ]
    },
    {
      "cell_type": "code",
      "metadata": {
        "colab": {
          "base_uri": "https://localhost:8080/"
        },
        "id": "oNj5VH7IHFPe",
        "outputId": "418118fe-b113-4abc-b07f-abcc349557dc"
      },
      "source": [
        "inverse_vocab = {index: token for token, index in vocab.items()}\n",
        "print(inverse_vocab)"
      ],
      "execution_count": 150,
      "outputs": [
        {
          "output_type": "stream",
          "text": [
            "{0: 'how', 1: 'is', 2: 'it', 3: 'so', 4: 'easy', 5: 'for', 6: 'you', 7: 'to', 8: 'be', 9: 'kind', 10: 'people', 11: 'he', 12: 'asked', 13: 'milk', 14: 'and', 15: 'honey', 16: 'dripped', 17: 'from', 18: 'my', 19: 'lips', 20: 'as', 21: 'i', 22: 'answered', 23: 'cause', 24: 'have', 25: 'not', 26: 'been', 27: 'me', 28: 'the', 29: 'first', 30: 'boy', 31: 'that', 32: 'kissed', 33: 'held', 34: 'shoulders', 35: 'down', 36: 'like', 37: 'handlebars', 38: 'of', 39: 'bicycle', 40: 'ever', 41: 'rode', 42: 'was', 43: 'five', 44: 'had', 45: 'smell', 46: 'starvation', 47: 'on', 48: 'his', 49: 'which', 50: 'picked', 51: 'up', 52: 'father', 53: 'feasting', 54: 'mother', 55: 'at', 56: '4', 57: 'am', 58: 'teach', 59: 'body', 60: 'giving', 61: 'those', 62: 'wanted', 63: 'should', 64: 'feel', 65: 'anything', 66: 'less', 67: 'than', 68: 'whole', 69: 'god', 70: 'did', 71: 'empty', 72: '425', 73: 'ive', 74: 'sex', 75: 'she', 76: 'said', 77: 'but', 78: 'dont', 79: 'know', 80: 'what', 81: 'making', 82: 'love', 83: 'feels', 84: 'came', 85: 'all', 86: 'this', 87: 'way', 88: 'give', 89: 'these', 90: 'things', 91: 'arent', 92: 'even', 93: 'looking', 94: 'abused', 95: 'abuser', 96: 'both', 97: 'undoing', 98: 'skin', 99: 'wasnt', 100: 'kissing', 101: 'ó', 102: 'mistaken', 103: 'him', 104: 'mind', 105: 'your', 106: 'were', 107: 'just', 108: 'convenient', 109: 'always', 110: 'comes', 111: 'back', 112: 'boils', 113: 'circles', 114: 'itches', 115: 'its', 116: 'music', 117: 'ears', 118: 'cut', 119: 'off', 120: 'tongue', 121: 'sour', 122: 'hunger', 123: 'missing', 124: 'will', 125: 'build', 126: 'into', 127: 'life', 128: 'when', 129: 'want', 130: 'a', 131: 'with', 132: 'difference', 133: 'if', 134: 'knew', 135: 'safety', 136: 'looked', 137: 'would', 138: 'spent', 139: 'time', 140: 'falling', 141: 'arms', 142: 'rivers', 143: 'fall', 144: 'mouth', 145: 'tears', 146: 'eyes', 147: 'cant', 148: 'carry', 149: 'are', 150: 'snakeskin', 151: 'keep', 152: 'shedding', 153: 'somehow', 154: 'forgetting', 155: 'every', 156: 'exquisite', 157: 'detail', 158: 'face', 159: 'letting', 160: 'go', 161: 'has', 162: 'become', 163: 'most', 164: 'pleasant', 165: 'saddest', 166: 'thing', 167: 'happened', 168: 'wrong', 169: 'leaving', 170: 'coming', 171: 'thinking', 172: 'could', 173: 'leave', 174: 'can', 175: 'write', 176: 'took', 177: 'hands', 178: 'neither', 179: 'us', 180: 'happy', 181: 'wants', 182: 'we', 183: 'breaking', 184: 'one', 185: 'another', 186: 'calling', 187: 'began', 188: 'honesty', 189: 'let', 190: 'end', 191: 'in', 192: 'too', 193: 'voice', 194: 'alone', 195: 'drives', 196: 'why', 197: 'split', 198: 'myself', 199: 'open', 200: 'others', 201: 'knowing', 202: 'sewing', 203: 'hurts', 204: 'much', 205: 'afterward', 206: 'they', 207: 'left', 208: 'stays', 209: 'takes', 210: 'consent', 211: 'two', 212: 'person', 213: 'lying', 214: 'there', 215: 'doing', 216: 'ready', 217: 'or', 218: 'mood', 219: 'simply', 220: 'yet', 221: 'other', 222: 'having', 223: 'their', 224: 'rape', 225: 'cruel', 226: 'game', 227: 'made', 228: 'out', 229: 'our', 230: 'die', 231: 'written', 232: 'pages', 233: 'after', 234: 'hurt', 235: 'loss', 236: 'pain', 237: 'still', 238: 'only', 239: 'undressed', 240: 'under', 241: 'night', 242: 'woke', 243: 'broken', 244: 'place', 245: 'put', 246: 'pieces', 247: 'bags', 248: 'stay', 249: 'whispered', 250: 'shut', 251: 'door', 252: 'behind', 253: 'confident', 254: 'over', 255: 'some', 256: 'mornings', 257: 'wake', 258: 'smile', 259: 'pressed', 260: 'together', 261: 'thanking', 262: 'universe', 263: 'pulling', 264: 'thank', 265: 'cry', 266: 'empire', 267: 'today', 268: 'stayed', 269: 'then', 270: 'nights', 271: 'imagine', 272: 'might', 273: 'do', 274: 'showed', 275: 'walked', 276: 'room', 277: 'very', 278: 'second', 279: 'awful', 280: 'youve', 281: 'done', 282: 'tossed', 283: 'closest', 284: 'window', 285: 'rise', 286: 'again', 287: 'pour', 288: 'through', 289: 'never', 290: 'really', 291: 'practicing', 292: 'silent', 293: 'long', 294: 'loud', 295: 'arrival', 296: 'someone', 297: 'explain', 298: 'leaves', 299: 'doesnt', 300: 'past', 301: 'helplessly', 302: 'brought', 303: 'isnt', 304: 'head', 305: 'sobbed', 306: 'heart', 307: 'wilting', 308: 'friends', 309: 'more', 310: 'idea', 311: 'capable', 312: 'choose', 313: 'toxic', 314: 'losing', 315: 'parts', 316: 'lose', 317: 'eyelashes', 318: 'unknowingly', 319: 'everywhere', 320: 'cannot', 321: 'exist', 322: 'places', 323: 'once', 324: 'ask', 325: 'water', 326: 'soft', 327: 'enough', 328: 'offer', 329: 'tough', 330: 'drown', 331: 'away', 332: 'miss', 333: 'loved', 334: 'didnt', 335: 'reflection', 336: 'everything', 337: 'gave', 338: 'see', 339: 'sit', 340: 'here', 341: 'soaking', 342: 'no', 343: 'else', 344: 'taught', 345: 'fill', 346: 'needed', 347: 'filled', 348: 'credit', 349: 'warmth', 350: 'because', 351: 'felt', 352: 'who', 353: 'strength', 354: 'wit', 355: 'beauty', 356: 'recognized', 357: 'already', 358: 'before', 359: 'met', 360: 'remain', 361: 'gone', 362: 'abandon', 363: 'linger', 364: 'think', 365: 'okay', 366: 'return', 367: 'tell', 368: 'about', 369: 'selfish', 370: 'walk', 371: 'taste', 372: 'type', 373: 'being', 374: 'shine', 375: 'gotten', 376: 'good', 377: 'look', 378: 'taken', 379: 'hair', 380: 'secrets', 381: 'them', 382: 'realize', 383: 'real', 384: 'storm', 385: 'hits', 386: 'cowardice', 387: 'sets', 388: 'thought', 389: 'replaced', 390: 'by', 391: 'sad', 392: 'reality', 393: 'fighting', 394: 'bone', 395: 'saying', 396: 'find', 397: 'better', 398: 'stand', 399: 'naked', 400: 'half', 401: 'hidden', 402: 'somewhere', 403: 'inside', 404: 'sob', 405: 'asking', 406: 'forced', 407: 'intention', 408: 'loving', 409: 'theyll', 410: 'say', 411: 'something', 412: 'along', 413: 'lines', 414: 'try', 415: 'chance', 416: 'romantic', 417: 'sweet', 418: 'engulfed', 419: 'existence', 420: 'risk', 421: 'sake', 422: 'werent', 423: 'meant', 424: 'little', 425: 'next', 426: 'curiosity', 427: 'gamble', 428: 'entire', 429: 'beings', 430: 'souls', 431: 'please', 432: 'own', 433: 'holding', 434: 'world', 435: 'lap', 436: 'belittled', 437: 'mere', 438: 'picture', 439: 'moment', 440: 'swallow', 441: 'whisper', 442: 'spend', 443: 'rest', 444: 'sense', 445: 'fear', 446: 'halfway', 447: 'without', 448: 'nerve', 449: 'grace', 450: 'human', 451: 'means', 452: 'taking', 453: 'funny', 454: 'guts', 455: 'days', 456: 'undress', 457: 'fingers', 458: 'pick', 459: 'phone', 460: 'call', 461: 'apologize', 462: 'her', 463: 'list', 464: 'breakup', 465: '1', 466: 'take', 467: 'refuge', 468: 'bed', 469: '2', 470: 'till', 471: 'stop', 472: 'few', 473: '3', 474: 'listen', 475: 'slow', 476: 'songs', 477: 'delete', 478: 'number', 479: 'though', 480: 'memorized', 481: 'fingertips', 482: '5', 483: 'old', 484: 'photos', 485: '6', 486: 'ice', 487: 'cream', 488: 'shop', 489: 'treat', 490: 'yourself', 491: 'scoops', 492: 'mint', 493: 'chocolate', 494: 'chip', 495: 'calm', 496: 'deserve', 497: '7', 498: 'buy', 499: 'new', 500: 'sheets', 501: '8', 502: 'collect', 503: 'gifts', 504: 'tshirts', 505: 'drop', 506: 'donation', 507: 'center', 508: '9', 509: 'plan', 510: 'trip', 511: '10', 512: 'perfect', 513: 'art', 514: 'smiling', 515: 'nodding', 516: 'brings', 517: 'name', 518: 'conversation', 519: '11', 520: 'start', 521: 'project', 522: '12', 523: 'whatever', 524: '13', 525: 'beg', 526: 'does', 527: '14', 528: 'crying', 529: 'point', 530: '15', 531: 'allow', 532: 'foolish', 533: 'believing', 534: 'couldve', 535: 'built', 536: 'elses', 537: 'stomach', 538: '16', 539: 'breathe', 540: 'tells', 541: 'bigger', 542: 'illusion', 543: 'woman', 544: 'bring', 545: 'dishonor', 546: 'home', 547: 'tries', 548: 'safe', 549: 'perhaps', 550: 'nice', 551: 'paying', 552: 'sins', 553: 'remember', 554: 'writing', 555: 'healing', 556: 'destroying', 557: 'bother', 558: 'make', 559: 'must', 560: 'enter', 561: 'relationship', 562: 'anyone', 563: 'accept', 564: 'painful', 565: 'moving', 566: 'healthiest', 567: 'move', 568: 'part', 569: 'experience', 570: 'afraid', 571: 'evolving', 572: 'loneliness', 573: 'sign', 574: 'desperate', 575: 'need', 576: 'habit', 577: 'lack', 578: 'tricked', 579: 'complete', 580: 'complement', 581: 'feet', 582: 'broke', 583: 'pinned', 584: 'legs', 585: 'ground', 586: 'demanded', 587: 'born', 588: 'weakness', 589: 'live', 590: 'waiting', 591: 'theyre', 592: 'sure', 593: 'exists', 594: 'billion', 595: 'strong', 596: 'grow', 597: 'flowers', 598: 'helped', 599: 'mine', 600: 'bloom', 601: 'beautifully', 602: 'dangerously', 603: 'loudly', 604: 'softly', 605: 'however', 606: 'reader', 607: 'balance', 608: 'situations', 609: 'solitude', 610: 'between', 611: 'telling', 612: 'actually', 613: 'sometimes', 614: 'apology', 615: 'nor', 616: 'late', 617: 'girls', 618: 'learn', 619: 'kiss', 620: 'closed', 621: 'unlike', 622: 'women', 623: 'sisters', 624: 'order', 625: 'makes', 626: 'spit', 627: 'supposed', 628: 'proud', 629: 'relieved', 630: 'points', 631: 'growing', 632: 'remind', 633: 'guest', 634: 'warn', 635: 'welcome', 636: 'tear', 637: 'powerful', 638: 'completely', 639: 'found', 640: 'surroundings', 641: 'lost', 642: 'within', 643: 'hard', 644: 'believe', 645: 'tomorrow', 646: 'come', 647: 'difficult', 648: 'day', 649: 'get', 650: 'swear', 651: 'pass', 652: 'slowly', 653: 'promise', 654: 'stretch', 655: 'marks', 656: 'thighs', 657: 'rough', 658: 'jungle', 659: 'wild', 660: 'feeling', 661: 'unafraid', 662: 'tend', 663: 'wounds', 664: 'utterly', 665: 'issue', 666: 'consider', 667: 'beautiful', 668: 'concept', 669: 'centers', 670: 'around', 671: 'excluding', 672: 'wears', 673: 'garden', 674: 'definition', 675: 'big', 676: 'hooked', 677: 'noses', 678: 'pointing', 679: 'upward', 680: 'sky', 681: 'rising', 682: 'occasion', 683: 'color', 684: 'earth', 685: 'ancestors', 686: 'planted', 687: 'crops', 688: 'feed', 689: 'lineage', 690: 'thick', 691: 'tree', 692: 'trunks', 693: 'almonds', 694: 'deeply', 695: 'hooded', 696: 'conviction', 697: 'punjab', 698: 'flow', 699: 'bloodstream', 700: 'ones', 701: 'country', 702: 'backs', 703: 'stories', 704: 'books', 705: 'spine', 706: 'designed', 707: 'museum', 708: 'natural', 709: 'disasters', 710: 'grasp', 711: 'stunning', 712: 'sadness', 713: 'living', 714: 'shouldnt', 715: 'becoming', 716: 'womens', 717: 'bodies', 718: 'battlegrounds', 719: 'removing', 720: 'thats', 721: 'keeping', 722: 'belong', 723: 'apparently', 724: 'ungraceful', 725: 'mention', 726: 'period', 727: 'public', 728: 'actual', 729: 'biology', 730: 'sell', 731: 'whats', 732: 'womans', 733: 'inner', 734: 'workings', 735: 'recreational', 736: 'use', 737: 'seen', 738: 'while', 739: 'nature', 740: 'ugly', 741: 'dragon', 742: 'fly', 743: 'hes', 744: 'called', 745: 'pretty', 746: 'intelligent', 747: 'brave', 748: 'sorry', 749: 'sound', 750: 'simple', 751: 'youre', 752: 'spirit', 753: 'crushed', 754: 'mountains', 755: 'now', 756: 'resilient', 757: 'extraordinary', 758: 'outlook', 759: 'hold', 760: 'heal', 761: 'happiness', 762: 'patient', 763: 'daughter', 764: 'kaur', 765: 'free', 766: 'removes', 767: 'shackles', 768: 'bind', 769: 'uplifts', 770: 'equal', 771: 'any', 772: 'man', 773: 'state', 774: 'screams', 775: 'wholly', 776: 'humbles', 777: 'calls', 778: 'says', 779: 'universal', 780: 'duty', 781: 'share', 782: 'humanity', 783: 'nurture', 784: 'serve', 785: 'sisterhood', 786: 'raise', 787: 'raising', 788: 'runs', 789: 'blood', 790: 'word', 791: 'itself', 792: 'existed', 793: 'identity', 794: 'liberation', 795: 'gives', 796: 'gold', 797: 'nothing', 798: 'purer', 799: 'aches', 800: 'helping', 801: 'ache', 802: 'spring', 803: 'goddess', 804: 'mouths', 805: 'soul', 806: 'mate', 807: 'bitter', 808: 'kindest', 809: 'forward', 810: 'recognize', 811: 'striking', 812: 'mean', 813: 'rooted', 814: 'deep', 815: 'help', 816: 'war', 817: 'naturally', 818: 'trying', 819: 'convince', 820: 'allowed', 821: 'space', 822: 'hand', 823: 'right', 824: 'shrinking', 825: 'hereditary', 826: 'importantly', 827: 'page', 828: 'where', 829: 'sitting', 830: 'degree', 831: 'job', 832: 'money', 833: 'matters', 834: 'except', 835: 'connection', 836: 'touched', 837: 'sink', 838: 'grounded', 839: 'searching', 840: 'course', 841: 'successful', 842: 'crave', 843: 'success', 844: 'gain', 845: 'succeed', 846: 'heartbeat', 847: 'quickens', 848: 'birthing', 849: 'poems', 850: 'opening', 851: 'conceive', 852: 'lovemaking', 853: 'words', 854: 'erotic', 855: 'either', 856: 'lust', 857: 'terrifies', 858: 'foam', 859: 'envy', 860: 'sigh', 861: 'relief', 862: 'failing', 863: 'struggle', 864: 'celebrate', 865: 'each', 866: 'proven', 867: 'many', 868: 'work', 869: 'likes', 870: 'honest', 871: 'trade', 872: 'relatability', 873: 'young', 874: 'poets', 875: 'quiet', 876: 'opinions', 877: 'fire', 878: 'belly', 879: 'lightness', 880: 'heavy', 881: 'blade', 882: 'silk', 883: 'forget', 884: 'follow', 885: 'seva', 886: 'selfless', 887: 'service', 888: 'scraping', 889: 'cantaloupe', 890: 'clean', 891: 'offering', 892: 'absent', 893: 'border', 894: 'countries', 895: 'collateral', 896: 'damage', 897: 'paradox', 898: 'joins', 899: 'also', 900: 'splits', 901: 'apart', 902: 'emptying', 903: 'mothers', 904: 'act', 905: 'disappearance', 906: 'learning', 907: 'shrink', 908: 'family', 909: 'daughters', 910: 'invisible', 911: 'repeat', 912: 'wish', 913: 'often', 914: 'reason', 915: 'alive', 916: 'heaving', 917: 'chest', 918: 'guess', 919: 'tenderness', 920: 'well', 921: 'same', 922: 'exhausted', 923: 'rage', 924: 'wear', 925: 'anger', 926: 'homage', 927: 'shires', 928: 'inheritance', 929: 'opens', 930: 'dinner', 931: 'shoves', 932: 'hush', 933: 'speak', 934: 'full', 935: 'learned', 936: 'knees', 937: 'pried', 938: 'cousins', 939: 'uncles', 940: 'men', 941: 'particular', 942: 'im', 943: 'silence', 944: 'stretches', 945: 'lifetime', 946: 'scramble', 947: 'questions', 948: 'going', 949: 'understand', 950: 'blame', 951: 'hurting', 952: 'youll', 953: 'care', 954: 'aching', 955: 'attention', 956: 'collapse', 957: 'small', 958: 'talk', 959: 'plough', 960: 'mostly', 961: 'shocked', 962: 'rubber', 963: 'against', 964: 'an', 965: 'wound', 966: 'begin', 967: 'pushing', 968: 'faster', 969: 'search', 970: 'reaction', 971: 'acting', 972: 'videos', 973: 'watch', 974: 'imitate', 975: 'moans', 976: 'hollow', 977: 'hungry', 978: 'yes', 979: 'quickly', 980: 'sounds', 981: 'rehearsed', 982: 'notice', 983: 'veins', 984: 'terrified', 985: 'looks', 986: 'flinch', 987: 'touch', 988: 'pregnant', 989: 'child', 990: 'four', 991: 'pointed', 992: 'swollen', 993: 'confused', 994: 'such', 995: 'scooped', 996: 'trunk', 997: 'grown', 998: 'age', 999: 'changed', 1000: 'rested', 1001: 'energy', 1002: 'wanting', 1003: 'wait', 1004: 'wont', 1005: 'sight', 1006: 'meet', 1007: 'itll', 1008: 'remembrance', 1009: 'marry', 1010: 'id', 1011: 'son', 1012: 'revolution', 1013: 'starts', 1014: 'ends', 1015: 'asks', 1016: 'hope', 1017: 'form', 1018: 'favorite', 1019: 'herbs', 1020: 'gardens', 1021: 'therapist', 1022: 'doll', 1023: 'front', 1024: 'size', 1025: 'touching', 1026: 'spot', 1027: 'fingered', 1028: 'confession', 1029: 'pull', 1030: 'lump', 1031: 'throat', 1032: 'teeth', 1033: 'fine', 1034: 'numb', 1035: 'midweek', 1036: 'sessions', 1037: 'crumble', 1038: 'reasons', 1039: 'sun', 1040: 'faint', 1041: 'line', 1042: 'faith', 1043: 'blindly', 1044: 'letter', 1045: 'future', 1046: 'lover', 1047: 'safer', 1048: 'reading', 1049: 'date', 1050: 'placed', 1051: 'reaching', 1052: 'waist', 1053: 'hips', 1054: 'touches', 1055: 'surprised', 1056: 'goddamn', 1057: 'spread', 1058: 'easel', 1059: 'canvas', 1060: 'begging', 1061: 'light', 1062: 'city', 1063: 'combined', 1064: 'set', 1065: 'melt', 1066: 'play', 1067: 'games', 1068: 'knows', 1069: 'speechless', 1070: 'truth', 1071: 'weak', 1072: 'forgets', 1073: 'language', 1074: 'company', 1075: 'packaging', 1076: 'stops', 1077: 'midsentence', 1078: 'pay', 1079: 'bills', 1080: 'crazy', 1081: 'keeps', 1082: 'show', 1083: 'tips', 1084: 'forearm', 1085: 'graze', 1086: 'wrist', 1087: 'goose', 1088: 'bumps', 1089: 'surface', 1090: 'clench', 1091: 'muscles', 1092: 'tighten', 1093: 'pore', 1094: 'blink', 1095: 'break', 1096: 'gaze', 1097: 'inches', 1098: 'toward', 1099: 'step', 1100: 'command', 1101: 'cheeks', 1102: 'flush', 1103: 'shyly', 1104: 'confessing', 1105: 'loves', 1106: 'irrelevant', 1107: 'turn', 1108: 'forest', 1109: 'running', 1110: 'strongest', 1111: 'positive', 1112: 'negative', 1113: 'connotation', 1114: 'lights', 1115: 'whispers', 1116: 'ear', 1117: 'ways', 1118: 'undresses', 1119: 'male', 1120: 'french', 1121: 'wrap', 1122: 'foreplay', 1123: 'run', 1124: 'willing', 1125: 'exactly', 1126: 'hears', 1127: 'understanding', 1128: 'demand', 1129: 'dance', 1130: 'solo', 1131: 'performance', 1132: 'weve', 1133: 'arguing', 1134: 'ought', 1135: 'avoid', 1136: 'instead', 1137: 'used', 1138: 'fight', 1139: 'pop', 1140: 'frozen', 1141: 'pizza', 1142: 'oven', 1143: 'vulnerable', 1144: 'thorns', 1145: 'table', 1146: 'tonight', 1147: 'sleep', 1148: 'last', 1149: 'week', 1150: 'working', 1151: 'youd', 1152: 'couple', 1153: 'hours', 1154: 'ago', 1155: 'excuses', 1156: 'carried', 1157: 'eventually', 1158: 'expect', 1159: 'baby', 1160: 'frustration', 1161: 'tired', 1162: 'sick', 1163: 'toxin', 1164: 'burnt', 1165: 'holes', 1166: 'faces', 1167: 'kid', 1168: 'matter', 1169: 'bad', 1170: 'gets', 1171: 'wanna', 1172: 'nail', 1173: 'especially', 1174: 'screaming', 1175: 'wakes', 1176: 'neighbors', 1177: 'save', 1178: 'lie', 1179: 'lay', 1180: 'map', 1181: 'finger', 1182: 'trace', 1183: 'gravity', 1184: 'focal', 1185: 'yours', 1186: 'street', 1187: 'windows', 1188: 'wondering', 1189: 'commotion', 1190: 'trucks', 1191: 'rolling', 1192: 'distinguish', 1193: 'whether', 1194: 'flames', 1195: 'passion', 1196: 'throw', 1197: 'arch', 1198: 'mountain', 1199: 'lick', 1200: 'gift', 1201: 'book', 1202: 'read', 1203: 'carefully', 1204: 'fluently', 1205: 'vividly', 1206: 'dare', 1207: 'single', 1208: 'untouched', 1209: 'ending', 1210: 'seat', 1211: 'flick', 1212: 'tongues', 1213: 'decided', 1214: 'snap', 1215: 'defense', 1216: 'shout', 1217: 'defeated', 1218: 'parent', 1219: 'fix', 1220: 'wretched', 1221: 'distant', 1222: 'forgot', 1223: 'fate', 1224: 'wonder', 1225: 'naive', 1226: 'works', 1227: 'lives', 1228: 'staring', 1229: 'spends', 1230: 'placing', 1231: 'chess', 1232: 'choices', 1233: 'convinced', 1234: 'given', 1235: 'actions', 1236: 'define', 1237: 'scream', 1238: 'fool', 1239: 'quietly', 1240: 'quivering', 1241: 'tragic', 1242: 'clearly', 1243: 'mistake', 1244: 'salt', 1245: 'sugar', 1246: 'slips', 1247: 'waistband', 1248: 'pants', 1249: 'may', 1250: 'certainly', 1251: 'temptingly', 1252: 'stung', 1253: 'got', 1254: 'close', 1255: 'bootleg', 1256: 'version', 1257: 'erase', 1258: 'punch', 1259: 'caress', 1260: 'suck', 1261: 'replacement', 1262: 'slip', 1263: 'excite', 1264: 'eyelids', 1265: 'pity', 1266: 'hit', 1267: 'busy', 1268: 'coffee', 1269: 'black', 1270: 'weep', 1271: 'drinking', 1272: 'rather', 1273: 'darkest', 1274: 'rose', 1275: 'manhood', 1276: 'curled', 1277: 'marinates', 1278: 'remembers', 1279: 'regret', 1280: 'stopped', 1281: 'longer', 1282: 'mustnt', 1283: 'themselves', 1284: 'weekend', 1285: 'getaway', 1286: 'town', 1287: 'surrounding', 1288: 'heard', 1289: 'neon', 1290: 'skyscrapers', 1291: 'statues', 1292: 'thunder', 1293: 'bridges', 1294: 'tremble', 1295: 'meat', 1296: 'homemade', 1297: 'jam', 1298: 'sweetest', 1299: 'police', 1300: 'sirens', 1301: 'crackle', 1302: 'fireplace', 1303: 'burn', 1304: 'couldnt', 1305: 'blush', 1306: 'hotel', 1307: 'whiskey', 1308: 'expectations', 1309: 'vacation', 1310: 'arrives', 1311: 'poetry', 1312: 'degrade', 1313: 'toxicity', 1314: 'central', 1315: 'douse', 1316: 'yell', 1317: 'confuse', 1318: 'kindness', 1319: 'seems', 1320: 'grows', 1321: 'trust', 1322: 'fathers', 1323: 'known', 1324: 'dipped', 1325: 'worth', 1326: 'question', 1327: 'problem', 1328: 'able', 1329: 'danger', 1330: 'rolls', 1331: 'accidently', 1332: 'everyone', 1333: 'tender', 1334: 'potential', 1335: 'allowing', 1336: 'limiting', 1337: 'ripe', 1338: 'experienced', 1339: 'exhilarating', 1340: 'settling', 1341: 'tasted', 1342: 'rawest', 1343: 'refined', 1344: 'synthetic', 1345: 'beyond', 1346: 'add', 1347: 'years', 1348: 'combine', 1349: 'sweeter', 1350: 'falsehood', 1351: 'balanced', 1352: 'glow', 1353: 'angry', 1354: 'extremes', 1355: 'wings', 1356: 'grieve', 1357: 'shatter'}\n"
          ],
          "name": "stdout"
        }
      ]
    },
    {
      "cell_type": "code",
      "metadata": {
        "colab": {
          "base_uri": "https://localhost:8080/"
        },
        "id": "KzDC8bPlHLfP",
        "outputId": "06b00ce8-f9b4-42a1-9b3a-4d11d5506e95"
      },
      "source": [
        "vectorized_poems = np.array([vocab[word] for word in vocab.keys()])\n",
        "print(vectorized_poems)"
      ],
      "execution_count": 151,
      "outputs": [
        {
          "output_type": "stream",
          "text": [
            "[   0    1    2 ... 1355 1356 1357]\n"
          ],
          "name": "stdout"
        }
      ]
    },
    {
      "cell_type": "code",
      "metadata": {
        "colab": {
          "base_uri": "https://localhost:8080/"
        },
        "id": "8dcrkLknPLOS",
        "outputId": "6dac79fb-5065-4bd6-9bd0-2d324dae1c51"
      },
      "source": [
        "print ('{} ---- characters mapped to int ----> {}'.format(repr(poems[:10]), vectorized_poems[:10]))\n",
        "# check that vectorized_poems is a numpy array\n",
        "assert isinstance(vectorized_poems, np.ndarray), \"returned result should be a numpy array\""
      ],
      "execution_count": 152,
      "outputs": [
        {
          "output_type": "stream",
          "text": [
            "'how is it ' ---- characters mapped to int ----> [0 1 2 3 4 5 6 7 8 9]\n"
          ],
          "name": "stdout"
        }
      ]
    },
    {
      "cell_type": "markdown",
      "metadata": {
        "id": "EBb-AxOFRXpb"
      },
      "source": [
        "## Define Batch \n"
      ]
    },
    {
      "cell_type": "code",
      "metadata": {
        "colab": {
          "base_uri": "https://localhost:8080/"
        },
        "id": "TK9wy75rRgzr",
        "outputId": "e538d59b-363b-4512-a1ae-8f00a166da28"
      },
      "source": [
        "### Batch definition to create training examples ###\n",
        "\n",
        "def get_batch(vectorized_songs, seq_length, batch_size):\n",
        "  # the length of the vectorized songs string\n",
        "  n = vectorized_songs.shape[0] - 1\n",
        "  # randomly choose the starting indices for the examples in the training batch\n",
        "  idx = np.random.choice(n-seq_length, batch_size)\n",
        "\n",
        "  '''TODO: construct a list of input sequences for the training batch'''\n",
        "  input_batch = [vectorized_songs[i : i+seq_length] for i in idx]\n",
        "  # input_batch = # TODO\n",
        "  '''TODO: construct a list of output sequences for the training batch'''\n",
        "  output_batch = [vectorized_songs[i+1 : i+seq_length+1] for i in idx]\n",
        "  # output_batch = # TODO\n",
        "\n",
        "  # x_batch, y_batch provide the true inputs and targets for network training\n",
        "  x_batch = np.reshape(input_batch, [batch_size, seq_length])\n",
        "  y_batch = np.reshape(output_batch, [batch_size, seq_length])\n",
        "  return x_batch, y_batch\n",
        "\n",
        "\n",
        "# Perform some simple tests to make sure your batch function is working properly! \n",
        "test_args = (vectorized_poems, 10, 2)\n",
        "if not mdl.lab1.test_batch_func_types(get_batch, test_args) or \\\n",
        "   not mdl.lab1.test_batch_func_shapes(get_batch, test_args) or \\\n",
        "   not mdl.lab1.test_batch_func_next_step(get_batch, test_args): \n",
        "   print(\"======\\n[FAIL] could not pass tests\")\n",
        "else: \n",
        "   print(\"======\\n[PASS] passed all tests!\")"
      ],
      "execution_count": 153,
      "outputs": [
        {
          "output_type": "stream",
          "text": [
            "[PASS] test_batch_func_types\n",
            "[PASS] test_batch_func_shapes\n",
            "[PASS] test_batch_func_next_step\n",
            "======\n",
            "[PASS] passed all tests!\n"
          ],
          "name": "stdout"
        }
      ]
    },
    {
      "cell_type": "code",
      "metadata": {
        "id": "kwNvWLRkR0gd"
      },
      "source": [
        "x_batch, y_batch = get_batch(vectorized_poems, seq_length=5, batch_size=1)"
      ],
      "execution_count": 154,
      "outputs": []
    },
    {
      "cell_type": "code",
      "metadata": {
        "colab": {
          "base_uri": "https://localhost:8080/"
        },
        "id": "S3NKP8x-TbnF",
        "outputId": "ebd3d717-6d3b-45e6-9e9d-2746227cd1e6"
      },
      "source": [
        "print(x_batch)\n",
        "print(y_batch)"
      ],
      "execution_count": 155,
      "outputs": [
        {
          "output_type": "stream",
          "text": [
            "[[950 951 952 953 954]]\n",
            "[[951 952 953 954 955]]\n"
          ],
          "name": "stdout"
        }
      ]
    },
    {
      "cell_type": "markdown",
      "metadata": {
        "id": "dCbW_Jf7RfDc"
      },
      "source": [
        "## Define RNN \n"
      ]
    },
    {
      "cell_type": "code",
      "metadata": {
        "id": "ra3VNBQ7Rk7P"
      },
      "source": [
        "def LSTM(rnn_units): \n",
        "  return tf.keras.layers.LSTM(\n",
        "    rnn_units, \n",
        "    return_sequences=True, \n",
        "    recurrent_initializer='glorot_uniform',\n",
        "    recurrent_activation='sigmoid',\n",
        "    stateful=True,\n",
        "  )"
      ],
      "execution_count": 156,
      "outputs": []
    },
    {
      "cell_type": "code",
      "metadata": {
        "id": "MtCrdfzEI2N0"
      },
      "source": [
        "### Defining the RNN Model ###\n",
        "\n",
        "'''TODO: Add LSTM and Dense layers to define the RNN model using the Sequential API.'''\n",
        "def build_model(vocab_size, embedding_dim, rnn_units, batch_size):\n",
        "  model = tf.keras.Sequential([\n",
        "    # Layer 1: Embedding layer to transform indices into dense vectors \n",
        "    #   of a fixed embedding size\n",
        "    tf.keras.layers.Embedding(vocab_size, embedding_dim, embeddings_initializer=tf.keras.initializers.Constant(embedding_matrix), batch_input_shape=[batch_size, None], trainable=False),\n",
        "\n",
        "    # Layer 2: LSTM with `rnn_units` number of units. \n",
        "    # TODO: Call the LSTM function defined above to add this layer.\n",
        "    LSTM(rnn_units), \n",
        "    # LSTM('''TODO'''),\n",
        "\n",
        "    # Layer 3: Dense (fully-connected) layer that transforms the LSTM output\n",
        "    #   into the vocabulary size. \n",
        "    # TODO: Add the Dense layer.\n",
        "    tf.keras.layers.Dense(vocab_size)\n",
        "    # '''TODO: DENSE LAYER HERE'''\n",
        "  ])\n",
        "\n",
        "  return model\n",
        "\n",
        "# Build a simple model with default hyperparameters. You will get the \n",
        "#   chance to change these later.\n",
        "model = build_model(len(vocab), embedding_dim=300, rnn_units=1024, batch_size=32)"
      ],
      "execution_count": 159,
      "outputs": []
    },
    {
      "cell_type": "code",
      "metadata": {
        "colab": {
          "base_uri": "https://localhost:8080/"
        },
        "id": "-wrURNgpSjSP",
        "outputId": "9b098063-c6d4-4090-8aa1-1db7a8f8a5fd"
      },
      "source": [
        "len(vocab)"
      ],
      "execution_count": 160,
      "outputs": [
        {
          "output_type": "execute_result",
          "data": {
            "text/plain": [
              "1358"
            ]
          },
          "metadata": {
            "tags": []
          },
          "execution_count": 160
        }
      ]
    },
    {
      "cell_type": "markdown",
      "metadata": {
        "id": "GFcErzGFS5LM"
      },
      "source": [
        "## Test Untrained RNN \n"
      ]
    },
    {
      "cell_type": "code",
      "metadata": {
        "colab": {
          "base_uri": "https://localhost:8080/"
        },
        "id": "4IEIwfcxTBXf",
        "outputId": "f4a5438b-1305-45e5-b536-db1e382a6a95"
      },
      "source": [
        "model.summary()"
      ],
      "execution_count": 161,
      "outputs": [
        {
          "output_type": "stream",
          "text": [
            "Model: \"sequential_7\"\n",
            "_________________________________________________________________\n",
            "Layer (type)                 Output Shape              Param #   \n",
            "=================================================================\n",
            "embedding_7 (Embedding)      (32, None, 300)           407400    \n",
            "_________________________________________________________________\n",
            "lstm_7 (LSTM)                (32, None, 1024)          5427200   \n",
            "_________________________________________________________________\n",
            "dense_7 (Dense)              (32, None, 1358)          1391950   \n",
            "=================================================================\n",
            "Total params: 7,226,550\n",
            "Trainable params: 6,819,150\n",
            "Non-trainable params: 407,400\n",
            "_________________________________________________________________\n"
          ],
          "name": "stdout"
        }
      ]
    },
    {
      "cell_type": "code",
      "metadata": {
        "colab": {
          "base_uri": "https://localhost:8080/"
        },
        "id": "lGWmoh51TB7A",
        "outputId": "b37bb1c9-fca8-4105-e07c-b5da07c4b0d6"
      },
      "source": [
        "x, y = get_batch(vectorized_poems, seq_length=10, batch_size=32)\n",
        "pred = model(x)\n",
        "print(\"Input shape:      \", x.shape, \" # (batch_size, sequence_length)\")\n",
        "print(\"Prediction shape: \", pred.shape, \"# (batch_size, sequence_length, vocab_size)\")"
      ],
      "execution_count": 162,
      "outputs": [
        {
          "output_type": "stream",
          "text": [
            "Input shape:       (32, 10)  # (batch_size, sequence_length)\n",
            "Prediction shape:  (32, 10, 1358) # (batch_size, sequence_length, vocab_size)\n"
          ],
          "name": "stdout"
        }
      ]
    },
    {
      "cell_type": "code",
      "metadata": {
        "colab": {
          "base_uri": "https://localhost:8080/"
        },
        "id": "1fjbCX32Z3f9",
        "outputId": "22611d26-342e-4ea4-c340-b1c4e92548b2"
      },
      "source": [
        "x[0]"
      ],
      "execution_count": 163,
      "outputs": [
        {
          "output_type": "execute_result",
          "data": {
            "text/plain": [
              "array([506, 507, 508, 509, 510, 511, 512, 513, 514, 515])"
            ]
          },
          "metadata": {
            "tags": []
          },
          "execution_count": 163
        }
      ]
    },
    {
      "cell_type": "code",
      "metadata": {
        "colab": {
          "base_uri": "https://localhost:8080/"
        },
        "id": "tvxsk6IhUsex",
        "outputId": "375d4175-b499-49ae-dad5-c9d7ea79852c"
      },
      "source": [
        "sampled_indices = tf.random.categorical(pred[0], num_samples=1)\n",
        "sampled_indices = tf.squeeze(sampled_indices,axis=-1).numpy()\n",
        "sampled_indices"
      ],
      "execution_count": 164,
      "outputs": [
        {
          "output_type": "execute_result",
          "data": {
            "text/plain": [
              "array([ 135,  695,  977, 1223,  803,  570,  785, 1317,  956, 1202])"
            ]
          },
          "metadata": {
            "tags": []
          },
          "execution_count": 164
        }
      ]
    },
    {
      "cell_type": "code",
      "metadata": {
        "colab": {
          "base_uri": "https://localhost:8080/"
        },
        "id": "CCVnc5GZY-Mi",
        "outputId": "fac6bf70-7556-4ee4-b820-4f0e9acb645a"
      },
      "source": [
        "print(\"Input: \\n\")\n",
        "for i in x[0]:\n",
        "  print(inverse_vocab[i])"
      ],
      "execution_count": 165,
      "outputs": [
        {
          "output_type": "stream",
          "text": [
            "Input: \n",
            "\n",
            "donation\n",
            "center\n",
            "9\n",
            "plan\n",
            "trip\n",
            "10\n",
            "perfect\n",
            "art\n",
            "smiling\n",
            "nodding\n"
          ],
          "name": "stdout"
        }
      ]
    },
    {
      "cell_type": "code",
      "metadata": {
        "colab": {
          "base_uri": "https://localhost:8080/"
        },
        "id": "hKZPYQTLZecI",
        "outputId": "fb0d0d8e-ce02-4979-f6ee-ef6224dfb182"
      },
      "source": [
        "print(\"Output: \\n\")\n",
        "for i in sampled_indices:\n",
        "  print(inverse_vocab[i])"
      ],
      "execution_count": 166,
      "outputs": [
        {
          "output_type": "stream",
          "text": [
            "Output: \n",
            "\n",
            "safety\n",
            "hooded\n",
            "hungry\n",
            "fate\n",
            "goddess\n",
            "afraid\n",
            "sisterhood\n",
            "confuse\n",
            "collapse\n",
            "read\n"
          ],
          "name": "stdout"
        }
      ]
    },
    {
      "cell_type": "markdown",
      "metadata": {
        "id": "T8WFox1OsxZJ"
      },
      "source": [
        "## Train \n"
      ]
    },
    {
      "cell_type": "code",
      "metadata": {
        "colab": {
          "base_uri": "https://localhost:8080/"
        },
        "id": "q-OZW5yDtAwP",
        "outputId": "d9d1d3a8-0d9e-48f7-f7c5-fc3771c4f83a"
      },
      "source": [
        "### Defining the loss function ###\n",
        "\n",
        "'''TODO: define the loss function to compute and return the loss between\n",
        "    the true labels and predictions (logits). Set the argument from_logits=True.'''\n",
        "def compute_loss(labels, logits):\n",
        "  loss = tf.keras.losses.sparse_categorical_crossentropy(labels, logits, from_logits=True)\n",
        "  # loss = tf.keras.losses.sparse_categorical_crossentropy('''TODO''', '''TODO''', from_logits=True) # TODO\n",
        "  return loss\n",
        "\n",
        "'''TODO: compute the loss using the true next characters from the example batch \n",
        "    and the predictions from the untrained model several cells above'''\n",
        "example_batch_loss = compute_loss(y, pred)\n",
        "# example_batch_loss = compute_loss('''TODO''', '''TODO''') # TODO\n",
        "\n",
        "print(\"Prediction shape: \", pred.shape, \" # (batch_size, sequence_length, vocab_size)\") \n",
        "print(\"scalar_loss:      \", example_batch_loss.numpy().mean())"
      ],
      "execution_count": 167,
      "outputs": [
        {
          "output_type": "stream",
          "text": [
            "Prediction shape:  (32, 10, 1358)  # (batch_size, sequence_length, vocab_size)\n",
            "scalar_loss:       7.2141647\n"
          ],
          "name": "stdout"
        }
      ]
    },
    {
      "cell_type": "code",
      "metadata": {
        "id": "Prie5xnjtWe2"
      },
      "source": [
        "### Hyperparameter setting and optimization ###\n",
        "\n",
        "# Optimization parameters:\n",
        "num_training_iterations = 2000  # Increase this to train longer\n",
        "batch_size = 4  # Experiment between 1 and 64\n",
        "seq_length = 10  # Experiment between 50 and 500\n",
        "learning_rate = 5e-3  # Experiment between 1e-5 and 1e-1\n",
        "\n",
        "# Model parameters: \n",
        "vocab_size = len(vocab)\n",
        "embedding_dim = 300\n",
        "rnn_units = 1024  # Experiment between 1 and 2048\n",
        "\n",
        "# Checkpoint location: \n",
        "checkpoint_dir = './training_checkpoints'\n",
        "checkpoint_prefix = os.path.join(checkpoint_dir, \"my_ckpt\")"
      ],
      "execution_count": 168,
      "outputs": []
    },
    {
      "cell_type": "code",
      "metadata": {
        "colab": {
          "base_uri": "https://localhost:8080/",
          "height": 563
        },
        "id": "lWRcf1QgvlFC",
        "outputId": "15f1b86a-35a6-4c13-f02d-5166455db693"
      },
      "source": [
        "### Define optimizer and training operation ###\n",
        "\n",
        "'''TODO: instantiate a new model for training using the `build_model`\n",
        "  function and the hyperparameters created above.'''\n",
        "model = build_model(vocab_size, embedding_dim, rnn_units, batch_size)\n",
        "# model = build_model('''TODO: arguments''')\n",
        "\n",
        "'''TODO: instantiate an optimizer with its learning rate.\n",
        "  Checkout the tensorflow website for a list of supported optimizers.\n",
        "  https://www.tensorflow.org/api_docs/python/tf/keras/optimizers/\n",
        "  Try using the Adam optimizer to start.'''\n",
        "optimizer = tf.keras.optimizers.Adam(learning_rate)\n",
        "# optimizer = # TODO\n",
        "\n",
        "@tf.function\n",
        "def train_step(x, y): \n",
        "  # Use tf.GradientTape()\n",
        "  with tf.GradientTape() as tape:\n",
        "  \n",
        "    '''TODO: feed the current input into the model and generate predictions'''\n",
        "    y_hat = model(x) # TODO\n",
        "    # y_hat = model('''TODO''')\n",
        "  \n",
        "    '''TODO: compute the loss!'''\n",
        "    loss = compute_loss(y, y_hat) # TODO\n",
        "    # loss = compute_loss('''TODO''', '''TODO''')\n",
        "\n",
        "  # Now, compute the gradients \n",
        "  '''TODO: complete the function call for gradient computation. \n",
        "      Remember that we want the gradient of the loss with respect all \n",
        "      of the model parameters. \n",
        "      HINT: use `model.trainable_variables` to get a list of all model\n",
        "      parameters.'''\n",
        "  grads = tape.gradient(loss, model.trainable_variables) # TODO\n",
        "  # grads = tape.gradient('''TODO''', '''TODO''')\n",
        "  \n",
        "  # Apply the gradients to the optimizer so it can update the model accordingly\n",
        "  optimizer.apply_gradients(zip(grads, model.trainable_variables))\n",
        "  return loss\n",
        "\n",
        "##################\n",
        "# Begin training!#\n",
        "##################\n",
        "\n",
        "history = []\n",
        "plotter = mdl.util.PeriodicPlotter(sec=2, xlabel='Iterations', ylabel='Loss')\n",
        "if hasattr(tqdm, '_instances'): tqdm._instances.clear() # clear if it exists\n",
        "\n",
        "for iter in tqdm(range(num_training_iterations)):\n",
        "\n",
        "  # Grab a batch and propagate it through the network\n",
        "  x_batch, y_batch = get_batch(vectorized_poems, seq_length, batch_size)\n",
        "  loss = train_step(x_batch, y_batch)\n",
        "\n",
        "  # Update the progress bar\n",
        "  history.append(loss.numpy().mean())\n",
        "  plotter.plot(history)\n",
        "\n",
        "  # Update the model with the changed weights!\n",
        "  if iter % 100 == 0:     \n",
        "    model.save_weights(checkpoint_prefix)\n",
        "    \n",
        "# Save the trained model and the weights\n",
        "model.save_weights(checkpoint_prefix)"
      ],
      "execution_count": 169,
      "outputs": [
        {
          "output_type": "display_data",
          "data": {
            "image/png": "[encoded data removed]",
            "text/plain": [
              "<Figure size 432x288 with 1 Axes>"
            ]
          },
          "metadata": {
            "tags": []
          }
        },
        {
          "output_type": "stream",
          "text": [
            "100%|██████████| 2000/2000 [14:45<00:00,  2.26it/s]\n"
          ],
          "name": "stderr"
        },
        {
          "output_type": "display_data",
          "data": {
            "image/png": "[encoded data removed]",
            "text/plain": [
              "<Figure size 432x288 with 1 Axes>"
            ]
          },
          "metadata": {
            "tags": [],
            "needs_background": "light"
          }
        }
      ]
    },
    {
      "cell_type": "markdown",
      "metadata": {
        "id": "3UPagkCQ3gjZ"
      },
      "source": [
        "## Generate Poem \n"
      ]
    },
    {
      "cell_type": "code",
      "metadata": {
        "id": "xpY9Owzo3p-_",
        "colab": {
          "base_uri": "https://localhost:8080/"
        },
        "outputId": "20404baa-2da4-4f6e-dbf7-38a61477d70b"
      },
      "source": [
        "'''TODO: Rebuild the model using a batch_size=1'''\n",
        "model = build_model(vocab_size, embedding_dim, rnn_units, batch_size=1) # TODO\n",
        "# model = build_model('''TODO''', '''TODO''', '''TODO''', batch_size=1)\n",
        "\n",
        "# Restore the model weights for the last checkpoint after training\n",
        "model.load_weights(tf.train.latest_checkpoint(checkpoint_dir))\n",
        "model.build(tf.TensorShape([1, None]))\n",
        "\n",
        "model.summary()"
      ],
      "execution_count": 170,
      "outputs": [
        {
          "output_type": "stream",
          "text": [
            "Model: \"sequential_9\"\n",
            "_________________________________________________________________\n",
            "Layer (type)                 Output Shape              Param #   \n",
            "=================================================================\n",
            "embedding_9 (Embedding)      (1, None, 300)            407400    \n",
            "_________________________________________________________________\n",
            "lstm_9 (LSTM)                (1, None, 1024)           5427200   \n",
            "_________________________________________________________________\n",
            "dense_9 (Dense)              (1, None, 1358)           1391950   \n",
            "=================================================================\n",
            "Total params: 7,226,550\n",
            "Trainable params: 6,819,150\n",
            "Non-trainable params: 407,400\n",
            "_________________________________________________________________\n"
          ],
          "name": "stdout"
        }
      ]
    },
    {
      "cell_type": "code",
      "metadata": {
        "id": "P_r8IX6L8IDa",
        "colab": {
          "base_uri": "https://localhost:8080/"
        },
        "outputId": "1e314456-effe-4b6a-fd8a-53ff09322822"
      },
      "source": [
        "start_string=['i']\n",
        "input_eval = [vocab[s] for s in start_string]\n",
        "print(input_eval)"
      ],
      "execution_count": 171,
      "outputs": [
        {
          "output_type": "stream",
          "text": [
            "[21]\n"
          ],
          "name": "stdout"
        }
      ]
    },
    {
      "cell_type": "code",
      "metadata": {
        "id": "SvjB3kvc3zye"
      },
      "source": [
        "### Prediction of a generated song ###\n",
        "\n",
        "def generate_text(model, start_string, generation_length=75):\n",
        "  # Evaluation step (generating text using the learned RNN model)\n",
        "\n",
        "  '''TODO: convert the start string to numbers (vectorize)'''\n",
        "  input_eval = [vocab[s] for s in start_string] # TODO\n",
        "  # input_eval = ['''TODO''']\n",
        "  input_eval = tf.expand_dims(input_eval, 0)\n",
        "\n",
        "  # Empty string to store our results\n",
        "  text_generated = []\n",
        "\n",
        "  # Here batch size == 1\n",
        "  model.reset_states()\n",
        "  tqdm._instances.clear()\n",
        "\n",
        "  for i in tqdm(range(generation_length)):\n",
        "      '''TODO: evaluate the inputs and generate the next character predictions'''\n",
        "      predictions = model(input_eval)\n",
        "      # predictions = model('''TODO''')\n",
        "      \n",
        "      # Remove the batch dimension\n",
        "      predictions = tf.squeeze(predictions, 0)\n",
        "      \n",
        "      '''TODO: use a multinomial distribution to sample'''\n",
        "      predicted_id = tf.random.categorical(predictions, num_samples=1)[-1,0].numpy()\n",
        "      # predicted_id = tf.random.categorical('''TODO''', num_samples=1)[-1,0].numpy()\n",
        "      \n",
        "      # Pass the prediction along with the previous hidden state\n",
        "      #   as the next inputs to the model\n",
        "      input_eval = tf.expand_dims([predicted_id], 0)\n",
        "      \n",
        "      '''TODO: add the predicted character to the generated text!'''\n",
        "      # Hint: consider what format the prediction is in vs. the output\n",
        "      text_generated.append(inverse_vocab[predicted_id]) # TODO \n",
        "      # text_generated.append('''TODO''')\n",
        "    \n",
        "  return (' '.join(start_string) + ' ' + ' '.join(text_generated))"
      ],
      "execution_count": 172,
      "outputs": []
    },
    {
      "cell_type": "code",
      "metadata": {
        "id": "wHkEd2dz6EIO",
        "colab": {
          "base_uri": "https://localhost:8080/"
        },
        "outputId": "1d879c97-8cf5-4af7-f675-264ae6506d38"
      },
      "source": [
        "'''TODO: Use the model and the function defined above to generate ABC format text of length generation_length!'''\n",
        "generated_text = generate_text(model, start_string=['my','body'], generation_length=50)"
      ],
      "execution_count": 173,
      "outputs": [
        {
          "output_type": "stream",
          "text": [
            "100%|██████████| 50/50 [00:00<00:00, 89.98it/s]\n"
          ],
          "name": "stderr"
        }
      ]
    },
    {
      "cell_type": "code",
      "metadata": {
        "id": "wMEK7gQi6Y-D",
        "colab": {
          "base_uri": "https://localhost:8080/"
        },
        "outputId": "ac0b31eb-c6d4-4a91-8fcc-81707e80f129"
      },
      "source": [
        "print(generated_text)"
      ],
      "execution_count": 174,
      "outputs": [
        {
          "output_type": "stream",
          "text": [
            "my body giving upward sky rising occasion color earth ancestors planted crops feed lineage thick tree trunks almonds deeply hooded conviction punjab flow bloodstream ones country backs stories books spine designed museum natural disasters grasp stunning sadness living shouldnt becoming womens bodies battlegrounds removing thats keeping belong apparently shocked looks flinch touch\n"
          ],
          "name": "stdout"
        }
      ]
    }
  ]
}